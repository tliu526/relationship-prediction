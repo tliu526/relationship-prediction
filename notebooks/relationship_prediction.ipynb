{
 "cells": [
  {
   "cell_type": "code",
   "execution_count": 27,
   "metadata": {
    "slideshow": {
     "slide_type": "skip"
    }
   },
   "outputs": [],
   "source": [
    "%matplotlib inline\n",
    "\n",
    "import os,sys,inspect\n",
    "import pickle\n",
    "\n",
    "import matplotlib.pyplot as plt\n",
    "import numpy as np\n",
    "import pandas as pd\n",
    "\n",
    "currentdir = os.path.dirname(os.path.abspath(inspect.getfile(inspect.currentframe())))\n",
    "parentdir = os.path.dirname(currentdir)\n",
    "sys.path.insert(0,parentdir) \n",
    "\n",
    "import model.model_util as mu"
   ]
  },
  {
   "cell_type": "code",
   "execution_count": 2,
   "metadata": {
    "slideshow": {
     "slide_type": "skip"
    }
   },
   "outputs": [
    {
     "data": {
      "text/html": [
       "\n",
       "<script>\n",
       "  function code_toggle() {\n",
       "    if (code_shown){\n",
       "      $('div.input').hide('500');\n",
       "      $('#toggleButton').val('Show Code')\n",
       "    } else {\n",
       "      $('div.input').show('500');\n",
       "      $('#toggleButton').val('Hide Code')\n",
       "    }\n",
       "    code_shown = !code_shown\n",
       "  }\n",
       "\n",
       "  $( document ).ready(function(){\n",
       "    code_shown=false;\n",
       "    $('div.input').hide()\n",
       "  });\n",
       "</script>\n",
       "<form action=\"javascript:code_toggle()\"><input type=\"submit\" id=\"toggleButton\" value=\"Show Code\"></form>\n"
      ],
      "text/plain": [
       "<IPython.core.display.HTML object>"
      ]
     },
     "execution_count": 2,
     "metadata": {},
     "output_type": "execute_result"
    }
   ],
   "source": [
    "# Code hider, source: http://chris-said.io/2016/02/13/how-to-make-polished-jupyter-presentations-with-optional-code-visibility/\n",
    "from IPython.display import HTML\n",
    "\n",
    "HTML('''\n",
    "<script>\n",
    "  function code_toggle() {\n",
    "    if (code_shown){\n",
    "      $('div.input').hide('500');\n",
    "      $('#toggleButton').val('Show Code')\n",
    "    } else {\n",
    "      $('div.input').show('500');\n",
    "      $('#toggleButton').val('Hide Code')\n",
    "    }\n",
    "    code_shown = !code_shown\n",
    "  }\n",
    "\n",
    "  $( document ).ready(function(){\n",
    "    code_shown=false;\n",
    "    $('div.input').hide()\n",
    "  });\n",
    "</script>\n",
    "<form action=\"javascript:code_toggle()\"><input type=\"submit\" id=\"toggleButton\" value=\"Show Code\"></form>\n",
    "''')"
   ]
  },
  {
   "cell_type": "code",
   "execution_count": 25,
   "metadata": {
    "slideshow": {
     "slide_type": "skip"
    }
   },
   "outputs": [],
   "source": [
    "# load data\n",
    "\n",
    "with open(\"../data/top_5_contacts_cal.df\", \"rb\") as raw_file:\n",
    "    top_5_raw_df = pickle.load(raw_file)\n",
    "    \n",
    "with open(\"../data/coe_contact_all.df\", \"rb\") as raw_file:\n",
    "    all_raw_df = pickle.load(raw_file)\n",
    "\n",
    "with open('../data/demographics.df', 'rb') as demo_file:\n",
    "    demo_df = pickle.load(demo_file)\n",
    "demo_cols = ['pid', 'age', 'gender', 'education', 'employment', 'live_together', 'race', 'ethnicity', 'marital_status']"
   ]
  },
  {
   "cell_type": "markdown",
   "metadata": {
    "slideshow": {
     "slide_type": "slide"
    }
   },
   "source": [
    "# Measuring Relationships and their Meaning from Phone Data"
   ]
  },
  {
   "cell_type": "markdown",
   "metadata": {
    "slideshow": {
     "slide_type": "slide"
    }
   },
   "source": [
    "## Motivation\n",
    "\n",
    "### Field domain\n",
    "- social relationships and communication tie strength\n",
    "- passive mobile device sensing\n",
    "- ML for life-facet prediction (Zimmerman group)"
   ]
  },
  {
   "cell_type": "markdown",
   "metadata": {
    "slideshow": {
     "slide_type": "slide"
    }
   },
   "source": [
    "## The gap we fill\n",
    "\n",
    "- use of additional phone sensor data to contextualize communication\n",
    "- user of AutoML to remove engineering bias in model choice/performance tuning\n",
    "- finer grained social relationship role prediction"
   ]
  },
  {
   "cell_type": "markdown",
   "metadata": {
    "slideshow": {
     "slide_type": "slide"
    }
   },
   "source": [
    "## Methods: raw features"
   ]
  },
  {
   "cell_type": "markdown",
   "metadata": {
    "slideshow": {
     "slide_type": "slide"
    }
   },
   "source": [
    "### Communication logs\n",
    "\n",
    "- SMS, call logs: incoming, outgoing, missed, timestamp\n",
    "- call duration (no text length)\n",
    "- 406,317 communication events and 9,645 EMA contact information collected\n",
    "\n",
    "![](../tex/figures/call_trend.png)\n"
   ]
  },
  {
   "cell_type": "markdown",
   "metadata": {
    "slideshow": {
     "slide_type": "slide"
    }
   },
   "source": [
    "### Survey data: contact type\n",
    "\n",
    "|Question/measure label | Response range|\n",
    "|-|-|\n",
    "|contact_type |\t{Significant Other, Friend, Family Member You Live With, Family Member You Don't Live With, Colleague/Work-Related, Task (e.g. Make an Appointment, Reservation, etc.), Other}|\n",
    "|want_question |\t{1 (Not At All), 2, 3, 4 (Some), 5, 6, 7 (Extremely Close)}|\n",
    "|talk_question |\t{1 (Strongly Disagree), 2 (Disagree), 3 (Somewhat Disagree), 4 (Neither Agree Or Disagree), 5 (Somewhat Agree), 6 (Agree), 7 (Strongly Agree)}|\n",
    "|loan_question |\t{1 (Strongly Disagree), 2 (Disagree), 3 (Somewhat Disagree), 4 (Neither Agree Or Disagree), 5 (Somewhat Agree), 6 (Agree), 7 (Strongly Agree)} |\n",
    "|closeness |\t{1 (Not At All), 2, 3, 4 (Some), 5, 6, 7 (Extremely Close)} |\n"
   ]
  },
  {
   "cell_type": "code",
   "execution_count": 24,
   "metadata": {
    "slideshow": {
     "slide_type": "subslide"
    }
   },
   "outputs": [
    {
     "data": {
      "image/png": "[encoded data removed]",
      "text/plain": [
       "<Figure size 576x576 with 1 Axes>"
      ]
     },
     "metadata": {},
     "output_type": "display_data"
    }
   ],
   "source": [
    "all_types = all_raw_df.loc[all_raw_df['contact_type'] != 'other']\n",
    "all_types = all_types.drop_duplicates('combined_hash').groupby('contact_type').count()\n",
    "all_types.plot.pie('comm_type', autopct='%.2f', figsize=(8,8))\n",
    "plt.title('% of contact types among all labelled contacts (excluding other)')\n",
    "plt.legend(loc='lower center')\n",
    "plt.ylabel(\"\")\n",
    "plt.show()"
   ]
  },
  {
   "cell_type": "code",
   "execution_count": 17,
   "metadata": {
    "slideshow": {
     "slide_type": "subslide"
    }
   },
   "outputs": [
    {
     "data": {
      "image/png": "[encoded data removed]",
      "text/plain": [
       "<Figure size 576x576 with 1 Axes>"
      ]
     },
     "metadata": {},
     "output_type": "display_data"
    }
   ],
   "source": [
    "top_types = raw_df.drop_duplicates('combined_hash').groupby('contact_type').count()\n",
    "top_types.plot.pie('comm_type', autopct='%.2f', figsize=(8,8))\n",
    "plt.title('% of contact types among top 5 contacts per participant')\n",
    "plt.legend(loc='lower left')\n",
    "plt.ylabel(\"\")\n",
    "plt.show()"
   ]
  },
  {
   "cell_type": "markdown",
   "metadata": {
    "slideshow": {
     "slide_type": "slide"
    }
   },
   "source": [
    "### Demographics\n",
    "\n",
    "| label | item |\n",
    "|-------|------|\n",
    "|demo08\t| Birthdate|\n",
    "|demo09 |Gender |\n",
    "|demo09_oth |Other|\n",
    "|demo10_1  |How do you define your race? Black or African American (Having origins in any of the black racial groups of Africa)|\n",
    "|demo10_2 |How do you define your race? American Indian (North; South or Central) or Alaska Native (Having origins in any of the original peoples of North; Central or South America)|\n",
    "|demo10_3 |How do you define your race? Asian (Having origins in any of the original peoples of the Far East; Southeast Asia; or the Indian Subcontinent. For example: Cambodia; China; India; Japan; Korea; Malaysia; Pakistan; the Philippine Islands; Thailand; and Vietnam)|\n",
    "|demo10_4 | How do you define your race? Native Hawaiian or Other Pacific Islander (Having origins in any of the original peoples of Hawaii; Guam; Samoa or other Pacific Islands)|\n",
    "|demo10_5 |How do you define your race? White (Having origins in any of the original peoples of Europe; the Middle East; or North Africa) |\n",
    "|demo10_6 |How do you define your race? Prefer not to answer |\n",
    "|demo11\t|What is your ethnic identity? |\n",
    "|demo12 |What is the highest level of education you have received?\n",
    "|demo13\t|Please select your most current marital status|\n",
    "|demo14\t|Do you live with others?|\n",
    "\n",
    "- age\n",
    "- gender\n",
    "- race\n",
    "- education\n",
    "- marital status\n",
    "\n",
    "- living with others\n",
    "- employment status"
   ]
  },
  {
   "cell_type": "code",
   "execution_count": 26,
   "metadata": {
    "slideshow": {
     "slide_type": "subslide"
    }
   },
   "outputs": [],
   "source": [
    "# TODO drop in demographic features"
   ]
  },
  {
   "cell_type": "markdown",
   "metadata": {
    "slideshow": {
     "slide_type": "slide"
    }
   },
   "source": [
    "### Semantic location\n",
    "\n",
    "- TODO Sohrab's chart"
   ]
  },
  {
   "cell_type": "markdown",
   "metadata": {
    "slideshow": {
     "slide_type": "slide"
    }
   },
   "source": [
    "## Methods: feature extraction"
   ]
  },
  {
   "cell_type": "markdown",
   "metadata": {
    "slideshow": {
     "slide_type": "slide"
    }
   },
   "source": [
    "### Intensity and regularity\n",
    "- \\# days {call, sms} / days logged\n",
    "- {avg, std, min, max, med} {out, in} {call, sms} per day\n",
    "- {avg, max} call duration\n",
    "\n",
    "### Temporal tendency\n",
    "- \\# {call, sms} at {time of day, day of week} / total\n",
    "\n",
    "### Channel selection\n",
    "- out comm / total comm\n",
    "- \\# calls / total comm\n",
    "    \n",
    "### Avoidance\n",
    "- missed calls / {out, in} calls\n",
    "- in SMS / out SMS"
   ]
  },
  {
   "cell_type": "markdown",
   "metadata": {
    "slideshow": {
     "slide_type": "slide"
    }
   },
   "source": [
    "## Methods: AutoML\n",
    "\n",
    "- TODO paste in points from Overleaf"
   ]
  },
  {
   "cell_type": "markdown",
   "metadata": {
    "slideshow": {
     "slide_type": "slide"
    }
   },
   "source": [
    "## Results: 6-class relationship prediction\n",
    "\n",
    "- majority classifier\n",
    "- baseline\n",
    "- be sure to report CV and test error"
   ]
  },
  {
   "cell_type": "code",
   "execution_count": null,
   "metadata": {},
   "outputs": [],
   "source": [
    "# load models\n",
    "\n"
   ]
  },
  {
   "cell_type": "code",
   "execution_count": null,
   "metadata": {},
   "outputs": [],
   "source": []
  },
  {
   "cell_type": "markdown",
   "metadata": {
    "slideshow": {
     "slide_type": "slide"
    }
   },
   "source": [
    "## Results: contact type analysis"
   ]
  },
  {
   "cell_type": "markdown",
   "metadata": {
    "slideshow": {
     "slide_type": "slide"
    }
   },
   "source": [
    "## Results: 4-class relationship prediction"
   ]
  },
  {
   "cell_type": "markdown",
   "metadata": {
    "slideshow": {
     "slide_type": "skip"
    }
   },
   "source": [
    "# Outline\n",
    "\n",
    "- intro/motivation\n",
    "- methods\n",
    "    - raw data features\n",
    "    - feature extraction\n",
    "    - autoML\n",
    "- results\n",
    "    - \"original\" task: confusion matrix, baseline, etc\n",
    "    - communication label analysis: why the confusions are made\n",
    "    - \"collapsed\" task: confusion matrix, baseline, etc\n",
    "    - analysis of EMC results\n",
    "- discussion\n",
    "    - what we've learned about social support\n",
    "    - caveats to autoML:\n",
    "        - no block feature selection\n",
    "        - no variable importance implemented (yet)\n",
    "    - size of data:\n",
    "        - can run additional analyses with round 2 of LifeSense study"
   ]
  }
 ],
 "metadata": {
  "celltoolbar": "Slideshow",
  "kernelspec": {
   "display_name": "Python 3",
   "language": "python",
   "name": "python3"
  },
  "language_info": {
   "codemirror_mode": {
    "name": "ipython",
    "version": 3
   },
   "file_extension": ".py",
   "mimetype": "text/x-python",
   "name": "python",
   "nbconvert_exporter": "python",
   "pygments_lexer": "ipython3",
   "version": "3.7.1"
  }
 },
 "nbformat": 4,
 "nbformat_minor": 2
}
