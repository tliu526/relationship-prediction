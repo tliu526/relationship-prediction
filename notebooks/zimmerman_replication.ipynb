{
 "cells": [
  {
   "cell_type": "markdown",
   "metadata": {
    "slideshow": {
     "slide_type": "slide"
    }
   },
   "source": [
    "# Min et al Life Facet Replication"
   ]
  },
  {
   "cell_type": "code",
   "execution_count": 1,
   "metadata": {
    "slideshow": {
     "slide_type": "skip"
    }
   },
   "outputs": [],
   "source": [
    "%matplotlib inline\n",
    "\n",
    "from collections import Counter\n",
    "import inspect\n",
    "import os\n",
    "import pickle\n",
    "import sys\n",
    "\n",
    "import matplotlib.pyplot as plt\n",
    "import numpy as np\n",
    "import pandas as pd\n",
    "\n",
    "from imblearn.over_sampling import SMOTE, RandomOverSampler\n",
    "from imblearn.under_sampling import RandomUnderSampler\n",
    "\n",
    "from sklearn.ensemble import RandomForestClassifier\n",
    "from sklearn.model_selection import GroupKFold, cross_val_score\n",
    "import sklearn.metrics as sk_metrics\n",
    "from sklearn.svm import SVC\n",
    "\n",
    "currentdir = os.path.dirname(os.path.abspath(inspect.getfile(inspect.currentframe())))\n",
    "parentdir = os.path.dirname(currentdir)\n",
    "sys.path.insert(0,parentdir) \n",
    "\n",
    "from model.model_util import *\n"
   ]
  },
  {
   "cell_type": "code",
   "execution_count": 2,
   "metadata": {
    "slideshow": {
     "slide_type": "skip"
    }
   },
   "outputs": [
    {
     "data": {
      "text/html": [
       "\n",
       "<script>\n",
       "  function code_toggle() {\n",
       "    if (code_shown){\n",
       "      $('div.input').hide('500');\n",
       "      $('#toggleButton').val('Show Code')\n",
       "    } else {\n",
       "      $('div.input').show('500');\n",
       "      $('#toggleButton').val('Hide Code')\n",
       "    }\n",
       "    code_shown = !code_shown\n",
       "  }\n",
       "\n",
       "  $( document ).ready(function(){\n",
       "    code_shown=false;\n",
       "    $('div.input').hide()\n",
       "  });\n",
       "</script>\n",
       "<form action=\"javascript:code_toggle()\"><input type=\"submit\" id=\"toggleButton\" value=\"Show Code\"></form>\n"
      ],
      "text/plain": [
       "<IPython.core.display.HTML object>"
      ]
     },
     "execution_count": 2,
     "metadata": {},
     "output_type": "execute_result"
    }
   ],
   "source": [
    "# Code hider, source: http://chris-said.io/2016/02/13/how-to-make-polished-jupyter-presentations-with-optional-code-visibility/\n",
    "from IPython.display import HTML\n",
    "\n",
    "HTML('''\n",
    "<script>\n",
    "  function code_toggle() {\n",
    "    if (code_shown){\n",
    "      $('div.input').hide('500');\n",
    "      $('#toggleButton').val('Show Code')\n",
    "    } else {\n",
    "      $('div.input').show('500');\n",
    "      $('#toggleButton').val('Hide Code')\n",
    "    }\n",
    "    code_shown = !code_shown\n",
    "  }\n",
    "\n",
    "  $( document ).ready(function(){\n",
    "    code_shown=false;\n",
    "    $('div.input').hide()\n",
    "  });\n",
    "</script>\n",
    "<form action=\"javascript:code_toggle()\"><input type=\"submit\" id=\"toggleButton\" value=\"Show Code\"></form>\n",
    "''')"
   ]
  },
  {
   "cell_type": "markdown",
   "metadata": {
    "slideshow": {
     "slide_type": "slide"
    }
   },
   "source": [
    "## Min et al data\n",
    "\n",
    "- 40 participants, 817 contacts\n",
    "- 16,940 calls, 63,893 SMS\n",
    "\n",
    "![Resampled evaluation data](zimmerman_figs/resample_data.png)"
   ]
  },
  {
   "cell_type": "markdown",
   "metadata": {
    "slideshow": {
     "slide_type": "slide"
    }
   },
   "source": [
    "## Our data\n",
    "\n",
    "- 199 participants, 4,785 contacts\n",
    "- 38,749 calls, 279,089 SMS"
   ]
  },
  {
   "cell_type": "code",
   "execution_count": 3,
   "metadata": {
    "slideshow": {
     "slide_type": "skip"
    }
   },
   "outputs": [],
   "source": [
    "with open(\"../data/all_contacts_final.df\", \"rb\") as comm_f:\n",
    "    comm_df = pickle.load(comm_f)"
   ]
  },
  {
   "cell_type": "code",
   "execution_count": 4,
   "metadata": {
    "slideshow": {
     "slide_type": "skip"
    }
   },
   "outputs": [],
   "source": [
    "replace_dict = {\n",
    "    'contact_type': {\n",
    "        \"work\": 0,\n",
    "        \"friend\": 1,\n",
    "        \"family_live_separate\": 2,\n",
    "        \"family_live_together\": 2,\n",
    "        \"sig_other\": 2\n",
    "    }\n",
    "}\n",
    "\n",
    "\n",
    "# with open(\"../data/zimmerman_contacts.df\", \"rb\") as z_file:\n",
    "#     zimmerman_df = pickle.load(z_file)\n",
    "\n",
    "zimmerman_contact_types = ['work', 'social', 'family']\n",
    "rev_replace_dict = {\n",
    "    'contact_type': {idx:v for idx, v in enumerate(zimmerman_contact_types)}\n",
    "}\n",
    "zimmerman_df = comm_df.loc[(comm_df['contact_type'] != 'other') & (comm_df['contact_type'] != 'task')]\n",
    "zimmerman_df = zimmerman_df.replace(replace_dict)\n",
    "zimmerman_df = zimmerman_df.replace(rev_replace_dict)"
   ]
  },
  {
   "cell_type": "code",
   "execution_count": 5,
   "metadata": {
    "slideshow": {
     "slide_type": "skip"
    }
   },
   "outputs": [],
   "source": [
    "# with open(\"../data/zimmerman_contacts.df\", \"wb\") as z_file:\n",
    "#     pickle.dump(zimmerman_df, z_file, -1)"
   ]
  },
  {
   "cell_type": "code",
   "execution_count": 6,
   "metadata": {
    "slideshow": {
     "slide_type": "fragment"
    }
   },
   "outputs": [
    {
     "data": {
      "image/png": "[encoded data removed]",
      "text/plain": [
       "<Figure size 576x576 with 1 Axes>"
      ]
     },
     "metadata": {},
     "output_type": "display_data"
    }
   ],
   "source": [
    "all_types = zimmerman_df.drop_duplicates('combined_hash').groupby('contact_type').count()\n",
    "all_types.plot.pie('comm_type', autopct='%.2f', figsize=(8,8))\n",
    "plt.title('% of contact types, aggregated by Min et al. life facets (excluding task and other)')\n",
    "plt.legend(loc='lower center')\n",
    "plt.ylabel(\"\")\n",
    "plt.show()"
   ]
  },
  {
   "cell_type": "code",
   "execution_count": 7,
   "metadata": {
    "slideshow": {
     "slide_type": "subslide"
    }
   },
   "outputs": [
    {
     "data": {
      "text/plain": [
       "contact_type\n",
       "family    1851\n",
       "social    1746\n",
       "work      1188\n",
       "Name: comm_direction, dtype: int64"
      ]
     },
     "metadata": {},
     "output_type": "display_data"
    }
   ],
   "source": [
    "display(all_types.loc[:, 'comm_direction'])"
   ]
  },
  {
   "cell_type": "markdown",
   "metadata": {
    "slideshow": {
     "slide_type": "slide"
    }
   },
   "source": [
    "## Experiment parameters\n",
    "\n",
    "- random downsampling to balance data\n",
    "- 10 fold CV, average accuracy\n",
    "- one vs one polynomial SVM"
   ]
  },
  {
   "cell_type": "markdown",
   "metadata": {
    "slideshow": {
     "slide_type": "slide"
    }
   },
   "source": [
    "## Results\n",
    "\n",
    "![](zimmerman_figs/life_facet_results.png)"
   ]
  },
  {
   "cell_type": "code",
   "execution_count": 8,
   "metadata": {
    "slideshow": {
     "slide_type": "skip"
    }
   },
   "outputs": [
    {
     "name": "stderr",
     "output_type": "stream",
     "text": [
      "/home/tliu526/miniconda3/envs/auto-sklearn/lib/python3.7/site-packages/pyparsing.py:2725: FutureWarning: Possible set intersection at position 3\n",
      "  self.re = re.compile( self.reString )\n"
     ]
    }
   ],
   "source": [
    "# load models and data\n",
    "features = ['baseline', 'all']\n",
    "\n",
    "svc_models = []\n",
    "svc_preds = []\n",
    "svc_cv_preds = []\n",
    "# baseline\n",
    "for feat in features:\n",
    "    with open(\"../model/final_results/zimmerman/zimmerman_contact_type_{}_svm.automl\".format(feat), 'rb') as model_file:\n",
    "            svc_models.append(pickle.load(model_file))\n",
    "    with open(\"../model/final_results/zimmerman/zimmerman_contact_type_{}_svm.predict\".format(feat), 'rb') as pred_file:\n",
    "        svc_preds.append(pickle.load(pred_file))\n",
    "    with open(\"../model/final_results/zimmerman/{}_svm.cv_predict\".format(feat), 'rb') as cv_file:\n",
    "        svc_cv_preds.append(pickle.load(cv_file))\n",
    "\n",
    "\n",
    "automl_models = []\n",
    "automl_preds = []\n",
    "automl_cv_preds = []\n",
    "\n",
    "# autoML\n",
    "for feat in features:\n",
    "    with open(\"../model/final_results/zimmerman/zimmerman_contact_type_{}_automl.automl\".format(feat), 'rb') as model_file:\n",
    "        automl_models.append(pickle.load(model_file))\n",
    "    with open(\"../model/final_results/zimmerman/zimmerman_contact_type_{}_automl.predict\".format(feat), 'rb') as pred_file:\n",
    "        automl_preds.append(pickle.load(pred_file))\n",
    "    with open(\"../model/final_results/zimmerman/{}_automl.cv_predict\".format(feat), 'rb') as cv_file:\n",
    "        automl_cv_preds.append(pickle.load(cv_file))\n"
   ]
  },
  {
   "cell_type": "code",
   "execution_count": 9,
   "metadata": {
    "slideshow": {
     "slide_type": "skip"
    }
   },
   "outputs": [],
   "source": [
    "contact_dict =  {\n",
    "            \"work\": 0,\n",
    "            \"social\": 1,\n",
    "            \"family\": 2\n",
    "        }\n",
    "\n",
    "\n",
    "replace_dict = {'contact_type': contact_dict}\n",
    "\n",
    "# load data\n",
    "train = pickle.load(open('../data/zimmerman_features/zimmerman_contact_type_baseline_train_features.df', 'rb'))\n",
    "test =  pickle.load(open('../data/zimmerman_features/zimmerman_contact_type_baseline_test_features.df', 'rb'))\n",
    "\n",
    "train_data = train.replace(replace_dict)\n",
    "test_data = test.replace(replace_dict)\n",
    "\n",
    "train_y = train_data['contact_type']\n",
    "train_X = train_data.drop(['contact_type', 'pid', 'combined_hash'], axis=1)\n",
    "test_y = test_data['contact_type']\n",
    "test_X = test_data.drop(['contact_type', 'pid', 'combined_hash'], axis=1)\n",
    "\n",
    "# create group folds\n",
    "rand_seed = 2\n",
    "\n",
    "sm = RandomUnderSampler(random_state=rand_seed)\n",
    "\n",
    "train_X, train_y = sm.fit_resample(train_X, train_y)\n",
    "\n",
    "\n",
    "pid_groups = build_cv_groups(pd.Series(train_X[:,0])) # pid col\n",
    "train_X = train_X[:, 1:]\n",
    "\n",
    "group_kfold = GroupKFold(n_splits=10)\n",
    "\n",
    "fold_true_labels = []\n",
    "for train_idx, test_idx in group_kfold.split(train_X, train_y, pid_groups):\n",
    "    \n",
    "    train_fold_X = train_X[train_idx]\n",
    "    train_fold_y = train_y[train_idx]\n",
    "    \n",
    "    test_fold_X = train_X[test_idx]\n",
    "    test_fold_y = train_y[test_idx]\n",
    "    fold_true_labels.append(test_fold_y)"
   ]
  },
  {
   "cell_type": "code",
   "execution_count": 10,
   "metadata": {},
   "outputs": [
    {
     "data": {
      "text/html": [
       "<div>\n",
       "<style scoped>\n",
       "    .dataframe tbody tr th:only-of-type {\n",
       "        vertical-align: middle;\n",
       "    }\n",
       "\n",
       "    .dataframe tbody tr th {\n",
       "        vertical-align: top;\n",
       "    }\n",
       "\n",
       "    .dataframe thead th {\n",
       "        text-align: right;\n",
       "    }\n",
       "</style>\n",
       "<table border=\"1\" class=\"dataframe\">\n",
       "  <thead>\n",
       "    <tr style=\"text-align: right;\">\n",
       "      <th></th>\n",
       "      <th>pid</th>\n",
       "      <th>combined_hash</th>\n",
       "      <th>total_comms</th>\n",
       "      <th>total_comm_days</th>\n",
       "      <th>total_calls</th>\n",
       "      <th>total_sms</th>\n",
       "      <th>total_sms_days</th>\n",
       "      <th>total_call_days</th>\n",
       "      <th>reg_call</th>\n",
       "      <th>reg_sms</th>\n",
       "      <th>...</th>\n",
       "      <th>max_out_duration_nan_indicator</th>\n",
       "      <th>med_out_duration_nan_indicator</th>\n",
       "      <th>tot_call_duration_nan_indicator</th>\n",
       "      <th>tot_long_calls_nan_indicator</th>\n",
       "      <th>call_last_2_wks_nan_indicator</th>\n",
       "      <th>call_last_6_wks_nan_indicator</th>\n",
       "      <th>sms_last_2_wks_nan_indicator</th>\n",
       "      <th>sms_last_6_wks_nan_indicator</th>\n",
       "      <th>call_dur_last_2_wks_nan_indicator</th>\n",
       "      <th>call_dur_last_6_wks_nan_indicator</th>\n",
       "    </tr>\n",
       "    <tr>\n",
       "      <th>contact_type</th>\n",
       "      <th></th>\n",
       "      <th></th>\n",
       "      <th></th>\n",
       "      <th></th>\n",
       "      <th></th>\n",
       "      <th></th>\n",
       "      <th></th>\n",
       "      <th></th>\n",
       "      <th></th>\n",
       "      <th></th>\n",
       "      <th></th>\n",
       "      <th></th>\n",
       "      <th></th>\n",
       "      <th></th>\n",
       "      <th></th>\n",
       "      <th></th>\n",
       "      <th></th>\n",
       "      <th></th>\n",
       "      <th></th>\n",
       "      <th></th>\n",
       "      <th></th>\n",
       "    </tr>\n",
       "  </thead>\n",
       "  <tbody>\n",
       "    <tr>\n",
       "      <th>family</th>\n",
       "      <td>1463</td>\n",
       "      <td>1463</td>\n",
       "      <td>1463</td>\n",
       "      <td>1463</td>\n",
       "      <td>1463</td>\n",
       "      <td>1463</td>\n",
       "      <td>1463</td>\n",
       "      <td>1463</td>\n",
       "      <td>1463</td>\n",
       "      <td>1463</td>\n",
       "      <td>...</td>\n",
       "      <td>1463</td>\n",
       "      <td>1463</td>\n",
       "      <td>1463</td>\n",
       "      <td>1463</td>\n",
       "      <td>1463</td>\n",
       "      <td>1463</td>\n",
       "      <td>1463</td>\n",
       "      <td>1463</td>\n",
       "      <td>1463</td>\n",
       "      <td>1463</td>\n",
       "    </tr>\n",
       "    <tr>\n",
       "      <th>social</th>\n",
       "      <td>1379</td>\n",
       "      <td>1379</td>\n",
       "      <td>1379</td>\n",
       "      <td>1379</td>\n",
       "      <td>1379</td>\n",
       "      <td>1379</td>\n",
       "      <td>1379</td>\n",
       "      <td>1379</td>\n",
       "      <td>1379</td>\n",
       "      <td>1379</td>\n",
       "      <td>...</td>\n",
       "      <td>1379</td>\n",
       "      <td>1379</td>\n",
       "      <td>1379</td>\n",
       "      <td>1379</td>\n",
       "      <td>1379</td>\n",
       "      <td>1379</td>\n",
       "      <td>1379</td>\n",
       "      <td>1379</td>\n",
       "      <td>1379</td>\n",
       "      <td>1379</td>\n",
       "    </tr>\n",
       "    <tr>\n",
       "      <th>work</th>\n",
       "      <td>955</td>\n",
       "      <td>955</td>\n",
       "      <td>955</td>\n",
       "      <td>955</td>\n",
       "      <td>955</td>\n",
       "      <td>955</td>\n",
       "      <td>955</td>\n",
       "      <td>955</td>\n",
       "      <td>955</td>\n",
       "      <td>955</td>\n",
       "      <td>...</td>\n",
       "      <td>955</td>\n",
       "      <td>955</td>\n",
       "      <td>955</td>\n",
       "      <td>955</td>\n",
       "      <td>955</td>\n",
       "      <td>955</td>\n",
       "      <td>955</td>\n",
       "      <td>955</td>\n",
       "      <td>955</td>\n",
       "      <td>955</td>\n",
       "    </tr>\n",
       "  </tbody>\n",
       "</table>\n",
       "<p>3 rows × 277 columns</p>\n",
       "</div>"
      ],
      "text/plain": [
       "               pid  combined_hash  total_comms  total_comm_days  total_calls  \\\n",
       "contact_type                                                                   \n",
       "family        1463           1463         1463             1463         1463   \n",
       "social        1379           1379         1379             1379         1379   \n",
       "work           955            955          955              955          955   \n",
       "\n",
       "              total_sms  total_sms_days  total_call_days  reg_call  reg_sms  \\\n",
       "contact_type                                                                  \n",
       "family             1463            1463             1463      1463     1463   \n",
       "social             1379            1379             1379      1379     1379   \n",
       "work                955             955              955       955      955   \n",
       "\n",
       "                            ...                  \\\n",
       "contact_type                ...                   \n",
       "family                      ...                   \n",
       "social                      ...                   \n",
       "work                        ...                   \n",
       "\n",
       "              max_out_duration_nan_indicator  med_out_duration_nan_indicator  \\\n",
       "contact_type                                                                   \n",
       "family                                  1463                            1463   \n",
       "social                                  1379                            1379   \n",
       "work                                     955                             955   \n",
       "\n",
       "              tot_call_duration_nan_indicator  tot_long_calls_nan_indicator  \\\n",
       "contact_type                                                                  \n",
       "family                                   1463                          1463   \n",
       "social                                   1379                          1379   \n",
       "work                                      955                           955   \n",
       "\n",
       "              call_last_2_wks_nan_indicator  call_last_6_wks_nan_indicator  \\\n",
       "contact_type                                                                 \n",
       "family                                 1463                           1463   \n",
       "social                                 1379                           1379   \n",
       "work                                    955                            955   \n",
       "\n",
       "              sms_last_2_wks_nan_indicator  sms_last_6_wks_nan_indicator  \\\n",
       "contact_type                                                               \n",
       "family                                1463                          1463   \n",
       "social                                1379                          1379   \n",
       "work                                   955                           955   \n",
       "\n",
       "              call_dur_last_2_wks_nan_indicator  \\\n",
       "contact_type                                      \n",
       "family                                     1463   \n",
       "social                                     1379   \n",
       "work                                        955   \n",
       "\n",
       "              call_dur_last_6_wks_nan_indicator  \n",
       "contact_type                                     \n",
       "family                                     1463  \n",
       "social                                     1379  \n",
       "work                                        955  \n",
       "\n",
       "[3 rows x 277 columns]"
      ]
     },
     "execution_count": 10,
     "metadata": {},
     "output_type": "execute_result"
    }
   ],
   "source": [
    "train.drop_duplicates('combined_hash').groupby('contact_type').count()"
   ]
  },
  {
   "cell_type": "markdown",
   "metadata": {},
   "source": [
    "## 10-fold CV performance"
   ]
  },
  {
   "cell_type": "code",
   "execution_count": 11,
   "metadata": {},
   "outputs": [],
   "source": [
    "def get_f1_acc(fold_true_labels, preds):\n",
    "    acc = [sk_metrics.accuracy_score(true, pred) for true, pred in zip(fold_true_labels, preds)]\n",
    "    f1 = [sk_metrics.f1_score(true, pred, average='weighted') for true, pred in zip(fold_true_labels, preds)]\n",
    "    return acc, f1"
   ]
  },
  {
   "cell_type": "code",
   "execution_count": 12,
   "metadata": {},
   "outputs": [],
   "source": [
    "svc_base_acc, svc_base_f1 = get_f1_acc(fold_true_labels, svc_cv_preds[0])\n",
    "svc_all_acc, svc_all_f1 = get_f1_acc(fold_true_labels, svc_cv_preds[1])\n",
    "\n",
    "automl_base_acc, automl_base_f1 = get_f1_acc(fold_true_labels, automl_cv_preds[0])\n",
    "automl_all_acc, automl_all_f1 = get_f1_acc(fold_true_labels, automl_cv_preds[1])"
   ]
  },
  {
   "cell_type": "code",
   "execution_count": 13,
   "metadata": {},
   "outputs": [],
   "source": [
    "svc_base_mean_acc = np.mean(svc_base_acc)\n",
    "svc_base_std_acc = np.std(svc_base_acc)\n",
    "svc_all_mean_acc = np.mean(svc_all_acc)\n",
    "svc_all_std_acc = np.std(svc_base_acc)\n",
    "\n",
    "svc_acc = [svc_base_mean_acc, svc_all_mean_acc]\n",
    "svc_std = [svc_base_std_acc, svc_all_std_acc]"
   ]
  },
  {
   "cell_type": "code",
   "execution_count": 14,
   "metadata": {},
   "outputs": [],
   "source": [
    "automl_base_mean_acc = np.mean(automl_base_acc)\n",
    "automl_base_std_acc = np.std(automl_base_acc)\n",
    "automl_all_mean_acc = np.mean(automl_all_acc)\n",
    "automl_all_std_acc = np.std(automl_base_acc)\n",
    "\n",
    "automl_acc = [automl_base_mean_acc, automl_all_mean_acc]\n",
    "automl_std = [automl_base_std_acc, automl_all_std_acc]"
   ]
  },
  {
   "cell_type": "code",
   "execution_count": 15,
   "metadata": {},
   "outputs": [
    {
     "data": {
      "image/png": "[encoded data removed]",
      "text/plain": [
       "<Figure size 576x432 with 1 Axes>"
      ]
     },
     "metadata": {
      "needs_background": "light"
     },
     "output_type": "display_data"
    }
   ],
   "source": [
    "font = {\n",
    "        'weight' : 'normal',\n",
    "        'size'   : 16}\n",
    "\n",
    "plt.rc('font', **font)\n",
    "plt.rcParams[\"figure.figsize\"] = [8,6]\n",
    "plot_results(svc_acc, automl_acc, \"SVM\", ['communication', 'all'], \n",
    "             \"Accuracy\", \"10-fold CV Accuracy, Min et al. classification\",\n",
    "            automl_stderrs=automl_std,\n",
    "            baseline_stderrs=svc_std)\n",
    "\n",
    "\n",
    "plt.savefig(\"../tex/figures/min_acc_10fold.png\")"
   ]
  },
  {
   "cell_type": "code",
   "execution_count": 16,
   "metadata": {},
   "outputs": [],
   "source": [
    "svc_base_mean_f1 = np.mean(svc_base_f1)\n",
    "svc_base_std_f1 = np.std(svc_base_f1)\n",
    "svc_all_mean_f1 = np.mean(svc_all_f1)\n",
    "svc_all_std_f1 = np.std(svc_base_f1)\n",
    "\n",
    "svc_f1 = [svc_base_mean_f1, svc_all_mean_f1]\n",
    "svc_std = [svc_base_std_f1, svc_all_std_f1]"
   ]
  },
  {
   "cell_type": "code",
   "execution_count": 17,
   "metadata": {},
   "outputs": [],
   "source": [
    "automl_base_mean_f1 = np.mean(automl_base_f1)\n",
    "automl_base_std_f1 = np.std(automl_base_f1)\n",
    "automl_all_mean_f1 = np.mean(automl_all_f1)\n",
    "automl_all_std_f1 = np.std(automl_base_f1)\n",
    "\n",
    "automl_f1 = [automl_base_mean_f1, automl_all_mean_f1]\n",
    "automl_std = [automl_base_std_f1, automl_all_std_f1]"
   ]
  },
  {
   "cell_type": "code",
   "execution_count": 72,
   "metadata": {},
   "outputs": [
    {
     "data": {
      "image/png": "[encoded data removed]",
      "text/plain": [
       "<Figure size 576x432 with 1 Axes>"
      ]
     },
     "metadata": {
      "needs_background": "light"
     },
     "output_type": "display_data"
    }
   ],
   "source": [
    "plot_results(svc_f1, automl_f1, \"SVM\", ['communication', 'all'], \n",
    "             \"F1\", \"10-fold CV F1, Min et al. classification\",\n",
    "            automl_stderrs=automl_std,\n",
    "            baseline_stderrs=svc_std)\n"
   ]
  },
  {
   "cell_type": "markdown",
   "metadata": {},
   "source": [
    "## Test set performance"
   ]
  },
  {
   "cell_type": "code",
   "execution_count": 19,
   "metadata": {
    "slideshow": {
     "slide_type": "slide"
    }
   },
   "outputs": [
    {
     "data": {
      "image/png": "[encoded data removed]",
      "text/plain": [
       "<Figure size 576x432 with 1 Axes>"
      ]
     },
     "metadata": {
      "needs_background": "light"
     },
     "output_type": "display_data"
    }
   ],
   "source": [
    "svc_acc = [sk_metrics.accuracy_score(test_y, pred) for pred in svc_preds]\n",
    "automl_acc = [sk_metrics.accuracy_score(test_y, pred) for pred in automl_preds]\n",
    "majority_acc = sk_metrics.accuracy_score(test_y, [2] * len(test_y))\n",
    "\n",
    "plot_results(svc_acc, automl_acc, \"SVM\", features, \"Accuracy\", \"Test Accuracy, Min et al life facet classification\", majority_acc)"
   ]
  },
  {
   "cell_type": "code",
   "execution_count": 20,
   "metadata": {
    "slideshow": {
     "slide_type": "slide"
    }
   },
   "outputs": [
    {
     "name": "stderr",
     "output_type": "stream",
     "text": [
      "/home/tliu526/miniconda3/envs/auto-sklearn/lib/python3.7/site-packages/sklearn/metrics/classification.py:1143: UndefinedMetricWarning: F-score is ill-defined and being set to 0.0 in labels with no predicted samples.\n",
      "  'precision', 'predicted', average, warn_for)\n"
     ]
    },
    {
     "data": {
      "image/png": "[encoded data removed]",
      "text/plain": [
       "<Figure size 576x432 with 1 Axes>"
      ]
     },
     "metadata": {
      "needs_background": "light"
     },
     "output_type": "display_data"
    }
   ],
   "source": [
    "svc_f1 = [sk_metrics.f1_score(test_y, pred, average='weighted') for pred in svc_preds]\n",
    "automl_f1 = [sk_metrics.f1_score(test_y, pred, average='weighted') for pred in automl_preds]\n",
    "majority_f1 = sk_metrics.f1_score(test_y, [2] * len(test_y), average='weighted')\n",
    "\n",
    "plot_results(svc_f1, automl_f1,  \"SVM\", features, \"Weighted F1\", \"Test F1 Weighted, Min et al life facet classification\", majority_f1)"
   ]
  },
  {
   "cell_type": "markdown",
   "metadata": {
    "slideshow": {
     "slide_type": "slide"
    }
   },
   "source": [
    "### Min et al. Confusion Matrix\n",
    "\n",
    "- note: not completely comparable, different slice of the data\n",
    "![](zimmerman_figs/confusion_matrix.png)"
   ]
  },
  {
   "cell_type": "markdown",
   "metadata": {},
   "source": [
    "## Our results"
   ]
  },
  {
   "cell_type": "markdown",
   "metadata": {
    "slideshow": {
     "slide_type": "slide"
    }
   },
   "source": [
    "### SVM confusion matrix"
   ]
  },
  {
   "cell_type": "code",
   "execution_count": 21,
   "metadata": {
    "slideshow": {
     "slide_type": "fragment"
    }
   },
   "outputs": [
    {
     "data": {
      "text/html": [
       "<div>\n",
       "<style scoped>\n",
       "    .dataframe tbody tr th:only-of-type {\n",
       "        vertical-align: middle;\n",
       "    }\n",
       "\n",
       "    .dataframe tbody tr th {\n",
       "        vertical-align: top;\n",
       "    }\n",
       "\n",
       "    .dataframe thead th {\n",
       "        text-align: right;\n",
       "    }\n",
       "</style>\n",
       "<table border=\"1\" class=\"dataframe\">\n",
       "  <thead>\n",
       "    <tr style=\"text-align: right;\">\n",
       "      <th></th>\n",
       "      <th>p_work</th>\n",
       "      <th>p_social</th>\n",
       "      <th>p_family</th>\n",
       "    </tr>\n",
       "  </thead>\n",
       "  <tbody>\n",
       "    <tr>\n",
       "      <th>work</th>\n",
       "      <td>127</td>\n",
       "      <td>80</td>\n",
       "      <td>26</td>\n",
       "    </tr>\n",
       "    <tr>\n",
       "      <th>social</th>\n",
       "      <td>75</td>\n",
       "      <td>219</td>\n",
       "      <td>73</td>\n",
       "    </tr>\n",
       "    <tr>\n",
       "      <th>family</th>\n",
       "      <td>83</td>\n",
       "      <td>144</td>\n",
       "      <td>161</td>\n",
       "    </tr>\n",
       "  </tbody>\n",
       "</table>\n",
       "</div>"
      ],
      "text/plain": [
       "        p_work  p_social  p_family\n",
       "work       127        80        26\n",
       "social      75       219        73\n",
       "family      83       144       161"
      ]
     },
     "metadata": {},
     "output_type": "display_data"
    }
   ],
   "source": [
    "print_confusion_matrix(test_y, svc_preds[-1], zimmerman_contact_types)"
   ]
  },
  {
   "cell_type": "markdown",
   "metadata": {
    "slideshow": {
     "slide_type": "slide"
    }
   },
   "source": [
    "### AutoML confusion matrix"
   ]
  },
  {
   "cell_type": "code",
   "execution_count": 22,
   "metadata": {
    "slideshow": {
     "slide_type": "fragment"
    }
   },
   "outputs": [
    {
     "name": "stdout",
     "output_type": "stream",
     "text": [
      "Weight: 0.38, classifier: adaboost\n",
      "Weight: 0.14, classifier: gradient_boosting\n",
      "Weight: 0.12, classifier: adaboost\n",
      "Weight: 0.06, classifier: gradient_boosting\n",
      "Weight: 0.06, classifier: random_forest\n",
      "Weight: 0.04, classifier: gradient_boosting\n",
      "Weight: 0.04, classifier: gradient_boosting\n",
      "Weight: 0.04, classifier: lda\n",
      "Weight: 0.02, classifier: gradient_boosting\n",
      "Weight: 0.02, classifier: gradient_boosting\n",
      "Weight: 0.02, classifier: gradient_boosting\n",
      "Weight: 0.02, classifier: gradient_boosting\n",
      "Weight: 0.02, classifier: gradient_boosting\n",
      "Weight: 0.02, classifier: random_forest\n"
     ]
    },
    {
     "data": {
      "text/html": [
       "<div>\n",
       "<style scoped>\n",
       "    .dataframe tbody tr th:only-of-type {\n",
       "        vertical-align: middle;\n",
       "    }\n",
       "\n",
       "    .dataframe tbody tr th {\n",
       "        vertical-align: top;\n",
       "    }\n",
       "\n",
       "    .dataframe thead th {\n",
       "        text-align: right;\n",
       "    }\n",
       "</style>\n",
       "<table border=\"1\" class=\"dataframe\">\n",
       "  <thead>\n",
       "    <tr style=\"text-align: right;\">\n",
       "      <th></th>\n",
       "      <th>p_work</th>\n",
       "      <th>p_social</th>\n",
       "      <th>p_family</th>\n",
       "    </tr>\n",
       "  </thead>\n",
       "  <tbody>\n",
       "    <tr>\n",
       "      <th>work</th>\n",
       "      <td>141</td>\n",
       "      <td>62</td>\n",
       "      <td>30</td>\n",
       "    </tr>\n",
       "    <tr>\n",
       "      <th>social</th>\n",
       "      <td>71</td>\n",
       "      <td>216</td>\n",
       "      <td>80</td>\n",
       "    </tr>\n",
       "    <tr>\n",
       "      <th>family</th>\n",
       "      <td>63</td>\n",
       "      <td>132</td>\n",
       "      <td>193</td>\n",
       "    </tr>\n",
       "  </tbody>\n",
       "</table>\n",
       "</div>"
      ],
      "text/plain": [
       "        p_work  p_social  p_family\n",
       "work       141        62        30\n",
       "social      71       216        80\n",
       "family      63       132       193"
      ]
     },
     "metadata": {},
     "output_type": "display_data"
    }
   ],
   "source": [
    "all_ensemble = automl_models[-1].get_models_with_weights()\n",
    "print_ensemble(all_ensemble)\n",
    "\n",
    "print_confusion_matrix(test_y, automl_preds[-1], zimmerman_contact_types)"
   ]
  },
  {
   "cell_type": "markdown",
   "metadata": {},
   "source": [
    "# Wiese et al Tie Strength Replication\n",
    "\n",
    "- same communication feature set\n",
    "- support vector machines as classification algorithm\n",
    "- Leave-one-participant-out cross validation for evaluation"
   ]
  },
  {
   "cell_type": "markdown",
   "metadata": {},
   "source": [
    "## Wiese et al results\n",
    "\n",
    "- our data is comparable to \"some comm,\" as indicated by red arrows\n",
    "\n",
    "![](zimmerman_figs/tie_str_results.png)"
   ]
  },
  {
   "cell_type": "code",
   "execution_count": 47,
   "metadata": {},
   "outputs": [],
   "source": [
    "# load data\n",
    "train = pickle.load(open('../data/final_features/all_tie_str_baseline_train_features.df', 'rb'))\n",
    "test =  pickle.load(open('../data/final_features/all_tie_str_baseline_test_features.df', 'rb'))\n",
    "\n",
    "train_data = train.replace(replace_dict)\n",
    "test_data = test.replace(replace_dict)\n",
    "\n",
    "predict_targets = [\n",
    "    'contact_type',\n",
    "    'q1_want',\n",
    "    'q2_talk',\n",
    "    'q3_loan',\n",
    "    'q4_closeness',\n",
    "    'tie_str_score',\n",
    "    'tie_str_rank',\n",
    "    'tie_str_class'\n",
    "]\n",
    "\n",
    "train_y = train_data['tie_str_class']\n",
    "train_X = train_data.drop(['contact_type', 'combined_hash'] + predict_targets, axis=1, errors='ignore')\n",
    "test_y = test_data['tie_str_class']\n",
    "test_X = test_data.drop(['contact_type', 'pid', 'combined_hash'] + predict_targets, axis=1, errors='ignore')\n",
    "\n",
    "pid_groups = build_cv_groups(pd.Series(train_X['pid'])) # pid col\n",
    "#train_X = train_X[:, 1:]\n",
    "\n",
    "train_X = train_X.values\n",
    "train_y = train_y.values\n",
    "\n",
    "\n",
    "group_kfold = GroupKFold(n_splits=152)\n",
    "\n",
    "fold_true_labels = []\n",
    "for train_idx, test_idx in group_kfold.split(train_X, train_y, pid_groups):\n",
    "    \n",
    "    train_fold_X = train_X[train_idx]\n",
    "    train_fold_y = train_y[train_idx]\n",
    "    \n",
    "    test_fold_X = train_X[test_idx]\n",
    "    test_fold_y = train_y[test_idx]\n",
    "    fold_true_labels.append(test_fold_y)\n",
    "\n",
    "len(fold_true_labels)\n",
    "feat = 'baseline'\n",
    "\n",
    "with open(\"../model/final_results/tie_str/tie_str_{}_svm.cv_predict\".format(feat), 'rb') as cv_file:\n",
    "    lopocv_svc = pickle.load(cv_file)\n",
    "with open(\"../model/final_results/tie_str/tie_str_{}_automl.cv_predict\".format(feat), 'rb') as cv_file:\n",
    "    lopocv_automl = pickle.load(cv_file)\n",
    "    \n",
    "lopocv_svc = [item for sublist in lopocv_svc for item in sublist]\n",
    "lopocv_automl = [item for sublist in lopocv_automl for item in sublist]\n",
    "fold_true_labels = [item for sublist in fold_true_labels for item in sublist]"
   ]
  },
  {
   "cell_type": "markdown",
   "metadata": {},
   "source": [
    "## Our data"
   ]
  },
  {
   "cell_type": "code",
   "execution_count": 148,
   "metadata": {
    "scrolled": false
   },
   "outputs": [
    {
     "data": {
      "image/png": "[encoded data removed]",
      "text/plain": [
       "<Figure size 576x432 with 1 Axes>"
      ]
     },
     "metadata": {
      "needs_background": "light"
     },
     "output_type": "display_data"
    }
   ],
   "source": [
    "emc_features_mean = train.groupby('tie_str_rank')['tie_str_score'].mean()\n",
    "emc_features_std = train.groupby('tie_str_rank')['tie_str_score'].std().divide(np.sqrt(train.groupby('tie_str_rank')['tie_str_score'].count()))\n",
    "plt.rcParams[\"figure.figsize\"] = [8,6]\n",
    "font = {'weight' : 'normal',\n",
    "        'size'   : 16}\n",
    "\n",
    "plt.rc('font', **font)\n",
    "#emc_features_mean.plot.bar(rot=0, yerr=emc_features_std, color='teal', width=1)\n",
    "emc_features_mean.plot.line(rot=0, color='teal')\n",
    "plt.fill_between(np.arange(1,56), emc_features_mean + emc_features_std, emc_features_mean - emc_features_std, color='teal', alpha=0.5)\n",
    "plt.title(\"Tie strength score by tie strength rank\")\n",
    "plt.ylabel(\"Mean tie strength\")\n",
    "plt.xticks(np.arange(1,55,5), labels=np.arange(1,56,5))\n",
    "plt.xlabel(\"Tie strength rank\")\n",
    "plt.xlim([1,50])\n",
    "plt.ylim([1,25])\n",
    "plt.axvline(x=4.5, label='strong ties', color='black', ls='--')\n",
    "plt.axvline(x=19.5, label='medium ties', color='black', ls=':')\n",
    "\n",
    "plt.legend()\n",
    "plt.savefig(\"../tex/figures/tie_str_rank.png\", dpi=300)"
   ]
  },
  {
   "cell_type": "code",
   "execution_count": 137,
   "metadata": {},
   "outputs": [
    {
     "data": {
      "image/png": "[encoded data removed]",
      "text/plain": [
       "<Figure size 576x576 with 1 Axes>"
      ]
     },
     "metadata": {},
     "output_type": "display_data"
    }
   ],
   "source": [
    "tie_str_dict = {\n",
    "    'tie_str_class': {\n",
    "        0: \"strong tie\",\n",
    "        1: \"medium tie\",\n",
    "        2: \"weak tie\"\n",
    "    }\n",
    "}\n",
    "\n",
    "disp = train.replace(tie_str_dict)\n",
    "all_tie_str = disp.drop_duplicates('combined_hash').groupby('tie_str_class').count()\n",
    "all_tie_str.plot.pie('combined_hash', autopct='%.2f', figsize=(8,8))\n",
    "plt.title('% of tie strength contacts')\n",
    "plt.legend(loc='lower left')\n",
    "plt.ylabel(\"\")\n",
    "plt.show()"
   ]
  },
  {
   "cell_type": "markdown",
   "metadata": {},
   "source": [
    "## Leave one participant out CV performance"
   ]
  },
  {
   "cell_type": "code",
   "execution_count": 105,
   "metadata": {},
   "outputs": [
    {
     "data": {
      "text/html": [
       "<div>\n",
       "<style scoped>\n",
       "    .dataframe tbody tr th:only-of-type {\n",
       "        vertical-align: middle;\n",
       "    }\n",
       "\n",
       "    .dataframe tbody tr th {\n",
       "        vertical-align: top;\n",
       "    }\n",
       "\n",
       "    .dataframe thead th {\n",
       "        text-align: right;\n",
       "    }\n",
       "</style>\n",
       "<table border=\"1\" class=\"dataframe\">\n",
       "  <thead>\n",
       "    <tr style=\"text-align: right;\">\n",
       "      <th></th>\n",
       "      <th>accuracy</th>\n",
       "      <th>kappa</th>\n",
       "      <th>s_prec</th>\n",
       "      <th>s_recall</th>\n",
       "      <th>m_prec</th>\n",
       "      <th>m_recall</th>\n",
       "      <th>w_prec</th>\n",
       "      <th>w_recall</th>\n",
       "    </tr>\n",
       "  </thead>\n",
       "  <tbody>\n",
       "    <tr>\n",
       "      <th>comm svc</th>\n",
       "      <td>0.501</td>\n",
       "      <td>0.150</td>\n",
       "      <td>0.611</td>\n",
       "      <td>0.072</td>\n",
       "      <td>0.477</td>\n",
       "      <td>0.534</td>\n",
       "      <td>0.520</td>\n",
       "      <td>0.636</td>\n",
       "    </tr>\n",
       "    <tr>\n",
       "      <th>comm automl</th>\n",
       "      <td>0.516</td>\n",
       "      <td>0.194</td>\n",
       "      <td>0.527</td>\n",
       "      <td>0.231</td>\n",
       "      <td>0.489</td>\n",
       "      <td>0.463</td>\n",
       "      <td>0.535</td>\n",
       "      <td>0.684</td>\n",
       "    </tr>\n",
       "  </tbody>\n",
       "</table>\n",
       "</div>"
      ],
      "text/plain": [
       "             accuracy  kappa  s_prec  s_recall  m_prec  m_recall  w_prec  \\\n",
       "comm svc        0.501  0.150   0.611     0.072   0.477     0.534   0.520   \n",
       "comm automl     0.516  0.194   0.527     0.231   0.489     0.463   0.535   \n",
       "\n",
       "             w_recall  \n",
       "comm svc        0.636  \n",
       "comm automl     0.684  "
      ]
     },
     "metadata": {},
     "output_type": "display_data"
    }
   ],
   "source": [
    "pd.options.display.float_format = '{:,.3f}'.format\n",
    "lopo_res = build_clf_results(fold_true_labels, [lopocv_svc] + [lopocv_automl])\n",
    "lopo_df = pd.DataFrame(lopo_res,index=['comm svc', 'comm automl'], columns=columns)\n",
    "display(lopo_df)\n",
    "#print(pd.DataFrame(lopo_res).to_latex())"
   ]
  },
  {
   "cell_type": "markdown",
   "metadata": {},
   "source": [
    "## Test set performance"
   ]
  },
  {
   "cell_type": "code",
   "execution_count": null,
   "metadata": {},
   "outputs": [],
   "source": [
    "# load models and data\n",
    "features = ['baseline', 'all']\n",
    "\n",
    "svc_models = []\n",
    "svc_preds = []\n",
    "svc_cv_preds = []\n",
    "# baseline\n",
    "for feat in features:\n",
    "    with open(\"../model/final_results/tie_str/tie_str_{}_svm.automl\".format(feat), 'rb') as model_file:\n",
    "            svc_models.append(pickle.load(model_file))\n",
    "    with open(\"../model/final_results/tie_str/tie_str_{}_svm.predict\".format(feat), 'rb') as pred_file:\n",
    "        svc_preds.append(pickle.load(pred_file))\n",
    "#     with open(\"../model/final_results/tie_str/{}_svm.cv_predict\".format(feat), 'rb') as cv_file:\n",
    "#         svc_cv_preds.append(pickle.load(cv_file))\n",
    "\n",
    "\n",
    "automl_models = []\n",
    "automl_preds = []\n",
    "automl_cv_preds = []\n",
    "\n",
    "# autoML\n",
    "for feat in features:\n",
    "    with open(\"../model/final_results/tie_str/tie_str_{}_automl.automl\".format(feat), 'rb') as model_file:\n",
    "        automl_models.append(pickle.load(model_file))\n",
    "    with open(\"../model/final_results/tie_str/tie_str_{}_automl.predict\".format(feat), 'rb') as pred_file:\n",
    "        automl_preds.append(pickle.load(pred_file))\n",
    "#     with open(\"../model/final_results/tie_str/{}_automl.cv_predict\".format(feat), 'rb') as cv_file:\n",
    "#         automl_cv_preds.append(pickle.load(cv_file))\n"
   ]
  },
  {
   "cell_type": "code",
   "execution_count": 24,
   "metadata": {},
   "outputs": [],
   "source": [
    "# load data\n",
    "train = pickle.load(open('../data/final_features/all_tie_str_baseline_train_features.df', 'rb'))\n",
    "test =  pickle.load(open('../data/final_features/all_tie_str_baseline_test_features.df', 'rb'))\n",
    "\n",
    "train_data = train.replace(replace_dict)\n",
    "test_data = test.replace(replace_dict)\n",
    "\n",
    "predict_targets = [\n",
    "    'contact_type',\n",
    "    'q1_want',\n",
    "    'q2_talk',\n",
    "    'q3_loan',\n",
    "    'q4_closeness',\n",
    "    'tie_str_score',\n",
    "    'tie_str_rank',\n",
    "    'tie_str_class'\n",
    "]\n",
    "\n",
    "train_y = train_data['tie_str_class']\n",
    "train_X = train_data.drop(['contact_type', 'pid', 'combined_hash'] + predict_targets, axis=1, errors='ignore')\n",
    "test_y = test_data['tie_str_class']\n",
    "test_X = test_data.drop(['contact_type', 'pid', 'combined_hash'] + predict_targets, axis=1, errors='ignore')"
   ]
  },
  {
   "cell_type": "code",
   "execution_count": null,
   "metadata": {},
   "outputs": [],
   "source": [
    "svc_acc = [sk_metrics.accuracy_score(test_y, pred) for pred in svc_preds]\n",
    "automl_acc = [sk_metrics.accuracy_score(test_y, pred) for pred in automl_preds]\n",
    "majority_acc = sk_metrics.accuracy_score(test_y, [2] * len(test_y))\n",
    "\n",
    "plot_results(svc_acc, automl_acc, \"SVM\", features, \"Accuracy\", \"Test Accuracy, Wiese et al tie strength classification\", majority_acc)"
   ]
  },
  {
   "cell_type": "code",
   "execution_count": null,
   "metadata": {},
   "outputs": [],
   "source": [
    "svc_acc = [sk_metrics.cohen_kappa_score(test_y, pred) for pred in svc_preds]\n",
    "automl_acc = [sk_metrics.cohen_kappa_score(test_y, pred) for pred in automl_preds]\n",
    "\n",
    "plot_results(svc_acc, automl_acc, \"SVM\", features, \"Kappa\", \"Test Kappa, Wiese et al tie strength classification\")"
   ]
  },
  {
   "cell_type": "markdown",
   "metadata": {},
   "source": [
    "## SVM Confusion Matrix"
   ]
  },
  {
   "cell_type": "code",
   "execution_count": 27,
   "metadata": {},
   "outputs": [
    {
     "data": {
      "text/html": [
       "<div>\n",
       "<style scoped>\n",
       "    .dataframe tbody tr th:only-of-type {\n",
       "        vertical-align: middle;\n",
       "    }\n",
       "\n",
       "    .dataframe tbody tr th {\n",
       "        vertical-align: top;\n",
       "    }\n",
       "\n",
       "    .dataframe thead th {\n",
       "        text-align: right;\n",
       "    }\n",
       "</style>\n",
       "<table border=\"1\" class=\"dataframe\">\n",
       "  <thead>\n",
       "    <tr style=\"text-align: right;\">\n",
       "      <th></th>\n",
       "      <th>p_strong</th>\n",
       "      <th>p_medium</th>\n",
       "      <th>p_weak</th>\n",
       "    </tr>\n",
       "  </thead>\n",
       "  <tbody>\n",
       "    <tr>\n",
       "      <th>strong</th>\n",
       "      <td>21</td>\n",
       "      <td>171</td>\n",
       "      <td>106</td>\n",
       "    </tr>\n",
       "    <tr>\n",
       "      <th>medium</th>\n",
       "      <td>15</td>\n",
       "      <td>442</td>\n",
       "      <td>442</td>\n",
       "    </tr>\n",
       "    <tr>\n",
       "      <th>weak</th>\n",
       "      <td>0</td>\n",
       "      <td>272</td>\n",
       "      <td>605</td>\n",
       "    </tr>\n",
       "  </tbody>\n",
       "</table>\n",
       "</div>"
      ],
      "text/plain": [
       "        p_strong  p_medium  p_weak\n",
       "strong        21       171     106\n",
       "medium        15       442     442\n",
       "weak           0       272     605"
      ]
     },
     "metadata": {},
     "output_type": "display_data"
    }
   ],
   "source": [
    "print_confusion_matrix(test_y, svc_preds[0], ['strong', 'medium', 'weak'])"
   ]
  },
  {
   "cell_type": "markdown",
   "metadata": {},
   "source": [
    "## AutoML Confusion Matrix"
   ]
  },
  {
   "cell_type": "code",
   "execution_count": 28,
   "metadata": {},
   "outputs": [
    {
     "data": {
      "text/html": [
       "<div>\n",
       "<style scoped>\n",
       "    .dataframe tbody tr th:only-of-type {\n",
       "        vertical-align: middle;\n",
       "    }\n",
       "\n",
       "    .dataframe tbody tr th {\n",
       "        vertical-align: top;\n",
       "    }\n",
       "\n",
       "    .dataframe thead th {\n",
       "        text-align: right;\n",
       "    }\n",
       "</style>\n",
       "<table border=\"1\" class=\"dataframe\">\n",
       "  <thead>\n",
       "    <tr style=\"text-align: right;\">\n",
       "      <th></th>\n",
       "      <th>p_strong</th>\n",
       "      <th>p_medium</th>\n",
       "      <th>p_weak</th>\n",
       "    </tr>\n",
       "  </thead>\n",
       "  <tbody>\n",
       "    <tr>\n",
       "      <th>strong</th>\n",
       "      <td>63</td>\n",
       "      <td>161</td>\n",
       "      <td>74</td>\n",
       "    </tr>\n",
       "    <tr>\n",
       "      <th>medium</th>\n",
       "      <td>48</td>\n",
       "      <td>448</td>\n",
       "      <td>403</td>\n",
       "    </tr>\n",
       "    <tr>\n",
       "      <th>weak</th>\n",
       "      <td>9</td>\n",
       "      <td>258</td>\n",
       "      <td>610</td>\n",
       "    </tr>\n",
       "  </tbody>\n",
       "</table>\n",
       "</div>"
      ],
      "text/plain": [
       "        p_strong  p_medium  p_weak\n",
       "strong        63       161      74\n",
       "medium        48       448     403\n",
       "weak           9       258     610"
      ]
     },
     "metadata": {},
     "output_type": "display_data"
    }
   ],
   "source": [
    "print_confusion_matrix(test_y, automl_preds[0], ['strong', 'medium', 'weak'])"
   ]
  },
  {
   "cell_type": "code",
   "execution_count": 99,
   "metadata": {},
   "outputs": [],
   "source": [
    "# row has class condition: cols with accuracy, kappa, prec/recall\n",
    "def build_clf_results(test_y, preds):\n",
    "    \n",
    "    results = np.zeros((len(preds),8))\n",
    "    columns = ['accuracy', 'kappa', 's_prec', 's_recall', 'm_prec', 'm_recall', 'w_prec', 'w_recall']\n",
    "\n",
    "    for idx, pred in enumerate(preds):\n",
    "        results[idx, 0] = sk_metrics.accuracy_score(test_y, pred)\n",
    "        results[idx, 1] = sk_metrics.cohen_kappa_score(test_y, pred)\n",
    "        for target in range(3):\n",
    "                results[idx, (2*target) + 2] = sk_metrics.precision_score(test_y, pred, labels=[target], average='macro')\n",
    "                results[idx, (2*target) + 3] = sk_metrics.recall_score(test_y, pred, labels=[target], average='macro')\n",
    "\n",
    "    return results"
   ]
  },
  {
   "cell_type": "markdown",
   "metadata": {},
   "source": [
    "### Test set results"
   ]
  },
  {
   "cell_type": "code",
   "execution_count": 106,
   "metadata": {},
   "outputs": [
    {
     "data": {
      "text/html": [
       "<div>\n",
       "<style scoped>\n",
       "    .dataframe tbody tr th:only-of-type {\n",
       "        vertical-align: middle;\n",
       "    }\n",
       "\n",
       "    .dataframe tbody tr th {\n",
       "        vertical-align: top;\n",
       "    }\n",
       "\n",
       "    .dataframe thead th {\n",
       "        text-align: right;\n",
       "    }\n",
       "</style>\n",
       "<table border=\"1\" class=\"dataframe\">\n",
       "  <thead>\n",
       "    <tr style=\"text-align: right;\">\n",
       "      <th></th>\n",
       "      <th>accuracy</th>\n",
       "      <th>kappa</th>\n",
       "      <th>s_prec</th>\n",
       "      <th>s_recall</th>\n",
       "      <th>m_prec</th>\n",
       "      <th>m_recall</th>\n",
       "      <th>w_prec</th>\n",
       "      <th>w_recall</th>\n",
       "    </tr>\n",
       "  </thead>\n",
       "  <tbody>\n",
       "    <tr>\n",
       "      <th>comm svc</th>\n",
       "      <td>0.515</td>\n",
       "      <td>0.160</td>\n",
       "      <td>0.583</td>\n",
       "      <td>0.070</td>\n",
       "      <td>0.499</td>\n",
       "      <td>0.492</td>\n",
       "      <td>0.525</td>\n",
       "      <td>0.690</td>\n",
       "    </tr>\n",
       "    <tr>\n",
       "      <th>all svc</th>\n",
       "      <td>0.524</td>\n",
       "      <td>0.189</td>\n",
       "      <td>0.522</td>\n",
       "      <td>0.198</td>\n",
       "      <td>0.497</td>\n",
       "      <td>0.498</td>\n",
       "      <td>0.546</td>\n",
       "      <td>0.660</td>\n",
       "    </tr>\n",
       "    <tr>\n",
       "      <th>comm automl</th>\n",
       "      <td>0.541</td>\n",
       "      <td>0.220</td>\n",
       "      <td>0.525</td>\n",
       "      <td>0.211</td>\n",
       "      <td>0.517</td>\n",
       "      <td>0.498</td>\n",
       "      <td>0.561</td>\n",
       "      <td>0.696</td>\n",
       "    </tr>\n",
       "    <tr>\n",
       "      <th>all automl</th>\n",
       "      <td>0.531</td>\n",
       "      <td>0.204</td>\n",
       "      <td>0.550</td>\n",
       "      <td>0.238</td>\n",
       "      <td>0.505</td>\n",
       "      <td>0.542</td>\n",
       "      <td>0.554</td>\n",
       "      <td>0.619</td>\n",
       "    </tr>\n",
       "  </tbody>\n",
       "</table>\n",
       "</div>"
      ],
      "text/plain": [
       "             accuracy  kappa  s_prec  s_recall  m_prec  m_recall  w_prec  \\\n",
       "comm svc        0.515  0.160   0.583     0.070   0.499     0.492   0.525   \n",
       "all svc         0.524  0.189   0.522     0.198   0.497     0.498   0.546   \n",
       "comm automl     0.541  0.220   0.525     0.211   0.517     0.498   0.561   \n",
       "all automl      0.531  0.204   0.550     0.238   0.505     0.542   0.554   \n",
       "\n",
       "             w_recall  \n",
       "comm svc        0.690  \n",
       "all svc         0.660  \n",
       "comm automl     0.696  \n",
       "all automl      0.619  "
      ]
     },
     "metadata": {},
     "output_type": "display_data"
    }
   ],
   "source": [
    "pd.options.display.float_format = '{:,.3f}'.format\n",
    "preds = svc_preds + automl_preds\n",
    "lopo_res = build_clf_results(test_y, preds)\n",
    "result_df = pd.DataFrame(results,index=['comm svc', 'all svc', 'comm automl', 'all automl'], columns=columns)\n",
    "display(result_df)\n",
    "#print(result_df.to_latex())"
   ]
  },
  {
   "cell_type": "code",
   "execution_count": null,
   "metadata": {},
   "outputs": [],
   "source": [
    "# Two class, TODO rebalanced runs\n",
    "vstr_dict = {\n",
    "    0: 0,\n",
    "    1: 0,\n",
    "    2: 1\n",
    "}\n",
    "\n",
    "vstr_test_y = test_data['tie_str_class'].map(vstr_dict)\n",
    "\n",
    "vstr_automl_models =[]\n",
    "vstr_automl_preds = []\n",
    "\n",
    "feat = 'baseline'\n",
    "with open(\"../model/final_results/tie_str/tie_str_{}_automl_vstr.automl\".format(feat), 'rb') as model_file:\n",
    "    vstr_automl_models.append(pickle.load(model_file))\n",
    "with open(\"../model/final_results/tie_str/tie_str_{}_automl_vstr.predict\".format(feat), 'rb') as pred_file:\n",
    "    vstr_automl_preds.append(pickle.load(pred_file))\n",
    "    \n",
    "vstr_svc_models =[]\n",
    "vstr_svc_preds = []\n",
    "\n",
    "feat = 'baseline'\n",
    "with open(\"../model/final_results/tie_str/tie_str_{}_svm_vstr.automl\".format(feat), 'rb') as model_file:\n",
    "    vstr_svc_models.append(pickle.load(model_file))\n",
    "with open(\"../model/final_results/tie_str/tie_str_{}_svm_vstr.predict\".format(feat), 'rb') as pred_file:\n",
    "    vstr_svc_preds.append(pickle.load(pred_file))"
   ]
  }
 ],
 "metadata": {
  "celltoolbar": "Slideshow",
  "kernelspec": {
   "display_name": "Python 3",
   "language": "python",
   "name": "python3"
  },
  "language_info": {
   "codemirror_mode": {
    "name": "ipython",
    "version": 3
   },
   "file_extension": ".py",
   "mimetype": "text/x-python",
   "name": "python",
   "nbconvert_exporter": "python",
   "pygments_lexer": "ipython3",
   "version": "3.7.2"
  }
 },
 "nbformat": 4,
 "nbformat_minor": 2
}
