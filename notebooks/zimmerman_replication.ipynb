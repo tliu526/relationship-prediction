{
 "cells": [
  {
   "cell_type": "markdown",
   "metadata": {
    "slideshow": {
     "slide_type": "slide"
    }
   },
   "source": [
    "# Min et al Life Facet Replication"
   ]
  },
  {
   "cell_type": "code",
   "execution_count": 1,
   "metadata": {
    "slideshow": {
     "slide_type": "skip"
    }
   },
   "outputs": [],
   "source": [
    "%matplotlib inline\n",
    "\n",
    "import inspect\n",
    "import os\n",
    "import pickle\n",
    "import sys\n",
    "\n",
    "import matplotlib.pyplot as plt\n",
    "import numpy as np\n",
    "import pandas as pd\n",
    "\n",
    "from imblearn.over_sampling import SMOTE, RandomOverSampler\n",
    "from sklearn.ensemble import RandomForestClassifier\n",
    "from sklearn.model_selection import GroupKFold, cross_val_score\n",
    "from sklearn.svm import SVC\n",
    "\n",
    "currentdir = os.path.dirname(os.path.abspath(inspect.getfile(inspect.currentframe())))\n",
    "parentdir = os.path.dirname(currentdir)\n",
    "sys.path.insert(0,parentdir) \n",
    "\n",
    "from model.model_util import *\n"
   ]
  },
  {
   "cell_type": "code",
   "execution_count": 2,
   "metadata": {
    "slideshow": {
     "slide_type": "skip"
    }
   },
   "outputs": [
    {
     "data": {
      "text/html": [
       "\n",
       "<script>\n",
       "  function code_toggle() {\n",
       "    if (code_shown){\n",
       "      $('div.input').hide('500');\n",
       "      $('#toggleButton').val('Show Code')\n",
       "    } else {\n",
       "      $('div.input').show('500');\n",
       "      $('#toggleButton').val('Hide Code')\n",
       "    }\n",
       "    code_shown = !code_shown\n",
       "  }\n",
       "\n",
       "  $( document ).ready(function(){\n",
       "    code_shown=false;\n",
       "    $('div.input').hide()\n",
       "  });\n",
       "</script>\n",
       "<form action=\"javascript:code_toggle()\"><input type=\"submit\" id=\"toggleButton\" value=\"Show Code\"></form>\n"
      ],
      "text/plain": [
       "<IPython.core.display.HTML object>"
      ]
     },
     "execution_count": 2,
     "metadata": {},
     "output_type": "execute_result"
    }
   ],
   "source": [
    "# Code hider, source: http://chris-said.io/2016/02/13/how-to-make-polished-jupyter-presentations-with-optional-code-visibility/\n",
    "from IPython.display import HTML\n",
    "\n",
    "HTML('''\n",
    "<script>\n",
    "  function code_toggle() {\n",
    "    if (code_shown){\n",
    "      $('div.input').hide('500');\n",
    "      $('#toggleButton').val('Show Code')\n",
    "    } else {\n",
    "      $('div.input').show('500');\n",
    "      $('#toggleButton').val('Hide Code')\n",
    "    }\n",
    "    code_shown = !code_shown\n",
    "  }\n",
    "\n",
    "  $( document ).ready(function(){\n",
    "    code_shown=false;\n",
    "    $('div.input').hide()\n",
    "  });\n",
    "</script>\n",
    "<form action=\"javascript:code_toggle()\"><input type=\"submit\" id=\"toggleButton\" value=\"Show Code\"></form>\n",
    "''')"
   ]
  },
  {
   "cell_type": "markdown",
   "metadata": {
    "slideshow": {
     "slide_type": "slide"
    }
   },
   "source": [
    "## Min et al data\n",
    "\n",
    "- 40 participants, 817 contacts\n",
    "- 16,940 calls, 63,893 SMS\n",
    "\n",
    "![Resampled evaluation data](zimmerman_figs/resample_data.png)"
   ]
  },
  {
   "cell_type": "markdown",
   "metadata": {
    "slideshow": {
     "slide_type": "slide"
    }
   },
   "source": [
    "## Our data\n",
    "\n",
    "- 199 participants, 4,785 contacts\n",
    "- 38,749 calls, 279,089 SMS"
   ]
  },
  {
   "cell_type": "code",
   "execution_count": 3,
   "metadata": {
    "slideshow": {
     "slide_type": "skip"
    }
   },
   "outputs": [],
   "source": [
    "with open(\"../data/all_contacts_final.df\", \"rb\") as comm_f:\n",
    "    comm_df = pickle.load(comm_f)"
   ]
  },
  {
   "cell_type": "code",
   "execution_count": 4,
   "metadata": {
    "slideshow": {
     "slide_type": "skip"
    }
   },
   "outputs": [],
   "source": [
    "replace_dict = {\n",
    "    'contact_type': {\n",
    "        \"work\": 0,\n",
    "        \"friend\": 1,\n",
    "        \"family_live_separate\": 2,\n",
    "        \"family_live_together\": 2,\n",
    "        \"sig_other\": 2\n",
    "    }\n",
    "}\n",
    "\n",
    "\n",
    "# with open(\"../data/zimmerman_contacts.df\", \"rb\") as z_file:\n",
    "#     zimmerman_df = pickle.load(z_file)\n",
    "\n",
    "zimmerman_contact_types = ['work', 'social', 'family']\n",
    "rev_replace_dict = {\n",
    "    'contact_type': {idx:v for idx, v in enumerate(zimmerman_contact_types)}\n",
    "}\n",
    "zimmerman_df = comm_df.loc[(comm_df['contact_type'] != 'other') & (comm_df['contact_type'] != 'task')]\n",
    "zimmerman_df = zimmerman_df.replace(replace_dict)\n",
    "zimmerman_df = zimmerman_df.replace(rev_replace_dict)"
   ]
  },
  {
   "cell_type": "code",
   "execution_count": 5,
   "metadata": {},
   "outputs": [],
   "source": [
    "# with open(\"../data/zimmerman_contacts.df\", \"wb\") as z_file:\n",
    "#     pickle.dump(zimmerman_df, z_file, -1)"
   ]
  },
  {
   "cell_type": "code",
   "execution_count": 6,
   "metadata": {
    "slideshow": {
     "slide_type": "fragment"
    }
   },
   "outputs": [
    {
     "data": {
      "image/png": "[encoded data removed]",
      "text/plain": [
       "<Figure size 576x576 with 1 Axes>"
      ]
     },
     "metadata": {},
     "output_type": "display_data"
    }
   ],
   "source": [
    "all_types = zimmerman_df.drop_duplicates('combined_hash').groupby('contact_type').count()\n",
    "all_types.plot.pie('comm_type', autopct='%.2f', figsize=(8,8))\n",
    "plt.title('% of contact types, aggregated by Min et al. life facets (excluding task and other)')\n",
    "plt.legend(loc='lower center')\n",
    "plt.ylabel(\"\")\n",
    "plt.show()"
   ]
  },
  {
   "cell_type": "code",
   "execution_count": 7,
   "metadata": {
    "slideshow": {
     "slide_type": "subslide"
    }
   },
   "outputs": [
    {
     "data": {
      "text/plain": [
       "contact_type\n",
       "family    1851\n",
       "social    1746\n",
       "work      1188\n",
       "Name: comm_direction, dtype: int64"
      ]
     },
     "metadata": {},
     "output_type": "display_data"
    }
   ],
   "source": [
    "display(all_types.loc[:, 'comm_direction'])"
   ]
  },
  {
   "cell_type": "markdown",
   "metadata": {
    "slideshow": {
     "slide_type": "slide"
    }
   },
   "source": [
    "## Experiment parameters\n",
    "\n",
    "- random resampling to balance data\n",
    "- 10 fold CV, average accuracy\n",
    "- one vs one polynomial SVM"
   ]
  },
  {
   "cell_type": "markdown",
   "metadata": {
    "slideshow": {
     "slide_type": "slide"
    }
   },
   "source": [
    "## Results\n",
    "\n",
    "![](zimmerman_figs/results.png)"
   ]
  },
  {
   "cell_type": "code",
   "execution_count": 8,
   "metadata": {
    "slideshow": {
     "slide_type": "skip"
    }
   },
   "outputs": [
    {
     "name": "stderr",
     "output_type": "stream",
     "text": [
      "/home/tliu526/miniconda3/envs/auto-sklearn/lib/python3.7/site-packages/pyparsing.py:2725: FutureWarning: Possible set intersection at position 3\n",
      "  self.re = re.compile( self.reString )\n"
     ]
    }
   ],
   "source": [
    "# load models and data\n",
    "features = ['baseline', 'all']\n",
    "\n",
    "svc_models = []\n",
    "svc_preds = []\n",
    "\n",
    "# baseline\n",
    "for feat in features:\n",
    "    with open(\"../model/zimmerman_results/zimmerman_{}_svc.automl\".format(feat), 'rb') as model_file:\n",
    "            svc_models.append(pickle.load(model_file))\n",
    "    with open(\"../model/zimmerman_results/zimmerman_{}_svc.predict\".format(feat), 'rb') as pred_file:\n",
    "        svc_preds.append(pickle.load(pred_file))\n",
    "\n",
    "automl_models = []\n",
    "automl_preds = []\n",
    "\n",
    "# autoML\n",
    "for feat in features:\n",
    "    with open(\"../model/zimmerman_results/zimmerman_{}.automl\".format(feat), 'rb') as model_file:\n",
    "            automl_models.append(pickle.load(model_file))\n",
    "    with open(\"../model/zimmerman_results/zimmerman_{}.predict\".format(feat), 'rb') as pred_file:\n",
    "        automl_preds.append(pickle.load(pred_file))"
   ]
  },
  {
   "cell_type": "code",
   "execution_count": 9,
   "metadata": {
    "slideshow": {
     "slide_type": "skip"
    }
   },
   "outputs": [],
   "source": [
    "contact_dict =  {\n",
    "            \"work\": 0,\n",
    "            \"social\": 1,\n",
    "            \"family\": 2\n",
    "        }\n",
    "\n",
    "\n",
    "replace_dict = {'contact_type': contact_dict}\n",
    "\n",
    "# load data\n",
    "train = pickle.load(open('../data/zimmerman_features/zimmerman_baseline_train_features.df', 'rb'))\n",
    "test =  pickle.load(open('../data/zimmerman_features/zimmerman_baseline_test_features.df', 'rb'))\n",
    "\n",
    "train_data = train.replace(replace_dict)\n",
    "test_data = test.replace(replace_dict)\n",
    "\n",
    "train_y = train_data['contact_type']\n",
    "train_X = train_data.drop(['contact_type', 'pid', 'combined_hash'], axis=1)\n",
    "test_y = test_data['contact_type']\n",
    "test_X = test_data.drop(['contact_type', 'pid', 'combined_hash'], axis=1)"
   ]
  },
  {
   "cell_type": "code",
   "execution_count": 10,
   "metadata": {
    "slideshow": {
     "slide_type": "slide"
    }
   },
   "outputs": [
    {
     "data": {
      "image/png": "[encoded data removed]",
      "text/plain": [
       "<Figure size 864x432 with 1 Axes>"
      ]
     },
     "metadata": {
      "needs_background": "light"
     },
     "output_type": "display_data"
    }
   ],
   "source": [
    "svc_acc = [sk_metrics.accuracy_score(test_y, pred) for pred in svc_preds]\n",
    "automl_acc = [sk_metrics.accuracy_score(test_y, pred) for pred in automl_preds]\n",
    "majority_acc = sk_metrics.accuracy_score(test_y, [2] * len(test_y))\n",
    "\n",
    "plot_results(svc_acc, automl_acc, \"SVM\", features, \"Accuracy\", \"Test Accuracy , Zimmerman classification\", majority_acc)"
   ]
  },
  {
   "cell_type": "code",
   "execution_count": 11,
   "metadata": {
    "slideshow": {
     "slide_type": "slide"
    }
   },
   "outputs": [
    {
     "name": "stderr",
     "output_type": "stream",
     "text": [
      "/home/tliu526/miniconda3/envs/auto-sklearn/lib/python3.7/site-packages/sklearn/metrics/classification.py:1143: UndefinedMetricWarning: F-score is ill-defined and being set to 0.0 in labels with no predicted samples.\n",
      "  'precision', 'predicted', average, warn_for)\n"
     ]
    },
    {
     "data": {
      "image/png": "[encoded data removed]",
      "text/plain": [
       "<Figure size 864x432 with 1 Axes>"
      ]
     },
     "metadata": {
      "needs_background": "light"
     },
     "output_type": "display_data"
    }
   ],
   "source": [
    "svc_f1 = [sk_metrics.f1_score(test_y, pred, average='weighted') for pred in svc_preds]\n",
    "automl_f1 = [sk_metrics.f1_score(test_y, pred, average='weighted') for pred in automl_preds]\n",
    "majority_f1 = sk_metrics.f1_score(test_y, [2] * len(test_y), average='weighted')\n",
    "\n",
    "plot_results(svc_f1, automl_f1,  \"SVM\", features, \"Weighted F1\", \"Test F1 Weighted, Zimmerman classification\", majority_f1)"
   ]
  },
  {
   "cell_type": "markdown",
   "metadata": {
    "slideshow": {
     "slide_type": "slide"
    }
   },
   "source": [
    "### Min et al. Confusion Matrix\n",
    "\n",
    "- note: not completely comparable, different slice of the data\n",
    "![](zimmerman_figs/confusion_matrix.PNG)"
   ]
  },
  {
   "cell_type": "markdown",
   "metadata": {},
   "source": [
    "## Our results"
   ]
  },
  {
   "cell_type": "markdown",
   "metadata": {
    "slideshow": {
     "slide_type": "slide"
    }
   },
   "source": [
    "### SVM confusion matrix"
   ]
  },
  {
   "cell_type": "code",
   "execution_count": 12,
   "metadata": {
    "slideshow": {
     "slide_type": "fragment"
    }
   },
   "outputs": [
    {
     "data": {
      "text/html": [
       "<div>\n",
       "<style scoped>\n",
       "    .dataframe tbody tr th:only-of-type {\n",
       "        vertical-align: middle;\n",
       "    }\n",
       "\n",
       "    .dataframe tbody tr th {\n",
       "        vertical-align: top;\n",
       "    }\n",
       "\n",
       "    .dataframe thead th {\n",
       "        text-align: right;\n",
       "    }\n",
       "</style>\n",
       "<table border=\"1\" class=\"dataframe\">\n",
       "  <thead>\n",
       "    <tr style=\"text-align: right;\">\n",
       "      <th></th>\n",
       "      <th>p_work</th>\n",
       "      <th>p_social</th>\n",
       "      <th>p_family</th>\n",
       "    </tr>\n",
       "  </thead>\n",
       "  <tbody>\n",
       "    <tr>\n",
       "      <th>work</th>\n",
       "      <td>129</td>\n",
       "      <td>62</td>\n",
       "      <td>42</td>\n",
       "    </tr>\n",
       "    <tr>\n",
       "      <th>social</th>\n",
       "      <td>78</td>\n",
       "      <td>190</td>\n",
       "      <td>99</td>\n",
       "    </tr>\n",
       "    <tr>\n",
       "      <th>family</th>\n",
       "      <td>101</td>\n",
       "      <td>98</td>\n",
       "      <td>189</td>\n",
       "    </tr>\n",
       "  </tbody>\n",
       "</table>\n",
       "</div>"
      ],
      "text/plain": [
       "        p_work  p_social  p_family\n",
       "work       129        62        42\n",
       "social      78       190        99\n",
       "family     101        98       189"
      ]
     },
     "metadata": {},
     "output_type": "display_data"
    }
   ],
   "source": [
    "print_confusion_matrix(test_y, svc_preds[-1], zimmerman_contact_types)"
   ]
  },
  {
   "cell_type": "markdown",
   "metadata": {
    "slideshow": {
     "slide_type": "slide"
    }
   },
   "source": [
    "### AutoML confusion matrix"
   ]
  },
  {
   "cell_type": "code",
   "execution_count": 13,
   "metadata": {
    "slideshow": {
     "slide_type": "fragment"
    }
   },
   "outputs": [
    {
     "name": "stdout",
     "output_type": "stream",
     "text": [
      "Weight: 0.26, classifier: lda\n",
      "Weight: 0.12, classifier: random_forest\n",
      "Weight: 0.1, classifier: gradient_boosting\n",
      "Weight: 0.1, classifier: random_forest\n",
      "Weight: 0.1, classifier: gradient_boosting\n",
      "Weight: 0.08, classifier: gradient_boosting\n",
      "Weight: 0.06, classifier: lda\n",
      "Weight: 0.06, classifier: random_forest\n",
      "Weight: 0.04, classifier: sgd\n",
      "Weight: 0.04, classifier: extra_trees\n",
      "Weight: 0.02, classifier: extra_trees\n",
      "Weight: 0.02, classifier: random_forest\n"
     ]
    },
    {
     "data": {
      "text/html": [
       "<div>\n",
       "<style scoped>\n",
       "    .dataframe tbody tr th:only-of-type {\n",
       "        vertical-align: middle;\n",
       "    }\n",
       "\n",
       "    .dataframe tbody tr th {\n",
       "        vertical-align: top;\n",
       "    }\n",
       "\n",
       "    .dataframe thead th {\n",
       "        text-align: right;\n",
       "    }\n",
       "</style>\n",
       "<table border=\"1\" class=\"dataframe\">\n",
       "  <thead>\n",
       "    <tr style=\"text-align: right;\">\n",
       "      <th></th>\n",
       "      <th>p_work</th>\n",
       "      <th>p_social</th>\n",
       "      <th>p_family</th>\n",
       "    </tr>\n",
       "  </thead>\n",
       "  <tbody>\n",
       "    <tr>\n",
       "      <th>work</th>\n",
       "      <td>132</td>\n",
       "      <td>73</td>\n",
       "      <td>28</td>\n",
       "    </tr>\n",
       "    <tr>\n",
       "      <th>social</th>\n",
       "      <td>68</td>\n",
       "      <td>211</td>\n",
       "      <td>88</td>\n",
       "    </tr>\n",
       "    <tr>\n",
       "      <th>family</th>\n",
       "      <td>69</td>\n",
       "      <td>129</td>\n",
       "      <td>190</td>\n",
       "    </tr>\n",
       "  </tbody>\n",
       "</table>\n",
       "</div>"
      ],
      "text/plain": [
       "        p_work  p_social  p_family\n",
       "work       132        73        28\n",
       "social      68       211        88\n",
       "family      69       129       190"
      ]
     },
     "metadata": {},
     "output_type": "display_data"
    }
   ],
   "source": [
    "all_ensemble = automl_models[-1].get_models_with_weights()\n",
    "print_ensemble(all_ensemble)\n",
    "\n",
    "print_confusion_matrix(test_y, automl_preds[-1], zimmerman_contact_types)"
   ]
  }
 ],
 "metadata": {
  "celltoolbar": "Slideshow",
  "kernelspec": {
   "display_name": "Python 3",
   "language": "python",
   "name": "python3"
  },
  "language_info": {
   "codemirror_mode": {
    "name": "ipython",
    "version": 3
   },
   "file_extension": ".py",
   "mimetype": "text/x-python",
   "name": "python",
   "nbconvert_exporter": "python",
   "pygments_lexer": "ipython3",
   "version": "3.7.2"
  }
 },
 "nbformat": 4,
 "nbformat_minor": 2
}
