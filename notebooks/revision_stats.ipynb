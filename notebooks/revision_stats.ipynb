{
 "cells": [
  {
   "cell_type": "markdown",
   "metadata": {},
   "source": [
    "## Notebook setup"
   ]
  },
  {
   "cell_type": "code",
   "execution_count": 310,
   "metadata": {
    "slideshow": {
     "slide_type": "skip"
    }
   },
   "outputs": [],
   "source": [
    "%matplotlib inline\n",
    "\n",
    "import os,sys,inspect\n",
    "import pickle\n",
    "\n",
    "import matplotlib.pyplot as plt\n",
    "import seaborn as sns\n",
    "import numpy as np\n",
    "import pandas as pd\n",
    "import warnings\n",
    "\n",
    "import shap\n",
    "import autosklearn.metrics\n",
    "import sklearn.metrics as sk_metrics\n",
    "from sklearn.ensemble import RandomForestClassifier\n",
    "\n",
    "currentdir = os.path.dirname(os.path.abspath(inspect.getfile(inspect.currentframe())))\n",
    "parentdir = os.path.dirname(currentdir)\n",
    "sys.path.insert(0,parentdir) \n",
    "\n",
    "from model.model_util import *\n",
    "from model.stats_util import *\n",
    "warnings.filterwarnings('ignore')\n",
    "\n",
    "import statsmodels.api as sm\n",
    "from sklearn.utils import resample\n",
    "from statsmodels.nonparametric.smoothers_lowess import lowess"
   ]
  },
  {
   "cell_type": "code",
   "execution_count": 3,
   "metadata": {
    "slideshow": {
     "slide_type": "skip"
    }
   },
   "outputs": [
    {
     "data": {
      "text/html": [
       "\n",
       "<script>\n",
       "  function code_toggle() {\n",
       "    if (code_shown){\n",
       "      $('div.input').hide('500');\n",
       "      $('#toggleButton').val('Show Code')\n",
       "    } else {\n",
       "      $('div.input').show('500');\n",
       "      $('#toggleButton').val('Hide Code')\n",
       "    }\n",
       "    code_shown = !code_shown\n",
       "  }\n",
       "\n",
       "  $( document ).ready(function(){\n",
       "    code_shown=false;\n",
       "    $('div.input').hide()\n",
       "  });\n",
       "</script>\n",
       "<form action=\"javascript:code_toggle()\"><input type=\"submit\" id=\"toggleButton\" value=\"Show Code\"></form>\n"
      ],
      "text/plain": [
       "<IPython.core.display.HTML object>"
      ]
     },
     "execution_count": 3,
     "metadata": {},
     "output_type": "execute_result"
    }
   ],
   "source": [
    "# Code hider, source: http://chris-said.io/2016/02/13/how-to-make-polished-jupyter-presentations-with-optional-code-visibility/\n",
    "from IPython.display import HTML\n",
    "\n",
    "HTML('''\n",
    "<script>\n",
    "  function code_toggle() {\n",
    "    if (code_shown){\n",
    "      $('div.input').hide('500');\n",
    "      $('#toggleButton').val('Show Code')\n",
    "    } else {\n",
    "      $('div.input').show('500');\n",
    "      $('#toggleButton').val('Hide Code')\n",
    "    }\n",
    "    code_shown = !code_shown\n",
    "  }\n",
    "\n",
    "  $( document ).ready(function(){\n",
    "    code_shown=false;\n",
    "    $('div.input').hide()\n",
    "  });\n",
    "</script>\n",
    "<form action=\"javascript:code_toggle()\"><input type=\"submit\" id=\"toggleButton\" value=\"Show Code\"></form>\n",
    "''')"
   ]
  },
  {
   "cell_type": "code",
   "execution_count": 340,
   "metadata": {},
   "outputs": [],
   "source": [
    "# row has class condition: cols with accuracy, kappa, prec/recall\n",
    "def build_clf_results(test_y, preds):\n",
    "    \n",
    "    results = np.zeros((len(preds),len(metric_columns)))\n",
    "    \n",
    "    for idx, pred in enumerate(preds):\n",
    "        results[idx, 0] = sk_metrics.accuracy_score(test_y, pred)\n",
    "        results[idx, 1] = sk_metrics.balanced_accuracy_score(test_y, pred)\n",
    "        results[idx, 2] = sk_metrics.f1_score(test_y, pred, average='macro')\n",
    "        results[idx, 3] = sk_metrics.f1_score(test_y, pred, average='micro')\n",
    "        results[idx, 4] = sk_metrics.f1_score(test_y, pred, average='weighted')\n",
    "        \n",
    "    return results\n",
    "\n",
    "metric_columns = ['accuracy', 'balanced accuracy', 'macro f1', 'micro f1', 'weighted f1']\n",
    "\n",
    "def bootstrap_lowess(df, x_col, y_col, color, label, n_bootstraps=100, n_samples=100):\n",
    "\n",
    "    x_min = df[x_col].min()\n",
    "    x_max = df[x_col].max()\n",
    "    sample_y = np.zeros((n_bootstraps, n_samples))\n",
    "    sample_x = np.zeros((n_bootstraps, n_samples))\n",
    "\n",
    "\n",
    "    for i in range(n_bootstraps):\n",
    "        resampled_df = resample(df, n_samples=n_samples)\n",
    "        x = resampled_df[x_col]\n",
    "        y = resampled_df[y_col]\n",
    "\n",
    "        filtered = lowess(y, x, return_sorted=True, it=3)\n",
    "        sample_y[i, :] = filtered[:, 1]\n",
    "        sample_x[i, :] = filtered[:, 0]\n",
    "\n",
    "    plt.plot(np.linspace(x_min, x_max, n_samples), np.percentile(sample_y, 97.5, axis=0), color=color, ls='--')\n",
    "    plt.plot(np.linspace(x_min, x_max, n_samples), np.percentile(sample_y, 50, axis=0), color=color, label=label)\n",
    "    plt.plot(np.linspace(x_min, x_max, n_samples), np.percentile(sample_y, 2.5, axis=0), color=color, ls='--')\n",
    "    plt.legend()"
   ]
  },
  {
   "cell_type": "code",
   "execution_count": 32,
   "metadata": {},
   "outputs": [],
   "source": [
    "# load data\n",
    "\n",
    "# train features\n",
    "top5_all_sb_train_data = pickle.load(open('../data/final_sandbox/top5_all_train_features.df', 'rb'))\n",
    "top5_all_sb_test_data = pickle.load(open('../data/final_sandbox/top5_all_test_features.df', 'rb'))\n",
    "\n",
    "age_qlabels = [\"age_q\" + str(x) for x in range(1,5)]\n",
    "top5_all_data = pd.concat([top5_all_sb_train_data, top5_all_sb_test_data], axis=0)\n",
    "top5_all_data['ego_age_q'], bins = pd.qcut(top5_all_data['ego_age'], q=4, labels=age_qlabels, retbins=True)"
   ]
  },
  {
   "cell_type": "code",
   "execution_count": null,
   "metadata": {
    "slideshow": {
     "slide_type": "skip"
    }
   },
   "outputs": [],
   "source": [
    "# old data\n",
    "# with open(\"../data/top5_final.df\", \"rb\") as raw_file:\n",
    "#     top_5_raw_df = pickle.load(raw_file)\n",
    "    \n",
    "# with open(\"../data/all_contacts_final.df\", \"rb\") as raw_file:\n",
    "#     all_raw_df = pickle.load(raw_file)\n",
    "\n",
    "# with open('../data/demographics.df', 'rb') as demo_file:\n",
    "#     demo_df = pickle.load(demo_file)\n",
    "# demo_cols = ['pid', 'age', 'gender', 'education', 'employment', 'live_together', 'race', 'ethnicity', 'marital_status']"
   ]
  },
  {
   "cell_type": "markdown",
   "metadata": {
    "slideshow": {
     "slide_type": "slide"
    }
   },
   "source": [
    "# Estimating Relationships and their Meaning from Phone Data: Paper statistics"
   ]
  },
  {
   "cell_type": "markdown",
   "metadata": {
    "heading_collapsed": true,
    "slideshow": {
     "slide_type": "slide"
    }
   },
   "source": [
    "## Survey data: contact type"
   ]
  },
  {
   "cell_type": "markdown",
   "metadata": {
    "hidden": true
   },
   "source": [
    "|Question/measure label | Response range|\n",
    "|-|-|\n",
    "|contact_type |\t{Significant Other, Friend, Family Member You Live With, Family Member You Don't Live With, Colleague/Work-Related, Task (e.g. Make an Appointment, Reservation, etc.), Other}|\n",
    "|want_question |\t{1 (Not At All), 2, 3, 4 (Some), 5, 6, 7 (Extremely Close)}|\n",
    "|talk_question |\t{1 (Strongly Disagree), 2 (Disagree), 3 (Somewhat Disagree), 4 (Neither Agree Or Disagree), 5 (Somewhat Agree), 6 (Agree), 7 (Strongly Agree)}|\n",
    "|loan_question |\t{1 (Strongly Disagree), 2 (Disagree), 3 (Somewhat Disagree), 4 (Neither Agree Or Disagree), 5 (Somewhat Agree), 6 (Agree), 7 (Strongly Agree)} |\n",
    "|closeness |\t{1 (Not At All), 2, 3, 4 (Some), 5, 6, 7 (Extremely Close)} |"
   ]
  },
  {
   "cell_type": "code",
   "execution_count": 5,
   "metadata": {
    "hidden": true
   },
   "outputs": [
    {
     "name": "stdout",
     "output_type": "stream",
     "text": [
      "337480 total SMS\n",
      "49872 total calls\n",
      "All contact type counts\n"
     ]
    },
    {
     "data": {
      "text/html": [
       "<div>\n",
       "<style scoped>\n",
       "    .dataframe tbody tr th:only-of-type {\n",
       "        vertical-align: middle;\n",
       "    }\n",
       "\n",
       "    .dataframe tbody tr th {\n",
       "        vertical-align: top;\n",
       "    }\n",
       "\n",
       "    .dataframe thead th {\n",
       "        text-align: right;\n",
       "    }\n",
       "</style>\n",
       "<table border=\"1\" class=\"dataframe\">\n",
       "  <thead>\n",
       "    <tr style=\"text-align: right;\">\n",
       "      <th></th>\n",
       "      <th>comm_direction</th>\n",
       "    </tr>\n",
       "    <tr>\n",
       "      <th>contact_type</th>\n",
       "      <th></th>\n",
       "    </tr>\n",
       "  </thead>\n",
       "  <tbody>\n",
       "    <tr>\n",
       "      <th>family_live_separate</th>\n",
       "      <td>1227</td>\n",
       "    </tr>\n",
       "    <tr>\n",
       "      <th>family_live_together</th>\n",
       "      <td>317</td>\n",
       "    </tr>\n",
       "    <tr>\n",
       "      <th>friend</th>\n",
       "      <td>1738</td>\n",
       "    </tr>\n",
       "    <tr>\n",
       "      <th>other</th>\n",
       "      <td>1925</td>\n",
       "    </tr>\n",
       "    <tr>\n",
       "      <th>sig_other</th>\n",
       "      <td>288</td>\n",
       "    </tr>\n",
       "    <tr>\n",
       "      <th>task</th>\n",
       "      <td>2231</td>\n",
       "    </tr>\n",
       "    <tr>\n",
       "      <th>work</th>\n",
       "      <td>1186</td>\n",
       "    </tr>\n",
       "  </tbody>\n",
       "</table>\n",
       "</div>"
      ],
      "text/plain": [
       "                      comm_direction\n",
       "contact_type                        \n",
       "family_live_separate            1227\n",
       "family_live_together             317\n",
       "friend                          1738\n",
       "other                           1925\n",
       "sig_other                        288\n",
       "task                            2231\n",
       "work                            1186"
      ]
     },
     "execution_count": 5,
     "metadata": {},
     "output_type": "execute_result"
    }
   ],
   "source": [
    "print(\"{} total SMS\".format(all_raw_df.loc[all_raw_df['comm_type'] == 'SMS'].shape[0]))\n",
    "\n",
    "print(\"{} total calls\".format(all_raw_df.loc[all_raw_df['comm_type'] == 'PHONE'].shape[0]))\n",
    "\n",
    "print(\"All contact type counts\")\n",
    "all_raw_df.drop_duplicates('combined_hash').groupby('contact_type').count()[['comm_direction']]"
   ]
  },
  {
   "cell_type": "code",
   "execution_count": 6,
   "metadata": {
    "hidden": true
   },
   "outputs": [
    {
     "name": "stdout",
     "output_type": "stream",
     "text": [
      "Contacts per participant\n"
     ]
    },
    {
     "data": {
      "text/plain": [
       "count    200.000000\n",
       "mean      44.560000\n",
       "std       26.978614\n",
       "min        1.000000\n",
       "25%       25.000000\n",
       "50%       37.500000\n",
       "75%       58.000000\n",
       "max      159.000000\n",
       "Name: combined_hash, dtype: float64"
      ]
     },
     "execution_count": 6,
     "metadata": {},
     "output_type": "execute_result"
    }
   ],
   "source": [
    "print(\"Contacts per participant\")\n",
    "all_raw_df.groupby(\"pid\")['combined_hash'].nunique().describe()"
   ]
  },
  {
   "cell_type": "code",
   "execution_count": 7,
   "metadata": {
    "hidden": true,
    "scrolled": false,
    "slideshow": {
     "slide_type": "subslide"
    }
   },
   "outputs": [
    {
     "data": {
      "image/png": "[encoded data removed]",
      "text/plain": [
       "<Figure size 576x576 with 1 Axes>"
      ]
     },
     "metadata": {},
     "output_type": "display_data"
    }
   ],
   "source": [
    "all_types = all_raw_df.loc[all_raw_df['contact_type'] != 'other']\n",
    "all_types = all_types.drop_duplicates('combined_hash').groupby('contact_type').count()\n",
    "all_types.plot.pie('comm_type', autopct='%.2f', figsize=(8,8))\n",
    "plt.title('% of contact types among all labelled contacts (excluding other)')\n",
    "plt.legend(loc='lower center')\n",
    "plt.ylabel(\"\")\n",
    "plt.show()"
   ]
  },
  {
   "cell_type": "code",
   "execution_count": 8,
   "metadata": {
    "hidden": true,
    "slideshow": {
     "slide_type": "subslide"
    }
   },
   "outputs": [
    {
     "data": {
      "image/png": "[encoded data removed]",
      "text/plain": [
       "<Figure size 576x576 with 1 Axes>"
      ]
     },
     "metadata": {},
     "output_type": "display_data"
    }
   ],
   "source": [
    "top_types = top_5_raw_df.drop_duplicates('combined_hash').groupby('contact_type').count()\n",
    "top_types.plot.pie('comm_type', autopct='%.2f', figsize=(8,8))\n",
    "plt.title('% of contact types among top 5 contacts per participant')\n",
    "plt.legend(loc='lower left')\n",
    "plt.ylabel(\"\")\n",
    "plt.show()"
   ]
  },
  {
   "cell_type": "code",
   "execution_count": 9,
   "metadata": {
    "hidden": true
   },
   "outputs": [],
   "source": [
    "top_count = 5\n",
    "contact_counts = all_raw_df.groupby(['pid'])['combined_hash'].nunique()\n",
    "drop_contacts = contact_counts.loc[(contact_counts < top_count)].index\n",
    "coe_contact = all_raw_df.loc[~all_raw_df['pid'].isin(drop_contacts)]\n",
    "\n",
    "coe_contact_top = all_raw_df.groupby(['pid', 'combined_hash']).count()\n",
    "g = coe_contact_top['comm_direction'].groupby(level=0, group_keys=False)\n",
    "top_hashes = g.nlargest(top_count).index.to_frame()['combined_hash'].values\n",
    "top_contacts = all_raw_df.loc[all_raw_df['combined_hash'].isin(top_hashes)]"
   ]
  },
  {
   "cell_type": "code",
   "execution_count": 10,
   "metadata": {
    "hidden": true
   },
   "outputs": [],
   "source": [
    "#top_contacts.drop_duplicates('combined_hash').groupby('contact_type').count()"
   ]
  },
  {
   "cell_type": "code",
   "execution_count": 11,
   "metadata": {
    "hidden": true
   },
   "outputs": [
    {
     "name": "stdout",
     "output_type": "stream",
     "text": [
      "Top five contact type counts\n"
     ]
    },
    {
     "data": {
      "text/html": [
       "<div>\n",
       "<style scoped>\n",
       "    .dataframe tbody tr th:only-of-type {\n",
       "        vertical-align: middle;\n",
       "    }\n",
       "\n",
       "    .dataframe tbody tr th {\n",
       "        vertical-align: top;\n",
       "    }\n",
       "\n",
       "    .dataframe thead th {\n",
       "        text-align: right;\n",
       "    }\n",
       "</style>\n",
       "<table border=\"1\" class=\"dataframe\">\n",
       "  <thead>\n",
       "    <tr style=\"text-align: right;\">\n",
       "      <th></th>\n",
       "      <th>comm_type</th>\n",
       "    </tr>\n",
       "    <tr>\n",
       "      <th>contact_type</th>\n",
       "      <th></th>\n",
       "    </tr>\n",
       "  </thead>\n",
       "  <tbody>\n",
       "    <tr>\n",
       "      <th>family_live_separate</th>\n",
       "      <td>254</td>\n",
       "    </tr>\n",
       "    <tr>\n",
       "      <th>family_live_together</th>\n",
       "      <td>101</td>\n",
       "    </tr>\n",
       "    <tr>\n",
       "      <th>friend</th>\n",
       "      <td>314</td>\n",
       "    </tr>\n",
       "    <tr>\n",
       "      <th>sig_other</th>\n",
       "      <td>117</td>\n",
       "    </tr>\n",
       "    <tr>\n",
       "      <th>task</th>\n",
       "      <td>84</td>\n",
       "    </tr>\n",
       "    <tr>\n",
       "      <th>work</th>\n",
       "      <td>75</td>\n",
       "    </tr>\n",
       "  </tbody>\n",
       "</table>\n",
       "</div>"
      ],
      "text/plain": [
       "                      comm_type\n",
       "contact_type                   \n",
       "family_live_separate        254\n",
       "family_live_together        101\n",
       "friend                      314\n",
       "sig_other                   117\n",
       "task                         84\n",
       "work                         75"
      ]
     },
     "metadata": {},
     "output_type": "display_data"
    }
   ],
   "source": [
    "print(\"Top five contact type counts\")\n",
    "display(top_types[['comm_type']])"
   ]
  },
  {
   "cell_type": "markdown",
   "metadata": {
    "heading_collapsed": true,
    "slideshow": {
     "slide_type": "slide"
    }
   },
   "source": [
    "## Results: Six-class relationship prediction"
   ]
  },
  {
   "cell_type": "code",
   "execution_count": 12,
   "metadata": {
    "hidden": true
   },
   "outputs": [],
   "source": [
    "metric_columns = ['accuracy', 'balanced accuracy', 'macro f1', 'weighted f1']\n",
    "\n",
    "\n",
    "# row has class condition: cols with accuracy, kappa, prec/recall\n",
    "def build_clf_results(test_y, preds):\n",
    "    \n",
    "    results = np.zeros((len(preds),len(metric_columns)))\n",
    "    \n",
    "    for idx, pred in enumerate(preds):\n",
    "        results[idx, 0] = sk_metrics.accuracy_score(test_y, pred)\n",
    "        results[idx, 1] = sk_metrics.balanced_accuracy_score(test_y, pred)\n",
    "        results[idx, 2] = sk_metrics.f1_score(test_y, pred, average='macro')\n",
    "        results[idx, 3] = sk_metrics.f1_score(test_y, pred, average='weighted')\n",
    "        \n",
    "    return results\n",
    "\n",
    "# load default data\n",
    "replace_dict = {\n",
    "    'contact_type': {\n",
    "        \"work\": 0,\n",
    "        \"friend\": 1,\n",
    "        \"task\": 2,\n",
    "        \"family_live_separate\": 3,\n",
    "        \"family_live_together\": 4,\n",
    "        \"sig_other\": 5\n",
    "    }\n",
    "}\n",
    "\n",
    "contact_types = list(replace_dict['contact_type'].keys())\n",
    "\n",
    "# load data\n",
    "top_5_baseline_train = pickle.load(open('../data/rd2_features/top_5_baseline_train_features.df', 'rb'))\n",
    "top_5_baseline_test =  pickle.load(open('../data/rd2_features/top_5_baseline_test_features.df', 'rb'))\n",
    "\n",
    "train_data = top_5_baseline_train.replace(replace_dict)\n",
    "test_data = top_5_baseline_test.replace(replace_dict)\n",
    "\n",
    "train_y = train_data['contact_type']\n",
    "train_X = train_data.drop(['contact_type', 'pid', 'combined_hash'], axis=1)\n",
    "test_y = test_data['contact_type']\n",
    "test_X = test_data.drop(['contact_type', 'pid', 'combined_hash'], axis=1)\n",
    "\n",
    "features = ['baseline', 'age_gender', 'demo', 'all']\n",
    "preds_6clf = []\n",
    "idx_6clf = []\n",
    "\n",
    "# add majority baseline\n",
    "majority_baseline = [1] * len(test_y)\n",
    "preds_6clf.append(majority_baseline)\n",
    "idx_6clf.append(\"majority baseline\")\n",
    "\n",
    "# load predictions\n",
    "for feat in features:\n",
    "    with open(\"../model/rand_forest_top_5_{}_contact_type.predict\".format(feat), 'rb') as pred_file:\n",
    "        preds_6clf.append(pickle.load(pred_file))\n",
    "        idx_6clf.append(feat + \" RF\")\n",
    "        \n",
    "for feat in features:\n",
    "    with open(\"../model/final_results/top5/top5_{}_automl_6clf_final.predict\".format(feat), 'rb') as pred_file:\n",
    "        preds_6clf.append(pickle.load(pred_file))\n",
    "        idx_6clf.append(feat + \" AutoML\")"
   ]
  },
  {
   "cell_type": "code",
   "execution_count": 13,
   "metadata": {
    "hidden": true
   },
   "outputs": [
    {
     "data": {
      "text/html": [
       "<div>\n",
       "<style scoped>\n",
       "    .dataframe tbody tr th:only-of-type {\n",
       "        vertical-align: middle;\n",
       "    }\n",
       "\n",
       "    .dataframe tbody tr th {\n",
       "        vertical-align: top;\n",
       "    }\n",
       "\n",
       "    .dataframe thead th {\n",
       "        text-align: right;\n",
       "    }\n",
       "</style>\n",
       "<table border=\"1\" class=\"dataframe\">\n",
       "  <thead>\n",
       "    <tr style=\"text-align: right;\">\n",
       "      <th></th>\n",
       "      <th>accuracy</th>\n",
       "      <th>balanced accuracy</th>\n",
       "      <th>macro f1</th>\n",
       "      <th>weighted f1</th>\n",
       "    </tr>\n",
       "  </thead>\n",
       "  <tbody>\n",
       "    <tr>\n",
       "      <th>majority baseline</th>\n",
       "      <td>0.3381</td>\n",
       "      <td>0.1667</td>\n",
       "      <td>0.0842</td>\n",
       "      <td>0.1709</td>\n",
       "    </tr>\n",
       "    <tr>\n",
       "      <th>baseline RF</th>\n",
       "      <td>0.4000</td>\n",
       "      <td>0.2994</td>\n",
       "      <td>0.2899</td>\n",
       "      <td>0.3559</td>\n",
       "    </tr>\n",
       "    <tr>\n",
       "      <th>age_gender RF</th>\n",
       "      <td>0.4476</td>\n",
       "      <td>0.3543</td>\n",
       "      <td>0.3627</td>\n",
       "      <td>0.4123</td>\n",
       "    </tr>\n",
       "    <tr>\n",
       "      <th>demo RF</th>\n",
       "      <td>0.4476</td>\n",
       "      <td>0.3330</td>\n",
       "      <td>0.3291</td>\n",
       "      <td>0.3905</td>\n",
       "    </tr>\n",
       "    <tr>\n",
       "      <th>all RF</th>\n",
       "      <td>0.4333</td>\n",
       "      <td>0.3733</td>\n",
       "      <td>0.3577</td>\n",
       "      <td>0.4106</td>\n",
       "    </tr>\n",
       "    <tr>\n",
       "      <th>baseline AutoML</th>\n",
       "      <td>0.4524</td>\n",
       "      <td>0.3617</td>\n",
       "      <td>0.3534</td>\n",
       "      <td>0.4113</td>\n",
       "    </tr>\n",
       "    <tr>\n",
       "      <th>age_gender AutoML</th>\n",
       "      <td>0.4619</td>\n",
       "      <td>0.4150</td>\n",
       "      <td>0.4294</td>\n",
       "      <td>0.4523</td>\n",
       "    </tr>\n",
       "    <tr>\n",
       "      <th>demo AutoML</th>\n",
       "      <td>0.4571</td>\n",
       "      <td>0.3818</td>\n",
       "      <td>0.3926</td>\n",
       "      <td>0.4344</td>\n",
       "    </tr>\n",
       "    <tr>\n",
       "      <th>all AutoML</th>\n",
       "      <td>0.4619</td>\n",
       "      <td>0.4178</td>\n",
       "      <td>0.4261</td>\n",
       "      <td>0.4517</td>\n",
       "    </tr>\n",
       "  </tbody>\n",
       "</table>\n",
       "</div>"
      ],
      "text/plain": [
       "                   accuracy  balanced accuracy  macro f1  weighted f1\n",
       "majority baseline    0.3381             0.1667    0.0842       0.1709\n",
       "baseline RF          0.4000             0.2994    0.2899       0.3559\n",
       "age_gender RF        0.4476             0.3543    0.3627       0.4123\n",
       "demo RF              0.4476             0.3330    0.3291       0.3905\n",
       "all RF               0.4333             0.3733    0.3577       0.4106\n",
       "baseline AutoML      0.4524             0.3617    0.3534       0.4113\n",
       "age_gender AutoML    0.4619             0.4150    0.4294       0.4523\n",
       "demo AutoML          0.4571             0.3818    0.3926       0.4344\n",
       "all AutoML           0.4619             0.4178    0.4261       0.4517"
      ]
     },
     "metadata": {},
     "output_type": "display_data"
    },
    {
     "name": "stdout",
     "output_type": "stream",
     "text": [
      "\\begin{tabular}{lrrrr}\n",
      "\\toprule\n",
      "{} &  accuracy &  balanced accuracy &  macro f1 &  weighted f1 \\\\\n",
      "\\midrule\n",
      "majority baseline &    0.3381 &             0.1667 &    0.0842 &       0.1709 \\\\\n",
      "baseline RF       &    0.4000 &             0.2994 &    0.2899 &       0.3559 \\\\\n",
      "age\\_gender RF     &    0.4476 &             0.3543 &    0.3627 &       0.4123 \\\\\n",
      "demo RF           &    0.4476 &             0.3330 &    0.3291 &       0.3905 \\\\\n",
      "all RF            &    0.4333 &             0.3733 &    0.3577 &       0.4106 \\\\\n",
      "baseline AutoML   &    0.4524 &             0.3617 &    0.3534 &       0.4113 \\\\\n",
      "age\\_gender AutoML &    0.4619 &             0.4150 &    0.4294 &       0.4523 \\\\\n",
      "demo AutoML       &    0.4571 &             0.3818 &    0.3926 &       0.4344 \\\\\n",
      "all AutoML        &    0.4619 &             0.4178 &    0.4261 &       0.4517 \\\\\n",
      "\\bottomrule\n",
      "\\end{tabular}\n",
      "\n"
     ]
    }
   ],
   "source": [
    "metrics_6clf = build_clf_results(test_y, preds_6clf)\n",
    "result_df = pd.DataFrame(metrics_6clf,index=idx_6clf, columns=metric_columns)\n",
    "pd.options.display.float_format = '{:,.4f}'.format\n",
    "\n",
    "display(result_df)\n",
    "print(result_df.to_latex())"
   ]
  },
  {
   "cell_type": "code",
   "execution_count": 15,
   "metadata": {
    "hidden": true,
    "slideshow": {
     "slide_type": "fragment"
    }
   },
   "outputs": [
    {
     "name": "stderr",
     "output_type": "stream",
     "text": [
      "[WARNING] [11:57:36:autosklearn.util.backend] Could not delete output dir: /tmp/autosklearn_output_25398_449\n",
      "[WARNING] [11:57:36:autosklearn.util.backend] Could not delete tmp dir: /tmp/autosklearn_tmp_25398_449\n"
     ]
    },
    {
     "name": "stdout",
     "output_type": "stream",
     "text": [
      "Weight: 0.5800000000000001, classifier: adaboost\n",
      "Weight: 0.08000000000000002, classifier: lda\n",
      "Weight: 0.04000000000000001, classifier: gradient_boosting\n",
      "Weight: 0.04000000000000001, classifier: multinomial_nb\n",
      "Weight: 0.04000000000000001, classifier: xgradient_boosting\n",
      "Weight: 0.020000000000000004, classifier: gradient_boosting\n",
      "Weight: 0.020000000000000004, classifier: gradient_boosting\n",
      "Weight: 0.020000000000000004, classifier: gradient_boosting\n",
      "Weight: 0.020000000000000004, classifier: gradient_boosting\n",
      "Weight: 0.020000000000000004, classifier: gradient_boosting\n",
      "Weight: 0.020000000000000004, classifier: gradient_boosting\n",
      "Weight: 0.020000000000000004, classifier: extra_trees\n",
      "Weight: 0.020000000000000004, classifier: random_forest\n",
      "Weight: 0.020000000000000004, classifier: lda\n",
      "Weight: 0.020000000000000004, classifier: random_forest\n",
      "Weight: 0.020000000000000004, classifier: adaboost\n"
     ]
    }
   ],
   "source": [
    "all_automl_6clf = pickle.load(open(\"../model/final_results/top5/top5_all_automl_6clf_final.automl\", \"rb\"))\n",
    "all_ensemble = all_automl_6clf.get_models_with_weights()\n",
    "print_ensemble(all_ensemble)"
   ]
  },
  {
   "cell_type": "code",
   "execution_count": null,
   "metadata": {
    "hidden": true,
    "slideshow": {
     "slide_type": "fragment"
    }
   },
   "outputs": [],
   "source": [
    "types_abbrv = ['W', 'F', 'T', 'FLS', 'FLT', 'SO']\n",
    "print(contact_types)\n",
    "print(collections.Counter(test_y))\n",
    "print(collections.Counter(automl_preds[-1]))\n",
    "\n",
    "confuse_df = print_confusion_matrix(test_y, preds_6clf[-3], types_abbrv)"
   ]
  },
  {
   "cell_type": "code",
   "execution_count": null,
   "metadata": {
    "hidden": true,
    "scrolled": true
   },
   "outputs": [],
   "source": [
    "print(confuse_df.to_latex())"
   ]
  },
  {
   "cell_type": "markdown",
   "metadata": {
    "heading_collapsed": true
   },
   "source": [
    "## Results: Four-class relationship prediction"
   ]
  },
  {
   "cell_type": "code",
   "execution_count": 27,
   "metadata": {
    "hidden": true
   },
   "outputs": [],
   "source": [
    "replace_dict_4clf = {\n",
    "    'contact_type': {\n",
    "        \"work\": 0,\n",
    "        \"friend\": 1,\n",
    "        \"family_live_separate\": 1,\n",
    "        \"task\": 2,\n",
    "        \"family_live_together\": 3,\n",
    "        \"sig_other\": 3\n",
    "    }\n",
    "}\n",
    "\n",
    "\n",
    "predict_targets = [\n",
    "    'contact_type',\n",
    "    'q1_want',\n",
    "    'q2_talk',\n",
    "    'q3_loan',\n",
    "    'q4_closeness'\n",
    "]\n",
    "\n",
    "\n",
    "#train_data_4clf = top_5_baseline_train.replace(replace_dict_4clf)\n",
    "#test_data_4clf = top_5_baseline_test.replace(replace_dict_4clf)\n",
    "\n",
    "#test_y_4clf = test_data_4clf['contact_type']\n",
    "\n",
    "# load the results\n",
    "preds_4clf = []\n",
    "idx_4clf = []\n",
    "data_4clf = []\n",
    "\n",
    "# majority prediction\n",
    "majority_baseline = [1] * len(test_y_4clf)\n",
    "preds_4clf.append(majority_baseline)\n",
    "idx_4clf.append(\"majority baseline\")\n",
    "data_4clf.append(\"N/A\")\n",
    "\n",
    "features = ['baseline', 'age_gender', 'demo', 'all']\n",
    "\n",
    "for feat in features:\n",
    "    with open(\"../model/rd3_results/top_5_contact_type_{}_rf_short.predict\".format(feat), 'rb') as pred_file:\n",
    "        preds_4clf.append(pickle.load(pred_file))\n",
    "        idx_4clf.append(\"Random forest\")\n",
    "        data_4clf.append(feat)\n",
    "\n",
    "with open(\"../model/rd3_results/top_5_contact_type_all_long.predict\", 'rb') as pred_file:\n",
    "    preds_4clf.append(pickle.load(pred_file))\n",
    "    idx_4clf.append(\"AutoML\")\n",
    "    data_4clf.append(\"all\")       \n",
    "\n",
    "with open(\"../model/rd3_results/top5_ag_only.predict\", 'rb') as pred_file:\n",
    "    preds_4clf.append(pickle.load(pred_file))\n",
    "    idx_4clf.append(\"AutoML\")\n",
    "    data_4clf.append(\"age/gender only\")           \n",
    "    \n",
    "for feat in features[:-1]:\n",
    "    with open(\"../model/rd3_results/top_5_contact_type_{}.predict\".format(feat), 'rb') as pred_file:\n",
    "        preds_4clf.append(pickle.load(pred_file))\n",
    "        idx_4clf.append(\"AutoML\")\n",
    "        data_4clf.append(feat)\n",
    "\n",
    "with open(\"../model/rd3_results/top_5_contact_type_all_long.predict\", 'rb') as pred_file:\n",
    "    preds_4clf.append(pickle.load(pred_file))\n",
    "    idx_4clf.append(\"AutoML\")\n",
    "    data_4clf.append(\"all\")       "
   ]
  },
  {
   "cell_type": "code",
   "execution_count": 28,
   "metadata": {
    "hidden": true
   },
   "outputs": [
    {
     "data": {
      "text/html": [
       "<div>\n",
       "<style scoped>\n",
       "    .dataframe tbody tr th:only-of-type {\n",
       "        vertical-align: middle;\n",
       "    }\n",
       "\n",
       "    .dataframe tbody tr th {\n",
       "        vertical-align: top;\n",
       "    }\n",
       "\n",
       "    .dataframe thead th {\n",
       "        text-align: right;\n",
       "    }\n",
       "</style>\n",
       "<table border=\"1\" class=\"dataframe\">\n",
       "  <thead>\n",
       "    <tr style=\"text-align: right;\">\n",
       "      <th></th>\n",
       "      <th>model</th>\n",
       "      <th>features</th>\n",
       "      <th>accuracy</th>\n",
       "      <th>balanced accuracy</th>\n",
       "      <th>macro f1</th>\n",
       "      <th>micro f1</th>\n",
       "      <th>weighted f1</th>\n",
       "    </tr>\n",
       "  </thead>\n",
       "  <tbody>\n",
       "    <tr>\n",
       "      <th>0</th>\n",
       "      <td>majority baseline</td>\n",
       "      <td>N/A</td>\n",
       "      <td>0.5714</td>\n",
       "      <td>0.2500</td>\n",
       "      <td>0.1818</td>\n",
       "      <td>0.5714</td>\n",
       "      <td>0.4156</td>\n",
       "    </tr>\n",
       "    <tr>\n",
       "      <th>1</th>\n",
       "      <td>Random forest</td>\n",
       "      <td>baseline</td>\n",
       "      <td>0.6667</td>\n",
       "      <td>0.4590</td>\n",
       "      <td>0.4795</td>\n",
       "      <td>0.6667</td>\n",
       "      <td>0.6254</td>\n",
       "    </tr>\n",
       "    <tr>\n",
       "      <th>2</th>\n",
       "      <td>Random forest</td>\n",
       "      <td>age_gender</td>\n",
       "      <td>0.6667</td>\n",
       "      <td>0.4566</td>\n",
       "      <td>0.4750</td>\n",
       "      <td>0.6667</td>\n",
       "      <td>0.6225</td>\n",
       "    </tr>\n",
       "    <tr>\n",
       "      <th>3</th>\n",
       "      <td>Random forest</td>\n",
       "      <td>demo</td>\n",
       "      <td>0.6667</td>\n",
       "      <td>0.4369</td>\n",
       "      <td>0.4598</td>\n",
       "      <td>0.6667</td>\n",
       "      <td>0.6213</td>\n",
       "    </tr>\n",
       "    <tr>\n",
       "      <th>4</th>\n",
       "      <td>Random forest</td>\n",
       "      <td>all</td>\n",
       "      <td>0.6762</td>\n",
       "      <td>0.4546</td>\n",
       "      <td>0.4744</td>\n",
       "      <td>0.6762</td>\n",
       "      <td>0.6326</td>\n",
       "    </tr>\n",
       "    <tr>\n",
       "      <th>5</th>\n",
       "      <td>AutoML</td>\n",
       "      <td>all</td>\n",
       "      <td>0.7095</td>\n",
       "      <td>0.5221</td>\n",
       "      <td>0.5519</td>\n",
       "      <td>0.7095</td>\n",
       "      <td>0.6806</td>\n",
       "    </tr>\n",
       "    <tr>\n",
       "      <th>6</th>\n",
       "      <td>AutoML</td>\n",
       "      <td>age/gender only</td>\n",
       "      <td>0.5714</td>\n",
       "      <td>0.2500</td>\n",
       "      <td>0.1818</td>\n",
       "      <td>0.5714</td>\n",
       "      <td>0.4156</td>\n",
       "    </tr>\n",
       "    <tr>\n",
       "      <th>7</th>\n",
       "      <td>AutoML</td>\n",
       "      <td>baseline</td>\n",
       "      <td>0.6571</td>\n",
       "      <td>0.4598</td>\n",
       "      <td>0.4731</td>\n",
       "      <td>0.6571</td>\n",
       "      <td>0.6195</td>\n",
       "    </tr>\n",
       "    <tr>\n",
       "      <th>8</th>\n",
       "      <td>AutoML</td>\n",
       "      <td>age_gender</td>\n",
       "      <td>0.6905</td>\n",
       "      <td>0.5310</td>\n",
       "      <td>0.5488</td>\n",
       "      <td>0.6905</td>\n",
       "      <td>0.6654</td>\n",
       "    </tr>\n",
       "    <tr>\n",
       "      <th>9</th>\n",
       "      <td>AutoML</td>\n",
       "      <td>demo</td>\n",
       "      <td>0.7095</td>\n",
       "      <td>0.5344</td>\n",
       "      <td>0.5598</td>\n",
       "      <td>0.7095</td>\n",
       "      <td>0.6775</td>\n",
       "    </tr>\n",
       "    <tr>\n",
       "      <th>10</th>\n",
       "      <td>AutoML</td>\n",
       "      <td>all</td>\n",
       "      <td>0.7095</td>\n",
       "      <td>0.5221</td>\n",
       "      <td>0.5519</td>\n",
       "      <td>0.7095</td>\n",
       "      <td>0.6806</td>\n",
       "    </tr>\n",
       "  </tbody>\n",
       "</table>\n",
       "</div>"
      ],
      "text/plain": [
       "                model         features  accuracy  balanced accuracy  macro f1  \\\n",
       "0   majority baseline              N/A    0.5714             0.2500    0.1818   \n",
       "1       Random forest         baseline    0.6667             0.4590    0.4795   \n",
       "2       Random forest       age_gender    0.6667             0.4566    0.4750   \n",
       "3       Random forest             demo    0.6667             0.4369    0.4598   \n",
       "4       Random forest              all    0.6762             0.4546    0.4744   \n",
       "5              AutoML              all    0.7095             0.5221    0.5519   \n",
       "6              AutoML  age/gender only    0.5714             0.2500    0.1818   \n",
       "7              AutoML         baseline    0.6571             0.4598    0.4731   \n",
       "8              AutoML       age_gender    0.6905             0.5310    0.5488   \n",
       "9              AutoML             demo    0.7095             0.5344    0.5598   \n",
       "10             AutoML              all    0.7095             0.5221    0.5519   \n",
       "\n",
       "    micro f1  weighted f1  \n",
       "0     0.5714       0.4156  \n",
       "1     0.6667       0.6254  \n",
       "2     0.6667       0.6225  \n",
       "3     0.6667       0.6213  \n",
       "4     0.6762       0.6326  \n",
       "5     0.7095       0.6806  \n",
       "6     0.5714       0.4156  \n",
       "7     0.6571       0.6195  \n",
       "8     0.6905       0.6654  \n",
       "9     0.7095       0.6775  \n",
       "10    0.7095       0.6806  "
      ]
     },
     "metadata": {},
     "output_type": "display_data"
    },
    {
     "name": "stdout",
     "output_type": "stream",
     "text": [
      "\\begin{tabular}{llrrrrr}\n",
      "\\toprule\n",
      "             model &         features &  accuracy &  balanced accuracy &  macro f1 &  micro f1 &  weighted f1 \\\\\n",
      "\\midrule\n",
      " majority baseline &              N/A &    0.5714 &             0.2500 &    0.1818 &    0.5714 &       0.4156 \\\\\n",
      "     Random forest &         baseline &    0.6667 &             0.4590 &    0.4795 &    0.6667 &       0.6254 \\\\\n",
      "     Random forest &       age\\_gender &    0.6667 &             0.4566 &    0.4750 &    0.6667 &       0.6225 \\\\\n",
      "     Random forest &             demo &    0.6667 &             0.4369 &    0.4598 &    0.6667 &       0.6213 \\\\\n",
      "     Random forest &              all &    0.6762 &             0.4546 &    0.4744 &    0.6762 &       0.6326 \\\\\n",
      "            AutoML &              all &    0.7095 &             0.5221 &    0.5519 &    0.7095 &       0.6806 \\\\\n",
      "            AutoML &  age/gender only &    0.5714 &             0.2500 &    0.1818 &    0.5714 &       0.4156 \\\\\n",
      "            AutoML &         baseline &    0.6571 &             0.4598 &    0.4731 &    0.6571 &       0.6195 \\\\\n",
      "            AutoML &       age\\_gender &    0.6905 &             0.5310 &    0.5488 &    0.6905 &       0.6654 \\\\\n",
      "            AutoML &             demo &    0.7095 &             0.5344 &    0.5598 &    0.7095 &       0.6775 \\\\\n",
      "            AutoML &              all &    0.7095 &             0.5221 &    0.5519 &    0.7095 &       0.6806 \\\\\n",
      "\\bottomrule\n",
      "\\end{tabular}\n",
      "\n"
     ]
    }
   ],
   "source": [
    "from collections import Counter\n",
    "metrics_4clf = build_clf_results(test_y_4clf, preds_4clf)\n",
    "results_4clf = pd.DataFrame(metrics_4clf, columns=metric_columns)\n",
    "\n",
    "results_4clf = pd.concat([pd.Series(idx_4clf, name='model'),\n",
    "                          pd.Series(data_4clf, name='features'),\n",
    "                          results_4clf], axis=1)\n",
    "pd.options.display.float_format = '{:,.4f}'.format\n",
    "\n",
    "display(results_4clf)\n",
    "print(results_4clf.to_latex(index=False))"
   ]
  },
  {
   "cell_type": "markdown",
   "metadata": {
    "heading_collapsed": true
   },
   "source": [
    "## Feature correlations"
   ]
  },
  {
   "cell_type": "code",
   "execution_count": null,
   "metadata": {
    "hidden": true
   },
   "outputs": [],
   "source": []
  },
  {
   "cell_type": "markdown",
   "metadata": {},
   "source": [
    "## Feature importance"
   ]
  },
  {
   "cell_type": "markdown",
   "metadata": {
    "heading_collapsed": true
   },
   "source": [
    "### Age/gender model"
   ]
  },
  {
   "cell_type": "code",
   "execution_count": null,
   "metadata": {
    "hidden": true
   },
   "outputs": [],
   "source": [
    "# Load data and models\n",
    "ag_predict_proba = pickle.load(open(\"../model/feature_importance/age_gender.predict_proba\", \"rb\"))\n",
    "ag_shap_vals = pickle.load(open(\"../model/feature_importance/age_gender.shap_values\", \"rb\"))\n",
    "\n",
    "predict_targets = [\n",
    "    'contact_type',\n",
    "    'q1_want',\n",
    "    'q2_talk',\n",
    "    'q3_loan',\n",
    "    'q4_closeness'\n",
    "]\n",
    "\n",
    "age_gender_train_data = pickle.load(open('../data/final_features_jan28/top_5_age_gender_train_features.df', 'rb'))\n",
    "age_gender_test_data = pickle.load(open('../data/final_features_jan28/top_5_age_gender_test_features.df', 'rb'))\n",
    "\n",
    "age_gender_train_data = age_gender_train_data.replace(replace_dict)\n",
    "age_gender_test_data = age_gender_test_data.replace(replace_dict)\n",
    "\n",
    "age_gender_train_y = age_gender_train_data['contact_type']\n",
    "age_gender_train_X = age_gender_train_data.drop(['pid', 'combined_hash'] + predict_targets, axis=1, errors='ignore')\n",
    "age_gender_test_y = age_gender_test_data['contact_type']\n",
    "age_gender_test_X = age_gender_test_data.drop(['pid', 'combined_hash'] + predict_targets, axis=1, errors='ignore')\n"
   ]
  },
  {
   "cell_type": "code",
   "execution_count": null,
   "metadata": {
    "hidden": true
   },
   "outputs": [],
   "source": [
    "shap.initjs()"
   ]
  },
  {
   "cell_type": "code",
   "execution_count": null,
   "metadata": {
    "hidden": true
   },
   "outputs": [],
   "source": [
    "age_gender_explainer = shap.KernelExplainer(ag_predict_proba, shap.kmeans(age_gender_train_X, 10), link=\"logit\")"
   ]
  },
  {
   "cell_type": "code",
   "execution_count": null,
   "metadata": {
    "hidden": true
   },
   "outputs": [],
   "source": [
    "shap.force_plot(age_gender_explainer.expected_value[0], ag_shap_vals[0], age_gender_test_X, link=\"logit\")"
   ]
  },
  {
   "cell_type": "code",
   "execution_count": null,
   "metadata": {
    "hidden": true
   },
   "outputs": [],
   "source": [
    "feature_names = age_gender_test_X.columns.values\n",
    "feature_dict = {\n",
    "    'total_comm_days': 'total # communication days',\n",
    "    'time_of_day_5_sms': '8pm - 12am texts',\n",
    "    'time_of_day_3_calls': '12pm - 4pm calls',\n",
    "    'time_of_day_4_calls': '4pm - 8pm calls',\n",
    "    'time_of_day_2_calls': '8am - 12pm calls',\n",
    "    'time_of_day_5_calls': '8pm - 12am calls',\n",
    "    'day_6_sms': 'Sunday texts',\n",
    "    'total_comms': 'total # communications',\n",
    "    'time_of_day_4_sms': '4pm - 8pm texts',\n",
    "    'avg_in_duration_nan_indicator': 'call feature missing indicator',\n",
    "    'time_of_day_2_sms': '8am - 12pm texts',\n",
    "    'day_0_sms': 'Monday texts',\n",
    "    'time_of_day_0_sms': '12am - 4am texts',\n",
    "    'time_of_day_1_sms': '4am - 8am texts',\n",
    "    'total_sms': 'total # texts',\n",
    "    'total_call_days': 'total # call days',\n",
    "    'avg_in_duration': 'mean incoming call duration',\n",
    "    'day_1_sms': 'Tuesday texts', \n",
    "    'day_3_sms': 'Thursday texts',\n",
    "    'day_5_calls': 'Saturday calls',\n",
    "}\n",
    "\n",
    "feature_names = list(map(lambda x: feature_dict[x] if x in feature_dict else x, feature_names))"
   ]
  },
  {
   "cell_type": "code",
   "execution_count": null,
   "metadata": {
    "hidden": true
   },
   "outputs": [],
   "source": [
    "font = {\n",
    "        'weight' : 'normal',\n",
    "        'size'   : 14}\n",
    "\n",
    "plt.rc('font', **font)\n",
    "plt.rcParams[\"figure.figsize\"] = [8,8]\n",
    "plt.rcParams.update({'figure.autolayout': True})\n",
    "\n",
    "contact_types = [\"work\", \"social separate\", \"task\", \"family together\"]\n",
    "shap.summary_plot(ag_shap_vals, age_gender_test_X, plot_type='dots', show=False, class_names=contact_types, feature_names=feature_names, max_display=20)\n",
    "#plt.title(\"Top 20 features by SHAP contribution\")\n",
    "\n",
    "#plt.ylabel(\"features\")\n",
    "#plt.tight_layout()\n",
    "\n",
    "plt.savefig(\"../tex/figures/top5_ag_shap_no_title.png\", dpi=300, bbox_inches='tight')"
   ]
  },
  {
   "cell_type": "markdown",
   "metadata": {},
   "source": [
    "### All features model"
   ]
  },
  {
   "cell_type": "code",
   "execution_count": null,
   "metadata": {},
   "outputs": [],
   "source": [
    "# Load data and models\n",
    "all_predict_proba = pickle.load(open(\"../model/feature_importance/all.predict_proba\", \"rb\"))\n",
    "all_shap_vals = pickle.load(open(\"../model/feature_importance/all.shap_values\", \"rb\"))\n",
    "\n",
    "predict_targets = [\n",
    "    'contact_type',\n",
    "    'q1_want',\n",
    "    'q2_talk',\n",
    "    'q3_loan',\n",
    "    'q4_closeness'\n",
    "]\n",
    "\n",
    "all_train_data = pickle.load(open('../data/final_features_jan28/top_5_all_train_features.df', 'rb'))\n",
    "all_test_data = pickle.load(open('../data/final_features_jan28/top_5_all_test_features.df', 'rb'))\n",
    "\n",
    "all_train_data = all_train_data.replace(replace_dict)\n",
    "all_test_data = all_test_data.replace(replace_dict)\n",
    "\n",
    "all_train_y = all_train_data['contact_type']\n",
    "all_train_X = all_train_data.drop(['pid', 'combined_hash'] + predict_targets, axis=1, errors='ignore')\n",
    "all_test_y = all_test_data['contact_type']\n",
    "all_test_X = all_test_data.drop(['pid', 'combined_hash'] + predict_targets, axis=1, errors='ignore')\n"
   ]
  },
  {
   "cell_type": "code",
   "execution_count": null,
   "metadata": {},
   "outputs": [],
   "source": [
    "all_feature_dict = {\n",
    "    'total_comm_days': 'total # communication days',\n",
    "    'avg_in_duration': 'mean incoming call duration',\n",
    "    'mean_in_call': 'mean incoming call frequency',\n",
    "\n",
    "    'time_of_day_0_sms': '12am - 4am texts',\n",
    "    'total_comms': 'total # communications',  \n",
    "    'call_visit_reason:errand': 'calls at \\\"errand\\\" locations',\n",
    "    'time_of_day_5_sms': '8pm - 12am texts',\n",
    "    'reg_comm': 'communication regularity',\n",
    "    'avg_out_duration': 'mean outgoing call duration',\n",
    "    'day_0_sms': 'Monday texts',\n",
    "\n",
    "    'time_of_day_3_calls': '12pm - 4pm calls',\n",
    "    'time_of_day_4_calls': '4pm - 8pm calls',\n",
    "    'time_of_day_2_calls': '8am - 12pm calls',\n",
    "    'day_6_sms': 'Sunday texts',\n",
    "    'time_of_day_2_sms': '8am - 12pm texts',\n",
    "    'time_of_day_1_sms': '4am - 8am texts',\n",
    "    'missed_in_calls': 'missed to incoming call ratio',\n",
    "    'reg_sms': 'texting regularity',\n",
    "    'call_loc:shop': 'calls at \\\"shop\\\" locations',\n",
    "}\n",
    "\n",
    "import matplotlib.pyplot as plt\n",
    "\n",
    "all_feature_names = all_test_X.columns.values\n",
    "\n",
    "all_feature_names = list(map(lambda x: all_feature_dict[x] if x in all_feature_dict else x, all_feature_names))\n",
    "\n",
    "all_explainer = shap.KernelExplainer(all_predict_proba, shap.kmeans(all_train_X, 10), link=\"logit\")\n",
    "\n",
    "font = {\n",
    "        'weight' : 'normal',\n",
    "        'size'   : 14}\n",
    "\n",
    "plt.rc('font', **font)\n",
    "#plt.rcParams.update({'figure.autolayout': False})\n",
    "plt.rcParams[\"figure.figsize\"] = [8, 8]\n",
    "\n",
    "contact_types = [\"work\", \"social separate\", \"task\", \"family together\"]\n",
    "shap.summary_plot(all_shap_vals, all_test_X, plot_type='dots', show=False, class_names=contact_types, feature_names=all_feature_names, max_display=15)\n",
    "#plt.title(\"Top 20 features by SHAP contribution\")\n",
    "\n",
    "#plt.ylabel(\"features\")\n",
    "plt.tight_layout()\n",
    "\n",
    "plt.savefig(\"../tex/figures/top5_all_shap_no_title.png\", dpi=300, bbox_inches='tight')"
   ]
  },
  {
   "cell_type": "markdown",
   "metadata": {},
   "source": [
    "## Revision Statistics"
   ]
  },
  {
   "cell_type": "markdown",
   "metadata": {},
   "source": [
    "#### Details on the number of participants"
   ]
  },
  {
   "cell_type": "code",
   "execution_count": 47,
   "metadata": {},
   "outputs": [],
   "source": [
    "all_contacts_final = pd.read_pickle(\"/data2/tliu/relationship-prediction/data/all_contacts_final.df\")"
   ]
  },
  {
   "cell_type": "code",
   "execution_count": 48,
   "metadata": {},
   "outputs": [
    {
     "name": "stdout",
     "output_type": "stream",
     "text": [
      "(8771, 42)\n"
     ]
    }
   ],
   "source": [
    "all_contacts_unique = all_contacts_final.drop_duplicates(subset='contact_number')\n",
    "print(all_contacts_unique.shape)\n",
    "all_contacts_unique = all_contacts_unique.loc[all_contacts_unique['contact_type'] != 'other']"
   ]
  },
  {
   "cell_type": "code",
   "execution_count": 26,
   "metadata": {
    "collapsed": true
   },
   "outputs": [
    {
     "data": {
      "text/plain": [
       "1255682    117\n",
       "1179075    112\n",
       "TP903SN    112\n",
       "25349      101\n",
       "IK750RN     86\n",
       "1080326     85\n",
       "1565499     83\n",
       "1143410     82\n",
       "1126438     81\n",
       "1170978     80\n",
       "1272711     79\n",
       "639010      79\n",
       "1531633     76\n",
       "1382086     76\n",
       "1307868     75\n",
       "WT253RB     75\n",
       "1079411     75\n",
       "1078563     73\n",
       "1219403     72\n",
       "1564420     71\n",
       "827285      71\n",
       "FJ227MJ     68\n",
       "1013558     68\n",
       "HH880DL     68\n",
       "820387      66\n",
       "1184498     60\n",
       "1128660     60\n",
       "XF600QF     60\n",
       "1567871     60\n",
       "QG620BT     59\n",
       "          ... \n",
       "920558      14\n",
       "1409046     14\n",
       "1533327     14\n",
       "HE593LT     14\n",
       "1428949     14\n",
       "1305690     14\n",
       "1524947     13\n",
       "1495049     13\n",
       "1213535     12\n",
       "1230637     12\n",
       "1288818     10\n",
       "391378      10\n",
       "62977       10\n",
       "1433908     10\n",
       "1557966      9\n",
       "1054952      9\n",
       "555220       9\n",
       "1578395      8\n",
       "1549226      8\n",
       "1183252      8\n",
       "1374066      7\n",
       "1155329      7\n",
       "1403756      6\n",
       "1157796      6\n",
       "1495360      6\n",
       "831987       5\n",
       "872451       5\n",
       "1328568      5\n",
       "733021       2\n",
       "1041667      1\n",
       "Name: pid, Length: 199, dtype: int64"
      ]
     },
     "execution_count": 26,
     "metadata": {},
     "output_type": "execute_result"
    }
   ],
   "source": [
    "all_contacts_unique['pid'].value_counts()"
   ]
  },
  {
   "cell_type": "code",
   "execution_count": 46,
   "metadata": {},
   "outputs": [
    {
     "data": {
      "text/plain": [
       "(7200, 42)"
      ]
     },
     "execution_count": 46,
     "metadata": {},
     "output_type": "execute_result"
    }
   ],
   "source": [
    "all_contacts_unique.shape"
   ]
  },
  {
   "cell_type": "markdown",
   "metadata": {},
   "source": [
    "#### Participant demographics"
   ]
  },
  {
   "cell_type": "code",
   "execution_count": 162,
   "metadata": {},
   "outputs": [],
   "source": [
    "demo_df = pd.read_pickle(\"/data2/tliu/relationship-prediction/data/demographics.df\")\n",
    "top5_final = pd.read_pickle(\"/data2/tliu/relationship-prediction/data/top5_final.df\")"
   ]
  },
  {
   "cell_type": "code",
   "execution_count": 163,
   "metadata": {},
   "outputs": [],
   "source": [
    "pids = top5_final['pid'].unique()"
   ]
  },
  {
   "cell_type": "code",
   "execution_count": 164,
   "metadata": {},
   "outputs": [],
   "source": [
    "demo_df = demo_df.loc[demo_df['pid'].isin(pids)]"
   ]
  },
  {
   "cell_type": "code",
   "execution_count": 165,
   "metadata": {},
   "outputs": [
    {
     "data": {
      "text/plain": [
       "employed      119\n",
       "unemployed     36\n",
       "disability     16\n",
       "other          14\n",
       "retired         4\n",
       "Name: employment, dtype: int64"
      ]
     },
     "execution_count": 165,
     "metadata": {},
     "output_type": "execute_result"
    }
   ],
   "source": [
    "demo_df['employment'].value_counts()"
   ]
  },
  {
   "cell_type": "markdown",
   "metadata": {},
   "source": [
    "### Contact Frequency vs Social Support"
   ]
  },
  {
   "cell_type": "code",
   "execution_count": 166,
   "metadata": {},
   "outputs": [],
   "source": [
    "emc_to_canonical = pickle.load(open(\"/data2/tliu/relationship-prediction/data/emc_to_canonical.dict\", \"rb\"))\n",
    "pr_dict = pickle.load(open(\"/data2/tliu/relationship-prediction/data/pr.dict\", \"rb\"))\n",
    "emc_all = pd.read_pickle(\"/data2/tliu/relationship-prediction/data/emc_all.df\")"
   ]
  },
  {
   "cell_type": "code",
   "execution_count": 167,
   "metadata": {},
   "outputs": [],
   "source": [
    "emc_all['q_total'] = emc_all['q1_want'] + emc_all['q2_talk'] + emc_all['q3_loan'] + emc_all['q4_closeness']\n",
    "emc_all['q_total'].isna().sum()"
   ]
  },
  {
   "cell_type": "code",
   "execution_count": 182,
   "metadata": {},
   "outputs": [],
   "source": [
    "# build md5 to q_total dict\n",
    "q_total_dict = {}\n",
    "emc_all = emc_all.reset_index(drop=True)\n",
    "for i in range(emc_all.shape[0]):\n",
    "    hash_name = emc_all.loc[i, 'contact_name']\n",
    "    if hash_name in emc_to_canonical:\n",
    "        canonical_md5 = emc_to_canonical[hash_name]\n",
    "        if len(canonical_md5) > 0 and canonical_md5[0] in pr_dict:\n",
    "            non_canonical_hashes = pr_dict[canonical_md5[0]]\n",
    "            for h in non_canonical_hashes:\n",
    "                q_total_dict[h] = emc_all.loc[i, 'q_total']"
   ]
  },
  {
   "cell_type": "code",
   "execution_count": 244,
   "metadata": {},
   "outputs": [],
   "source": [
    "all_contacts_final['combined_hash'] = all_contacts_final['pid'] + all_contacts_final['canonical_hash']"
   ]
  },
  {
   "cell_type": "code",
   "execution_count": 245,
   "metadata": {},
   "outputs": [
    {
     "data": {
      "text/plain": [
       "(8912,)"
      ]
     },
     "execution_count": 245,
     "metadata": {},
     "output_type": "execute_result"
    }
   ],
   "source": [
    "all_contacts_final['combined_hash'].unique().shape"
   ]
  },
  {
   "cell_type": "code",
   "execution_count": 249,
   "metadata": {},
   "outputs": [
    {
     "data": {
      "text/plain": [
       "(8771,)"
      ]
     },
     "execution_count": 249,
     "metadata": {},
     "output_type": "execute_result"
    }
   ],
   "source": [
    "all_contacts_final['contact_number'].unique().shape"
   ]
  },
  {
   "cell_type": "code",
   "execution_count": 276,
   "metadata": {},
   "outputs": [
    {
     "data": {
      "text/html": [
       "<div>\n",
       "<style scoped>\n",
       "    .dataframe tbody tr th:only-of-type {\n",
       "        vertical-align: middle;\n",
       "    }\n",
       "\n",
       "    .dataframe tbody tr th {\n",
       "        vertical-align: top;\n",
       "    }\n",
       "\n",
       "    .dataframe thead th {\n",
       "        text-align: right;\n",
       "    }\n",
       "</style>\n",
       "<table border=\"1\" class=\"dataframe\">\n",
       "  <thead>\n",
       "    <tr style=\"text-align: right;\">\n",
       "      <th></th>\n",
       "      <th>pid</th>\n",
       "      <th>combined_hash</th>\n",
       "      <th>total_comms</th>\n",
       "      <th>total_comm_days</th>\n",
       "      <th>contact_type</th>\n",
       "      <th>total_calls</th>\n",
       "      <th>total_sms</th>\n",
       "      <th>total_sms_days</th>\n",
       "      <th>total_call_days</th>\n",
       "      <th>reg_call</th>\n",
       "      <th>...</th>\n",
       "      <th>std_out_sms_nan_indicator</th>\n",
       "      <th>missed_in_calls_nan_indicator</th>\n",
       "      <th>missed_out_calls_nan_indicator</th>\n",
       "      <th>in_out_sms_nan_indicator</th>\n",
       "      <th>avg_in_duration_nan_indicator</th>\n",
       "      <th>avg_out_duration_nan_indicator</th>\n",
       "      <th>q1_want</th>\n",
       "      <th>q2_talk</th>\n",
       "      <th>q3_loan</th>\n",
       "      <th>q4_closeness</th>\n",
       "    </tr>\n",
       "  </thead>\n",
       "  <tbody>\n",
       "    <tr>\n",
       "      <th>415</th>\n",
       "      <td>1444502</td>\n",
       "      <td>14445020b7150f0859f59a572325ceb08d131cd</td>\n",
       "      <td>232</td>\n",
       "      <td>15</td>\n",
       "      <td>family_live_together</td>\n",
       "      <td>1.0</td>\n",
       "      <td>231.0</td>\n",
       "      <td>14.0</td>\n",
       "      <td>1.0</td>\n",
       "      <td>0.012987</td>\n",
       "      <td>...</td>\n",
       "      <td>0</td>\n",
       "      <td>1</td>\n",
       "      <td>0</td>\n",
       "      <td>0</td>\n",
       "      <td>1</td>\n",
       "      <td>0</td>\n",
       "      <td>0.600000</td>\n",
       "      <td>3.0</td>\n",
       "      <td>4.0</td>\n",
       "      <td>1.0</td>\n",
       "    </tr>\n",
       "    <tr>\n",
       "      <th>416</th>\n",
       "      <td>1444502</td>\n",
       "      <td>14445020ca8c3e6eaaee4adf1d5e88b20c74fc8</td>\n",
       "      <td>27296</td>\n",
       "      <td>75</td>\n",
       "      <td>task</td>\n",
       "      <td>55.0</td>\n",
       "      <td>27241.0</td>\n",
       "      <td>75.0</td>\n",
       "      <td>16.0</td>\n",
       "      <td>0.207792</td>\n",
       "      <td>...</td>\n",
       "      <td>0</td>\n",
       "      <td>0</td>\n",
       "      <td>0</td>\n",
       "      <td>0</td>\n",
       "      <td>0</td>\n",
       "      <td>0</td>\n",
       "      <td>0.000000</td>\n",
       "      <td>0.0</td>\n",
       "      <td>0.0</td>\n",
       "      <td>0.0</td>\n",
       "    </tr>\n",
       "    <tr>\n",
       "      <th>417</th>\n",
       "      <td>1444502</td>\n",
       "      <td>1444502737a730a1141dcfb423b61a219dadc44</td>\n",
       "      <td>577</td>\n",
       "      <td>47</td>\n",
       "      <td>family_live_separate</td>\n",
       "      <td>8.0</td>\n",
       "      <td>569.0</td>\n",
       "      <td>47.0</td>\n",
       "      <td>6.0</td>\n",
       "      <td>0.077922</td>\n",
       "      <td>...</td>\n",
       "      <td>0</td>\n",
       "      <td>1</td>\n",
       "      <td>1</td>\n",
       "      <td>0</td>\n",
       "      <td>1</td>\n",
       "      <td>1</td>\n",
       "      <td>5.933333</td>\n",
       "      <td>6.0</td>\n",
       "      <td>6.0</td>\n",
       "      <td>6.0</td>\n",
       "    </tr>\n",
       "    <tr>\n",
       "      <th>418</th>\n",
       "      <td>1444502</td>\n",
       "      <td>14445029953f68025a3c81b179791ae8541eb9c</td>\n",
       "      <td>262</td>\n",
       "      <td>18</td>\n",
       "      <td>family_live_separate</td>\n",
       "      <td>0.0</td>\n",
       "      <td>262.0</td>\n",
       "      <td>18.0</td>\n",
       "      <td>0.0</td>\n",
       "      <td>0.000000</td>\n",
       "      <td>...</td>\n",
       "      <td>0</td>\n",
       "      <td>1</td>\n",
       "      <td>1</td>\n",
       "      <td>0</td>\n",
       "      <td>1</td>\n",
       "      <td>1</td>\n",
       "      <td>5.933333</td>\n",
       "      <td>6.0</td>\n",
       "      <td>6.0</td>\n",
       "      <td>6.0</td>\n",
       "    </tr>\n",
       "    <tr>\n",
       "      <th>419</th>\n",
       "      <td>1444502</td>\n",
       "      <td>1444502de667e6dfdc578875f1876e7f5664592</td>\n",
       "      <td>556</td>\n",
       "      <td>44</td>\n",
       "      <td>family_live_separate</td>\n",
       "      <td>0.0</td>\n",
       "      <td>556.0</td>\n",
       "      <td>44.0</td>\n",
       "      <td>0.0</td>\n",
       "      <td>0.000000</td>\n",
       "      <td>...</td>\n",
       "      <td>0</td>\n",
       "      <td>1</td>\n",
       "      <td>1</td>\n",
       "      <td>0</td>\n",
       "      <td>1</td>\n",
       "      <td>1</td>\n",
       "      <td>6.000000</td>\n",
       "      <td>5.0</td>\n",
       "      <td>2.0</td>\n",
       "      <td>4.0</td>\n",
       "    </tr>\n",
       "  </tbody>\n",
       "</table>\n",
       "<p>5 rows × 191 columns</p>\n",
       "</div>"
      ],
      "text/plain": [
       "         pid                            combined_hash  total_comms  \\\n",
       "415  1444502  14445020b7150f0859f59a572325ceb08d131cd          232   \n",
       "416  1444502  14445020ca8c3e6eaaee4adf1d5e88b20c74fc8        27296   \n",
       "417  1444502  1444502737a730a1141dcfb423b61a219dadc44          577   \n",
       "418  1444502  14445029953f68025a3c81b179791ae8541eb9c          262   \n",
       "419  1444502  1444502de667e6dfdc578875f1876e7f5664592          556   \n",
       "\n",
       "     total_comm_days          contact_type  total_calls  total_sms  \\\n",
       "415               15  family_live_together          1.0      231.0   \n",
       "416               75                  task         55.0    27241.0   \n",
       "417               47  family_live_separate          8.0      569.0   \n",
       "418               18  family_live_separate          0.0      262.0   \n",
       "419               44  family_live_separate          0.0      556.0   \n",
       "\n",
       "     total_sms_days  total_call_days  reg_call      ...       \\\n",
       "415            14.0              1.0  0.012987      ...        \n",
       "416            75.0             16.0  0.207792      ...        \n",
       "417            47.0              6.0  0.077922      ...        \n",
       "418            18.0              0.0  0.000000      ...        \n",
       "419            44.0              0.0  0.000000      ...        \n",
       "\n",
       "     std_out_sms_nan_indicator  missed_in_calls_nan_indicator  \\\n",
       "415                          0                              1   \n",
       "416                          0                              0   \n",
       "417                          0                              1   \n",
       "418                          0                              1   \n",
       "419                          0                              1   \n",
       "\n",
       "     missed_out_calls_nan_indicator  in_out_sms_nan_indicator  \\\n",
       "415                               0                         0   \n",
       "416                               0                         0   \n",
       "417                               1                         0   \n",
       "418                               1                         0   \n",
       "419                               1                         0   \n",
       "\n",
       "     avg_in_duration_nan_indicator  avg_out_duration_nan_indicator   q1_want  \\\n",
       "415                              1                               0  0.600000   \n",
       "416                              0                               0  0.000000   \n",
       "417                              1                               1  5.933333   \n",
       "418                              1                               1  5.933333   \n",
       "419                              1                               1  6.000000   \n",
       "\n",
       "     q2_talk  q3_loan  q4_closeness  \n",
       "415      3.0      4.0           1.0  \n",
       "416      0.0      0.0           0.0  \n",
       "417      6.0      6.0           6.0  \n",
       "418      6.0      6.0           6.0  \n",
       "419      5.0      2.0           4.0  \n",
       "\n",
       "[5 rows x 191 columns]"
      ]
     },
     "execution_count": 276,
     "metadata": {},
     "output_type": "execute_result"
    }
   ],
   "source": [
    "top5_train.loc[top5_train['pid'] == '1444502']"
   ]
  },
  {
   "cell_type": "code",
   "execution_count": 270,
   "metadata": {},
   "outputs": [],
   "source": [
    "comm_counts = all_contacts_final.groupby(['pid'])['canonical_hash'].value_counts().to_frame()\n",
    "comm_counts.columns = ['comm_counts']\n",
    "comm_counts = comm_counts.reset_index()\n",
    "#comm_counts['rank'] = comm_counts.groupby(['pid'], as_index=False).cumcount()\n",
    "comm_counts['rank'] = comm_counts.groupby(['pid'], as_index=False)['comm_counts'].rank(\"dense\", ascending=False)"
   ]
  },
  {
   "cell_type": "code",
   "execution_count": 271,
   "metadata": {},
   "outputs": [
    {
     "data": {
      "text/plain": [
       "(8912, 4)"
      ]
     },
     "execution_count": 271,
     "metadata": {},
     "output_type": "execute_result"
    }
   ],
   "source": [
    "comm_counts.shape"
   ]
  },
  {
   "cell_type": "code",
   "execution_count": 277,
   "metadata": {},
   "outputs": [],
   "source": [
    "# TODO map canonical hash to the q_total amount"
   ]
  },
  {
   "cell_type": "code",
   "execution_count": 272,
   "metadata": {},
   "outputs": [
    {
     "data": {
      "text/html": [
       "<div>\n",
       "<style scoped>\n",
       "    .dataframe tbody tr th:only-of-type {\n",
       "        vertical-align: middle;\n",
       "    }\n",
       "\n",
       "    .dataframe tbody tr th {\n",
       "        vertical-align: top;\n",
       "    }\n",
       "\n",
       "    .dataframe thead th {\n",
       "        text-align: right;\n",
       "    }\n",
       "</style>\n",
       "<table border=\"1\" class=\"dataframe\">\n",
       "  <thead>\n",
       "    <tr style=\"text-align: right;\">\n",
       "      <th></th>\n",
       "      <th>pid</th>\n",
       "      <th>canonical_hash</th>\n",
       "      <th>comm_counts</th>\n",
       "      <th>rank</th>\n",
       "    </tr>\n",
       "  </thead>\n",
       "  <tbody>\n",
       "    <tr>\n",
       "      <th>0</th>\n",
       "      <td>1002060</td>\n",
       "      <td>b07d836f246e50ce930bf90a9fe33939</td>\n",
       "      <td>199</td>\n",
       "      <td>1.0</td>\n",
       "    </tr>\n",
       "    <tr>\n",
       "      <th>1</th>\n",
       "      <td>1002060</td>\n",
       "      <td>37bc00d68a24a359c7e5c7fc0c7bf7b8</td>\n",
       "      <td>121</td>\n",
       "      <td>2.0</td>\n",
       "    </tr>\n",
       "    <tr>\n",
       "      <th>2</th>\n",
       "      <td>1002060</td>\n",
       "      <td>7fbbe92349588238af4c0417afa1d6d0</td>\n",
       "      <td>83</td>\n",
       "      <td>3.0</td>\n",
       "    </tr>\n",
       "    <tr>\n",
       "      <th>3</th>\n",
       "      <td>1002060</td>\n",
       "      <td>4dee72583ac5647caf9d876b53ca158c</td>\n",
       "      <td>75</td>\n",
       "      <td>4.0</td>\n",
       "    </tr>\n",
       "    <tr>\n",
       "      <th>4</th>\n",
       "      <td>1002060</td>\n",
       "      <td>632572ef12203e84583c0cab0295337f</td>\n",
       "      <td>50</td>\n",
       "      <td>5.0</td>\n",
       "    </tr>\n",
       "  </tbody>\n",
       "</table>\n",
       "</div>"
      ],
      "text/plain": [
       "       pid                    canonical_hash  comm_counts  rank\n",
       "0  1002060  b07d836f246e50ce930bf90a9fe33939          199   1.0\n",
       "1  1002060  37bc00d68a24a359c7e5c7fc0c7bf7b8          121   2.0\n",
       "2  1002060  7fbbe92349588238af4c0417afa1d6d0           83   3.0\n",
       "3  1002060  4dee72583ac5647caf9d876b53ca158c           75   4.0\n",
       "4  1002060  632572ef12203e84583c0cab0295337f           50   5.0"
      ]
     },
     "execution_count": 272,
     "metadata": {},
     "output_type": "execute_result"
    }
   ],
   "source": [
    "comm_counts.head()"
   ]
  },
  {
   "cell_type": "code",
   "execution_count": 256,
   "metadata": {},
   "outputs": [
    {
     "data": {
      "text/html": [
       "<div>\n",
       "<style scoped>\n",
       "    .dataframe tbody tr th:only-of-type {\n",
       "        vertical-align: middle;\n",
       "    }\n",
       "\n",
       "    .dataframe tbody tr th {\n",
       "        vertical-align: top;\n",
       "    }\n",
       "\n",
       "    .dataframe thead th {\n",
       "        text-align: right;\n",
       "    }\n",
       "</style>\n",
       "<table border=\"1\" class=\"dataframe\">\n",
       "  <thead>\n",
       "    <tr style=\"text-align: right;\">\n",
       "      <th></th>\n",
       "      <th>pid</th>\n",
       "      <th>canonical_hash</th>\n",
       "      <th>comm_counts</th>\n",
       "      <th>rank</th>\n",
       "    </tr>\n",
       "  </thead>\n",
       "  <tbody>\n",
       "    <tr>\n",
       "      <th>123</th>\n",
       "      <td>1027472</td>\n",
       "      <td>0ca8c3e6eaaee4adf1d5e88b20c74fc8</td>\n",
       "      <td>94</td>\n",
       "      <td>5.0</td>\n",
       "    </tr>\n",
       "    <tr>\n",
       "      <th>3627</th>\n",
       "      <td>1328707</td>\n",
       "      <td>0ca8c3e6eaaee4adf1d5e88b20c74fc8</td>\n",
       "      <td>15</td>\n",
       "      <td>8.0</td>\n",
       "    </tr>\n",
       "    <tr>\n",
       "      <th>4210</th>\n",
       "      <td>1444502</td>\n",
       "      <td>0ca8c3e6eaaee4adf1d5e88b20c74fc8</td>\n",
       "      <td>27296</td>\n",
       "      <td>1.0</td>\n",
       "    </tr>\n",
       "    <tr>\n",
       "      <th>4451</th>\n",
       "      <td>1503395</td>\n",
       "      <td>0ca8c3e6eaaee4adf1d5e88b20c74fc8</td>\n",
       "      <td>7</td>\n",
       "      <td>17.0</td>\n",
       "    </tr>\n",
       "    <tr>\n",
       "      <th>4467</th>\n",
       "      <td>1505268</td>\n",
       "      <td>0ca8c3e6eaaee4adf1d5e88b20c74fc8</td>\n",
       "      <td>240</td>\n",
       "      <td>2.0</td>\n",
       "    </tr>\n",
       "    <tr>\n",
       "      <th>4830</th>\n",
       "      <td>1550259</td>\n",
       "      <td>0ca8c3e6eaaee4adf1d5e88b20c74fc8</td>\n",
       "      <td>1152</td>\n",
       "      <td>1.0</td>\n",
       "    </tr>\n",
       "    <tr>\n",
       "      <th>6204</th>\n",
       "      <td>616751</td>\n",
       "      <td>0ca8c3e6eaaee4adf1d5e88b20c74fc8</td>\n",
       "      <td>136</td>\n",
       "      <td>6.0</td>\n",
       "    </tr>\n",
       "    <tr>\n",
       "      <th>6511</th>\n",
       "      <td>662410</td>\n",
       "      <td>0ca8c3e6eaaee4adf1d5e88b20c74fc8</td>\n",
       "      <td>137</td>\n",
       "      <td>3.0</td>\n",
       "    </tr>\n",
       "  </tbody>\n",
       "</table>\n",
       "</div>"
      ],
      "text/plain": [
       "          pid                    canonical_hash  comm_counts  rank\n",
       "123   1027472  0ca8c3e6eaaee4adf1d5e88b20c74fc8           94   5.0\n",
       "3627  1328707  0ca8c3e6eaaee4adf1d5e88b20c74fc8           15   8.0\n",
       "4210  1444502  0ca8c3e6eaaee4adf1d5e88b20c74fc8        27296   1.0\n",
       "4451  1503395  0ca8c3e6eaaee4adf1d5e88b20c74fc8            7  17.0\n",
       "4467  1505268  0ca8c3e6eaaee4adf1d5e88b20c74fc8          240   2.0\n",
       "4830  1550259  0ca8c3e6eaaee4adf1d5e88b20c74fc8         1152   1.0\n",
       "6204   616751  0ca8c3e6eaaee4adf1d5e88b20c74fc8          136   6.0\n",
       "6511   662410  0ca8c3e6eaaee4adf1d5e88b20c74fc8          137   3.0"
      ]
     },
     "execution_count": 256,
     "metadata": {},
     "output_type": "execute_result"
    }
   ],
   "source": [
    "comm_counts.loc[comm_counts['canonical_hash'] == '0ca8c3e6eaaee4adf1d5e88b20c74fc8']"
   ]
  },
  {
   "cell_type": "code",
   "execution_count": 213,
   "metadata": {},
   "outputs": [],
   "source": [
    "top5_train = pd.read_pickle(\"../data/final_sandbox/top5_baseline_train_features.df\")"
   ]
  },
  {
   "cell_type": "code",
   "execution_count": 214,
   "metadata": {},
   "outputs": [
    {
     "data": {
      "text/html": [
       "<div>\n",
       "<style scoped>\n",
       "    .dataframe tbody tr th:only-of-type {\n",
       "        vertical-align: middle;\n",
       "    }\n",
       "\n",
       "    .dataframe tbody tr th {\n",
       "        vertical-align: top;\n",
       "    }\n",
       "\n",
       "    .dataframe thead th {\n",
       "        text-align: right;\n",
       "    }\n",
       "</style>\n",
       "<table border=\"1\" class=\"dataframe\">\n",
       "  <thead>\n",
       "    <tr style=\"text-align: right;\">\n",
       "      <th></th>\n",
       "      <th>pid</th>\n",
       "      <th>combined_hash</th>\n",
       "      <th>total_comms</th>\n",
       "      <th>total_comm_days</th>\n",
       "      <th>contact_type</th>\n",
       "      <th>total_calls</th>\n",
       "      <th>total_sms</th>\n",
       "      <th>total_sms_days</th>\n",
       "      <th>total_call_days</th>\n",
       "      <th>reg_call</th>\n",
       "      <th>...</th>\n",
       "      <th>std_out_sms_nan_indicator</th>\n",
       "      <th>missed_in_calls_nan_indicator</th>\n",
       "      <th>missed_out_calls_nan_indicator</th>\n",
       "      <th>in_out_sms_nan_indicator</th>\n",
       "      <th>avg_in_duration_nan_indicator</th>\n",
       "      <th>avg_out_duration_nan_indicator</th>\n",
       "      <th>q1_want</th>\n",
       "      <th>q2_talk</th>\n",
       "      <th>q3_loan</th>\n",
       "      <th>q4_closeness</th>\n",
       "    </tr>\n",
       "  </thead>\n",
       "  <tbody>\n",
       "    <tr>\n",
       "      <th>0</th>\n",
       "      <td>1002060</td>\n",
       "      <td>100206037bc00d68a24a359c7e5c7fc0c7bf7b8</td>\n",
       "      <td>121</td>\n",
       "      <td>23</td>\n",
       "      <td>family_live_separate</td>\n",
       "      <td>46.0</td>\n",
       "      <td>75.0</td>\n",
       "      <td>17.0</td>\n",
       "      <td>19.0</td>\n",
       "      <td>0.327586</td>\n",
       "      <td>...</td>\n",
       "      <td>0</td>\n",
       "      <td>0</td>\n",
       "      <td>0</td>\n",
       "      <td>0</td>\n",
       "      <td>0</td>\n",
       "      <td>0</td>\n",
       "      <td>5.600000</td>\n",
       "      <td>5.000</td>\n",
       "      <td>6.0</td>\n",
       "      <td>5.0</td>\n",
       "    </tr>\n",
       "    <tr>\n",
       "      <th>1</th>\n",
       "      <td>1002060</td>\n",
       "      <td>10020604dee72583ac5647caf9d876b53ca158c</td>\n",
       "      <td>75</td>\n",
       "      <td>10</td>\n",
       "      <td>family_live_separate</td>\n",
       "      <td>7.0</td>\n",
       "      <td>68.0</td>\n",
       "      <td>10.0</td>\n",
       "      <td>3.0</td>\n",
       "      <td>0.051724</td>\n",
       "      <td>...</td>\n",
       "      <td>0</td>\n",
       "      <td>0</td>\n",
       "      <td>0</td>\n",
       "      <td>0</td>\n",
       "      <td>0</td>\n",
       "      <td>0</td>\n",
       "      <td>6.000000</td>\n",
       "      <td>5.875</td>\n",
       "      <td>0.0</td>\n",
       "      <td>6.0</td>\n",
       "    </tr>\n",
       "    <tr>\n",
       "      <th>2</th>\n",
       "      <td>1002060</td>\n",
       "      <td>1002060632572ef12203e84583c0cab0295337f</td>\n",
       "      <td>50</td>\n",
       "      <td>5</td>\n",
       "      <td>friend</td>\n",
       "      <td>2.0</td>\n",
       "      <td>48.0</td>\n",
       "      <td>5.0</td>\n",
       "      <td>1.0</td>\n",
       "      <td>0.017241</td>\n",
       "      <td>...</td>\n",
       "      <td>0</td>\n",
       "      <td>1</td>\n",
       "      <td>0</td>\n",
       "      <td>0</td>\n",
       "      <td>1</td>\n",
       "      <td>0</td>\n",
       "      <td>3.200000</td>\n",
       "      <td>2.000</td>\n",
       "      <td>0.0</td>\n",
       "      <td>0.0</td>\n",
       "    </tr>\n",
       "    <tr>\n",
       "      <th>3</th>\n",
       "      <td>1002060</td>\n",
       "      <td>10020607fbbe92349588238af4c0417afa1d6d0</td>\n",
       "      <td>83</td>\n",
       "      <td>17</td>\n",
       "      <td>family_live_separate</td>\n",
       "      <td>15.0</td>\n",
       "      <td>68.0</td>\n",
       "      <td>9.0</td>\n",
       "      <td>11.0</td>\n",
       "      <td>0.189655</td>\n",
       "      <td>...</td>\n",
       "      <td>0</td>\n",
       "      <td>0</td>\n",
       "      <td>0</td>\n",
       "      <td>0</td>\n",
       "      <td>0</td>\n",
       "      <td>0</td>\n",
       "      <td>5.714286</td>\n",
       "      <td>6.000</td>\n",
       "      <td>6.0</td>\n",
       "      <td>6.0</td>\n",
       "    </tr>\n",
       "    <tr>\n",
       "      <th>4</th>\n",
       "      <td>1002060</td>\n",
       "      <td>1002060b07d836f246e50ce930bf90a9fe33939</td>\n",
       "      <td>199</td>\n",
       "      <td>36</td>\n",
       "      <td>sig_other</td>\n",
       "      <td>108.0</td>\n",
       "      <td>91.0</td>\n",
       "      <td>17.0</td>\n",
       "      <td>34.0</td>\n",
       "      <td>0.586207</td>\n",
       "      <td>...</td>\n",
       "      <td>0</td>\n",
       "      <td>0</td>\n",
       "      <td>0</td>\n",
       "      <td>0</td>\n",
       "      <td>0</td>\n",
       "      <td>0</td>\n",
       "      <td>6.000000</td>\n",
       "      <td>5.000</td>\n",
       "      <td>6.0</td>\n",
       "      <td>6.0</td>\n",
       "    </tr>\n",
       "  </tbody>\n",
       "</table>\n",
       "<p>5 rows × 191 columns</p>\n",
       "</div>"
      ],
      "text/plain": [
       "       pid                            combined_hash  total_comms  \\\n",
       "0  1002060  100206037bc00d68a24a359c7e5c7fc0c7bf7b8          121   \n",
       "1  1002060  10020604dee72583ac5647caf9d876b53ca158c           75   \n",
       "2  1002060  1002060632572ef12203e84583c0cab0295337f           50   \n",
       "3  1002060  10020607fbbe92349588238af4c0417afa1d6d0           83   \n",
       "4  1002060  1002060b07d836f246e50ce930bf90a9fe33939          199   \n",
       "\n",
       "   total_comm_days          contact_type  total_calls  total_sms  \\\n",
       "0               23  family_live_separate         46.0       75.0   \n",
       "1               10  family_live_separate          7.0       68.0   \n",
       "2                5                friend          2.0       48.0   \n",
       "3               17  family_live_separate         15.0       68.0   \n",
       "4               36             sig_other        108.0       91.0   \n",
       "\n",
       "   total_sms_days  total_call_days  reg_call      ...       \\\n",
       "0            17.0             19.0  0.327586      ...        \n",
       "1            10.0              3.0  0.051724      ...        \n",
       "2             5.0              1.0  0.017241      ...        \n",
       "3             9.0             11.0  0.189655      ...        \n",
       "4            17.0             34.0  0.586207      ...        \n",
       "\n",
       "   std_out_sms_nan_indicator  missed_in_calls_nan_indicator  \\\n",
       "0                          0                              0   \n",
       "1                          0                              0   \n",
       "2                          0                              1   \n",
       "3                          0                              0   \n",
       "4                          0                              0   \n",
       "\n",
       "   missed_out_calls_nan_indicator  in_out_sms_nan_indicator  \\\n",
       "0                               0                         0   \n",
       "1                               0                         0   \n",
       "2                               0                         0   \n",
       "3                               0                         0   \n",
       "4                               0                         0   \n",
       "\n",
       "   avg_in_duration_nan_indicator  avg_out_duration_nan_indicator   q1_want  \\\n",
       "0                              0                               0  5.600000   \n",
       "1                              0                               0  6.000000   \n",
       "2                              1                               0  3.200000   \n",
       "3                              0                               0  5.714286   \n",
       "4                              0                               0  6.000000   \n",
       "\n",
       "   q2_talk  q3_loan  q4_closeness  \n",
       "0    5.000      6.0           5.0  \n",
       "1    5.875      0.0           6.0  \n",
       "2    2.000      0.0           0.0  \n",
       "3    6.000      6.0           6.0  \n",
       "4    5.000      6.0           6.0  \n",
       "\n",
       "[5 rows x 191 columns]"
      ]
     },
     "execution_count": 214,
     "metadata": {},
     "output_type": "execute_result"
    }
   ],
   "source": [
    "top5_train.head()"
   ]
  },
  {
   "cell_type": "code",
   "execution_count": 278,
   "metadata": {},
   "outputs": [],
   "source": [
    "all_train = pd.read_pickle(\"/data2/tliu/relationship-prediction/data/y50_data/final_features/all_contacts_baseline_train_features.df\")\n",
    "all_test = pd.read_pickle(\"/data2/tliu/relationship-prediction/data/y50_data/final_features/all_contacts_baseline_test_features.df\")"
   ]
  },
  {
   "cell_type": "code",
   "execution_count": 279,
   "metadata": {},
   "outputs": [],
   "source": [
    "all_df = all_train.append(all_test)"
   ]
  },
  {
   "cell_type": "code",
   "execution_count": 280,
   "metadata": {},
   "outputs": [
    {
     "data": {
      "text/plain": [
       "(6998, 282)"
      ]
     },
     "execution_count": 280,
     "metadata": {},
     "output_type": "execute_result"
    }
   ],
   "source": [
    "all_df.shape"
   ]
  },
  {
   "cell_type": "code",
   "execution_count": 290,
   "metadata": {},
   "outputs": [],
   "source": [
    "all_df['q_total'] = all_df['q1_want'] + all_df['q2_talk'] + all_df['q3_loan'] + all_df['q4_closeness']\n",
    "all_df['rank'] = all_df.groupby(['pid'], as_index=False)['total_comms'].rank(\"dense\", ascending=False)"
   ]
  },
  {
   "cell_type": "code",
   "execution_count": 297,
   "metadata": {},
   "outputs": [
    {
     "data": {
      "text/plain": [
       "(0, 30)"
      ]
     },
     "execution_count": 297,
     "metadata": {},
     "output_type": "execute_result"
    },
    {
     "data": {
      "image/png": "[encoded data removed]",
      "text/plain": [
       "<Figure size 432x288 with 1 Axes>"
      ]
     },
     "metadata": {
      "needs_background": "light"
     },
     "output_type": "display_data"
    }
   ],
   "source": [
    "sns.regplot(x='rank', y='q_total', lowess=True, scatter=False, data=all_df)\n",
    "plt.xlabel(\"Rank by communication volume\")\n",
    "plt.ylabel(\"EMA tie strength measurement\")\n",
    "plt.ylim(0,25)\n",
    "plt.xlim(0,30)"
   ]
  },
  {
   "cell_type": "code",
   "execution_count": 352,
   "metadata": {},
   "outputs": [],
   "source": [
    "from skmisc.loess import loess\n",
    "\n",
    "pair = zip(all_df['rank'], all_df['q_total'])\n",
    "sorted_pair = sorted(list(pair), key=lambda x: x[0])"
   ]
  },
  {
   "cell_type": "code",
   "execution_count": 354,
   "metadata": {},
   "outputs": [],
   "source": [
    "x = [tup[0] for tup in sorted_pair]\n",
    "y = [tup[1] for tup in sorted_pair]"
   ]
  },
  {
   "cell_type": "code",
   "execution_count": 355,
   "metadata": {},
   "outputs": [],
   "source": [
    "l = loess(x, y)\n",
    "l.fit()\n",
    "pred = l.predict(x, stderror=True)\n",
    "conf = pred.confidence()\n",
    "lowess = pred.values\n",
    "ll = conf.lower\n",
    "ul = conf.upper"
   ]
  },
  {
   "cell_type": "code",
   "execution_count": 388,
   "metadata": {},
   "outputs": [
    {
     "data": {
      "text/plain": [
       "task                    2235\n",
       "friend                  1742\n",
       "family_live_separate    1229\n",
       "work                    1186\n",
       "family_live_together     317\n",
       "sig_other                289\n",
       "Name: contact_type, dtype: int64"
      ]
     },
     "execution_count": 388,
     "metadata": {},
     "output_type": "execute_result"
    }
   ],
   "source": [
    "all_df['contact_type'].value_counts()"
   ]
  },
  {
   "cell_type": "code",
   "execution_count": 389,
   "metadata": {},
   "outputs": [
    {
     "data": {
      "text/plain": [
       "8948"
      ]
     },
     "execution_count": 389,
     "metadata": {},
     "output_type": "execute_result"
    }
   ],
   "source": [
    "1232 + 317 + 1742 + 1939 + 289 + 2240 + 1189"
   ]
  },
  {
   "cell_type": "code",
   "execution_count": 390,
   "metadata": {},
   "outputs": [
    {
     "data": {
      "text/plain": [
       "(9890, 8)"
      ]
     },
     "execution_count": 390,
     "metadata": {},
     "output_type": "execute_result"
    }
   ],
   "source": [
    "emc_all.shape"
   ]
  },
  {
   "cell_type": "code",
   "execution_count": 387,
   "metadata": {},
   "outputs": [
    {
     "data": {
      "image/png": "[encoded data removed]",
      "text/plain": [
       "<Figure size 432x288 with 1 Axes>"
      ]
     },
     "metadata": {
      "needs_background": "light"
     },
     "output_type": "display_data"
    }
   ],
   "source": [
    "plt.plot(x, lowess, color='blue')\n",
    "plt.plot(x, ll, ls='--', color='blue', alpha=0.5)\n",
    "plt.plot(x, ul, ls='--', color='blue', alpha=0.5)\n",
    "\n",
    "#plt.fill_between(x, ll, ul, facecolor='grey', alpha=0.3, label='95% CI')\n",
    "plt.xlim(1,30)\n",
    "#plt.legend()\n",
    "plt.ylabel(\"EMA Tie strength measure\")\n",
    "plt.xlabel(\"Contact rank by communication volume\")\n",
    "#plt.title(\"The relationship between communication volume and tie strength\")\n",
    "plt.savefig(\"../tex/figures/tie_str_rank.pdf\", dpi=300, bbox_inches='tight')"
   ]
  },
  {
   "cell_type": "code",
   "execution_count": 376,
   "metadata": {},
   "outputs": [
    {
     "data": {
      "text/plain": [
       "SpearmanrResult(correlation=-0.29376241033857237, pvalue=2.558534020413513e-139)"
      ]
     },
     "execution_count": 376,
     "metadata": {},
     "output_type": "execute_result"
    }
   ],
   "source": [
    "from scipy.stats import spearmanr\n",
    "\n",
    "spearmanr(all_df['rank'], all_df['q_total'])"
   ]
  },
  {
   "cell_type": "markdown",
   "metadata": {},
   "source": [
    "#### Top 5 contacts comparison"
   ]
  },
  {
   "cell_type": "code",
   "execution_count": 147,
   "metadata": {},
   "outputs": [],
   "source": [
    "top5_final = pd.read_pickle(\"/data2/tliu/relationship-prediction/data/top5_final.df\")"
   ]
  },
  {
   "cell_type": "code",
   "execution_count": 188,
   "metadata": {},
   "outputs": [],
   "source": [
    "top5_final['q_total'] = top5_final['contact_number'].map(q_total_dict)"
   ]
  },
  {
   "cell_type": "markdown",
   "metadata": {
    "heading_collapsed": true
   },
   "source": [
    "## Sandbox: out of sample test set results"
   ]
  },
  {
   "cell_type": "code",
   "execution_count": 12,
   "metadata": {
    "hidden": true
   },
   "outputs": [],
   "source": [
    "replace_dict_4clf = {\n",
    "    'contact_type': {\n",
    "        \"work\": 0,\n",
    "        \"friend\": 1,\n",
    "        \"family_live_separate\": 1,\n",
    "        \"task\": 2,\n",
    "        \"family_live_together\": 3,\n",
    "        \"sig_other\": 3\n",
    "    }\n",
    "}\n",
    "\n",
    "\n",
    "predict_targets = [\n",
    "    'contact_type',\n",
    "    'q1_want',\n",
    "    'q2_talk',\n",
    "    'q3_loan',\n",
    "    'q4_closeness'\n",
    "]\n",
    "\n",
    "with open(\"../data/age_features/top5_comm_train_features.df\", \"rb\") as train_f:\n",
    "    train_data_4clf = pickle.load(train_f)\n",
    "with open(\"../data/age_features/top5_comm_test_features.df\", \"rb\") as test_f:\n",
    "    test_data_4clf = pickle.load(test_f)\n",
    "\n",
    "train_data_4clf = train_data_4clf.replace(replace_dict_4clf)\n",
    "test_data_4clf = test_data_4clf.replace(replace_dict_4clf)\n",
    "test_y_4clf = test_data_4clf['contact_type']\n",
    "\n",
    "age_features = ['age', 'comm', 'age_comm', 'all']"
   ]
  },
  {
   "cell_type": "code",
   "execution_count": 19,
   "metadata": {
    "hidden": true
   },
   "outputs": [],
   "source": [
    "# load the results\n",
    "preds_4clf = []\n",
    "idx_4clf = []\n",
    "data_4clf = []\n",
    "\n",
    "# majority prediction\n",
    "majority_baseline = [1] * len(test_y_4clf)\n",
    "preds_4clf.append(majority_baseline)\n",
    "idx_4clf.append(\"majority baseline\")\n",
    "data_4clf.append(\"N/A\")\n",
    "\n",
    "# TODO random forest runs\n",
    "# for feat in age_features:\n",
    "#     with open(\"../model/rd3_results/top_5_contact_type_{}_rf_short.predict\".format(feat), 'rb') as pred_file:\n",
    "#         preds_4clf.append(pickle.load(pred_file))\n",
    "#         idx_4clf.append(\"Random forest\")\n",
    "#         data_4clf.append(feat)\n",
    "\n",
    "for feat in age_features:\n",
    "    with open(\"../model/age_results/{}_automl.predict\".format(feat), 'rb') as pred_file:\n",
    "        preds_4clf.append(pickle.load(pred_file))\n",
    "        idx_4clf.append(\"AutoML weighted\")\n",
    "        data_4clf.append(feat)\n",
    "        \n",
    "for feat in age_features:\n",
    "    with open(\"../model/age_results/{}_automl_macro.predict\".format(feat), 'rb') as pred_file:\n",
    "        preds_4clf.append(pickle.load(pred_file))\n",
    "        idx_4clf.append(\"AutoML macro\")\n",
    "        data_4clf.append(feat)"
   ]
  },
  {
   "cell_type": "code",
   "execution_count": 20,
   "metadata": {
    "hidden": true,
    "scrolled": true
   },
   "outputs": [
    {
     "data": {
      "text/html": [
       "<div>\n",
       "<style scoped>\n",
       "    .dataframe tbody tr th:only-of-type {\n",
       "        vertical-align: middle;\n",
       "    }\n",
       "\n",
       "    .dataframe tbody tr th {\n",
       "        vertical-align: top;\n",
       "    }\n",
       "\n",
       "    .dataframe thead th {\n",
       "        text-align: right;\n",
       "    }\n",
       "</style>\n",
       "<table border=\"1\" class=\"dataframe\">\n",
       "  <thead>\n",
       "    <tr style=\"text-align: right;\">\n",
       "      <th></th>\n",
       "      <th>model</th>\n",
       "      <th>features</th>\n",
       "      <th>accuracy</th>\n",
       "      <th>balanced accuracy</th>\n",
       "      <th>macro f1</th>\n",
       "      <th>micro f1</th>\n",
       "      <th>weighted f1</th>\n",
       "    </tr>\n",
       "  </thead>\n",
       "  <tbody>\n",
       "    <tr>\n",
       "      <th>0</th>\n",
       "      <td>majority baseline</td>\n",
       "      <td>N/A</td>\n",
       "      <td>0.5714</td>\n",
       "      <td>0.2500</td>\n",
       "      <td>0.1818</td>\n",
       "      <td>0.5714</td>\n",
       "      <td>0.4156</td>\n",
       "    </tr>\n",
       "    <tr>\n",
       "      <th>1</th>\n",
       "      <td>AutoML weighted</td>\n",
       "      <td>age</td>\n",
       "      <td>0.5714</td>\n",
       "      <td>0.2500</td>\n",
       "      <td>0.1818</td>\n",
       "      <td>0.5714</td>\n",
       "      <td>0.4156</td>\n",
       "    </tr>\n",
       "    <tr>\n",
       "      <th>2</th>\n",
       "      <td>AutoML weighted</td>\n",
       "      <td>comm</td>\n",
       "      <td>0.6524</td>\n",
       "      <td>0.5328</td>\n",
       "      <td>0.5404</td>\n",
       "      <td>0.6524</td>\n",
       "      <td>0.6433</td>\n",
       "    </tr>\n",
       "    <tr>\n",
       "      <th>3</th>\n",
       "      <td>AutoML weighted</td>\n",
       "      <td>age_comm</td>\n",
       "      <td>0.6810</td>\n",
       "      <td>0.5268</td>\n",
       "      <td>0.5388</td>\n",
       "      <td>0.6810</td>\n",
       "      <td>0.6592</td>\n",
       "    </tr>\n",
       "    <tr>\n",
       "      <th>4</th>\n",
       "      <td>AutoML weighted</td>\n",
       "      <td>all</td>\n",
       "      <td>0.6952</td>\n",
       "      <td>0.5183</td>\n",
       "      <td>0.5358</td>\n",
       "      <td>0.6952</td>\n",
       "      <td>0.6699</td>\n",
       "    </tr>\n",
       "    <tr>\n",
       "      <th>5</th>\n",
       "      <td>AutoML macro</td>\n",
       "      <td>age</td>\n",
       "      <td>0.4000</td>\n",
       "      <td>0.3301</td>\n",
       "      <td>0.3167</td>\n",
       "      <td>0.4000</td>\n",
       "      <td>0.4181</td>\n",
       "    </tr>\n",
       "    <tr>\n",
       "      <th>6</th>\n",
       "      <td>AutoML macro</td>\n",
       "      <td>comm</td>\n",
       "      <td>0.6667</td>\n",
       "      <td>0.5710</td>\n",
       "      <td>0.5701</td>\n",
       "      <td>0.6667</td>\n",
       "      <td>0.6620</td>\n",
       "    </tr>\n",
       "    <tr>\n",
       "      <th>7</th>\n",
       "      <td>AutoML macro</td>\n",
       "      <td>age_comm</td>\n",
       "      <td>0.6762</td>\n",
       "      <td>0.5481</td>\n",
       "      <td>0.5423</td>\n",
       "      <td>0.6762</td>\n",
       "      <td>0.6612</td>\n",
       "    </tr>\n",
       "    <tr>\n",
       "      <th>8</th>\n",
       "      <td>AutoML macro</td>\n",
       "      <td>all</td>\n",
       "      <td>0.6762</td>\n",
       "      <td>0.5580</td>\n",
       "      <td>0.5407</td>\n",
       "      <td>0.6762</td>\n",
       "      <td>0.6630</td>\n",
       "    </tr>\n",
       "  </tbody>\n",
       "</table>\n",
       "</div>"
      ],
      "text/plain": [
       "               model  features  accuracy  balanced accuracy  macro f1  \\\n",
       "0  majority baseline       N/A    0.5714             0.2500    0.1818   \n",
       "1    AutoML weighted       age    0.5714             0.2500    0.1818   \n",
       "2    AutoML weighted      comm    0.6524             0.5328    0.5404   \n",
       "3    AutoML weighted  age_comm    0.6810             0.5268    0.5388   \n",
       "4    AutoML weighted       all    0.6952             0.5183    0.5358   \n",
       "5       AutoML macro       age    0.4000             0.3301    0.3167   \n",
       "6       AutoML macro      comm    0.6667             0.5710    0.5701   \n",
       "7       AutoML macro  age_comm    0.6762             0.5481    0.5423   \n",
       "8       AutoML macro       all    0.6762             0.5580    0.5407   \n",
       "\n",
       "   micro f1  weighted f1  \n",
       "0    0.5714       0.4156  \n",
       "1    0.5714       0.4156  \n",
       "2    0.6524       0.6433  \n",
       "3    0.6810       0.6592  \n",
       "4    0.6952       0.6699  \n",
       "5    0.4000       0.4181  \n",
       "6    0.6667       0.6620  \n",
       "7    0.6762       0.6612  \n",
       "8    0.6762       0.6630  "
      ]
     },
     "metadata": {},
     "output_type": "display_data"
    },
    {
     "name": "stdout",
     "output_type": "stream",
     "text": [
      "\\begin{tabular}{llrrrrr}\n",
      "\\toprule\n",
      "             model &  features &  accuracy &  balanced accuracy &  macro f1 &  micro f1 &  weighted f1 \\\\\n",
      "\\midrule\n",
      " majority baseline &       N/A &    0.5714 &             0.2500 &    0.1818 &    0.5714 &       0.4156 \\\\\n",
      "   AutoML weighted &       age &    0.5714 &             0.2500 &    0.1818 &    0.5714 &       0.4156 \\\\\n",
      "   AutoML weighted &      comm &    0.6524 &             0.5328 &    0.5404 &    0.6524 &       0.6433 \\\\\n",
      "   AutoML weighted &  age\\_comm &    0.6810 &             0.5268 &    0.5388 &    0.6810 &       0.6592 \\\\\n",
      "   AutoML weighted &       all &    0.6952 &             0.5183 &    0.5358 &    0.6952 &       0.6699 \\\\\n",
      "      AutoML macro &       age &    0.4000 &             0.3301 &    0.3167 &    0.4000 &       0.4181 \\\\\n",
      "      AutoML macro &      comm &    0.6667 &             0.5710 &    0.5701 &    0.6667 &       0.6620 \\\\\n",
      "      AutoML macro &  age\\_comm &    0.6762 &             0.5481 &    0.5423 &    0.6762 &       0.6612 \\\\\n",
      "      AutoML macro &       all &    0.6762 &             0.5580 &    0.5407 &    0.6762 &       0.6630 \\\\\n",
      "\\bottomrule\n",
      "\\end{tabular}\n",
      "\n"
     ]
    }
   ],
   "source": [
    "metrics_4clf = build_clf_results(test_y_4clf, preds_4clf)\n",
    "results_4clf = pd.DataFrame(metrics_4clf, columns=metric_columns)\n",
    "\n",
    "results_4clf = pd.concat([pd.Series(idx_4clf, name='model'),\n",
    "                          pd.Series(data_4clf, name='features'),\n",
    "                          results_4clf], axis=1)\n",
    "pd.options.display.float_format = '{:,.4f}'.format\n",
    "\n",
    "display(results_4clf)\n",
    "print(results_4clf.to_latex(index=False))"
   ]
  }
 ],
 "metadata": {
  "kernelspec": {
   "display_name": "Python 3",
   "language": "python",
   "name": "python3"
  },
  "language_info": {
   "codemirror_mode": {
    "name": "ipython",
    "version": 3
   },
   "file_extension": ".py",
   "mimetype": "text/x-python",
   "name": "python",
   "nbconvert_exporter": "python",
   "pygments_lexer": "ipython3",
   "version": "3.7.2"
  }
 },
 "nbformat": 4,
 "nbformat_minor": 2
}
