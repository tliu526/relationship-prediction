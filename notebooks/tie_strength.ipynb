{
 "cells": [
  {
   "cell_type": "markdown",
   "metadata": {},
   "source": [
    "# Tie Strength Regression"
   ]
  },
  {
   "cell_type": "code",
   "execution_count": 1,
   "metadata": {},
   "outputs": [],
   "source": [
    "%matplotlib inline\n",
    "\n",
    "from collections import Counter\n",
    "import inspect\n",
    "import os\n",
    "import pickle\n",
    "import sys\n",
    "\n",
    "import matplotlib.pyplot as plt\n",
    "import numpy as np\n",
    "import pandas as pd\n",
    "\n",
    "from imblearn.over_sampling import SMOTE, RandomOverSampler\n",
    "from imblearn.under_sampling import RandomUnderSampler\n",
    "\n",
    "from sklearn.ensemble import RandomForestClassifier\n",
    "from sklearn.model_selection import GroupKFold, cross_val_score\n",
    "import sklearn.metrics as sk_metrics\n",
    "from sklearn.svm import SVC\n",
    "\n",
    "currentdir = os.path.dirname(os.path.abspath(inspect.getfile(inspect.currentframe())))\n",
    "parentdir = os.path.dirname(currentdir)\n",
    "sys.path.insert(0,parentdir) \n",
    "\n",
    "from model.model_util import *\n"
   ]
  },
  {
   "cell_type": "code",
   "execution_count": 2,
   "metadata": {},
   "outputs": [
    {
     "data": {
      "text/html": [
       "\n",
       "<script>\n",
       "  function code_toggle() {\n",
       "    if (code_shown){\n",
       "      $('div.input').hide('500');\n",
       "      $('#toggleButton').val('Show Code')\n",
       "    } else {\n",
       "      $('div.input').show('500');\n",
       "      $('#toggleButton').val('Hide Code')\n",
       "    }\n",
       "    code_shown = !code_shown\n",
       "  }\n",
       "\n",
       "  $( document ).ready(function(){\n",
       "    code_shown=false;\n",
       "    $('div.input').hide()\n",
       "  });\n",
       "</script>\n",
       "<form action=\"javascript:code_toggle()\"><input type=\"submit\" id=\"toggleButton\" value=\"Show Code\"></form>\n"
      ],
      "text/plain": [
       "<IPython.core.display.HTML object>"
      ]
     },
     "execution_count": 2,
     "metadata": {},
     "output_type": "execute_result"
    }
   ],
   "source": [
    "# Code hider, source: http://chris-said.io/2016/02/13/how-to-make-polished-jupyter-presentations-with-optional-code-visibility/\n",
    "from IPython.display import HTML\n",
    "\n",
    "HTML('''\n",
    "<script>\n",
    "  function code_toggle() {\n",
    "    if (code_shown){\n",
    "      $('div.input').hide('500');\n",
    "      $('#toggleButton').val('Show Code')\n",
    "    } else {\n",
    "      $('div.input').show('500');\n",
    "      $('#toggleButton').val('Hide Code')\n",
    "    }\n",
    "    code_shown = !code_shown\n",
    "  }\n",
    "\n",
    "  $( document ).ready(function(){\n",
    "    code_shown=false;\n",
    "    $('div.input').hide()\n",
    "  });\n",
    "</script>\n",
    "<form action=\"javascript:code_toggle()\"><input type=\"submit\" id=\"toggleButton\" value=\"Show Code\"></form>\n",
    "''')"
   ]
  },
  {
   "cell_type": "code",
   "execution_count": 9,
   "metadata": {},
   "outputs": [],
   "source": [
    "def print_reg_metrics(test_y_dict, pred_dict):\n",
    "    \"\"\"\n",
    "    prints the MSE and R^2 of the given prediction dictionaries.\n",
    "    \"\"\"\n",
    "    \n",
    "    targets = pred_dict.keys()\n",
    "    # R^2, MSE\n",
    "    metrics = np.zeros((2, len(targets)))\n",
    "    for i, target in enumerate(targets):\n",
    "        metrics[0, i] = sk_metrics.r2_score(test_y_dict[target], pred_dict[target]) \n",
    "        metrics[1, i] = sk_metrics.mean_squared_error(test_y_dict[target], pred_dict[target]) \n",
    "        \n",
    "    metrics_df = pd.DataFrame(metrics, index=['R^2', 'MSE'], columns=targets)\n",
    "    display(metrics_df)"
   ]
  },
  {
   "cell_type": "code",
   "execution_count": 29,
   "metadata": {
    "scrolled": true
   },
   "outputs": [
    {
     "name": "stderr",
     "output_type": "stream",
     "text": [
      "Could not delete output dir: /tmp/autosklearn_output_32489_7925\n",
      "Could not delete tmp dir: /tmp/autosklearn_tmp_32489_7925\n",
      "Could not delete output dir: /tmp/autosklearn_output_586_5161\n",
      "Could not delete tmp dir: /tmp/autosklearn_tmp_586_5161\n",
      "Could not delete output dir: /tmp/autosklearn_output_31544_4532\n",
      "Could not delete tmp dir: /tmp/autosklearn_tmp_31544_4532\n",
      "Could not delete output dir: /tmp/autosklearn_output_31096_5338\n",
      "Could not delete tmp dir: /tmp/autosklearn_tmp_31096_5338\n"
     ]
    }
   ],
   "source": [
    "# load models\n",
    "features = ['baseline', 'all_orig']\n",
    "\n",
    "rf_models = []\n",
    "rf_preds = []\n",
    "\n",
    "# baseline\n",
    "for feat in features:\n",
    "    with open(\"../model/final_results/tie_str/tie_str_{}_rf_reg.automl\".format(feat), 'rb') as model_file:\n",
    "            rf_models.append(pickle.load(model_file))\n",
    "    with open(\"../model/final_results/tie_str/tie_str_{}_rf_reg.predict\".format(feat), 'rb') as pred_file:\n",
    "        rf_preds.append(pickle.load(pred_file))\n",
    "\n",
    "automl_models = []\n",
    "automl_preds = []\n",
    "\n",
    "# autoML\n",
    "for feat in features:\n",
    "    with open(\"../model/final_results/tie_str/tie_str_{}_automl_reg.automl\".format(feat), 'rb') as model_file:\n",
    "        automl_models.append(pickle.load(model_file))\n",
    "    with open(\"../model/final_results/tie_str/tie_str_{}_automl_reg.predict\".format(feat), 'rb') as pred_file:\n",
    "        automl_preds.append(pickle.load(pred_file))"
   ]
  },
  {
   "cell_type": "code",
   "execution_count": 30,
   "metadata": {},
   "outputs": [],
   "source": [
    "# load data\n",
    "train_data = pickle.load(open('../data/final_features/all_tie_str_all_train_features.df', 'rb'))\n",
    "test_data =  pickle.load(open('../data/final_features/all_tie_str_all_test_features.df', 'rb'))\n",
    "\n",
    "predict_targets = [\n",
    "    'contact_type',\n",
    "    'q1_want',\n",
    "    'q2_talk',\n",
    "    'q3_loan',\n",
    "    'q4_closeness',\n",
    "    'tie_str_score',\n",
    "    'tie_str_rank',\n",
    "    'tie_str_class'\n",
    "]\n",
    "\n",
    "train_y = train_data['tie_str_score']\n",
    "train_X = train_data.drop(['contact_type', 'pid', 'combined_hash'] + predict_targets, axis=1, errors='ignore')\n",
    "test_y = test_data['tie_str_score']\n",
    "test_X = test_data.drop(['contact_type', 'pid', 'combined_hash'] + predict_targets, axis=1, errors='ignore')"
   ]
  },
  {
   "cell_type": "markdown",
   "metadata": {},
   "source": [
    "## Results"
   ]
  },
  {
   "cell_type": "code",
   "execution_count": 31,
   "metadata": {},
   "outputs": [],
   "source": [
    "actual_dict = {}\n",
    "pred_dict = {}"
   ]
  },
  {
   "cell_type": "code",
   "execution_count": 32,
   "metadata": {},
   "outputs": [],
   "source": [
    "actual_dict['baseline RF'] = test_y\n",
    "actual_dict['all RF'] = test_y\n",
    "actual_dict['baseline AutoML'] = test_y\n",
    "actual_dict['all AutoML'] = test_y\n",
    "\n",
    "pred_dict['baseline RF'] = rf_preds[0]\n",
    "pred_dict['all RF'] = rf_preds[1]\n",
    "pred_dict['baseline AutoML'] = automl_preds[0]\n",
    "pred_dict['all AutoML'] = automl_preds[1]"
   ]
  },
  {
   "cell_type": "code",
   "execution_count": 33,
   "metadata": {},
   "outputs": [
    {
     "data": {
      "text/html": [
       "<div>\n",
       "<style scoped>\n",
       "    .dataframe tbody tr th:only-of-type {\n",
       "        vertical-align: middle;\n",
       "    }\n",
       "\n",
       "    .dataframe tbody tr th {\n",
       "        vertical-align: top;\n",
       "    }\n",
       "\n",
       "    .dataframe thead th {\n",
       "        text-align: right;\n",
       "    }\n",
       "</style>\n",
       "<table border=\"1\" class=\"dataframe\">\n",
       "  <thead>\n",
       "    <tr style=\"text-align: right;\">\n",
       "      <th></th>\n",
       "      <th>baseline RF</th>\n",
       "      <th>all RF</th>\n",
       "      <th>baseline AutoML</th>\n",
       "      <th>all AutoML</th>\n",
       "    </tr>\n",
       "  </thead>\n",
       "  <tbody>\n",
       "    <tr>\n",
       "      <th>R^2</th>\n",
       "      <td>0.292312</td>\n",
       "      <td>0.281440</td>\n",
       "      <td>0.295846</td>\n",
       "      <td>0.282211</td>\n",
       "    </tr>\n",
       "    <tr>\n",
       "      <th>MSE</th>\n",
       "      <td>39.569794</td>\n",
       "      <td>40.177694</td>\n",
       "      <td>39.372175</td>\n",
       "      <td>40.134616</td>\n",
       "    </tr>\n",
       "  </tbody>\n",
       "</table>\n",
       "</div>"
      ],
      "text/plain": [
       "     baseline RF     all RF  baseline AutoML  all AutoML\n",
       "R^2     0.292312   0.281440         0.295846    0.282211\n",
       "MSE    39.569794  40.177694        39.372175   40.134616"
      ]
     },
     "metadata": {},
     "output_type": "display_data"
    }
   ],
   "source": [
    "print_reg_metrics(actual_dict, pred_dict)"
   ]
  },
  {
   "cell_type": "markdown",
   "metadata": {},
   "source": [
    "## Model analysis"
   ]
  },
  {
   "cell_type": "code",
   "execution_count": null,
   "metadata": {},
   "outputs": [],
   "source": []
  }
 ],
 "metadata": {
  "kernelspec": {
   "display_name": "Python 3",
   "language": "python",
   "name": "python3"
  },
  "language_info": {
   "codemirror_mode": {
    "name": "ipython",
    "version": 3
   },
   "file_extension": ".py",
   "mimetype": "text/x-python",
   "name": "python",
   "nbconvert_exporter": "python",
   "pygments_lexer": "ipython3",
   "version": "3.7.2"
  }
 },
 "nbformat": 4,
 "nbformat_minor": 2
}
