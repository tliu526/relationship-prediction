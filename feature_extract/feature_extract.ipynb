{
 "cells": [
  {
   "cell_type": "markdown",
   "metadata": {},
   "source": [
    "<h1 id=\"tocheading\">Table of Contents</h1>\n",
    "<div id=\"toc\"></div>"
   ]
  },
  {
   "cell_type": "code",
   "execution_count": 1,
   "metadata": {},
   "outputs": [
    {
     "data": {
      "text/html": [
       "\n",
       "<script>\n",
       "  function code_toggle() {\n",
       "    if (code_shown){\n",
       "      $('div.input').hide('500');\n",
       "      $('#toggleButton').val('Show Code')\n",
       "    } else {\n",
       "      $('div.input').show('500');\n",
       "      $('#toggleButton').val('Hide Code')\n",
       "    }\n",
       "    code_shown = !code_shown\n",
       "  }\n",
       "\n",
       "  $( document ).ready(function(){\n",
       "    code_shown=false;\n",
       "    $('div.input').hide()\n",
       "  });\n",
       "</script>\n",
       "<form action=\"javascript:code_toggle()\"><input type=\"submit\" id=\"toggleButton\" value=\"Show Code\"></form>\n"
      ],
      "text/plain": [
       "<IPython.core.display.HTML object>"
      ]
     },
     "execution_count": 1,
     "metadata": {},
     "output_type": "execute_result"
    }
   ],
   "source": [
    "# Code hider, source: http://chris-said.io/2016/02/13/how-to-make-polished-jupyter-presentations-with-optional-code-visibility/\n",
    "from IPython.display import HTML\n",
    "\n",
    "HTML('''\n",
    "<script>\n",
    "  function code_toggle() {\n",
    "    if (code_shown){\n",
    "      $('div.input').hide('500');\n",
    "      $('#toggleButton').val('Show Code')\n",
    "    } else {\n",
    "      $('div.input').show('500');\n",
    "      $('#toggleButton').val('Hide Code')\n",
    "    }\n",
    "    code_shown = !code_shown\n",
    "  }\n",
    "\n",
    "  $( document ).ready(function(){\n",
    "    code_shown=false;\n",
    "    $('div.input').hide()\n",
    "  });\n",
    "</script>\n",
    "<form action=\"javascript:code_toggle()\"><input type=\"submit\" id=\"toggleButton\" value=\"Show Code\"></form>\n",
    "''')"
   ]
  },
  {
   "cell_type": "code",
   "execution_count": 2,
   "metadata": {},
   "outputs": [
    {
     "data": {
      "application/javascript": [
       "// ToC script\n",
       "$.getScript('https://kmahelona.github.io/ipython_notebook_goodies/ipython_notebook_toc.js')\n"
      ],
      "text/plain": [
       "<IPython.core.display.Javascript object>"
      ]
     },
     "metadata": {},
     "output_type": "display_data"
    }
   ],
   "source": [
    "%%javascript\n",
    "// ToC script\n",
    "$.getScript('https://kmahelona.github.io/ipython_notebook_goodies/ipython_notebook_toc.js')"
   ]
  },
  {
   "cell_type": "code",
   "execution_count": 3,
   "metadata": {},
   "outputs": [],
   "source": [
    "%matplotlib inline\n",
    "\n",
    "import os\n",
    "import pickle\n",
    "\n",
    "import matplotlib.pyplot as plt\n",
    "import numpy as np\n",
    "import pandas as pd\n",
    "\n",
    "from feature_extract import *\n",
    "\n"
   ]
  },
  {
   "cell_type": "code",
   "execution_count": 40,
   "metadata": {},
   "outputs": [],
   "source": [
    "plt.rcParams[\"figure.figsize\"] = [12,6]\n",
    "pd.options.display.float_format = '{:,.3f}'.format"
   ]
  },
  {
   "cell_type": "markdown",
   "metadata": {},
   "source": [
    "# Zimmerman paper notes\n",
    "\n",
    "[Min et al: Mining Smartphone Data to Classify Life-Facets of Social Relationships](https://dl.acm.org/citation.cfm?id=2441810)\n",
    "\n",
    "[pdf](https://disco.ethz.ch/courses/fs14/seminar/paper/Philipp/4.pdf)\n",
    "\n",
    "\n",
    "## Mobile communication pattern features\n",
    "\n",
    "- intensity and regularity\n",
    "    - \\# days {call, sms} / days logged\n",
    "    - {avg, std} {out, in} {call, sms} per day\n",
    "- temporal tendency\n",
    "    - \\# {call, sms} at {time of day, day of week} / total\n",
    "- channel selection\n",
    "    - out comm / total comm\n",
    "    - \\# calls / total comm\n",
    "- avoidance\n",
    "    - missed calls / {out, in} calls\n",
    "    - in SMS / out SMS\n",
    "    \n",
    "**note**: total in this context is in terms of individual  "
   ]
  },
  {
   "cell_type": "code",
   "execution_count": 41,
   "metadata": {},
   "outputs": [],
   "source": [
    "# load data\n",
    "comm_df = pickle.load(open(\"../data/top_10_contacts.df\", \"rb\"))\n",
    "emm_df = pickle.load(open(\"../data/emm_raw.df\", \"rb\"))"
   ]
  },
  {
   "cell_type": "code",
   "execution_count": 42,
   "metadata": {
    "scrolled": false
   },
   "outputs": [],
   "source": [
    "# build features\n",
    "comm_features = comm_feature_extract(comm_df, emm_df)"
   ]
  },
  {
   "cell_type": "code",
   "execution_count": 43,
   "metadata": {},
   "outputs": [],
   "source": [
    "# for unit testing\n",
    "# test_df = comm_df.loc[comm_df['combined_hash'].isin(['1002060a7f4fe408f8137f12982e5d64cf34693',\n",
    "#  '10413044ad5f1183e38f5ddf17259326e976231'])]\n",
    "\n",
    "# display(test_df)\n",
    "# pickle.dump(test_df, open('test_comm.df', 'wb'), -1)\n",
    "\n",
    "# emm_df.head()\n",
    "\n",
    "# test_emm = emm_df.loc[emm_df['pid'].isin(['1002060', '1041304'])]\n",
    "\n",
    "# pickle.dump(test_emm, open(\"test_emm.df\", \"wb\"), -1)"
   ]
  },
  {
   "cell_type": "markdown",
   "metadata": {},
   "source": [
    "# Regularity: comm days / total days ratio\n",
    "\n",
    "Features:\n",
    "- `total_calls`\n",
    "- `total_sms`\n",
    "- `total_call_days`\n",
    "- `total_sms_days`\n",
    "- `reg_call`: regularity of calls, total_call_days / total_days\n",
    "- `reg_sms`: regularity of sms, total_sms_days / total_days\n",
    "- `reg_comm`: regularity of communication, total_comm_days / total_days"
   ]
  },
  {
   "cell_type": "code",
   "execution_count": 44,
   "metadata": {
    "scrolled": false
   },
   "outputs": [
    {
     "data": {
      "image/png": "[encoded data removed]",
      "text/plain": [
       "<Figure size 864x432 with 1 Axes>"
      ]
     },
     "metadata": {
      "needs_background": "light"
     },
     "output_type": "display_data"
    }
   ],
   "source": [
    "reg_feature_mean = comm_features.groupby('contact_type')[['reg_call', 'reg_sms', 'reg_comm']].mean()\n",
    "reg_feature_std = comm_features.groupby('contact_type')[['reg_call', 'reg_sms', 'reg_comm']].std()\n",
    "\n",
    "reg_feature_mean.plot.bar(rot=0, yerr=reg_feature_std)\n",
    "plt.title(\"Regularity communication features per contact type\")\n",
    "plt.ylabel(\"# days of communication / total days logged\")\n",
    "plt.show()"
   ]
  },
  {
   "cell_type": "code",
   "execution_count": 45,
   "metadata": {},
   "outputs": [
    {
     "data": {
      "image/png": "[encoded data removed]",
      "text/plain": [
       "<Figure size 864x432 with 1 Axes>"
      ]
     },
     "metadata": {
      "needs_background": "light"
     },
     "output_type": "display_data"
    }
   ],
   "source": [
    "comm_features.boxplot(column='reg_call', by='contact_type')\n",
    "plt.title(\"Call regularity by contact type\")\n",
    "plt.show()"
   ]
  },
  {
   "cell_type": "code",
   "execution_count": 46,
   "metadata": {
    "scrolled": false
   },
   "outputs": [
    {
     "data": {
      "image/png": "[encoded data removed]",
      "text/plain": [
       "<Figure size 864x432 with 1 Axes>"
      ]
     },
     "metadata": {
      "needs_background": "light"
     },
     "output_type": "display_data"
    }
   ],
   "source": [
    "comm_features.boxplot(column='reg_sms', by='contact_type')\n",
    "plt.title(\"SMS regularity by contact type\")\n",
    "plt.show()"
   ]
  },
  {
   "cell_type": "code",
   "execution_count": 47,
   "metadata": {},
   "outputs": [
    {
     "data": {
      "image/png": "[encoded data removed]",
      "text/plain": [
       "<Figure size 864x432 with 1 Axes>"
      ]
     },
     "metadata": {
      "needs_background": "light"
     },
     "output_type": "display_data"
    }
   ],
   "source": [
    "comm_features.boxplot(column='reg_comm', by='contact_type')\n",
    "plt.title(\"communication regularity by contact type\")\n",
    "plt.show()"
   ]
  },
  {
   "cell_type": "markdown",
   "metadata": {},
   "source": [
    "# Temporal tendency: time of day, day of week\n",
    "\n",
    "Features:\n",
    "- `time_of_day_{0-5}_{call, sms}`: # {call, sms} at time of day / total\n",
    "- `day_{0-6}_{call, sms}`: # {call, sms} at day of week / total"
   ]
  },
  {
   "cell_type": "markdown",
   "metadata": {},
   "source": [
    "## Temporal tendency: SMS"
   ]
  },
  {
   "cell_type": "code",
   "execution_count": 107,
   "metadata": {},
   "outputs": [
    {
     "data": {
      "text/html": [
       "<div>\n",
       "<style scoped>\n",
       "    .dataframe tbody tr th:only-of-type {\n",
       "        vertical-align: middle;\n",
       "    }\n",
       "\n",
       "    .dataframe tbody tr th {\n",
       "        vertical-align: top;\n",
       "    }\n",
       "\n",
       "    .dataframe thead th {\n",
       "        text-align: right;\n",
       "    }\n",
       "</style>\n",
       "<table border=\"1\" class=\"dataframe\">\n",
       "  <thead>\n",
       "    <tr style=\"text-align: right;\">\n",
       "      <th>contact_type</th>\n",
       "      <th>family_live_separate</th>\n",
       "      <th>family_live_together</th>\n",
       "      <th>friend</th>\n",
       "      <th>sig_other</th>\n",
       "      <th>task</th>\n",
       "      <th>work</th>\n",
       "    </tr>\n",
       "  </thead>\n",
       "  <tbody>\n",
       "    <tr>\n",
       "      <th>time_of_day_0_sms</th>\n",
       "      <td>0.024</td>\n",
       "      <td>0.043</td>\n",
       "      <td>0.040</td>\n",
       "      <td>0.045</td>\n",
       "      <td>0.020</td>\n",
       "      <td>0.044</td>\n",
       "    </tr>\n",
       "    <tr>\n",
       "      <th>time_of_day_1_sms</th>\n",
       "      <td>0.024</td>\n",
       "      <td>0.013</td>\n",
       "      <td>0.023</td>\n",
       "      <td>0.027</td>\n",
       "      <td>0.031</td>\n",
       "      <td>0.033</td>\n",
       "    </tr>\n",
       "    <tr>\n",
       "      <th>time_of_day_2_sms</th>\n",
       "      <td>0.181</td>\n",
       "      <td>0.181</td>\n",
       "      <td>0.176</td>\n",
       "      <td>0.199</td>\n",
       "      <td>0.311</td>\n",
       "      <td>0.236</td>\n",
       "    </tr>\n",
       "    <tr>\n",
       "      <th>time_of_day_3_sms</th>\n",
       "      <td>0.277</td>\n",
       "      <td>0.283</td>\n",
       "      <td>0.256</td>\n",
       "      <td>0.281</td>\n",
       "      <td>0.321</td>\n",
       "      <td>0.267</td>\n",
       "    </tr>\n",
       "    <tr>\n",
       "      <th>time_of_day_4_sms</th>\n",
       "      <td>0.301</td>\n",
       "      <td>0.284</td>\n",
       "      <td>0.307</td>\n",
       "      <td>0.284</td>\n",
       "      <td>0.213</td>\n",
       "      <td>0.290</td>\n",
       "    </tr>\n",
       "    <tr>\n",
       "      <th>time_of_day_5_sms</th>\n",
       "      <td>0.193</td>\n",
       "      <td>0.195</td>\n",
       "      <td>0.198</td>\n",
       "      <td>0.164</td>\n",
       "      <td>0.103</td>\n",
       "      <td>0.129</td>\n",
       "    </tr>\n",
       "  </tbody>\n",
       "</table>\n",
       "</div>"
      ],
      "text/plain": [
       "contact_type       family_live_separate  family_live_together  friend  \\\n",
       "time_of_day_0_sms                 0.024                 0.043   0.040   \n",
       "time_of_day_1_sms                 0.024                 0.013   0.023   \n",
       "time_of_day_2_sms                 0.181                 0.181   0.176   \n",
       "time_of_day_3_sms                 0.277                 0.283   0.256   \n",
       "time_of_day_4_sms                 0.301                 0.284   0.307   \n",
       "time_of_day_5_sms                 0.193                 0.195   0.198   \n",
       "\n",
       "contact_type       sig_other  task  work  \n",
       "time_of_day_0_sms      0.045 0.020 0.044  \n",
       "time_of_day_1_sms      0.027 0.031 0.033  \n",
       "time_of_day_2_sms      0.199 0.311 0.236  \n",
       "time_of_day_3_sms      0.281 0.321 0.267  \n",
       "time_of_day_4_sms      0.284 0.213 0.290  \n",
       "time_of_day_5_sms      0.164 0.103 0.129  "
      ]
     },
     "metadata": {},
     "output_type": "display_data"
    },
    {
     "data": {
      "text/html": [
       "<div>\n",
       "<style scoped>\n",
       "    .dataframe tbody tr th:only-of-type {\n",
       "        vertical-align: middle;\n",
       "    }\n",
       "\n",
       "    .dataframe tbody tr th {\n",
       "        vertical-align: top;\n",
       "    }\n",
       "\n",
       "    .dataframe thead th {\n",
       "        text-align: right;\n",
       "    }\n",
       "</style>\n",
       "<table border=\"1\" class=\"dataframe\">\n",
       "  <thead>\n",
       "    <tr style=\"text-align: right;\">\n",
       "      <th>contact_type</th>\n",
       "      <th>family_live_separate</th>\n",
       "      <th>family_live_together</th>\n",
       "      <th>friend</th>\n",
       "      <th>sig_other</th>\n",
       "      <th>task</th>\n",
       "      <th>work</th>\n",
       "    </tr>\n",
       "  </thead>\n",
       "  <tbody>\n",
       "    <tr>\n",
       "      <th>day_0_sms</th>\n",
       "      <td>0.111</td>\n",
       "      <td>0.136</td>\n",
       "      <td>0.122</td>\n",
       "      <td>0.157</td>\n",
       "      <td>0.139</td>\n",
       "      <td>0.170</td>\n",
       "    </tr>\n",
       "    <tr>\n",
       "      <th>day_1_sms</th>\n",
       "      <td>0.139</td>\n",
       "      <td>0.158</td>\n",
       "      <td>0.132</td>\n",
       "      <td>0.165</td>\n",
       "      <td>0.155</td>\n",
       "      <td>0.137</td>\n",
       "    </tr>\n",
       "    <tr>\n",
       "      <th>day_2_sms</th>\n",
       "      <td>0.124</td>\n",
       "      <td>0.137</td>\n",
       "      <td>0.140</td>\n",
       "      <td>0.148</td>\n",
       "      <td>0.164</td>\n",
       "      <td>0.167</td>\n",
       "    </tr>\n",
       "    <tr>\n",
       "      <th>day_3_sms</th>\n",
       "      <td>0.151</td>\n",
       "      <td>0.130</td>\n",
       "      <td>0.150</td>\n",
       "      <td>0.172</td>\n",
       "      <td>0.161</td>\n",
       "      <td>0.146</td>\n",
       "    </tr>\n",
       "    <tr>\n",
       "      <th>day_4_sms</th>\n",
       "      <td>0.184</td>\n",
       "      <td>0.160</td>\n",
       "      <td>0.186</td>\n",
       "      <td>0.150</td>\n",
       "      <td>0.162</td>\n",
       "      <td>0.191</td>\n",
       "    </tr>\n",
       "    <tr>\n",
       "      <th>day_5_sms</th>\n",
       "      <td>0.150</td>\n",
       "      <td>0.140</td>\n",
       "      <td>0.143</td>\n",
       "      <td>0.121</td>\n",
       "      <td>0.142</td>\n",
       "      <td>0.099</td>\n",
       "    </tr>\n",
       "    <tr>\n",
       "      <th>day_6_sms</th>\n",
       "      <td>0.140</td>\n",
       "      <td>0.138</td>\n",
       "      <td>0.127</td>\n",
       "      <td>0.088</td>\n",
       "      <td>0.076</td>\n",
       "      <td>0.090</td>\n",
       "    </tr>\n",
       "  </tbody>\n",
       "</table>\n",
       "</div>"
      ],
      "text/plain": [
       "contact_type  family_live_separate  family_live_together  friend  sig_other  \\\n",
       "day_0_sms                    0.111                 0.136   0.122      0.157   \n",
       "day_1_sms                    0.139                 0.158   0.132      0.165   \n",
       "day_2_sms                    0.124                 0.137   0.140      0.148   \n",
       "day_3_sms                    0.151                 0.130   0.150      0.172   \n",
       "day_4_sms                    0.184                 0.160   0.186      0.150   \n",
       "day_5_sms                    0.150                 0.140   0.143      0.121   \n",
       "day_6_sms                    0.140                 0.138   0.127      0.088   \n",
       "\n",
       "contact_type  task  work  \n",
       "day_0_sms    0.139 0.170  \n",
       "day_1_sms    0.155 0.137  \n",
       "day_2_sms    0.164 0.167  \n",
       "day_3_sms    0.161 0.146  \n",
       "day_4_sms    0.162 0.191  \n",
       "day_5_sms    0.142 0.099  \n",
       "day_6_sms    0.076 0.090  "
      ]
     },
     "metadata": {},
     "output_type": "display_data"
    }
   ],
   "source": [
    "sms_features = comm_features.loc[comm_features['total_sms'] > 0]\n",
    "time_of_day_sms = [\"time_of_day_{}_sms\".format(x) for x in range(6)]\n",
    "day_of_week_sms = [\"day_{}_sms\".format(x) for x in range(7)]\n",
    "\n",
    "time_day_sms_mean = sms_features.groupby('contact_type')[time_of_day_sms].mean().T\n",
    "time_day_sms_std = sms_features.groupby('contact_type')[time_of_day_sms].std()\n",
    "display(time_day_sms_mean)\n",
    "\n",
    "day_wk_sms_mean = sms_features.groupby('contact_type')[day_of_week_sms].mean().T\n",
    "day_wk_sms_std = sms_features.groupby('contact_type')[day_of_week_sms].std()\n",
    "\n",
    "display(day_wk_sms_mean)"
   ]
  },
  {
   "cell_type": "code",
   "execution_count": 108,
   "metadata": {},
   "outputs": [
    {
     "data": {
      "image/png": "[encoded data removed]",
      "text/plain": [
       "<Figure size 864x432 with 1 Axes>"
      ]
     },
     "metadata": {
      "needs_background": "light"
     },
     "output_type": "display_data"
    }
   ],
   "source": [
    "day_wk_sms_mean.T.plot.bar(rot=0, yerr=day_wk_sms_std)\n",
    "plt.legend(bbox_to_anchor=(1.05, 1))\n",
    "plt.title(\"Day of the week SMS\")\n",
    "plt.show()"
   ]
  },
  {
   "cell_type": "code",
   "execution_count": 109,
   "metadata": {},
   "outputs": [
    {
     "data": {
      "image/png": "[encoded data removed]",
      "text/plain": [
       "<Figure size 864x432 with 1 Axes>"
      ]
     },
     "metadata": {
      "needs_background": "light"
     },
     "output_type": "display_data"
    }
   ],
   "source": [
    "time_day_sms_mean.T.plot.bar(rot=0, yerr=time_day_sms_std)\n",
    "plt.legend(bbox_to_anchor=(1.05, 1))\n",
    "plt.title(\"Time of day SMS\")\n",
    "plt.show()"
   ]
  },
  {
   "cell_type": "markdown",
   "metadata": {},
   "source": [
    "## Temporal tendency: calls"
   ]
  },
  {
   "cell_type": "code",
   "execution_count": 111,
   "metadata": {},
   "outputs": [
    {
     "data": {
      "text/html": [
       "<div>\n",
       "<style scoped>\n",
       "    .dataframe tbody tr th:only-of-type {\n",
       "        vertical-align: middle;\n",
       "    }\n",
       "\n",
       "    .dataframe tbody tr th {\n",
       "        vertical-align: top;\n",
       "    }\n",
       "\n",
       "    .dataframe thead th {\n",
       "        text-align: right;\n",
       "    }\n",
       "</style>\n",
       "<table border=\"1\" class=\"dataframe\">\n",
       "  <thead>\n",
       "    <tr style=\"text-align: right;\">\n",
       "      <th>contact_type</th>\n",
       "      <th>family_live_separate</th>\n",
       "      <th>family_live_together</th>\n",
       "      <th>friend</th>\n",
       "      <th>sig_other</th>\n",
       "      <th>task</th>\n",
       "      <th>work</th>\n",
       "    </tr>\n",
       "  </thead>\n",
       "  <tbody>\n",
       "    <tr>\n",
       "      <th>time_of_day_0_calls</th>\n",
       "      <td>0.005</td>\n",
       "      <td>0.029</td>\n",
       "      <td>0.025</td>\n",
       "      <td>0.030</td>\n",
       "      <td>0.015</td>\n",
       "      <td>0.064</td>\n",
       "    </tr>\n",
       "    <tr>\n",
       "      <th>time_of_day_1_calls</th>\n",
       "      <td>0.013</td>\n",
       "      <td>0.024</td>\n",
       "      <td>0.017</td>\n",
       "      <td>0.024</td>\n",
       "      <td>0.016</td>\n",
       "      <td>0.031</td>\n",
       "    </tr>\n",
       "    <tr>\n",
       "      <th>time_of_day_2_calls</th>\n",
       "      <td>0.173</td>\n",
       "      <td>0.164</td>\n",
       "      <td>0.157</td>\n",
       "      <td>0.146</td>\n",
       "      <td>0.291</td>\n",
       "      <td>0.288</td>\n",
       "    </tr>\n",
       "    <tr>\n",
       "      <th>time_of_day_3_calls</th>\n",
       "      <td>0.327</td>\n",
       "      <td>0.257</td>\n",
       "      <td>0.252</td>\n",
       "      <td>0.297</td>\n",
       "      <td>0.365</td>\n",
       "      <td>0.298</td>\n",
       "    </tr>\n",
       "    <tr>\n",
       "      <th>time_of_day_4_calls</th>\n",
       "      <td>0.349</td>\n",
       "      <td>0.357</td>\n",
       "      <td>0.370</td>\n",
       "      <td>0.363</td>\n",
       "      <td>0.216</td>\n",
       "      <td>0.247</td>\n",
       "    </tr>\n",
       "    <tr>\n",
       "      <th>time_of_day_5_calls</th>\n",
       "      <td>0.132</td>\n",
       "      <td>0.170</td>\n",
       "      <td>0.179</td>\n",
       "      <td>0.140</td>\n",
       "      <td>0.097</td>\n",
       "      <td>0.072</td>\n",
       "    </tr>\n",
       "  </tbody>\n",
       "</table>\n",
       "</div>"
      ],
      "text/plain": [
       "contact_type         family_live_separate  family_live_together  friend  \\\n",
       "time_of_day_0_calls                 0.005                 0.029   0.025   \n",
       "time_of_day_1_calls                 0.013                 0.024   0.017   \n",
       "time_of_day_2_calls                 0.173                 0.164   0.157   \n",
       "time_of_day_3_calls                 0.327                 0.257   0.252   \n",
       "time_of_day_4_calls                 0.349                 0.357   0.370   \n",
       "time_of_day_5_calls                 0.132                 0.170   0.179   \n",
       "\n",
       "contact_type         sig_other  task  work  \n",
       "time_of_day_0_calls      0.030 0.015 0.064  \n",
       "time_of_day_1_calls      0.024 0.016 0.031  \n",
       "time_of_day_2_calls      0.146 0.291 0.288  \n",
       "time_of_day_3_calls      0.297 0.365 0.298  \n",
       "time_of_day_4_calls      0.363 0.216 0.247  \n",
       "time_of_day_5_calls      0.140 0.097 0.072  "
      ]
     },
     "metadata": {},
     "output_type": "display_data"
    },
    {
     "data": {
      "text/html": [
       "<div>\n",
       "<style scoped>\n",
       "    .dataframe tbody tr th:only-of-type {\n",
       "        vertical-align: middle;\n",
       "    }\n",
       "\n",
       "    .dataframe tbody tr th {\n",
       "        vertical-align: top;\n",
       "    }\n",
       "\n",
       "    .dataframe thead th {\n",
       "        text-align: right;\n",
       "    }\n",
       "</style>\n",
       "<table border=\"1\" class=\"dataframe\">\n",
       "  <thead>\n",
       "    <tr style=\"text-align: right;\">\n",
       "      <th>contact_type</th>\n",
       "      <th>family_live_separate</th>\n",
       "      <th>family_live_together</th>\n",
       "      <th>friend</th>\n",
       "      <th>sig_other</th>\n",
       "      <th>task</th>\n",
       "      <th>work</th>\n",
       "    </tr>\n",
       "  </thead>\n",
       "  <tbody>\n",
       "    <tr>\n",
       "      <th>day_0_calls</th>\n",
       "      <td>0.124</td>\n",
       "      <td>0.155</td>\n",
       "      <td>0.129</td>\n",
       "      <td>0.118</td>\n",
       "      <td>0.184</td>\n",
       "      <td>0.199</td>\n",
       "    </tr>\n",
       "    <tr>\n",
       "      <th>day_1_calls</th>\n",
       "      <td>0.124</td>\n",
       "      <td>0.125</td>\n",
       "      <td>0.108</td>\n",
       "      <td>0.171</td>\n",
       "      <td>0.167</td>\n",
       "      <td>0.183</td>\n",
       "    </tr>\n",
       "    <tr>\n",
       "      <th>day_2_calls</th>\n",
       "      <td>0.149</td>\n",
       "      <td>0.152</td>\n",
       "      <td>0.159</td>\n",
       "      <td>0.145</td>\n",
       "      <td>0.162</td>\n",
       "      <td>0.184</td>\n",
       "    </tr>\n",
       "    <tr>\n",
       "      <th>day_3_calls</th>\n",
       "      <td>0.144</td>\n",
       "      <td>0.142</td>\n",
       "      <td>0.177</td>\n",
       "      <td>0.166</td>\n",
       "      <td>0.151</td>\n",
       "      <td>0.149</td>\n",
       "    </tr>\n",
       "    <tr>\n",
       "      <th>day_4_calls</th>\n",
       "      <td>0.170</td>\n",
       "      <td>0.151</td>\n",
       "      <td>0.177</td>\n",
       "      <td>0.170</td>\n",
       "      <td>0.181</td>\n",
       "      <td>0.145</td>\n",
       "    </tr>\n",
       "    <tr>\n",
       "      <th>day_5_calls</th>\n",
       "      <td>0.149</td>\n",
       "      <td>0.153</td>\n",
       "      <td>0.141</td>\n",
       "      <td>0.126</td>\n",
       "      <td>0.071</td>\n",
       "      <td>0.070</td>\n",
       "    </tr>\n",
       "    <tr>\n",
       "      <th>day_6_calls</th>\n",
       "      <td>0.140</td>\n",
       "      <td>0.121</td>\n",
       "      <td>0.110</td>\n",
       "      <td>0.104</td>\n",
       "      <td>0.084</td>\n",
       "      <td>0.071</td>\n",
       "    </tr>\n",
       "  </tbody>\n",
       "</table>\n",
       "</div>"
      ],
      "text/plain": [
       "contact_type  family_live_separate  family_live_together  friend  sig_other  \\\n",
       "day_0_calls                  0.124                 0.155   0.129      0.118   \n",
       "day_1_calls                  0.124                 0.125   0.108      0.171   \n",
       "day_2_calls                  0.149                 0.152   0.159      0.145   \n",
       "day_3_calls                  0.144                 0.142   0.177      0.166   \n",
       "day_4_calls                  0.170                 0.151   0.177      0.170   \n",
       "day_5_calls                  0.149                 0.153   0.141      0.126   \n",
       "day_6_calls                  0.140                 0.121   0.110      0.104   \n",
       "\n",
       "contact_type  task  work  \n",
       "day_0_calls  0.184 0.199  \n",
       "day_1_calls  0.167 0.183  \n",
       "day_2_calls  0.162 0.184  \n",
       "day_3_calls  0.151 0.149  \n",
       "day_4_calls  0.181 0.145  \n",
       "day_5_calls  0.071 0.070  \n",
       "day_6_calls  0.084 0.071  "
      ]
     },
     "metadata": {},
     "output_type": "display_data"
    }
   ],
   "source": [
    "call_features = comm_features.loc[comm_features['total_calls'] > 0]\n",
    "time_of_day_calls = [\"time_of_day_{}_calls\".format(x) for x in range(6)]\n",
    "day_of_week_calls = [\"day_{}_calls\".format(x) for x in range(7)]\n",
    "\n",
    "time_day_calls_mean = call_features.groupby('contact_type')[time_of_day_calls].mean().T\n",
    "time_day_calls_std = call_features.groupby('contact_type')[time_of_day_calls].std()\n",
    "\n",
    "display(time_day_calls_mean)\n",
    "\n",
    "day_wk_calls_mean = call_features.groupby('contact_type')[day_of_week_calls].mean().T\n",
    "day_wk_calls_std = call_features.groupby('contact_type')[day_of_week_calls].std()\n",
    "\n",
    "display(day_wk_calls_mean)"
   ]
  },
  {
   "cell_type": "code",
   "execution_count": 112,
   "metadata": {},
   "outputs": [
    {
     "data": {
      "image/png": "[encoded data removed]",
      "text/plain": [
       "<Figure size 864x432 with 1 Axes>"
      ]
     },
     "metadata": {
      "needs_background": "light"
     },
     "output_type": "display_data"
    }
   ],
   "source": [
    "time_day_calls_mean.T.plot.bar(rot=0, yerr=time_day_calls_std)\n",
    "plt.legend(bbox_to_anchor=(1.05, 1))\n",
    "plt.title(\"Time of day calls\")\n",
    "plt.show()"
   ]
  },
  {
   "cell_type": "code",
   "execution_count": 113,
   "metadata": {},
   "outputs": [
    {
     "data": {
      "image/png": "[encoded data removed]",
      "text/plain": [
       "<Figure size 864x432 with 1 Axes>"
      ]
     },
     "metadata": {
      "needs_background": "light"
     },
     "output_type": "display_data"
    }
   ],
   "source": [
    "day_wk_calls_mean.T.plot.bar(rot=0, yerr=day_wk_calls_std)\n",
    "plt.legend(bbox_to_anchor=(1.05, 1))\n",
    "plt.title(\"Day of the week calls\")\n",
    "plt.show()"
   ]
  },
  {
   "cell_type": "markdown",
   "metadata": {},
   "source": [
    "# Channel selection: outgoing ratio, call/text ratio\n",
    "\n",
    "Features created:\n",
    "- `out_comm`: out comm / total comm\n",
    "- `call_tendency`: call count / total comm\n",
    "\n",
    "Note on interpretation: a lower call tendency indicates a higher text tendency, and vice versa"
   ]
  },
  {
   "cell_type": "code",
   "execution_count": 54,
   "metadata": {
    "scrolled": false
   },
   "outputs": [
    {
     "data": {
      "image/png": "[encoded data removed]",
      "text/plain": [
       "<Figure size 864x432 with 1 Axes>"
      ]
     },
     "metadata": {
      "needs_background": "light"
     },
     "output_type": "display_data"
    }
   ],
   "source": [
    "channel_select_mean = comm_features.groupby('contact_type')[['out_comm', 'call_tendency']].mean()\n",
    "channel_select_std = comm_features.groupby('contact_type')[['out_comm', 'call_tendency']].std()\n",
    "channel_select_mean.plot.bar(rot=0, yerr=channel_select_std)\n",
    "plt.title(\"Channel selection features per contact type\")\n",
    "plt.ylabel(\"channel count / total communication\")\n",
    "plt.show()"
   ]
  },
  {
   "cell_type": "code",
   "execution_count": 55,
   "metadata": {
    "scrolled": false
   },
   "outputs": [
    {
     "data": {
      "image/png": "[encoded data removed]",
      "text/plain": [
       "<Figure size 864x432 with 1 Axes>"
      ]
     },
     "metadata": {
      "needs_background": "light"
     },
     "output_type": "display_data"
    }
   ],
   "source": [
    "comm_features.boxplot(column='out_comm', by='contact_type')\n",
    "plt.title(\"Outgoing communication tendency\")\n",
    "plt.show()"
   ]
  },
  {
   "cell_type": "code",
   "execution_count": 56,
   "metadata": {},
   "outputs": [
    {
     "data": {
      "image/png": "[encoded data removed]",
      "text/plain": [
       "<Figure size 864x432 with 1 Axes>"
      ]
     },
     "metadata": {
      "needs_background": "light"
     },
     "output_type": "display_data"
    }
   ],
   "source": [
    "comm_features.boxplot(column='call_tendency', by='contact_type')\n",
    "plt.title(\"Call tendency\")\n",
    "plt.show()"
   ]
  },
  {
   "cell_type": "markdown",
   "metadata": {},
   "source": [
    "# Intensity: mean, std of call, sms\n",
    "\n",
    "Features created:\n",
    "- {mean, std} {out, in} {call, sms} per study day"
   ]
  },
  {
   "cell_type": "code",
   "execution_count": 57,
   "metadata": {},
   "outputs": [
    {
     "data": {
      "text/html": [
       "<div>\n",
       "<style scoped>\n",
       "    .dataframe tbody tr th:only-of-type {\n",
       "        vertical-align: middle;\n",
       "    }\n",
       "\n",
       "    .dataframe tbody tr th {\n",
       "        vertical-align: top;\n",
       "    }\n",
       "\n",
       "    .dataframe thead th {\n",
       "        text-align: right;\n",
       "    }\n",
       "</style>\n",
       "<table border=\"1\" class=\"dataframe\">\n",
       "  <thead>\n",
       "    <tr style=\"text-align: right;\">\n",
       "      <th>contact_type</th>\n",
       "      <th>family_live_separate</th>\n",
       "      <th>family_live_together</th>\n",
       "      <th>friend</th>\n",
       "      <th>sig_other</th>\n",
       "      <th>task</th>\n",
       "      <th>work</th>\n",
       "    </tr>\n",
       "  </thead>\n",
       "  <tbody>\n",
       "    <tr>\n",
       "      <th>mean_in_sms</th>\n",
       "      <td>1.220</td>\n",
       "      <td>2.078</td>\n",
       "      <td>1.750</td>\n",
       "      <td>6.082</td>\n",
       "      <td>2.221</td>\n",
       "      <td>1.054</td>\n",
       "    </tr>\n",
       "    <tr>\n",
       "      <th>std_in_sms</th>\n",
       "      <td>2.209</td>\n",
       "      <td>2.749</td>\n",
       "      <td>2.991</td>\n",
       "      <td>4.916</td>\n",
       "      <td>2.542</td>\n",
       "      <td>1.959</td>\n",
       "    </tr>\n",
       "    <tr>\n",
       "      <th>mean_out_sms</th>\n",
       "      <td>1.153</td>\n",
       "      <td>2.212</td>\n",
       "      <td>1.744</td>\n",
       "      <td>6.112</td>\n",
       "      <td>2.741</td>\n",
       "      <td>0.918</td>\n",
       "    </tr>\n",
       "    <tr>\n",
       "      <th>std_out_sms</th>\n",
       "      <td>2.064</td>\n",
       "      <td>2.777</td>\n",
       "      <td>2.993</td>\n",
       "      <td>5.244</td>\n",
       "      <td>2.956</td>\n",
       "      <td>1.896</td>\n",
       "    </tr>\n",
       "  </tbody>\n",
       "</table>\n",
       "</div>"
      ],
      "text/plain": [
       "contact_type  family_live_separate  family_live_together  friend  sig_other  \\\n",
       "mean_in_sms                  1.220                 2.078   1.750      6.082   \n",
       "std_in_sms                   2.209                 2.749   2.991      4.916   \n",
       "mean_out_sms                 1.153                 2.212   1.744      6.112   \n",
       "std_out_sms                  2.064                 2.777   2.993      5.244   \n",
       "\n",
       "contact_type  task  work  \n",
       "mean_in_sms  2.221 1.054  \n",
       "std_in_sms   2.542 1.959  \n",
       "mean_out_sms 2.741 0.918  \n",
       "std_out_sms  2.956 1.896  "
      ]
     },
     "metadata": {},
     "output_type": "display_data"
    },
    {
     "data": {
      "text/html": [
       "<div>\n",
       "<style scoped>\n",
       "    .dataframe tbody tr th:only-of-type {\n",
       "        vertical-align: middle;\n",
       "    }\n",
       "\n",
       "    .dataframe tbody tr th {\n",
       "        vertical-align: top;\n",
       "    }\n",
       "\n",
       "    .dataframe thead th {\n",
       "        text-align: right;\n",
       "    }\n",
       "</style>\n",
       "<table border=\"1\" class=\"dataframe\">\n",
       "  <thead>\n",
       "    <tr style=\"text-align: right;\">\n",
       "      <th>contact_type</th>\n",
       "      <th>family_live_separate</th>\n",
       "      <th>family_live_together</th>\n",
       "      <th>friend</th>\n",
       "      <th>sig_other</th>\n",
       "      <th>task</th>\n",
       "      <th>work</th>\n",
       "    </tr>\n",
       "  </thead>\n",
       "  <tbody>\n",
       "    <tr>\n",
       "      <th>mean_in_call</th>\n",
       "      <td>0.160</td>\n",
       "      <td>0.264</td>\n",
       "      <td>0.112</td>\n",
       "      <td>0.477</td>\n",
       "      <td>0.085</td>\n",
       "      <td>0.136</td>\n",
       "    </tr>\n",
       "    <tr>\n",
       "      <th>std_in_call</th>\n",
       "      <td>0.318</td>\n",
       "      <td>0.439</td>\n",
       "      <td>0.248</td>\n",
       "      <td>0.628</td>\n",
       "      <td>0.162</td>\n",
       "      <td>0.317</td>\n",
       "    </tr>\n",
       "    <tr>\n",
       "      <th>mean_out_call</th>\n",
       "      <td>0.224</td>\n",
       "      <td>0.373</td>\n",
       "      <td>0.170</td>\n",
       "      <td>0.809</td>\n",
       "      <td>0.188</td>\n",
       "      <td>0.190</td>\n",
       "    </tr>\n",
       "    <tr>\n",
       "      <th>std_out_call</th>\n",
       "      <td>0.453</td>\n",
       "      <td>0.611</td>\n",
       "      <td>0.386</td>\n",
       "      <td>1.069</td>\n",
       "      <td>0.607</td>\n",
       "      <td>0.453</td>\n",
       "    </tr>\n",
       "  </tbody>\n",
       "</table>\n",
       "</div>"
      ],
      "text/plain": [
       "contact_type   family_live_separate  family_live_together  friend  sig_other  \\\n",
       "mean_in_call                  0.160                 0.264   0.112      0.477   \n",
       "std_in_call                   0.318                 0.439   0.248      0.628   \n",
       "mean_out_call                 0.224                 0.373   0.170      0.809   \n",
       "std_out_call                  0.453                 0.611   0.386      1.069   \n",
       "\n",
       "contact_type   task  work  \n",
       "mean_in_call  0.085 0.136  \n",
       "std_in_call   0.162 0.317  \n",
       "mean_out_call 0.188 0.190  \n",
       "std_out_call  0.607 0.453  "
      ]
     },
     "metadata": {},
     "output_type": "display_data"
    }
   ],
   "source": [
    "intensity_sms_mean = sms_features.groupby('contact_type')[['mean_in_sms', 'std_in_sms', 'mean_out_sms', 'std_out_sms']].mean().T\n",
    "display(intensity_sms_mean)\n",
    "\n",
    "intensity_call_mean = call_features.groupby('contact_type')[['mean_in_call', 'std_in_call', 'mean_out_call', 'std_out_call']].mean().T\n",
    "display(intensity_call_mean)"
   ]
  },
  {
   "cell_type": "markdown",
   "metadata": {},
   "source": [
    "# Avoidance: missed calls, in/out ratios\n",
    "\n",
    "Features created:\n",
    "- `missed_{in, out}_calls`: missed call / {in, out} calls\n",
    "- `in_out_sms`: in texts / out texts"
   ]
  },
  {
   "cell_type": "code",
   "execution_count": 58,
   "metadata": {},
   "outputs": [
    {
     "data": {
      "text/html": [
       "<div>\n",
       "<style scoped>\n",
       "    .dataframe tbody tr th:only-of-type {\n",
       "        vertical-align: middle;\n",
       "    }\n",
       "\n",
       "    .dataframe tbody tr th {\n",
       "        vertical-align: top;\n",
       "    }\n",
       "\n",
       "    .dataframe thead th {\n",
       "        text-align: right;\n",
       "    }\n",
       "</style>\n",
       "<table border=\"1\" class=\"dataframe\">\n",
       "  <thead>\n",
       "    <tr style=\"text-align: right;\">\n",
       "      <th></th>\n",
       "      <th>missed_in_calls</th>\n",
       "      <th>missed_out_calls</th>\n",
       "      <th>in_out_sms</th>\n",
       "    </tr>\n",
       "    <tr>\n",
       "      <th>contact_type</th>\n",
       "      <th></th>\n",
       "      <th></th>\n",
       "      <th></th>\n",
       "    </tr>\n",
       "  </thead>\n",
       "  <tbody>\n",
       "    <tr>\n",
       "      <th>family_live_separate</th>\n",
       "      <td>0.592</td>\n",
       "      <td>0.424</td>\n",
       "      <td>1.515</td>\n",
       "    </tr>\n",
       "    <tr>\n",
       "      <th>family_live_together</th>\n",
       "      <td>0.722</td>\n",
       "      <td>0.593</td>\n",
       "      <td>2.454</td>\n",
       "    </tr>\n",
       "    <tr>\n",
       "      <th>friend</th>\n",
       "      <td>0.829</td>\n",
       "      <td>0.677</td>\n",
       "      <td>1.114</td>\n",
       "    </tr>\n",
       "    <tr>\n",
       "      <th>sig_other</th>\n",
       "      <td>0.553</td>\n",
       "      <td>0.525</td>\n",
       "      <td>2.236</td>\n",
       "    </tr>\n",
       "    <tr>\n",
       "      <th>task</th>\n",
       "      <td>1.254</td>\n",
       "      <td>0.602</td>\n",
       "      <td>3.436</td>\n",
       "    </tr>\n",
       "    <tr>\n",
       "      <th>work</th>\n",
       "      <td>0.579</td>\n",
       "      <td>0.431</td>\n",
       "      <td>1.182</td>\n",
       "    </tr>\n",
       "  </tbody>\n",
       "</table>\n",
       "</div>"
      ],
      "text/plain": [
       "                      missed_in_calls  missed_out_calls  in_out_sms\n",
       "contact_type                                                       \n",
       "family_live_separate            0.592             0.424       1.515\n",
       "family_live_together            0.722             0.593       2.454\n",
       "friend                          0.829             0.677       1.114\n",
       "sig_other                       0.553             0.525       2.236\n",
       "task                            1.254             0.602       3.436\n",
       "work                            0.579             0.431       1.182"
      ]
     },
     "metadata": {},
     "output_type": "display_data"
    }
   ],
   "source": [
    "channel_select_mean = comm_features.groupby('contact_type')[['missed_in_calls', 'missed_out_calls', 'in_out_sms']].mean()\n",
    "display(channel_select_mean)"
   ]
  },
  {
   "cell_type": "code",
   "execution_count": 59,
   "metadata": {},
   "outputs": [
    {
     "data": {
      "image/png": "[encoded data removed]",
      "text/plain": [
       "<Figure size 864x432 with 1 Axes>"
      ]
     },
     "metadata": {
      "needs_background": "light"
     },
     "output_type": "display_data"
    }
   ],
   "source": [
    "comm_features.boxplot(column='missed_in_calls', by='contact_type')\n",
    "plt.title(\"Missed/incoming call ratio\")\n",
    "plt.show()"
   ]
  },
  {
   "cell_type": "code",
   "execution_count": 60,
   "metadata": {},
   "outputs": [
    {
     "data": {
      "image/png": "[encoded data removed]",
      "text/plain": [
       "<Figure size 864x432 with 1 Axes>"
      ]
     },
     "metadata": {
      "needs_background": "light"
     },
     "output_type": "display_data"
    }
   ],
   "source": [
    "comm_features.boxplot(column='missed_out_calls', by='contact_type')\n",
    "plt.title(\"Missed/Outgoing Call ratio\")\n",
    "plt.show()"
   ]
  },
  {
   "cell_type": "code",
   "execution_count": 61,
   "metadata": {},
   "outputs": [
    {
     "data": {
      "image/png": "[encoded data removed]",
      "text/plain": [
       "<Figure size 864x432 with 1 Axes>"
      ]
     },
     "metadata": {
      "needs_background": "light"
     },
     "output_type": "display_data"
    }
   ],
   "source": [
    "comm_features.boxplot(column='in_out_sms', by='contact_type')\n",
    "plt.title(\"Incoming/Outgoing SMS ratio\")\n",
    "plt.show()"
   ]
  },
  {
   "cell_type": "markdown",
   "metadata": {},
   "source": [
    "# NaN imputation\n",
    "\n",
    "- NaNs as a result of divide by zeros are filled with zero, with an additional indicator column for the feature"
   ]
  },
  {
   "cell_type": "code",
   "execution_count": 62,
   "metadata": {
    "scrolled": false
   },
   "outputs": [
    {
     "name": "stdout",
     "output_type": "stream",
     "text": [
      "Features with NaN values\n"
     ]
    },
    {
     "data": {
      "text/plain": [
       "pid                    False\n",
       "combined_hash          False\n",
       "total_comms            False\n",
       "total_comm_days        False\n",
       "contact_type           False\n",
       "total_calls            False\n",
       "total_sms              False\n",
       "total_sms_days         False\n",
       "total_call_days        False\n",
       "total_days             False\n",
       "reg_call               False\n",
       "reg_sms                False\n",
       "reg_comm               False\n",
       "time_of_day_0_calls     True\n",
       "time_of_day_1_calls     True\n",
       "time_of_day_2_calls     True\n",
       "time_of_day_3_calls     True\n",
       "time_of_day_4_calls     True\n",
       "time_of_day_5_calls     True\n",
       "day_0_calls             True\n",
       "day_1_calls             True\n",
       "day_2_calls             True\n",
       "day_3_calls             True\n",
       "day_4_calls             True\n",
       "day_5_calls             True\n",
       "day_6_calls             True\n",
       "time_of_day_0_sms       True\n",
       "time_of_day_1_sms       True\n",
       "time_of_day_2_sms       True\n",
       "time_of_day_3_sms       True\n",
       "time_of_day_4_sms       True\n",
       "time_of_day_5_sms       True\n",
       "day_0_sms               True\n",
       "day_1_sms               True\n",
       "day_2_sms               True\n",
       "day_3_sms               True\n",
       "day_4_sms               True\n",
       "day_5_sms               True\n",
       "day_6_sms               True\n",
       "mean_in_call            True\n",
       "std_in_call             True\n",
       "mean_out_call           True\n",
       "std_out_call            True\n",
       "mean_in_sms             True\n",
       "std_in_sms              True\n",
       "mean_out_sms            True\n",
       "std_out_sms             True\n",
       "out_comm               False\n",
       "call_tendency          False\n",
       "missed_in_calls         True\n",
       "missed_out_calls        True\n",
       "in_out_sms              True\n",
       "dtype: bool"
      ]
     },
     "metadata": {},
     "output_type": "display_data"
    }
   ],
   "source": [
    "print(\"Features with NaN values\")\n",
    "display(comm_features.isnull().any())"
   ]
  },
  {
   "cell_type": "code",
   "execution_count": 63,
   "metadata": {},
   "outputs": [],
   "source": [
    "comm_features = build_nan_features(comm_features)"
   ]
  },
  {
   "cell_type": "markdown",
   "metadata": {},
   "source": [
    "# Contact EMA responses"
   ]
  },
  {
   "cell_type": "code",
   "execution_count": 64,
   "metadata": {
    "scrolled": true
   },
   "outputs": [],
   "source": [
    "# TODO move into python module\n",
    "emc_all = pickle.load(open('../data/emc_all.df', 'rb'))\n",
    "hash_dict = pickle.load(open('../data/emc_to_canonical.dict', 'rb'))\n",
    "pr_dict = pickle.load(open('../data/pr.dict', 'rb'))\n",
    "\n",
    "#emc_all = emc_all.reset_index(drop=True)"
   ]
  },
  {
   "cell_type": "code",
   "execution_count": 65,
   "metadata": {
    "scrolled": true
   },
   "outputs": [],
   "source": [
    "emc_df = pd.DataFrame()\n",
    "emc_df = build_emc_features(comm_features, comm_df, emc_all, hash_dict, pr_dict)"
   ]
  },
  {
   "cell_type": "code",
   "execution_count": 66,
   "metadata": {},
   "outputs": [
    {
     "data": {
      "image/png": "[encoded data removed]",
      "text/plain": [
       "<Figure size 864x432 with 1 Axes>"
      ]
     },
     "metadata": {
      "needs_background": "light"
     },
     "output_type": "display_data"
    },
    {
     "data": {
      "text/html": [
       "<div>\n",
       "<style scoped>\n",
       "    .dataframe tbody tr th:only-of-type {\n",
       "        vertical-align: middle;\n",
       "    }\n",
       "\n",
       "    .dataframe tbody tr th {\n",
       "        vertical-align: top;\n",
       "    }\n",
       "\n",
       "    .dataframe thead th {\n",
       "        text-align: right;\n",
       "    }\n",
       "</style>\n",
       "<table border=\"1\" class=\"dataframe\">\n",
       "  <thead>\n",
       "    <tr style=\"text-align: right;\">\n",
       "      <th></th>\n",
       "      <th>q1_want</th>\n",
       "      <th>q2_talk</th>\n",
       "      <th>q3_loan</th>\n",
       "      <th>q4_closeness</th>\n",
       "    </tr>\n",
       "    <tr>\n",
       "      <th>contact_type</th>\n",
       "      <th></th>\n",
       "      <th></th>\n",
       "      <th></th>\n",
       "      <th></th>\n",
       "    </tr>\n",
       "  </thead>\n",
       "  <tbody>\n",
       "    <tr>\n",
       "      <th>family_live_separate</th>\n",
       "      <td>4.927</td>\n",
       "      <td>4.997</td>\n",
       "      <td>3.740</td>\n",
       "      <td>4.954</td>\n",
       "    </tr>\n",
       "    <tr>\n",
       "      <th>family_live_together</th>\n",
       "      <td>4.915</td>\n",
       "      <td>4.943</td>\n",
       "      <td>3.813</td>\n",
       "      <td>5.496</td>\n",
       "    </tr>\n",
       "    <tr>\n",
       "      <th>friend</th>\n",
       "      <td>4.424</td>\n",
       "      <td>4.456</td>\n",
       "      <td>2.734</td>\n",
       "      <td>3.954</td>\n",
       "    </tr>\n",
       "    <tr>\n",
       "      <th>sig_other</th>\n",
       "      <td>5.296</td>\n",
       "      <td>5.650</td>\n",
       "      <td>5.450</td>\n",
       "      <td>5.527</td>\n",
       "    </tr>\n",
       "    <tr>\n",
       "      <th>task</th>\n",
       "      <td>2.222</td>\n",
       "      <td>1.210</td>\n",
       "      <td>0.503</td>\n",
       "      <td>0.545</td>\n",
       "    </tr>\n",
       "    <tr>\n",
       "      <th>work</th>\n",
       "      <td>3.880</td>\n",
       "      <td>3.532</td>\n",
       "      <td>1.693</td>\n",
       "      <td>2.909</td>\n",
       "    </tr>\n",
       "  </tbody>\n",
       "</table>\n",
       "</div>"
      ],
      "text/plain": [
       "                      q1_want  q2_talk  q3_loan  q4_closeness\n",
       "contact_type                                                 \n",
       "family_live_separate    4.927    4.997    3.740         4.954\n",
       "family_live_together    4.915    4.943    3.813         5.496\n",
       "friend                  4.424    4.456    2.734         3.954\n",
       "sig_other               5.296    5.650    5.450         5.527\n",
       "task                    2.222    1.210    0.503         0.545\n",
       "work                    3.880    3.532    1.693         2.909"
      ]
     },
     "metadata": {},
     "output_type": "display_data"
    },
    {
     "data": {
      "text/html": [
       "<div>\n",
       "<style scoped>\n",
       "    .dataframe tbody tr th:only-of-type {\n",
       "        vertical-align: middle;\n",
       "    }\n",
       "\n",
       "    .dataframe tbody tr th {\n",
       "        vertical-align: top;\n",
       "    }\n",
       "\n",
       "    .dataframe thead th {\n",
       "        text-align: right;\n",
       "    }\n",
       "</style>\n",
       "<table border=\"1\" class=\"dataframe\">\n",
       "  <thead>\n",
       "    <tr style=\"text-align: right;\">\n",
       "      <th></th>\n",
       "      <th>q1_want</th>\n",
       "      <th>q2_talk</th>\n",
       "      <th>q3_loan</th>\n",
       "      <th>q4_closeness</th>\n",
       "    </tr>\n",
       "    <tr>\n",
       "      <th>contact_type</th>\n",
       "      <th></th>\n",
       "      <th></th>\n",
       "      <th></th>\n",
       "      <th></th>\n",
       "    </tr>\n",
       "  </thead>\n",
       "  <tbody>\n",
       "    <tr>\n",
       "      <th>family_live_separate</th>\n",
       "      <td>1.178</td>\n",
       "      <td>1.359</td>\n",
       "      <td>2.199</td>\n",
       "      <td>1.329</td>\n",
       "    </tr>\n",
       "    <tr>\n",
       "      <th>family_live_together</th>\n",
       "      <td>1.348</td>\n",
       "      <td>1.403</td>\n",
       "      <td>2.262</td>\n",
       "      <td>1.081</td>\n",
       "    </tr>\n",
       "    <tr>\n",
       "      <th>friend</th>\n",
       "      <td>1.297</td>\n",
       "      <td>1.572</td>\n",
       "      <td>2.151</td>\n",
       "      <td>1.472</td>\n",
       "    </tr>\n",
       "    <tr>\n",
       "      <th>sig_other</th>\n",
       "      <td>1.231</td>\n",
       "      <td>0.786</td>\n",
       "      <td>1.236</td>\n",
       "      <td>1.262</td>\n",
       "    </tr>\n",
       "    <tr>\n",
       "      <th>task</th>\n",
       "      <td>2.090</td>\n",
       "      <td>1.846</td>\n",
       "      <td>1.266</td>\n",
       "      <td>1.238</td>\n",
       "    </tr>\n",
       "    <tr>\n",
       "      <th>work</th>\n",
       "      <td>1.546</td>\n",
       "      <td>1.684</td>\n",
       "      <td>2.021</td>\n",
       "      <td>1.430</td>\n",
       "    </tr>\n",
       "  </tbody>\n",
       "</table>\n",
       "</div>"
      ],
      "text/plain": [
       "                      q1_want  q2_talk  q3_loan  q4_closeness\n",
       "contact_type                                                 \n",
       "family_live_separate    1.178    1.359    2.199         1.329\n",
       "family_live_together    1.348    1.403    2.262         1.081\n",
       "friend                  1.297    1.572    2.151         1.472\n",
       "sig_other               1.231    0.786    1.236         1.262\n",
       "task                    2.090    1.846    1.266         1.238\n",
       "work                    1.546    1.684    2.021         1.430"
      ]
     },
     "metadata": {},
     "output_type": "display_data"
    }
   ],
   "source": [
    "emc_features = ['q1_want', 'q2_talk', 'q3_loan', 'q4_closeness']\n",
    "emc_features_mean = emc_df.groupby('contact_type')[emc_features].mean()\n",
    "emc_features_std = emc_df.groupby('contact_type')[emc_features].std()\n",
    "\n",
    "emc_features_mean.plot.bar(rot=0, yerr=emc_features_std)\n",
    "plt.title(\"Contact EMA features per contact type\")\n",
    "plt.ylabel(\"Mean EMA response\")\n",
    "plt.show()\n",
    "\n",
    "display(emc_features_mean)\n",
    "display(emc_features_std)"
   ]
  },
  {
   "cell_type": "code",
   "execution_count": 67,
   "metadata": {},
   "outputs": [
    {
     "data": {
      "image/png": "[encoded data removed]",
      "text/plain": [
       "<Figure size 864x432 with 1 Axes>"
      ]
     },
     "metadata": {
      "needs_background": "light"
     },
     "output_type": "display_data"
    }
   ],
   "source": [
    "emc_df.boxplot(column='q1_want', by='contact_type')\n",
    "plt.show()"
   ]
  },
  {
   "cell_type": "code",
   "execution_count": 68,
   "metadata": {},
   "outputs": [
    {
     "data": {
      "image/png": "[encoded data removed]",
      "text/plain": [
       "<Figure size 864x432 with 1 Axes>"
      ]
     },
     "metadata": {
      "needs_background": "light"
     },
     "output_type": "display_data"
    }
   ],
   "source": [
    "emc_df.boxplot(column='q2_talk', by='contact_type')\n",
    "plt.show()"
   ]
  },
  {
   "cell_type": "code",
   "execution_count": 69,
   "metadata": {},
   "outputs": [
    {
     "data": {
      "image/png": "[encoded data removed]",
      "text/plain": [
       "<Figure size 864x432 with 1 Axes>"
      ]
     },
     "metadata": {
      "needs_background": "light"
     },
     "output_type": "display_data"
    }
   ],
   "source": [
    "emc_df.boxplot(column='q3_loan', by='contact_type')\n",
    "plt.show()"
   ]
  },
  {
   "cell_type": "code",
   "execution_count": 70,
   "metadata": {
    "scrolled": false
   },
   "outputs": [
    {
     "data": {
      "image/png": "[encoded data removed]",
      "text/plain": [
       "<Figure size 864x432 with 1 Axes>"
      ]
     },
     "metadata": {
      "needs_background": "light"
     },
     "output_type": "display_data"
    }
   ],
   "source": [
    "emc_df.boxplot(column='q4_closeness', by='contact_type')\n",
    "plt.show()"
   ]
  },
  {
   "cell_type": "markdown",
   "metadata": {},
   "source": [
    "# Demographic features"
   ]
  },
  {
   "cell_type": "code",
   "execution_count": 137,
   "metadata": {},
   "outputs": [],
   "source": [
    "demo_df = pickle.load(open('../data/demographics.df', 'rb'))\n",
    "demo_cols = ['pid', 'age', 'gender', 'education', 'employment', 'live_together', 'race', 'ethnicity', 'marital_status']\n",
    "plt.rcParams[\"figure.figsize\"] = [12,6]"
   ]
  },
  {
   "cell_type": "code",
   "execution_count": 140,
   "metadata": {},
   "outputs": [
    {
     "data": {
      "text/plain": [
       "Text(0.5, 0, 'age')"
      ]
     },
     "execution_count": 140,
     "metadata": {},
     "output_type": "execute_result"
    },
    {
     "data": {
      "image/png": "[encoded data removed]",
      "text/plain": [
       "<Figure size 864x432 with 1 Axes>"
      ]
     },
     "metadata": {
      "needs_background": "light"
     },
     "output_type": "display_data"
    }
   ],
   "source": [
    "demo_df['age'].hist()\n",
    "plt.xlabel('age')"
   ]
  },
  {
   "cell_type": "code",
   "execution_count": 135,
   "metadata": {},
   "outputs": [
    {
     "data": {
      "text/plain": [
       "<matplotlib.axes._subplots.AxesSubplot at 0x7f9282ce62b0>"
      ]
     },
     "execution_count": 135,
     "metadata": {},
     "output_type": "execute_result"
    },
    {
     "data": {
      "image/png": "[encoded data removed]",
      "text/plain": [
       "<Figure size 864x432 with 1 Axes>"
      ]
     },
     "metadata": {
      "needs_background": "light"
     },
     "output_type": "display_data"
    }
   ],
   "source": [
    "demo_df['marital_status'].value_counts().plot.bar(rot=0)"
   ]
  },
  {
   "cell_type": "code",
   "execution_count": 132,
   "metadata": {
    "scrolled": false
   },
   "outputs": [
    {
     "data": {
      "image/png": "[encoded data removed]",
      "text/plain": [
       "<Figure size 864x432 with 1 Axes>"
      ]
     },
     "metadata": {
      "needs_background": "light"
     },
     "output_type": "display_data"
    }
   ],
   "source": [
    "demo_df['education'].value_counts().plot.bar(rot=0)\n",
    "plt.show()"
   ]
  },
  {
   "cell_type": "code",
   "execution_count": 133,
   "metadata": {},
   "outputs": [
    {
     "data": {
      "text/plain": [
       "<matplotlib.axes._subplots.AxesSubplot at 0x7f9281993908>"
      ]
     },
     "execution_count": 133,
     "metadata": {},
     "output_type": "execute_result"
    },
    {
     "data": {
      "image/png": "[encoded data removed]",
      "text/plain": [
       "<Figure size 864x432 with 1 Axes>"
      ]
     },
     "metadata": {
      "needs_background": "light"
     },
     "output_type": "display_data"
    }
   ],
   "source": [
    "demo_df['live_together'].value_counts().plot.bar(rot=0)"
   ]
  },
  {
   "cell_type": "markdown",
   "metadata": {},
   "source": [
    "# Semantic location features"
   ]
  },
  {
   "cell_type": "code",
   "execution_count": 118,
   "metadata": {},
   "outputs": [],
   "source": [
    "loc_df = pickle.load(open('../data/top_10_contacts_loc_final.df', 'rb'))\n",
    "loc_features = build_location_features(comm_features, loc_df)\n",
    "plt.rcParams[\"figure.figsize\"] = [15,10]"
   ]
  },
  {
   "cell_type": "markdown",
   "metadata": {},
   "source": [
    "## SMS tendencies"
   ]
  },
  {
   "cell_type": "code",
   "execution_count": 119,
   "metadata": {
    "scrolled": true
   },
   "outputs": [],
   "source": [
    "sms_loc_cols = [x for x in loc_features.columns if x.startswith('sms_loc:')]\n",
    "sms_visit_cols = [x for x in loc_features.columns if x.startswith('sms_visit_reason:')]"
   ]
  },
  {
   "cell_type": "markdown",
   "metadata": {},
   "source": [
    "### Locations"
   ]
  },
  {
   "cell_type": "code",
   "execution_count": 120,
   "metadata": {},
   "outputs": [
    {
     "data": {
      "image/png": "[encoded data removed]",
      "text/plain": [
       "<Figure size 1080x720 with 1 Axes>"
      ]
     },
     "metadata": {
      "needs_background": "light"
     },
     "output_type": "display_data"
    },
    {
     "name": "stdout",
     "output_type": "stream",
     "text": [
      "Mean\n"
     ]
    },
    {
     "data": {
      "text/html": [
       "<div>\n",
       "<style scoped>\n",
       "    .dataframe tbody tr th:only-of-type {\n",
       "        vertical-align: middle;\n",
       "    }\n",
       "\n",
       "    .dataframe tbody tr th {\n",
       "        vertical-align: top;\n",
       "    }\n",
       "\n",
       "    .dataframe thead th {\n",
       "        text-align: right;\n",
       "    }\n",
       "</style>\n",
       "<table border=\"1\" class=\"dataframe\">\n",
       "  <thead>\n",
       "    <tr style=\"text-align: right;\">\n",
       "      <th></th>\n",
       "      <th>sms_loc:home</th>\n",
       "      <th>sms_loc:work</th>\n",
       "      <th>sms_loc:anothers_home</th>\n",
       "      <th>sms_loc:arts/entertainment</th>\n",
       "      <th>sms_loc:food</th>\n",
       "      <th>sms_loc:nightlife</th>\n",
       "      <th>sms_loc:outdoors/recreation</th>\n",
       "      <th>sms_loc:gym/exercise</th>\n",
       "      <th>sms_loc:professional/medical_office</th>\n",
       "      <th>sms_loc:spiritual</th>\n",
       "      <th>sms_loc:shop</th>\n",
       "      <th>sms_loc:travel/transport</th>\n",
       "      <th>sms_loc:vehicle</th>\n",
       "      <th>sms_loc:other</th>\n",
       "    </tr>\n",
       "    <tr>\n",
       "      <th>contact_type</th>\n",
       "      <th></th>\n",
       "      <th></th>\n",
       "      <th></th>\n",
       "      <th></th>\n",
       "      <th></th>\n",
       "      <th></th>\n",
       "      <th></th>\n",
       "      <th></th>\n",
       "      <th></th>\n",
       "      <th></th>\n",
       "      <th></th>\n",
       "      <th></th>\n",
       "      <th></th>\n",
       "      <th></th>\n",
       "    </tr>\n",
       "  </thead>\n",
       "  <tbody>\n",
       "    <tr>\n",
       "      <th>family_live_separate</th>\n",
       "      <td>0.709</td>\n",
       "      <td>0.100</td>\n",
       "      <td>0.063</td>\n",
       "      <td>0.001</td>\n",
       "      <td>0.035</td>\n",
       "      <td>0.006</td>\n",
       "      <td>0.008</td>\n",
       "      <td>0.001</td>\n",
       "      <td>0.007</td>\n",
       "      <td>0.005</td>\n",
       "      <td>0.058</td>\n",
       "      <td>0.004</td>\n",
       "      <td>0.005</td>\n",
       "      <td>0.000</td>\n",
       "    </tr>\n",
       "    <tr>\n",
       "      <th>family_live_together</th>\n",
       "      <td>0.567</td>\n",
       "      <td>0.141</td>\n",
       "      <td>0.074</td>\n",
       "      <td>0.007</td>\n",
       "      <td>0.042</td>\n",
       "      <td>0.012</td>\n",
       "      <td>0.018</td>\n",
       "      <td>0.004</td>\n",
       "      <td>0.019</td>\n",
       "      <td>0.003</td>\n",
       "      <td>0.097</td>\n",
       "      <td>0.008</td>\n",
       "      <td>0.007</td>\n",
       "      <td>0.000</td>\n",
       "    </tr>\n",
       "    <tr>\n",
       "      <th>friend</th>\n",
       "      <td>0.684</td>\n",
       "      <td>0.131</td>\n",
       "      <td>0.061</td>\n",
       "      <td>0.004</td>\n",
       "      <td>0.036</td>\n",
       "      <td>0.009</td>\n",
       "      <td>0.003</td>\n",
       "      <td>0.005</td>\n",
       "      <td>0.010</td>\n",
       "      <td>0.003</td>\n",
       "      <td>0.048</td>\n",
       "      <td>0.003</td>\n",
       "      <td>0.002</td>\n",
       "      <td>0.000</td>\n",
       "    </tr>\n",
       "    <tr>\n",
       "      <th>sig_other</th>\n",
       "      <td>0.627</td>\n",
       "      <td>0.177</td>\n",
       "      <td>0.041</td>\n",
       "      <td>0.001</td>\n",
       "      <td>0.023</td>\n",
       "      <td>0.011</td>\n",
       "      <td>0.002</td>\n",
       "      <td>0.002</td>\n",
       "      <td>0.021</td>\n",
       "      <td>0.002</td>\n",
       "      <td>0.085</td>\n",
       "      <td>0.002</td>\n",
       "      <td>0.005</td>\n",
       "      <td>0.000</td>\n",
       "    </tr>\n",
       "    <tr>\n",
       "      <th>task</th>\n",
       "      <td>0.653</td>\n",
       "      <td>0.132</td>\n",
       "      <td>0.053</td>\n",
       "      <td>0.001</td>\n",
       "      <td>0.026</td>\n",
       "      <td>0.007</td>\n",
       "      <td>0.010</td>\n",
       "      <td>0.000</td>\n",
       "      <td>0.011</td>\n",
       "      <td>0.001</td>\n",
       "      <td>0.092</td>\n",
       "      <td>0.012</td>\n",
       "      <td>0.003</td>\n",
       "      <td>0.000</td>\n",
       "    </tr>\n",
       "    <tr>\n",
       "      <th>work</th>\n",
       "      <td>0.552</td>\n",
       "      <td>0.278</td>\n",
       "      <td>0.048</td>\n",
       "      <td>0.001</td>\n",
       "      <td>0.021</td>\n",
       "      <td>0.014</td>\n",
       "      <td>0.002</td>\n",
       "      <td>0.002</td>\n",
       "      <td>0.025</td>\n",
       "      <td>0.001</td>\n",
       "      <td>0.049</td>\n",
       "      <td>0.003</td>\n",
       "      <td>0.004</td>\n",
       "      <td>0.000</td>\n",
       "    </tr>\n",
       "  </tbody>\n",
       "</table>\n",
       "</div>"
      ],
      "text/plain": [
       "                      sms_loc:home  sms_loc:work  sms_loc:anothers_home  \\\n",
       "contact_type                                                              \n",
       "family_live_separate         0.709         0.100                  0.063   \n",
       "family_live_together         0.567         0.141                  0.074   \n",
       "friend                       0.684         0.131                  0.061   \n",
       "sig_other                    0.627         0.177                  0.041   \n",
       "task                         0.653         0.132                  0.053   \n",
       "work                         0.552         0.278                  0.048   \n",
       "\n",
       "                      sms_loc:arts/entertainment  sms_loc:food  \\\n",
       "contact_type                                                     \n",
       "family_live_separate                       0.001         0.035   \n",
       "family_live_together                       0.007         0.042   \n",
       "friend                                     0.004         0.036   \n",
       "sig_other                                  0.001         0.023   \n",
       "task                                       0.001         0.026   \n",
       "work                                       0.001         0.021   \n",
       "\n",
       "                      sms_loc:nightlife  sms_loc:outdoors/recreation  \\\n",
       "contact_type                                                           \n",
       "family_live_separate              0.006                        0.008   \n",
       "family_live_together              0.012                        0.018   \n",
       "friend                            0.009                        0.003   \n",
       "sig_other                         0.011                        0.002   \n",
       "task                              0.007                        0.010   \n",
       "work                              0.014                        0.002   \n",
       "\n",
       "                      sms_loc:gym/exercise  \\\n",
       "contact_type                                 \n",
       "family_live_separate                 0.001   \n",
       "family_live_together                 0.004   \n",
       "friend                               0.005   \n",
       "sig_other                            0.002   \n",
       "task                                 0.000   \n",
       "work                                 0.002   \n",
       "\n",
       "                      sms_loc:professional/medical_office  sms_loc:spiritual  \\\n",
       "contact_type                                                                   \n",
       "family_live_separate                                0.007              0.005   \n",
       "family_live_together                                0.019              0.003   \n",
       "friend                                              0.010              0.003   \n",
       "sig_other                                           0.021              0.002   \n",
       "task                                                0.011              0.001   \n",
       "work                                                0.025              0.001   \n",
       "\n",
       "                      sms_loc:shop  sms_loc:travel/transport  sms_loc:vehicle  \\\n",
       "contact_type                                                                    \n",
       "family_live_separate         0.058                     0.004            0.005   \n",
       "family_live_together         0.097                     0.008            0.007   \n",
       "friend                       0.048                     0.003            0.002   \n",
       "sig_other                    0.085                     0.002            0.005   \n",
       "task                         0.092                     0.012            0.003   \n",
       "work                         0.049                     0.003            0.004   \n",
       "\n",
       "                      sms_loc:other  \n",
       "contact_type                         \n",
       "family_live_separate          0.000  \n",
       "family_live_together          0.000  \n",
       "friend                        0.000  \n",
       "sig_other                     0.000  \n",
       "task                          0.000  \n",
       "work                          0.000  "
      ]
     },
     "metadata": {},
     "output_type": "display_data"
    },
    {
     "name": "stdout",
     "output_type": "stream",
     "text": [
      "Std Dev\n"
     ]
    },
    {
     "data": {
      "text/html": [
       "<div>\n",
       "<style scoped>\n",
       "    .dataframe tbody tr th:only-of-type {\n",
       "        vertical-align: middle;\n",
       "    }\n",
       "\n",
       "    .dataframe tbody tr th {\n",
       "        vertical-align: top;\n",
       "    }\n",
       "\n",
       "    .dataframe thead th {\n",
       "        text-align: right;\n",
       "    }\n",
       "</style>\n",
       "<table border=\"1\" class=\"dataframe\">\n",
       "  <thead>\n",
       "    <tr style=\"text-align: right;\">\n",
       "      <th></th>\n",
       "      <th>sms_loc:home</th>\n",
       "      <th>sms_loc:work</th>\n",
       "      <th>sms_loc:anothers_home</th>\n",
       "      <th>sms_loc:arts/entertainment</th>\n",
       "      <th>sms_loc:food</th>\n",
       "      <th>sms_loc:nightlife</th>\n",
       "      <th>sms_loc:outdoors/recreation</th>\n",
       "      <th>sms_loc:gym/exercise</th>\n",
       "      <th>sms_loc:professional/medical_office</th>\n",
       "      <th>sms_loc:spiritual</th>\n",
       "      <th>sms_loc:shop</th>\n",
       "      <th>sms_loc:travel/transport</th>\n",
       "      <th>sms_loc:vehicle</th>\n",
       "      <th>sms_loc:other</th>\n",
       "    </tr>\n",
       "    <tr>\n",
       "      <th>contact_type</th>\n",
       "      <th></th>\n",
       "      <th></th>\n",
       "      <th></th>\n",
       "      <th></th>\n",
       "      <th></th>\n",
       "      <th></th>\n",
       "      <th></th>\n",
       "      <th></th>\n",
       "      <th></th>\n",
       "      <th></th>\n",
       "      <th></th>\n",
       "      <th></th>\n",
       "      <th></th>\n",
       "      <th></th>\n",
       "    </tr>\n",
       "  </thead>\n",
       "  <tbody>\n",
       "    <tr>\n",
       "      <th>family_live_separate</th>\n",
       "      <td>0.313</td>\n",
       "      <td>0.198</td>\n",
       "      <td>0.180</td>\n",
       "      <td>0.007</td>\n",
       "      <td>0.117</td>\n",
       "      <td>0.061</td>\n",
       "      <td>0.072</td>\n",
       "      <td>0.010</td>\n",
       "      <td>0.036</td>\n",
       "      <td>0.035</td>\n",
       "      <td>0.142</td>\n",
       "      <td>0.058</td>\n",
       "      <td>0.032</td>\n",
       "      <td>0.000</td>\n",
       "    </tr>\n",
       "    <tr>\n",
       "      <th>family_live_together</th>\n",
       "      <td>0.331</td>\n",
       "      <td>0.230</td>\n",
       "      <td>0.184</td>\n",
       "      <td>0.025</td>\n",
       "      <td>0.090</td>\n",
       "      <td>0.053</td>\n",
       "      <td>0.111</td>\n",
       "      <td>0.029</td>\n",
       "      <td>0.057</td>\n",
       "      <td>0.019</td>\n",
       "      <td>0.165</td>\n",
       "      <td>0.036</td>\n",
       "      <td>0.061</td>\n",
       "      <td>0.000</td>\n",
       "    </tr>\n",
       "    <tr>\n",
       "      <th>friend</th>\n",
       "      <td>0.313</td>\n",
       "      <td>0.224</td>\n",
       "      <td>0.173</td>\n",
       "      <td>0.049</td>\n",
       "      <td>0.109</td>\n",
       "      <td>0.065</td>\n",
       "      <td>0.025</td>\n",
       "      <td>0.034</td>\n",
       "      <td>0.051</td>\n",
       "      <td>0.024</td>\n",
       "      <td>0.130</td>\n",
       "      <td>0.023</td>\n",
       "      <td>0.022</td>\n",
       "      <td>0.000</td>\n",
       "    </tr>\n",
       "    <tr>\n",
       "      <th>sig_other</th>\n",
       "      <td>0.328</td>\n",
       "      <td>0.235</td>\n",
       "      <td>0.096</td>\n",
       "      <td>0.009</td>\n",
       "      <td>0.065</td>\n",
       "      <td>0.057</td>\n",
       "      <td>0.006</td>\n",
       "      <td>0.015</td>\n",
       "      <td>0.069</td>\n",
       "      <td>0.009</td>\n",
       "      <td>0.199</td>\n",
       "      <td>0.009</td>\n",
       "      <td>0.032</td>\n",
       "      <td>0.000</td>\n",
       "    </tr>\n",
       "    <tr>\n",
       "      <th>task</th>\n",
       "      <td>0.342</td>\n",
       "      <td>0.227</td>\n",
       "      <td>0.154</td>\n",
       "      <td>0.009</td>\n",
       "      <td>0.089</td>\n",
       "      <td>0.053</td>\n",
       "      <td>0.054</td>\n",
       "      <td>0.001</td>\n",
       "      <td>0.041</td>\n",
       "      <td>0.005</td>\n",
       "      <td>0.210</td>\n",
       "      <td>0.103</td>\n",
       "      <td>0.017</td>\n",
       "      <td>0.000</td>\n",
       "    </tr>\n",
       "    <tr>\n",
       "      <th>work</th>\n",
       "      <td>0.371</td>\n",
       "      <td>0.326</td>\n",
       "      <td>0.156</td>\n",
       "      <td>0.007</td>\n",
       "      <td>0.072</td>\n",
       "      <td>0.073</td>\n",
       "      <td>0.014</td>\n",
       "      <td>0.024</td>\n",
       "      <td>0.110</td>\n",
       "      <td>0.013</td>\n",
       "      <td>0.164</td>\n",
       "      <td>0.017</td>\n",
       "      <td>0.036</td>\n",
       "      <td>0.000</td>\n",
       "    </tr>\n",
       "  </tbody>\n",
       "</table>\n",
       "</div>"
      ],
      "text/plain": [
       "                      sms_loc:home  sms_loc:work  sms_loc:anothers_home  \\\n",
       "contact_type                                                              \n",
       "family_live_separate         0.313         0.198                  0.180   \n",
       "family_live_together         0.331         0.230                  0.184   \n",
       "friend                       0.313         0.224                  0.173   \n",
       "sig_other                    0.328         0.235                  0.096   \n",
       "task                         0.342         0.227                  0.154   \n",
       "work                         0.371         0.326                  0.156   \n",
       "\n",
       "                      sms_loc:arts/entertainment  sms_loc:food  \\\n",
       "contact_type                                                     \n",
       "family_live_separate                       0.007         0.117   \n",
       "family_live_together                       0.025         0.090   \n",
       "friend                                     0.049         0.109   \n",
       "sig_other                                  0.009         0.065   \n",
       "task                                       0.009         0.089   \n",
       "work                                       0.007         0.072   \n",
       "\n",
       "                      sms_loc:nightlife  sms_loc:outdoors/recreation  \\\n",
       "contact_type                                                           \n",
       "family_live_separate              0.061                        0.072   \n",
       "family_live_together              0.053                        0.111   \n",
       "friend                            0.065                        0.025   \n",
       "sig_other                         0.057                        0.006   \n",
       "task                              0.053                        0.054   \n",
       "work                              0.073                        0.014   \n",
       "\n",
       "                      sms_loc:gym/exercise  \\\n",
       "contact_type                                 \n",
       "family_live_separate                 0.010   \n",
       "family_live_together                 0.029   \n",
       "friend                               0.034   \n",
       "sig_other                            0.015   \n",
       "task                                 0.001   \n",
       "work                                 0.024   \n",
       "\n",
       "                      sms_loc:professional/medical_office  sms_loc:spiritual  \\\n",
       "contact_type                                                                   \n",
       "family_live_separate                                0.036              0.035   \n",
       "family_live_together                                0.057              0.019   \n",
       "friend                                              0.051              0.024   \n",
       "sig_other                                           0.069              0.009   \n",
       "task                                                0.041              0.005   \n",
       "work                                                0.110              0.013   \n",
       "\n",
       "                      sms_loc:shop  sms_loc:travel/transport  sms_loc:vehicle  \\\n",
       "contact_type                                                                    \n",
       "family_live_separate         0.142                     0.058            0.032   \n",
       "family_live_together         0.165                     0.036            0.061   \n",
       "friend                       0.130                     0.023            0.022   \n",
       "sig_other                    0.199                     0.009            0.032   \n",
       "task                         0.210                     0.103            0.017   \n",
       "work                         0.164                     0.017            0.036   \n",
       "\n",
       "                      sms_loc:other  \n",
       "contact_type                         \n",
       "family_live_separate          0.000  \n",
       "family_live_together          0.000  \n",
       "friend                        0.000  \n",
       "sig_other                     0.000  \n",
       "task                          0.000  \n",
       "work                          0.000  "
      ]
     },
     "metadata": {},
     "output_type": "display_data"
    }
   ],
   "source": [
    "sms_loc_features_mean = loc_features.groupby('contact_type')[sms_loc_cols].mean()\n",
    "sms_loc_features_std = loc_features.groupby('contact_type')[sms_loc_cols].std()\n",
    "\n",
    "sms_loc_features_mean.plot.bar(rot=0, yerr=sms_loc_features_std)\n",
    "plt.title(\"SMS location tendency per contact type\")\n",
    "plt.ylabel(\"% of communications\")\n",
    "plt.show()\n",
    "print(\"Mean\")\n",
    "display(sms_loc_features_mean)\n",
    "print(\"Std Dev\")\n",
    "display(sms_loc_features_std)"
   ]
  },
  {
   "cell_type": "markdown",
   "metadata": {},
   "source": [
    "### Visit Reasons"
   ]
  },
  {
   "cell_type": "code",
   "execution_count": 121,
   "metadata": {
    "scrolled": false
   },
   "outputs": [
    {
     "data": {
      "image/png": "[encoded data removed]",
      "text/plain": [
       "<Figure size 1080x720 with 1 Axes>"
      ]
     },
     "metadata": {
      "needs_background": "light"
     },
     "output_type": "display_data"
    },
    {
     "name": "stdout",
     "output_type": "stream",
     "text": [
      "Mean\n"
     ]
    },
    {
     "data": {
      "text/html": [
       "<div>\n",
       "<style scoped>\n",
       "    .dataframe tbody tr th:only-of-type {\n",
       "        vertical-align: middle;\n",
       "    }\n",
       "\n",
       "    .dataframe tbody tr th {\n",
       "        vertical-align: top;\n",
       "    }\n",
       "\n",
       "    .dataframe thead th {\n",
       "        text-align: right;\n",
       "    }\n",
       "</style>\n",
       "<table border=\"1\" class=\"dataframe\">\n",
       "  <thead>\n",
       "    <tr style=\"text-align: right;\">\n",
       "      <th></th>\n",
       "      <th>sms_visit_reason:entertainment</th>\n",
       "      <th>sms_visit_reason:errand</th>\n",
       "      <th>sms_visit_reason:home</th>\n",
       "      <th>sms_visit_reason:work</th>\n",
       "      <th>sms_visit_reason:exercise</th>\n",
       "      <th>sms_visit_reason:dining</th>\n",
       "      <th>sms_visit_reason:socialize</th>\n",
       "      <th>sms_visit_reason:travel/traffic</th>\n",
       "      <th>sms_visit_reason:other</th>\n",
       "    </tr>\n",
       "    <tr>\n",
       "      <th>contact_type</th>\n",
       "      <th></th>\n",
       "      <th></th>\n",
       "      <th></th>\n",
       "      <th></th>\n",
       "      <th></th>\n",
       "      <th></th>\n",
       "      <th></th>\n",
       "      <th></th>\n",
       "      <th></th>\n",
       "    </tr>\n",
       "  </thead>\n",
       "  <tbody>\n",
       "    <tr>\n",
       "      <th>family_live_separate</th>\n",
       "      <td>0.018</td>\n",
       "      <td>0.025</td>\n",
       "      <td>0.661</td>\n",
       "      <td>0.105</td>\n",
       "      <td>0.005</td>\n",
       "      <td>0.021</td>\n",
       "      <td>0.061</td>\n",
       "      <td>0.009</td>\n",
       "      <td>0.094</td>\n",
       "    </tr>\n",
       "    <tr>\n",
       "      <th>family_live_together</th>\n",
       "      <td>0.006</td>\n",
       "      <td>0.065</td>\n",
       "      <td>0.548</td>\n",
       "      <td>0.172</td>\n",
       "      <td>0.001</td>\n",
       "      <td>0.030</td>\n",
       "      <td>0.051</td>\n",
       "      <td>0.018</td>\n",
       "      <td>0.110</td>\n",
       "    </tr>\n",
       "    <tr>\n",
       "      <th>friend</th>\n",
       "      <td>0.015</td>\n",
       "      <td>0.032</td>\n",
       "      <td>0.640</td>\n",
       "      <td>0.151</td>\n",
       "      <td>0.005</td>\n",
       "      <td>0.026</td>\n",
       "      <td>0.046</td>\n",
       "      <td>0.009</td>\n",
       "      <td>0.076</td>\n",
       "    </tr>\n",
       "    <tr>\n",
       "      <th>sig_other</th>\n",
       "      <td>0.013</td>\n",
       "      <td>0.046</td>\n",
       "      <td>0.586</td>\n",
       "      <td>0.199</td>\n",
       "      <td>0.002</td>\n",
       "      <td>0.014</td>\n",
       "      <td>0.035</td>\n",
       "      <td>0.012</td>\n",
       "      <td>0.092</td>\n",
       "    </tr>\n",
       "    <tr>\n",
       "      <th>task</th>\n",
       "      <td>0.020</td>\n",
       "      <td>0.067</td>\n",
       "      <td>0.589</td>\n",
       "      <td>0.150</td>\n",
       "      <td>0.000</td>\n",
       "      <td>0.019</td>\n",
       "      <td>0.054</td>\n",
       "      <td>0.019</td>\n",
       "      <td>0.082</td>\n",
       "    </tr>\n",
       "    <tr>\n",
       "      <th>work</th>\n",
       "      <td>0.005</td>\n",
       "      <td>0.042</td>\n",
       "      <td>0.498</td>\n",
       "      <td>0.318</td>\n",
       "      <td>0.000</td>\n",
       "      <td>0.020</td>\n",
       "      <td>0.026</td>\n",
       "      <td>0.005</td>\n",
       "      <td>0.085</td>\n",
       "    </tr>\n",
       "  </tbody>\n",
       "</table>\n",
       "</div>"
      ],
      "text/plain": [
       "                      sms_visit_reason:entertainment  sms_visit_reason:errand  \\\n",
       "contact_type                                                                    \n",
       "family_live_separate                           0.018                    0.025   \n",
       "family_live_together                           0.006                    0.065   \n",
       "friend                                         0.015                    0.032   \n",
       "sig_other                                      0.013                    0.046   \n",
       "task                                           0.020                    0.067   \n",
       "work                                           0.005                    0.042   \n",
       "\n",
       "                      sms_visit_reason:home  sms_visit_reason:work  \\\n",
       "contact_type                                                         \n",
       "family_live_separate                  0.661                  0.105   \n",
       "family_live_together                  0.548                  0.172   \n",
       "friend                                0.640                  0.151   \n",
       "sig_other                             0.586                  0.199   \n",
       "task                                  0.589                  0.150   \n",
       "work                                  0.498                  0.318   \n",
       "\n",
       "                      sms_visit_reason:exercise  sms_visit_reason:dining  \\\n",
       "contact_type                                                               \n",
       "family_live_separate                      0.005                    0.021   \n",
       "family_live_together                      0.001                    0.030   \n",
       "friend                                    0.005                    0.026   \n",
       "sig_other                                 0.002                    0.014   \n",
       "task                                      0.000                    0.019   \n",
       "work                                      0.000                    0.020   \n",
       "\n",
       "                      sms_visit_reason:socialize  \\\n",
       "contact_type                                       \n",
       "family_live_separate                       0.061   \n",
       "family_live_together                       0.051   \n",
       "friend                                     0.046   \n",
       "sig_other                                  0.035   \n",
       "task                                       0.054   \n",
       "work                                       0.026   \n",
       "\n",
       "                      sms_visit_reason:travel/traffic  sms_visit_reason:other  \n",
       "contact_type                                                                   \n",
       "family_live_separate                            0.009                   0.094  \n",
       "family_live_together                            0.018                   0.110  \n",
       "friend                                          0.009                   0.076  \n",
       "sig_other                                       0.012                   0.092  \n",
       "task                                            0.019                   0.082  \n",
       "work                                            0.005                   0.085  "
      ]
     },
     "metadata": {},
     "output_type": "display_data"
    },
    {
     "name": "stdout",
     "output_type": "stream",
     "text": [
      "Std Dev\n"
     ]
    },
    {
     "data": {
      "text/html": [
       "<div>\n",
       "<style scoped>\n",
       "    .dataframe tbody tr th:only-of-type {\n",
       "        vertical-align: middle;\n",
       "    }\n",
       "\n",
       "    .dataframe tbody tr th {\n",
       "        vertical-align: top;\n",
       "    }\n",
       "\n",
       "    .dataframe thead th {\n",
       "        text-align: right;\n",
       "    }\n",
       "</style>\n",
       "<table border=\"1\" class=\"dataframe\">\n",
       "  <thead>\n",
       "    <tr style=\"text-align: right;\">\n",
       "      <th></th>\n",
       "      <th>sms_visit_reason:entertainment</th>\n",
       "      <th>sms_visit_reason:errand</th>\n",
       "      <th>sms_visit_reason:home</th>\n",
       "      <th>sms_visit_reason:work</th>\n",
       "      <th>sms_visit_reason:exercise</th>\n",
       "      <th>sms_visit_reason:dining</th>\n",
       "      <th>sms_visit_reason:socialize</th>\n",
       "      <th>sms_visit_reason:travel/traffic</th>\n",
       "      <th>sms_visit_reason:other</th>\n",
       "    </tr>\n",
       "    <tr>\n",
       "      <th>contact_type</th>\n",
       "      <th></th>\n",
       "      <th></th>\n",
       "      <th></th>\n",
       "      <th></th>\n",
       "      <th></th>\n",
       "      <th></th>\n",
       "      <th></th>\n",
       "      <th></th>\n",
       "      <th></th>\n",
       "    </tr>\n",
       "  </thead>\n",
       "  <tbody>\n",
       "    <tr>\n",
       "      <th>family_live_separate</th>\n",
       "      <td>0.098</td>\n",
       "      <td>0.063</td>\n",
       "      <td>0.325</td>\n",
       "      <td>0.195</td>\n",
       "      <td>0.060</td>\n",
       "      <td>0.087</td>\n",
       "      <td>0.156</td>\n",
       "      <td>0.058</td>\n",
       "      <td>0.211</td>\n",
       "    </tr>\n",
       "    <tr>\n",
       "      <th>family_live_together</th>\n",
       "      <td>0.024</td>\n",
       "      <td>0.126</td>\n",
       "      <td>0.331</td>\n",
       "      <td>0.239</td>\n",
       "      <td>0.004</td>\n",
       "      <td>0.079</td>\n",
       "      <td>0.106</td>\n",
       "      <td>0.071</td>\n",
       "      <td>0.222</td>\n",
       "    </tr>\n",
       "    <tr>\n",
       "      <th>friend</th>\n",
       "      <td>0.079</td>\n",
       "      <td>0.100</td>\n",
       "      <td>0.318</td>\n",
       "      <td>0.232</td>\n",
       "      <td>0.035</td>\n",
       "      <td>0.085</td>\n",
       "      <td>0.114</td>\n",
       "      <td>0.072</td>\n",
       "      <td>0.181</td>\n",
       "    </tr>\n",
       "    <tr>\n",
       "      <th>sig_other</th>\n",
       "      <td>0.059</td>\n",
       "      <td>0.124</td>\n",
       "      <td>0.325</td>\n",
       "      <td>0.255</td>\n",
       "      <td>0.010</td>\n",
       "      <td>0.033</td>\n",
       "      <td>0.081</td>\n",
       "      <td>0.054</td>\n",
       "      <td>0.202</td>\n",
       "    </tr>\n",
       "    <tr>\n",
       "      <th>task</th>\n",
       "      <td>0.083</td>\n",
       "      <td>0.185</td>\n",
       "      <td>0.351</td>\n",
       "      <td>0.231</td>\n",
       "      <td>0.000</td>\n",
       "      <td>0.057</td>\n",
       "      <td>0.154</td>\n",
       "      <td>0.107</td>\n",
       "      <td>0.207</td>\n",
       "    </tr>\n",
       "    <tr>\n",
       "      <th>work</th>\n",
       "      <td>0.028</td>\n",
       "      <td>0.151</td>\n",
       "      <td>0.352</td>\n",
       "      <td>0.341</td>\n",
       "      <td>0.001</td>\n",
       "      <td>0.080</td>\n",
       "      <td>0.074</td>\n",
       "      <td>0.037</td>\n",
       "      <td>0.189</td>\n",
       "    </tr>\n",
       "  </tbody>\n",
       "</table>\n",
       "</div>"
      ],
      "text/plain": [
       "                      sms_visit_reason:entertainment  sms_visit_reason:errand  \\\n",
       "contact_type                                                                    \n",
       "family_live_separate                           0.098                    0.063   \n",
       "family_live_together                           0.024                    0.126   \n",
       "friend                                         0.079                    0.100   \n",
       "sig_other                                      0.059                    0.124   \n",
       "task                                           0.083                    0.185   \n",
       "work                                           0.028                    0.151   \n",
       "\n",
       "                      sms_visit_reason:home  sms_visit_reason:work  \\\n",
       "contact_type                                                         \n",
       "family_live_separate                  0.325                  0.195   \n",
       "family_live_together                  0.331                  0.239   \n",
       "friend                                0.318                  0.232   \n",
       "sig_other                             0.325                  0.255   \n",
       "task                                  0.351                  0.231   \n",
       "work                                  0.352                  0.341   \n",
       "\n",
       "                      sms_visit_reason:exercise  sms_visit_reason:dining  \\\n",
       "contact_type                                                               \n",
       "family_live_separate                      0.060                    0.087   \n",
       "family_live_together                      0.004                    0.079   \n",
       "friend                                    0.035                    0.085   \n",
       "sig_other                                 0.010                    0.033   \n",
       "task                                      0.000                    0.057   \n",
       "work                                      0.001                    0.080   \n",
       "\n",
       "                      sms_visit_reason:socialize  \\\n",
       "contact_type                                       \n",
       "family_live_separate                       0.156   \n",
       "family_live_together                       0.106   \n",
       "friend                                     0.114   \n",
       "sig_other                                  0.081   \n",
       "task                                       0.154   \n",
       "work                                       0.074   \n",
       "\n",
       "                      sms_visit_reason:travel/traffic  sms_visit_reason:other  \n",
       "contact_type                                                                   \n",
       "family_live_separate                            0.058                   0.211  \n",
       "family_live_together                            0.071                   0.222  \n",
       "friend                                          0.072                   0.181  \n",
       "sig_other                                       0.054                   0.202  \n",
       "task                                            0.107                   0.207  \n",
       "work                                            0.037                   0.189  "
      ]
     },
     "metadata": {},
     "output_type": "display_data"
    }
   ],
   "source": [
    "sms_visit_features_mean = loc_features.groupby('contact_type')[sms_visit_cols].mean()\n",
    "sms_visit_features_std = loc_features.groupby('contact_type')[sms_visit_cols].std()\n",
    "\n",
    "sms_visit_features_mean.plot.bar(rot=0, yerr=sms_visit_features_std)\n",
    "plt.title(\"SMS visitation tendency per contact type\")\n",
    "plt.ylabel(\"% of communications\")\n",
    "plt.show()\n",
    "print(\"Mean\")\n",
    "display(sms_visit_features_mean)\n",
    "print(\"Std Dev\")\n",
    "display(sms_visit_features_std)"
   ]
  },
  {
   "cell_type": "markdown",
   "metadata": {},
   "source": [
    "## Call tendencies"
   ]
  },
  {
   "cell_type": "code",
   "execution_count": 122,
   "metadata": {},
   "outputs": [],
   "source": [
    "call_loc_cols = [x for x in loc_features.columns if x.startswith('call_loc:')]\n",
    "call_visit_cols = [x for x in loc_features.columns if x.startswith('call_visit_reason:')]"
   ]
  },
  {
   "cell_type": "markdown",
   "metadata": {},
   "source": [
    "### Locations"
   ]
  },
  {
   "cell_type": "code",
   "execution_count": 123,
   "metadata": {
    "scrolled": false
   },
   "outputs": [
    {
     "data": {
      "image/png": "[encoded data removed]",
      "text/plain": [
       "<Figure size 1080x720 with 1 Axes>"
      ]
     },
     "metadata": {
      "needs_background": "light"
     },
     "output_type": "display_data"
    },
    {
     "name": "stdout",
     "output_type": "stream",
     "text": [
      "Mean\n"
     ]
    },
    {
     "data": {
      "text/html": [
       "<div>\n",
       "<style scoped>\n",
       "    .dataframe tbody tr th:only-of-type {\n",
       "        vertical-align: middle;\n",
       "    }\n",
       "\n",
       "    .dataframe tbody tr th {\n",
       "        vertical-align: top;\n",
       "    }\n",
       "\n",
       "    .dataframe thead th {\n",
       "        text-align: right;\n",
       "    }\n",
       "</style>\n",
       "<table border=\"1\" class=\"dataframe\">\n",
       "  <thead>\n",
       "    <tr style=\"text-align: right;\">\n",
       "      <th></th>\n",
       "      <th>call_loc:home</th>\n",
       "      <th>call_loc:work</th>\n",
       "      <th>call_loc:anothers_home</th>\n",
       "      <th>call_loc:arts/entertainment</th>\n",
       "      <th>call_loc:food</th>\n",
       "      <th>call_loc:nightlife</th>\n",
       "      <th>call_loc:outdoors/recreation</th>\n",
       "      <th>call_loc:gym/exercise</th>\n",
       "      <th>call_loc:professional/medical_office</th>\n",
       "      <th>call_loc:spiritual</th>\n",
       "      <th>call_loc:shop</th>\n",
       "      <th>call_loc:travel/transport</th>\n",
       "      <th>call_loc:vehicle</th>\n",
       "      <th>call_loc:other</th>\n",
       "    </tr>\n",
       "    <tr>\n",
       "      <th>contact_type</th>\n",
       "      <th></th>\n",
       "      <th></th>\n",
       "      <th></th>\n",
       "      <th></th>\n",
       "      <th></th>\n",
       "      <th></th>\n",
       "      <th></th>\n",
       "      <th></th>\n",
       "      <th></th>\n",
       "      <th></th>\n",
       "      <th></th>\n",
       "      <th></th>\n",
       "      <th></th>\n",
       "      <th></th>\n",
       "    </tr>\n",
       "  </thead>\n",
       "  <tbody>\n",
       "    <tr>\n",
       "      <th>family_live_separate</th>\n",
       "      <td>0.659</td>\n",
       "      <td>0.088</td>\n",
       "      <td>0.051</td>\n",
       "      <td>0.001</td>\n",
       "      <td>0.054</td>\n",
       "      <td>0.002</td>\n",
       "      <td>0.042</td>\n",
       "      <td>0.001</td>\n",
       "      <td>0.012</td>\n",
       "      <td>0.002</td>\n",
       "      <td>0.082</td>\n",
       "      <td>0.004</td>\n",
       "      <td>0.002</td>\n",
       "      <td>0.000</td>\n",
       "    </tr>\n",
       "    <tr>\n",
       "      <th>family_live_together</th>\n",
       "      <td>0.567</td>\n",
       "      <td>0.079</td>\n",
       "      <td>0.071</td>\n",
       "      <td>0.013</td>\n",
       "      <td>0.028</td>\n",
       "      <td>0.008</td>\n",
       "      <td>0.013</td>\n",
       "      <td>0.003</td>\n",
       "      <td>0.025</td>\n",
       "      <td>0.006</td>\n",
       "      <td>0.173</td>\n",
       "      <td>0.010</td>\n",
       "      <td>0.003</td>\n",
       "      <td>0.000</td>\n",
       "    </tr>\n",
       "    <tr>\n",
       "      <th>friend</th>\n",
       "      <td>0.668</td>\n",
       "      <td>0.096</td>\n",
       "      <td>0.074</td>\n",
       "      <td>0.002</td>\n",
       "      <td>0.038</td>\n",
       "      <td>0.013</td>\n",
       "      <td>0.011</td>\n",
       "      <td>0.005</td>\n",
       "      <td>0.015</td>\n",
       "      <td>0.001</td>\n",
       "      <td>0.073</td>\n",
       "      <td>0.005</td>\n",
       "      <td>0.001</td>\n",
       "      <td>0.000</td>\n",
       "    </tr>\n",
       "    <tr>\n",
       "      <th>sig_other</th>\n",
       "      <td>0.613</td>\n",
       "      <td>0.132</td>\n",
       "      <td>0.050</td>\n",
       "      <td>0.000</td>\n",
       "      <td>0.039</td>\n",
       "      <td>0.003</td>\n",
       "      <td>0.003</td>\n",
       "      <td>0.004</td>\n",
       "      <td>0.023</td>\n",
       "      <td>0.001</td>\n",
       "      <td>0.126</td>\n",
       "      <td>0.004</td>\n",
       "      <td>0.003</td>\n",
       "      <td>0.000</td>\n",
       "    </tr>\n",
       "    <tr>\n",
       "      <th>task</th>\n",
       "      <td>0.763</td>\n",
       "      <td>0.080</td>\n",
       "      <td>0.037</td>\n",
       "      <td>0.003</td>\n",
       "      <td>0.022</td>\n",
       "      <td>0.000</td>\n",
       "      <td>0.001</td>\n",
       "      <td>0.000</td>\n",
       "      <td>0.011</td>\n",
       "      <td>0.012</td>\n",
       "      <td>0.052</td>\n",
       "      <td>0.012</td>\n",
       "      <td>0.008</td>\n",
       "      <td>0.000</td>\n",
       "    </tr>\n",
       "    <tr>\n",
       "      <th>work</th>\n",
       "      <td>0.520</td>\n",
       "      <td>0.252</td>\n",
       "      <td>0.046</td>\n",
       "      <td>0.000</td>\n",
       "      <td>0.030</td>\n",
       "      <td>0.014</td>\n",
       "      <td>0.013</td>\n",
       "      <td>0.001</td>\n",
       "      <td>0.008</td>\n",
       "      <td>0.002</td>\n",
       "      <td>0.093</td>\n",
       "      <td>0.020</td>\n",
       "      <td>0.000</td>\n",
       "      <td>0.000</td>\n",
       "    </tr>\n",
       "  </tbody>\n",
       "</table>\n",
       "</div>"
      ],
      "text/plain": [
       "                      call_loc:home  call_loc:work  call_loc:anothers_home  \\\n",
       "contact_type                                                                 \n",
       "family_live_separate          0.659          0.088                   0.051   \n",
       "family_live_together          0.567          0.079                   0.071   \n",
       "friend                        0.668          0.096                   0.074   \n",
       "sig_other                     0.613          0.132                   0.050   \n",
       "task                          0.763          0.080                   0.037   \n",
       "work                          0.520          0.252                   0.046   \n",
       "\n",
       "                      call_loc:arts/entertainment  call_loc:food  \\\n",
       "contact_type                                                       \n",
       "family_live_separate                        0.001          0.054   \n",
       "family_live_together                        0.013          0.028   \n",
       "friend                                      0.002          0.038   \n",
       "sig_other                                   0.000          0.039   \n",
       "task                                        0.003          0.022   \n",
       "work                                        0.000          0.030   \n",
       "\n",
       "                      call_loc:nightlife  call_loc:outdoors/recreation  \\\n",
       "contact_type                                                             \n",
       "family_live_separate               0.002                         0.042   \n",
       "family_live_together               0.008                         0.013   \n",
       "friend                             0.013                         0.011   \n",
       "sig_other                          0.003                         0.003   \n",
       "task                               0.000                         0.001   \n",
       "work                               0.014                         0.013   \n",
       "\n",
       "                      call_loc:gym/exercise  \\\n",
       "contact_type                                  \n",
       "family_live_separate                  0.001   \n",
       "family_live_together                  0.003   \n",
       "friend                                0.005   \n",
       "sig_other                             0.004   \n",
       "task                                  0.000   \n",
       "work                                  0.001   \n",
       "\n",
       "                      call_loc:professional/medical_office  \\\n",
       "contact_type                                                 \n",
       "family_live_separate                                 0.012   \n",
       "family_live_together                                 0.025   \n",
       "friend                                               0.015   \n",
       "sig_other                                            0.023   \n",
       "task                                                 0.011   \n",
       "work                                                 0.008   \n",
       "\n",
       "                      call_loc:spiritual  call_loc:shop  \\\n",
       "contact_type                                              \n",
       "family_live_separate               0.002          0.082   \n",
       "family_live_together               0.006          0.173   \n",
       "friend                             0.001          0.073   \n",
       "sig_other                          0.001          0.126   \n",
       "task                               0.012          0.052   \n",
       "work                               0.002          0.093   \n",
       "\n",
       "                      call_loc:travel/transport  call_loc:vehicle  \\\n",
       "contact_type                                                        \n",
       "family_live_separate                      0.004             0.002   \n",
       "family_live_together                      0.010             0.003   \n",
       "friend                                    0.005             0.001   \n",
       "sig_other                                 0.004             0.003   \n",
       "task                                      0.012             0.008   \n",
       "work                                      0.020             0.000   \n",
       "\n",
       "                      call_loc:other  \n",
       "contact_type                          \n",
       "family_live_separate           0.000  \n",
       "family_live_together           0.000  \n",
       "friend                         0.000  \n",
       "sig_other                      0.000  \n",
       "task                           0.000  \n",
       "work                           0.000  "
      ]
     },
     "metadata": {},
     "output_type": "display_data"
    },
    {
     "name": "stdout",
     "output_type": "stream",
     "text": [
      "Std Dev\n"
     ]
    },
    {
     "data": {
      "text/html": [
       "<div>\n",
       "<style scoped>\n",
       "    .dataframe tbody tr th:only-of-type {\n",
       "        vertical-align: middle;\n",
       "    }\n",
       "\n",
       "    .dataframe tbody tr th {\n",
       "        vertical-align: top;\n",
       "    }\n",
       "\n",
       "    .dataframe thead th {\n",
       "        text-align: right;\n",
       "    }\n",
       "</style>\n",
       "<table border=\"1\" class=\"dataframe\">\n",
       "  <thead>\n",
       "    <tr style=\"text-align: right;\">\n",
       "      <th></th>\n",
       "      <th>call_loc:home</th>\n",
       "      <th>call_loc:work</th>\n",
       "      <th>call_loc:anothers_home</th>\n",
       "      <th>call_loc:arts/entertainment</th>\n",
       "      <th>call_loc:food</th>\n",
       "      <th>call_loc:nightlife</th>\n",
       "      <th>call_loc:outdoors/recreation</th>\n",
       "      <th>call_loc:gym/exercise</th>\n",
       "      <th>call_loc:professional/medical_office</th>\n",
       "      <th>call_loc:spiritual</th>\n",
       "      <th>call_loc:shop</th>\n",
       "      <th>call_loc:travel/transport</th>\n",
       "      <th>call_loc:vehicle</th>\n",
       "      <th>call_loc:other</th>\n",
       "    </tr>\n",
       "    <tr>\n",
       "      <th>contact_type</th>\n",
       "      <th></th>\n",
       "      <th></th>\n",
       "      <th></th>\n",
       "      <th></th>\n",
       "      <th></th>\n",
       "      <th></th>\n",
       "      <th></th>\n",
       "      <th></th>\n",
       "      <th></th>\n",
       "      <th></th>\n",
       "      <th></th>\n",
       "      <th></th>\n",
       "      <th></th>\n",
       "      <th></th>\n",
       "    </tr>\n",
       "  </thead>\n",
       "  <tbody>\n",
       "    <tr>\n",
       "      <th>family_live_separate</th>\n",
       "      <td>0.367</td>\n",
       "      <td>0.207</td>\n",
       "      <td>0.160</td>\n",
       "      <td>0.013</td>\n",
       "      <td>0.163</td>\n",
       "      <td>0.021</td>\n",
       "      <td>0.183</td>\n",
       "      <td>0.009</td>\n",
       "      <td>0.077</td>\n",
       "      <td>0.018</td>\n",
       "      <td>0.201</td>\n",
       "      <td>0.036</td>\n",
       "      <td>0.016</td>\n",
       "      <td>0.000</td>\n",
       "    </tr>\n",
       "    <tr>\n",
       "      <th>family_live_together</th>\n",
       "      <td>0.339</td>\n",
       "      <td>0.168</td>\n",
       "      <td>0.184</td>\n",
       "      <td>0.071</td>\n",
       "      <td>0.066</td>\n",
       "      <td>0.047</td>\n",
       "      <td>0.082</td>\n",
       "      <td>0.020</td>\n",
       "      <td>0.123</td>\n",
       "      <td>0.039</td>\n",
       "      <td>0.250</td>\n",
       "      <td>0.056</td>\n",
       "      <td>0.022</td>\n",
       "      <td>0.000</td>\n",
       "    </tr>\n",
       "    <tr>\n",
       "      <th>friend</th>\n",
       "      <td>0.387</td>\n",
       "      <td>0.226</td>\n",
       "      <td>0.224</td>\n",
       "      <td>0.019</td>\n",
       "      <td>0.155</td>\n",
       "      <td>0.102</td>\n",
       "      <td>0.099</td>\n",
       "      <td>0.058</td>\n",
       "      <td>0.089</td>\n",
       "      <td>0.007</td>\n",
       "      <td>0.192</td>\n",
       "      <td>0.070</td>\n",
       "      <td>0.007</td>\n",
       "      <td>0.000</td>\n",
       "    </tr>\n",
       "    <tr>\n",
       "      <th>sig_other</th>\n",
       "      <td>0.332</td>\n",
       "      <td>0.226</td>\n",
       "      <td>0.139</td>\n",
       "      <td>0.003</td>\n",
       "      <td>0.113</td>\n",
       "      <td>0.017</td>\n",
       "      <td>0.017</td>\n",
       "      <td>0.019</td>\n",
       "      <td>0.087</td>\n",
       "      <td>0.006</td>\n",
       "      <td>0.218</td>\n",
       "      <td>0.015</td>\n",
       "      <td>0.022</td>\n",
       "      <td>0.000</td>\n",
       "    </tr>\n",
       "    <tr>\n",
       "      <th>task</th>\n",
       "      <td>0.329</td>\n",
       "      <td>0.202</td>\n",
       "      <td>0.147</td>\n",
       "      <td>0.028</td>\n",
       "      <td>0.099</td>\n",
       "      <td>0.000</td>\n",
       "      <td>0.006</td>\n",
       "      <td>0.000</td>\n",
       "      <td>0.101</td>\n",
       "      <td>0.102</td>\n",
       "      <td>0.144</td>\n",
       "      <td>0.102</td>\n",
       "      <td>0.055</td>\n",
       "      <td>0.000</td>\n",
       "    </tr>\n",
       "    <tr>\n",
       "      <th>work</th>\n",
       "      <td>0.416</td>\n",
       "      <td>0.367</td>\n",
       "      <td>0.153</td>\n",
       "      <td>0.000</td>\n",
       "      <td>0.162</td>\n",
       "      <td>0.071</td>\n",
       "      <td>0.115</td>\n",
       "      <td>0.009</td>\n",
       "      <td>0.058</td>\n",
       "      <td>0.020</td>\n",
       "      <td>0.241</td>\n",
       "      <td>0.111</td>\n",
       "      <td>0.000</td>\n",
       "      <td>0.000</td>\n",
       "    </tr>\n",
       "  </tbody>\n",
       "</table>\n",
       "</div>"
      ],
      "text/plain": [
       "                      call_loc:home  call_loc:work  call_loc:anothers_home  \\\n",
       "contact_type                                                                 \n",
       "family_live_separate          0.367          0.207                   0.160   \n",
       "family_live_together          0.339          0.168                   0.184   \n",
       "friend                        0.387          0.226                   0.224   \n",
       "sig_other                     0.332          0.226                   0.139   \n",
       "task                          0.329          0.202                   0.147   \n",
       "work                          0.416          0.367                   0.153   \n",
       "\n",
       "                      call_loc:arts/entertainment  call_loc:food  \\\n",
       "contact_type                                                       \n",
       "family_live_separate                        0.013          0.163   \n",
       "family_live_together                        0.071          0.066   \n",
       "friend                                      0.019          0.155   \n",
       "sig_other                                   0.003          0.113   \n",
       "task                                        0.028          0.099   \n",
       "work                                        0.000          0.162   \n",
       "\n",
       "                      call_loc:nightlife  call_loc:outdoors/recreation  \\\n",
       "contact_type                                                             \n",
       "family_live_separate               0.021                         0.183   \n",
       "family_live_together               0.047                         0.082   \n",
       "friend                             0.102                         0.099   \n",
       "sig_other                          0.017                         0.017   \n",
       "task                               0.000                         0.006   \n",
       "work                               0.071                         0.115   \n",
       "\n",
       "                      call_loc:gym/exercise  \\\n",
       "contact_type                                  \n",
       "family_live_separate                  0.009   \n",
       "family_live_together                  0.020   \n",
       "friend                                0.058   \n",
       "sig_other                             0.019   \n",
       "task                                  0.000   \n",
       "work                                  0.009   \n",
       "\n",
       "                      call_loc:professional/medical_office  \\\n",
       "contact_type                                                 \n",
       "family_live_separate                                 0.077   \n",
       "family_live_together                                 0.123   \n",
       "friend                                               0.089   \n",
       "sig_other                                            0.087   \n",
       "task                                                 0.101   \n",
       "work                                                 0.058   \n",
       "\n",
       "                      call_loc:spiritual  call_loc:shop  \\\n",
       "contact_type                                              \n",
       "family_live_separate               0.018          0.201   \n",
       "family_live_together               0.039          0.250   \n",
       "friend                             0.007          0.192   \n",
       "sig_other                          0.006          0.218   \n",
       "task                               0.102          0.144   \n",
       "work                               0.020          0.241   \n",
       "\n",
       "                      call_loc:travel/transport  call_loc:vehicle  \\\n",
       "contact_type                                                        \n",
       "family_live_separate                      0.036             0.016   \n",
       "family_live_together                      0.056             0.022   \n",
       "friend                                    0.070             0.007   \n",
       "sig_other                                 0.015             0.022   \n",
       "task                                      0.102             0.055   \n",
       "work                                      0.111             0.000   \n",
       "\n",
       "                      call_loc:other  \n",
       "contact_type                          \n",
       "family_live_separate           0.000  \n",
       "family_live_together           0.000  \n",
       "friend                         0.000  \n",
       "sig_other                      0.000  \n",
       "task                           0.000  \n",
       "work                           0.000  "
      ]
     },
     "metadata": {},
     "output_type": "display_data"
    }
   ],
   "source": [
    "call_loc_features_mean = loc_features.groupby('contact_type')[call_loc_cols].mean()\n",
    "call_loc_features_std = loc_features.groupby('contact_type')[call_loc_cols].std()\n",
    "\n",
    "call_loc_features_mean.plot.bar(rot=0, yerr=call_loc_features_std)\n",
    "plt.title(\"call location tendency per contact type\")\n",
    "plt.ylabel(\"% of communications\")\n",
    "plt.show()\n",
    "print(\"Mean\")\n",
    "display(call_loc_features_mean)\n",
    "print(\"Std Dev\")\n",
    "display(call_loc_features_std)"
   ]
  },
  {
   "cell_type": "markdown",
   "metadata": {},
   "source": [
    "### Visit Reasons"
   ]
  },
  {
   "cell_type": "code",
   "execution_count": 124,
   "metadata": {},
   "outputs": [
    {
     "data": {
      "image/png": "[encoded data removed]",
      "text/plain": [
       "<Figure size 1080x720 with 1 Axes>"
      ]
     },
     "metadata": {
      "needs_background": "light"
     },
     "output_type": "display_data"
    },
    {
     "name": "stdout",
     "output_type": "stream",
     "text": [
      "Mean\n"
     ]
    },
    {
     "data": {
      "text/html": [
       "<div>\n",
       "<style scoped>\n",
       "    .dataframe tbody tr th:only-of-type {\n",
       "        vertical-align: middle;\n",
       "    }\n",
       "\n",
       "    .dataframe tbody tr th {\n",
       "        vertical-align: top;\n",
       "    }\n",
       "\n",
       "    .dataframe thead th {\n",
       "        text-align: right;\n",
       "    }\n",
       "</style>\n",
       "<table border=\"1\" class=\"dataframe\">\n",
       "  <thead>\n",
       "    <tr style=\"text-align: right;\">\n",
       "      <th></th>\n",
       "      <th>call_visit_reason:entertainment</th>\n",
       "      <th>call_visit_reason:errand</th>\n",
       "      <th>call_visit_reason:home</th>\n",
       "      <th>call_visit_reason:work</th>\n",
       "      <th>call_visit_reason:exercise</th>\n",
       "      <th>call_visit_reason:dining</th>\n",
       "      <th>call_visit_reason:socialize</th>\n",
       "      <th>call_visit_reason:travel/traffic</th>\n",
       "      <th>call_visit_reason:other</th>\n",
       "    </tr>\n",
       "    <tr>\n",
       "      <th>contact_type</th>\n",
       "      <th></th>\n",
       "      <th></th>\n",
       "      <th></th>\n",
       "      <th></th>\n",
       "      <th></th>\n",
       "      <th></th>\n",
       "      <th></th>\n",
       "      <th></th>\n",
       "      <th></th>\n",
       "    </tr>\n",
       "  </thead>\n",
       "  <tbody>\n",
       "    <tr>\n",
       "      <th>family_live_separate</th>\n",
       "      <td>0.014</td>\n",
       "      <td>0.047</td>\n",
       "      <td>0.634</td>\n",
       "      <td>0.092</td>\n",
       "      <td>0.020</td>\n",
       "      <td>0.033</td>\n",
       "      <td>0.057</td>\n",
       "      <td>0.006</td>\n",
       "      <td>0.096</td>\n",
       "    </tr>\n",
       "    <tr>\n",
       "      <th>family_live_together</th>\n",
       "      <td>0.017</td>\n",
       "      <td>0.112</td>\n",
       "      <td>0.534</td>\n",
       "      <td>0.115</td>\n",
       "      <td>0.008</td>\n",
       "      <td>0.028</td>\n",
       "      <td>0.067</td>\n",
       "      <td>0.009</td>\n",
       "      <td>0.110</td>\n",
       "    </tr>\n",
       "    <tr>\n",
       "      <th>friend</th>\n",
       "      <td>0.010</td>\n",
       "      <td>0.052</td>\n",
       "      <td>0.611</td>\n",
       "      <td>0.126</td>\n",
       "      <td>0.007</td>\n",
       "      <td>0.016</td>\n",
       "      <td>0.059</td>\n",
       "      <td>0.006</td>\n",
       "      <td>0.113</td>\n",
       "    </tr>\n",
       "    <tr>\n",
       "      <th>sig_other</th>\n",
       "      <td>0.016</td>\n",
       "      <td>0.081</td>\n",
       "      <td>0.565</td>\n",
       "      <td>0.165</td>\n",
       "      <td>0.009</td>\n",
       "      <td>0.019</td>\n",
       "      <td>0.037</td>\n",
       "      <td>0.007</td>\n",
       "      <td>0.101</td>\n",
       "    </tr>\n",
       "    <tr>\n",
       "      <th>task</th>\n",
       "      <td>0.007</td>\n",
       "      <td>0.036</td>\n",
       "      <td>0.713</td>\n",
       "      <td>0.107</td>\n",
       "      <td>0.006</td>\n",
       "      <td>0.013</td>\n",
       "      <td>0.034</td>\n",
       "      <td>0.025</td>\n",
       "      <td>0.060</td>\n",
       "    </tr>\n",
       "    <tr>\n",
       "      <th>work</th>\n",
       "      <td>0.008</td>\n",
       "      <td>0.049</td>\n",
       "      <td>0.444</td>\n",
       "      <td>0.270</td>\n",
       "      <td>0.000</td>\n",
       "      <td>0.029</td>\n",
       "      <td>0.044</td>\n",
       "      <td>0.015</td>\n",
       "      <td>0.142</td>\n",
       "    </tr>\n",
       "  </tbody>\n",
       "</table>\n",
       "</div>"
      ],
      "text/plain": [
       "                      call_visit_reason:entertainment  \\\n",
       "contact_type                                            \n",
       "family_live_separate                            0.014   \n",
       "family_live_together                            0.017   \n",
       "friend                                          0.010   \n",
       "sig_other                                       0.016   \n",
       "task                                            0.007   \n",
       "work                                            0.008   \n",
       "\n",
       "                      call_visit_reason:errand  call_visit_reason:home  \\\n",
       "contact_type                                                             \n",
       "family_live_separate                     0.047                   0.634   \n",
       "family_live_together                     0.112                   0.534   \n",
       "friend                                   0.052                   0.611   \n",
       "sig_other                                0.081                   0.565   \n",
       "task                                     0.036                   0.713   \n",
       "work                                     0.049                   0.444   \n",
       "\n",
       "                      call_visit_reason:work  call_visit_reason:exercise  \\\n",
       "contact_type                                                               \n",
       "family_live_separate                   0.092                       0.020   \n",
       "family_live_together                   0.115                       0.008   \n",
       "friend                                 0.126                       0.007   \n",
       "sig_other                              0.165                       0.009   \n",
       "task                                   0.107                       0.006   \n",
       "work                                   0.270                       0.000   \n",
       "\n",
       "                      call_visit_reason:dining  call_visit_reason:socialize  \\\n",
       "contact_type                                                                  \n",
       "family_live_separate                     0.033                        0.057   \n",
       "family_live_together                     0.028                        0.067   \n",
       "friend                                   0.016                        0.059   \n",
       "sig_other                                0.019                        0.037   \n",
       "task                                     0.013                        0.034   \n",
       "work                                     0.029                        0.044   \n",
       "\n",
       "                      call_visit_reason:travel/traffic  \\\n",
       "contact_type                                             \n",
       "family_live_separate                             0.006   \n",
       "family_live_together                             0.009   \n",
       "friend                                           0.006   \n",
       "sig_other                                        0.007   \n",
       "task                                             0.025   \n",
       "work                                             0.015   \n",
       "\n",
       "                      call_visit_reason:other  \n",
       "contact_type                                   \n",
       "family_live_separate                    0.096  \n",
       "family_live_together                    0.110  \n",
       "friend                                  0.113  \n",
       "sig_other                               0.101  \n",
       "task                                    0.060  \n",
       "work                                    0.142  "
      ]
     },
     "metadata": {},
     "output_type": "display_data"
    },
    {
     "name": "stdout",
     "output_type": "stream",
     "text": [
      "Std Dev\n"
     ]
    },
    {
     "data": {
      "text/html": [
       "<div>\n",
       "<style scoped>\n",
       "    .dataframe tbody tr th:only-of-type {\n",
       "        vertical-align: middle;\n",
       "    }\n",
       "\n",
       "    .dataframe tbody tr th {\n",
       "        vertical-align: top;\n",
       "    }\n",
       "\n",
       "    .dataframe thead th {\n",
       "        text-align: right;\n",
       "    }\n",
       "</style>\n",
       "<table border=\"1\" class=\"dataframe\">\n",
       "  <thead>\n",
       "    <tr style=\"text-align: right;\">\n",
       "      <th></th>\n",
       "      <th>call_visit_reason:entertainment</th>\n",
       "      <th>call_visit_reason:errand</th>\n",
       "      <th>call_visit_reason:home</th>\n",
       "      <th>call_visit_reason:work</th>\n",
       "      <th>call_visit_reason:exercise</th>\n",
       "      <th>call_visit_reason:dining</th>\n",
       "      <th>call_visit_reason:socialize</th>\n",
       "      <th>call_visit_reason:travel/traffic</th>\n",
       "      <th>call_visit_reason:other</th>\n",
       "    </tr>\n",
       "    <tr>\n",
       "      <th>contact_type</th>\n",
       "      <th></th>\n",
       "      <th></th>\n",
       "      <th></th>\n",
       "      <th></th>\n",
       "      <th></th>\n",
       "      <th></th>\n",
       "      <th></th>\n",
       "      <th></th>\n",
       "      <th></th>\n",
       "    </tr>\n",
       "  </thead>\n",
       "  <tbody>\n",
       "    <tr>\n",
       "      <th>family_live_separate</th>\n",
       "      <td>0.074</td>\n",
       "      <td>0.131</td>\n",
       "      <td>0.372</td>\n",
       "      <td>0.204</td>\n",
       "      <td>0.125</td>\n",
       "      <td>0.121</td>\n",
       "      <td>0.164</td>\n",
       "      <td>0.053</td>\n",
       "      <td>0.217</td>\n",
       "    </tr>\n",
       "    <tr>\n",
       "      <th>family_live_together</th>\n",
       "      <td>0.075</td>\n",
       "      <td>0.192</td>\n",
       "      <td>0.337</td>\n",
       "      <td>0.199</td>\n",
       "      <td>0.078</td>\n",
       "      <td>0.069</td>\n",
       "      <td>0.130</td>\n",
       "      <td>0.048</td>\n",
       "      <td>0.213</td>\n",
       "    </tr>\n",
       "    <tr>\n",
       "      <th>friend</th>\n",
       "      <td>0.058</td>\n",
       "      <td>0.169</td>\n",
       "      <td>0.391</td>\n",
       "      <td>0.254</td>\n",
       "      <td>0.071</td>\n",
       "      <td>0.082</td>\n",
       "      <td>0.190</td>\n",
       "      <td>0.070</td>\n",
       "      <td>0.262</td>\n",
       "    </tr>\n",
       "    <tr>\n",
       "      <th>sig_other</th>\n",
       "      <td>0.076</td>\n",
       "      <td>0.165</td>\n",
       "      <td>0.325</td>\n",
       "      <td>0.240</td>\n",
       "      <td>0.056</td>\n",
       "      <td>0.052</td>\n",
       "      <td>0.120</td>\n",
       "      <td>0.034</td>\n",
       "      <td>0.186</td>\n",
       "    </tr>\n",
       "    <tr>\n",
       "      <th>task</th>\n",
       "      <td>0.052</td>\n",
       "      <td>0.131</td>\n",
       "      <td>0.339</td>\n",
       "      <td>0.232</td>\n",
       "      <td>0.051</td>\n",
       "      <td>0.076</td>\n",
       "      <td>0.099</td>\n",
       "      <td>0.143</td>\n",
       "      <td>0.161</td>\n",
       "    </tr>\n",
       "    <tr>\n",
       "      <th>work</th>\n",
       "      <td>0.058</td>\n",
       "      <td>0.157</td>\n",
       "      <td>0.397</td>\n",
       "      <td>0.351</td>\n",
       "      <td>0.000</td>\n",
       "      <td>0.160</td>\n",
       "      <td>0.150</td>\n",
       "      <td>0.074</td>\n",
       "      <td>0.302</td>\n",
       "    </tr>\n",
       "  </tbody>\n",
       "</table>\n",
       "</div>"
      ],
      "text/plain": [
       "                      call_visit_reason:entertainment  \\\n",
       "contact_type                                            \n",
       "family_live_separate                            0.074   \n",
       "family_live_together                            0.075   \n",
       "friend                                          0.058   \n",
       "sig_other                                       0.076   \n",
       "task                                            0.052   \n",
       "work                                            0.058   \n",
       "\n",
       "                      call_visit_reason:errand  call_visit_reason:home  \\\n",
       "contact_type                                                             \n",
       "family_live_separate                     0.131                   0.372   \n",
       "family_live_together                     0.192                   0.337   \n",
       "friend                                   0.169                   0.391   \n",
       "sig_other                                0.165                   0.325   \n",
       "task                                     0.131                   0.339   \n",
       "work                                     0.157                   0.397   \n",
       "\n",
       "                      call_visit_reason:work  call_visit_reason:exercise  \\\n",
       "contact_type                                                               \n",
       "family_live_separate                   0.204                       0.125   \n",
       "family_live_together                   0.199                       0.078   \n",
       "friend                                 0.254                       0.071   \n",
       "sig_other                              0.240                       0.056   \n",
       "task                                   0.232                       0.051   \n",
       "work                                   0.351                       0.000   \n",
       "\n",
       "                      call_visit_reason:dining  call_visit_reason:socialize  \\\n",
       "contact_type                                                                  \n",
       "family_live_separate                     0.121                        0.164   \n",
       "family_live_together                     0.069                        0.130   \n",
       "friend                                   0.082                        0.190   \n",
       "sig_other                                0.052                        0.120   \n",
       "task                                     0.076                        0.099   \n",
       "work                                     0.160                        0.150   \n",
       "\n",
       "                      call_visit_reason:travel/traffic  \\\n",
       "contact_type                                             \n",
       "family_live_separate                             0.053   \n",
       "family_live_together                             0.048   \n",
       "friend                                           0.070   \n",
       "sig_other                                        0.034   \n",
       "task                                             0.143   \n",
       "work                                             0.074   \n",
       "\n",
       "                      call_visit_reason:other  \n",
       "contact_type                                   \n",
       "family_live_separate                    0.217  \n",
       "family_live_together                    0.213  \n",
       "friend                                  0.262  \n",
       "sig_other                               0.186  \n",
       "task                                    0.161  \n",
       "work                                    0.302  "
      ]
     },
     "metadata": {},
     "output_type": "display_data"
    }
   ],
   "source": [
    "call_visit_features_mean = loc_features.groupby('contact_type')[call_visit_cols].mean()\n",
    "call_visit_features_std = loc_features.groupby('contact_type')[call_visit_cols].std()\n",
    "\n",
    "call_visit_features_mean.plot.bar(rot=0, yerr=call_visit_features_std)\n",
    "plt.title(\"call visitation tendency per contact type\")\n",
    "plt.ylabel(\"% of communications\")\n",
    "plt.show()\n",
    "print(\"Mean\")\n",
    "display(call_visit_features_mean)\n",
    "print(\"Std Dev\")\n",
    "display(call_visit_features_std)"
   ]
  }
 ],
 "metadata": {
  "kernelspec": {
   "display_name": "Python 3",
   "language": "python",
   "name": "python3"
  },
  "language_info": {
   "codemirror_mode": {
    "name": "ipython",
    "version": 3
   },
   "file_extension": ".py",
   "mimetype": "text/x-python",
   "name": "python",
   "nbconvert_exporter": "python",
   "pygments_lexer": "ipython3",
   "version": "3.7.1"
  }
 },
 "nbformat": 4,
 "nbformat_minor": 2
}
