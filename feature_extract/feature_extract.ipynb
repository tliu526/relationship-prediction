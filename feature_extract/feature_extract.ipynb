{
 "cells": [
  {
   "cell_type": "markdown",
   "metadata": {},
   "source": [
    "<h1 id=\"tocheading\">Table of Contents</h1>\n",
    "<div id=\"toc\"></div>"
   ]
  },
  {
   "cell_type": "code",
   "execution_count": 1,
   "metadata": {},
   "outputs": [
    {
     "data": {
      "text/html": [
       "\n",
       "<script>\n",
       "  function code_toggle() {\n",
       "    if (code_shown){\n",
       "      $('div.input').hide('500');\n",
       "      $('#toggleButton').val('Show Code')\n",
       "    } else {\n",
       "      $('div.input').show('500');\n",
       "      $('#toggleButton').val('Hide Code')\n",
       "    }\n",
       "    code_shown = !code_shown\n",
       "  }\n",
       "\n",
       "  $( document ).ready(function(){\n",
       "    code_shown=false;\n",
       "    $('div.input').hide()\n",
       "  });\n",
       "</script>\n",
       "<form action=\"javascript:code_toggle()\"><input type=\"submit\" id=\"toggleButton\" value=\"Show Code\"></form>\n"
      ],
      "text/plain": [
       "<IPython.core.display.HTML object>"
      ]
     },
     "execution_count": 1,
     "metadata": {},
     "output_type": "execute_result"
    }
   ],
   "source": [
    "# Code hider, source: http://chris-said.io/2016/02/13/how-to-make-polished-jupyter-presentations-with-optional-code-visibility/\n",
    "from IPython.display import HTML\n",
    "\n",
    "HTML('''\n",
    "<script>\n",
    "  function code_toggle() {\n",
    "    if (code_shown){\n",
    "      $('div.input').hide('500');\n",
    "      $('#toggleButton').val('Show Code')\n",
    "    } else {\n",
    "      $('div.input').show('500');\n",
    "      $('#toggleButton').val('Hide Code')\n",
    "    }\n",
    "    code_shown = !code_shown\n",
    "  }\n",
    "\n",
    "  $( document ).ready(function(){\n",
    "    code_shown=false;\n",
    "    $('div.input').hide()\n",
    "  });\n",
    "</script>\n",
    "<form action=\"javascript:code_toggle()\"><input type=\"submit\" id=\"toggleButton\" value=\"Show Code\"></form>\n",
    "''')"
   ]
  },
  {
   "cell_type": "code",
   "execution_count": 2,
   "metadata": {},
   "outputs": [
    {
     "data": {
      "application/javascript": [
       "// ToC script\n",
       "$.getScript('https://kmahelona.github.io/ipython_notebook_goodies/ipython_notebook_toc.js')\n"
      ],
      "text/plain": [
       "<IPython.core.display.Javascript object>"
      ]
     },
     "metadata": {},
     "output_type": "display_data"
    }
   ],
   "source": [
    "%%javascript\n",
    "// ToC script\n",
    "$.getScript('https://kmahelona.github.io/ipython_notebook_goodies/ipython_notebook_toc.js')"
   ]
  },
  {
   "cell_type": "code",
   "execution_count": 3,
   "metadata": {},
   "outputs": [],
   "source": [
    "%matplotlib inline\n",
    "\n",
    "import os\n",
    "import pickle\n",
    "\n",
    "import matplotlib.pyplot as plt\n",
    "import numpy as np\n",
    "import pandas as pd\n",
    "\n",
    "from feature_extract import *\n",
    "\n"
   ]
  },
  {
   "cell_type": "code",
   "execution_count": 4,
   "metadata": {},
   "outputs": [],
   "source": [
    "plt.rcParams[\"figure.figsize\"] = [12,6]\n",
    "pd.options.display.float_format = '{:,.3f}'.format"
   ]
  },
  {
   "cell_type": "markdown",
   "metadata": {},
   "source": [
    "# Zimmerman paper notes\n",
    "\n",
    "[Min et al: Mining Smartphone Data to Classify Life-Facets of Social Relationships](https://dl.acm.org/citation.cfm?id=2441810)\n",
    "\n",
    "[pdf](https://disco.ethz.ch/courses/fs14/seminar/paper/Philipp/4.pdf)\n",
    "\n",
    "\n",
    "## Mobile communication pattern features\n",
    "\n",
    "- intensity and regularity\n",
    "    - \\# days {call, sms} / days logged\n",
    "    - {avg, std} {out, in} {call, sms} per day\n",
    "- temporal tendency\n",
    "    - \\# {call, sms} at {time of day, day of week} / total\n",
    "- channel selection\n",
    "    - out comm / total comm\n",
    "    - \\# calls / total comm\n",
    "- avoidance\n",
    "    - missed calls / {out, in} calls\n",
    "    - in SMS / out SMS\n",
    "    \n",
    "**note**: total in this context is in terms of individual  "
   ]
  },
  {
   "cell_type": "code",
   "execution_count": 5,
   "metadata": {},
   "outputs": [],
   "source": [
    "# load data\n",
    "comm_df = pickle.load(open(\"../data/top_5_contacts_cal.df\", \"rb\"))\n",
    "emm_df = pickle.load(open(\"../data/emm_raw.df\", \"rb\"))"
   ]
  },
  {
   "cell_type": "code",
   "execution_count": 6,
   "metadata": {
    "scrolled": false
   },
   "outputs": [
    {
     "name": "stderr",
     "output_type": "stream",
     "text": [
      "/mnt/c/Users/Tony Liu/Documents/Github/relationship-prediction/feature_extract/feature_extract.py:162: RuntimeWarning: invalid value encountered in sqrt\n",
      "  temp_df[std_name] = np.sqrt(temp_df['total_ssum'] / (temp_df['total_days'] - 1))\n"
     ]
    }
   ],
   "source": [
    "# build features\n",
    "comm_features = comm_feature_extract(comm_df, emm_df)"
   ]
  },
  {
   "cell_type": "code",
   "execution_count": 7,
   "metadata": {},
   "outputs": [],
   "source": [
    "# for unit testing\n",
    "# test_df = comm_df.loc[comm_df['combined_hash'].isin(['1002060a7f4fe408f8137f12982e5d64cf34693',\n",
    "#  '10413044ad5f1183e38f5ddf17259326e976231'])]\n",
    "\n",
    "# display(test_df)\n",
    "# pickle.dump(test_df, open('test_comm.df', 'wb'), -1)\n",
    "\n",
    "# emm_df.head()\n",
    "\n",
    "# test_emm = emm_df.loc[emm_df['pid'].isin(['1002060', '1041304'])]\n",
    "\n",
    "# pickle.dump(test_emm, open(\"test_emm.df\", \"wb\"), -1)"
   ]
  },
  {
   "cell_type": "markdown",
   "metadata": {},
   "source": [
    "# Regularity: comm days / total days ratio\n",
    "\n",
    "Features:\n",
    "- `total_calls`\n",
    "- `total_sms`\n",
    "- `total_call_days`\n",
    "- `total_sms_days`\n",
    "- `reg_call`: regularity of calls, total_call_days / total_days\n",
    "- `reg_sms`: regularity of sms, total_sms_days / total_days\n",
    "- `reg_comm`: regularity of communication, total_comm_days / total_days"
   ]
  },
  {
   "cell_type": "code",
   "execution_count": 8,
   "metadata": {
    "scrolled": false
   },
   "outputs": [
    {
     "data": {
      "image/png": "[encoded data removed]",
      "text/plain": [
       "<Figure size 864x432 with 1 Axes>"
      ]
     },
     "metadata": {
      "needs_background": "light"
     },
     "output_type": "display_data"
    }
   ],
   "source": [
    "reg_feature_mean = comm_features.groupby('contact_type')[['reg_call', 'reg_sms', 'reg_comm']].mean()\n",
    "reg_feature_std = comm_features.groupby('contact_type')[['reg_call', 'reg_sms', 'reg_comm']].std()\n",
    "\n",
    "reg_feature_mean.plot.bar(rot=0, yerr=reg_feature_std)\n",
    "plt.title(\"Regularity communication features per contact type\")\n",
    "plt.ylabel(\"# days of communication / total days logged\")\n",
    "plt.show()"
   ]
  },
  {
   "cell_type": "code",
   "execution_count": 9,
   "metadata": {},
   "outputs": [
    {
     "data": {
      "image/png": "[encoded data removed]",
      "text/plain": [
       "<Figure size 864x432 with 1 Axes>"
      ]
     },
     "metadata": {
      "needs_background": "light"
     },
     "output_type": "display_data"
    }
   ],
   "source": [
    "comm_features.boxplot(column='reg_call', by='contact_type')\n",
    "plt.title(\"Call regularity by contact type\")\n",
    "plt.show()"
   ]
  },
  {
   "cell_type": "code",
   "execution_count": 10,
   "metadata": {
    "scrolled": false
   },
   "outputs": [
    {
     "data": {
      "image/png": "[encoded data removed]",
      "text/plain": [
       "<Figure size 864x432 with 1 Axes>"
      ]
     },
     "metadata": {
      "needs_background": "light"
     },
     "output_type": "display_data"
    }
   ],
   "source": [
    "comm_features.boxplot(column='reg_sms', by='contact_type')\n",
    "plt.title(\"SMS regularity by contact type\")\n",
    "plt.show()"
   ]
  },
  {
   "cell_type": "code",
   "execution_count": 11,
   "metadata": {},
   "outputs": [
    {
     "data": {
      "image/png": "[encoded data removed]",
      "text/plain": [
       "<Figure size 864x432 with 1 Axes>"
      ]
     },
     "metadata": {
      "needs_background": "light"
     },
     "output_type": "display_data"
    }
   ],
   "source": [
    "comm_features.boxplot(column='reg_comm', by='contact_type')\n",
    "plt.title(\"communication regularity by contact type\")\n",
    "plt.show()"
   ]
  },
  {
   "cell_type": "markdown",
   "metadata": {},
   "source": [
    "# Temporal tendency: time of day, day of week\n",
    "\n",
    "Features:\n",
    "- `time_of_day_{0-5}_{call, sms}`: # {call, sms} at time of day / total\n",
    "- `day_{0-6}_{call, sms}`: # {call, sms} at day of week / total"
   ]
  },
  {
   "cell_type": "markdown",
   "metadata": {},
   "source": [
    "## Temporal tendency: SMS"
   ]
  },
  {
   "cell_type": "code",
   "execution_count": 12,
   "metadata": {},
   "outputs": [
    {
     "data": {
      "text/html": [
       "<div>\n",
       "<style scoped>\n",
       "    .dataframe tbody tr th:only-of-type {\n",
       "        vertical-align: middle;\n",
       "    }\n",
       "\n",
       "    .dataframe tbody tr th {\n",
       "        vertical-align: top;\n",
       "    }\n",
       "\n",
       "    .dataframe thead th {\n",
       "        text-align: right;\n",
       "    }\n",
       "</style>\n",
       "<table border=\"1\" class=\"dataframe\">\n",
       "  <thead>\n",
       "    <tr style=\"text-align: right;\">\n",
       "      <th>contact_type</th>\n",
       "      <th>family_live_separate</th>\n",
       "      <th>family_live_together</th>\n",
       "      <th>friend</th>\n",
       "      <th>sig_other</th>\n",
       "      <th>task</th>\n",
       "      <th>work</th>\n",
       "    </tr>\n",
       "  </thead>\n",
       "  <tbody>\n",
       "    <tr>\n",
       "      <th>time_of_day_0_sms</th>\n",
       "      <td>0.025</td>\n",
       "      <td>0.042</td>\n",
       "      <td>0.041</td>\n",
       "      <td>0.056</td>\n",
       "      <td>0.032</td>\n",
       "      <td>0.037</td>\n",
       "    </tr>\n",
       "    <tr>\n",
       "      <th>time_of_day_1_sms</th>\n",
       "      <td>0.025</td>\n",
       "      <td>0.011</td>\n",
       "      <td>0.028</td>\n",
       "      <td>0.016</td>\n",
       "      <td>0.019</td>\n",
       "      <td>0.016</td>\n",
       "    </tr>\n",
       "    <tr>\n",
       "      <th>time_of_day_2_sms</th>\n",
       "      <td>0.200</td>\n",
       "      <td>0.152</td>\n",
       "      <td>0.180</td>\n",
       "      <td>0.160</td>\n",
       "      <td>0.266</td>\n",
       "      <td>0.260</td>\n",
       "    </tr>\n",
       "    <tr>\n",
       "      <th>time_of_day_3_sms</th>\n",
       "      <td>0.270</td>\n",
       "      <td>0.300</td>\n",
       "      <td>0.253</td>\n",
       "      <td>0.269</td>\n",
       "      <td>0.310</td>\n",
       "      <td>0.276</td>\n",
       "    </tr>\n",
       "    <tr>\n",
       "      <th>time_of_day_4_sms</th>\n",
       "      <td>0.280</td>\n",
       "      <td>0.310</td>\n",
       "      <td>0.288</td>\n",
       "      <td>0.303</td>\n",
       "      <td>0.253</td>\n",
       "      <td>0.301</td>\n",
       "    </tr>\n",
       "    <tr>\n",
       "      <th>time_of_day_5_sms</th>\n",
       "      <td>0.201</td>\n",
       "      <td>0.185</td>\n",
       "      <td>0.210</td>\n",
       "      <td>0.195</td>\n",
       "      <td>0.120</td>\n",
       "      <td>0.110</td>\n",
       "    </tr>\n",
       "  </tbody>\n",
       "</table>\n",
       "</div>"
      ],
      "text/plain": [
       "contact_type       family_live_separate  family_live_together  friend  \\\n",
       "time_of_day_0_sms                 0.025                 0.042   0.041   \n",
       "time_of_day_1_sms                 0.025                 0.011   0.028   \n",
       "time_of_day_2_sms                 0.200                 0.152   0.180   \n",
       "time_of_day_3_sms                 0.270                 0.300   0.253   \n",
       "time_of_day_4_sms                 0.280                 0.310   0.288   \n",
       "time_of_day_5_sms                 0.201                 0.185   0.210   \n",
       "\n",
       "contact_type       sig_other  task  work  \n",
       "time_of_day_0_sms      0.056 0.032 0.037  \n",
       "time_of_day_1_sms      0.016 0.019 0.016  \n",
       "time_of_day_2_sms      0.160 0.266 0.260  \n",
       "time_of_day_3_sms      0.269 0.310 0.276  \n",
       "time_of_day_4_sms      0.303 0.253 0.301  \n",
       "time_of_day_5_sms      0.195 0.120 0.110  "
      ]
     },
     "metadata": {},
     "output_type": "display_data"
    },
    {
     "data": {
      "text/html": [
       "<div>\n",
       "<style scoped>\n",
       "    .dataframe tbody tr th:only-of-type {\n",
       "        vertical-align: middle;\n",
       "    }\n",
       "\n",
       "    .dataframe tbody tr th {\n",
       "        vertical-align: top;\n",
       "    }\n",
       "\n",
       "    .dataframe thead th {\n",
       "        text-align: right;\n",
       "    }\n",
       "</style>\n",
       "<table border=\"1\" class=\"dataframe\">\n",
       "  <thead>\n",
       "    <tr style=\"text-align: right;\">\n",
       "      <th>contact_type</th>\n",
       "      <th>family_live_separate</th>\n",
       "      <th>family_live_together</th>\n",
       "      <th>friend</th>\n",
       "      <th>sig_other</th>\n",
       "      <th>task</th>\n",
       "      <th>work</th>\n",
       "    </tr>\n",
       "  </thead>\n",
       "  <tbody>\n",
       "    <tr>\n",
       "      <th>day_0_sms</th>\n",
       "      <td>0.121</td>\n",
       "      <td>0.142</td>\n",
       "      <td>0.140</td>\n",
       "      <td>0.163</td>\n",
       "      <td>0.159</td>\n",
       "      <td>0.181</td>\n",
       "    </tr>\n",
       "    <tr>\n",
       "      <th>day_1_sms</th>\n",
       "      <td>0.131</td>\n",
       "      <td>0.165</td>\n",
       "      <td>0.133</td>\n",
       "      <td>0.147</td>\n",
       "      <td>0.166</td>\n",
       "      <td>0.133</td>\n",
       "    </tr>\n",
       "    <tr>\n",
       "      <th>day_2_sms</th>\n",
       "      <td>0.138</td>\n",
       "      <td>0.134</td>\n",
       "      <td>0.143</td>\n",
       "      <td>0.157</td>\n",
       "      <td>0.170</td>\n",
       "      <td>0.187</td>\n",
       "    </tr>\n",
       "    <tr>\n",
       "      <th>day_3_sms</th>\n",
       "      <td>0.146</td>\n",
       "      <td>0.132</td>\n",
       "      <td>0.153</td>\n",
       "      <td>0.144</td>\n",
       "      <td>0.125</td>\n",
       "      <td>0.134</td>\n",
       "    </tr>\n",
       "    <tr>\n",
       "      <th>day_4_sms</th>\n",
       "      <td>0.175</td>\n",
       "      <td>0.171</td>\n",
       "      <td>0.164</td>\n",
       "      <td>0.174</td>\n",
       "      <td>0.155</td>\n",
       "      <td>0.166</td>\n",
       "    </tr>\n",
       "    <tr>\n",
       "      <th>day_5_sms</th>\n",
       "      <td>0.152</td>\n",
       "      <td>0.142</td>\n",
       "      <td>0.141</td>\n",
       "      <td>0.115</td>\n",
       "      <td>0.135</td>\n",
       "      <td>0.110</td>\n",
       "    </tr>\n",
       "    <tr>\n",
       "      <th>day_6_sms</th>\n",
       "      <td>0.137</td>\n",
       "      <td>0.114</td>\n",
       "      <td>0.127</td>\n",
       "      <td>0.099</td>\n",
       "      <td>0.090</td>\n",
       "      <td>0.089</td>\n",
       "    </tr>\n",
       "  </tbody>\n",
       "</table>\n",
       "</div>"
      ],
      "text/plain": [
       "contact_type  family_live_separate  family_live_together  friend  sig_other  \\\n",
       "day_0_sms                    0.121                 0.142   0.140      0.163   \n",
       "day_1_sms                    0.131                 0.165   0.133      0.147   \n",
       "day_2_sms                    0.138                 0.134   0.143      0.157   \n",
       "day_3_sms                    0.146                 0.132   0.153      0.144   \n",
       "day_4_sms                    0.175                 0.171   0.164      0.174   \n",
       "day_5_sms                    0.152                 0.142   0.141      0.115   \n",
       "day_6_sms                    0.137                 0.114   0.127      0.099   \n",
       "\n",
       "contact_type  task  work  \n",
       "day_0_sms    0.159 0.181  \n",
       "day_1_sms    0.166 0.133  \n",
       "day_2_sms    0.170 0.187  \n",
       "day_3_sms    0.125 0.134  \n",
       "day_4_sms    0.155 0.166  \n",
       "day_5_sms    0.135 0.110  \n",
       "day_6_sms    0.090 0.089  "
      ]
     },
     "metadata": {},
     "output_type": "display_data"
    }
   ],
   "source": [
    "sms_features = comm_features.loc[comm_features['total_sms'] > 0]\n",
    "time_of_day_sms = [\"time_of_day_{}_sms\".format(x) for x in range(6)]\n",
    "day_of_week_sms = [\"day_{}_sms\".format(x) for x in range(7)]\n",
    "\n",
    "time_day_sms_mean = sms_features.groupby('contact_type')[time_of_day_sms].mean().T\n",
    "time_day_sms_std = sms_features.groupby('contact_type')[time_of_day_sms].std()\n",
    "display(time_day_sms_mean)\n",
    "\n",
    "day_wk_sms_mean = sms_features.groupby('contact_type')[day_of_week_sms].mean().T\n",
    "day_wk_sms_std = sms_features.groupby('contact_type')[day_of_week_sms].std()\n",
    "\n",
    "display(day_wk_sms_mean)"
   ]
  },
  {
   "cell_type": "code",
   "execution_count": 13,
   "metadata": {},
   "outputs": [
    {
     "data": {
      "image/png": "[encoded data removed]",
      "text/plain": [
       "<Figure size 864x432 with 1 Axes>"
      ]
     },
     "metadata": {
      "needs_background": "light"
     },
     "output_type": "display_data"
    }
   ],
   "source": [
    "day_wk_sms_mean.T.plot.bar(rot=0, yerr=day_wk_sms_std)\n",
    "plt.legend(bbox_to_anchor=(1.05, 1))\n",
    "plt.title(\"Day of the week SMS\")\n",
    "plt.show()"
   ]
  },
  {
   "cell_type": "code",
   "execution_count": 14,
   "metadata": {},
   "outputs": [
    {
     "data": {
      "image/png": "[encoded data removed]",
      "text/plain": [
       "<Figure size 864x432 with 1 Axes>"
      ]
     },
     "metadata": {
      "needs_background": "light"
     },
     "output_type": "display_data"
    }
   ],
   "source": [
    "time_day_sms_mean.T.plot.bar(rot=0, yerr=time_day_sms_std)\n",
    "plt.legend(bbox_to_anchor=(1.05, 1))\n",
    "plt.title(\"Time of day SMS\")\n",
    "plt.show()"
   ]
  },
  {
   "cell_type": "markdown",
   "metadata": {},
   "source": [
    "## Temporal tendency: calls"
   ]
  },
  {
   "cell_type": "code",
   "execution_count": 15,
   "metadata": {},
   "outputs": [
    {
     "data": {
      "text/html": [
       "<div>\n",
       "<style scoped>\n",
       "    .dataframe tbody tr th:only-of-type {\n",
       "        vertical-align: middle;\n",
       "    }\n",
       "\n",
       "    .dataframe tbody tr th {\n",
       "        vertical-align: top;\n",
       "    }\n",
       "\n",
       "    .dataframe thead th {\n",
       "        text-align: right;\n",
       "    }\n",
       "</style>\n",
       "<table border=\"1\" class=\"dataframe\">\n",
       "  <thead>\n",
       "    <tr style=\"text-align: right;\">\n",
       "      <th>contact_type</th>\n",
       "      <th>family_live_separate</th>\n",
       "      <th>family_live_together</th>\n",
       "      <th>friend</th>\n",
       "      <th>sig_other</th>\n",
       "      <th>task</th>\n",
       "      <th>work</th>\n",
       "    </tr>\n",
       "  </thead>\n",
       "  <tbody>\n",
       "    <tr>\n",
       "      <th>time_of_day_0_calls</th>\n",
       "      <td>0.008</td>\n",
       "      <td>0.018</td>\n",
       "      <td>0.032</td>\n",
       "      <td>0.034</td>\n",
       "      <td>0.022</td>\n",
       "      <td>0.036</td>\n",
       "    </tr>\n",
       "    <tr>\n",
       "      <th>time_of_day_1_calls</th>\n",
       "      <td>0.019</td>\n",
       "      <td>0.028</td>\n",
       "      <td>0.018</td>\n",
       "      <td>0.019</td>\n",
       "      <td>0.010</td>\n",
       "      <td>0.055</td>\n",
       "    </tr>\n",
       "    <tr>\n",
       "      <th>time_of_day_2_calls</th>\n",
       "      <td>0.176</td>\n",
       "      <td>0.149</td>\n",
       "      <td>0.143</td>\n",
       "      <td>0.152</td>\n",
       "      <td>0.247</td>\n",
       "      <td>0.320</td>\n",
       "    </tr>\n",
       "    <tr>\n",
       "      <th>time_of_day_3_calls</th>\n",
       "      <td>0.313</td>\n",
       "      <td>0.272</td>\n",
       "      <td>0.241</td>\n",
       "      <td>0.259</td>\n",
       "      <td>0.332</td>\n",
       "      <td>0.302</td>\n",
       "    </tr>\n",
       "    <tr>\n",
       "      <th>time_of_day_4_calls</th>\n",
       "      <td>0.346</td>\n",
       "      <td>0.388</td>\n",
       "      <td>0.364</td>\n",
       "      <td>0.358</td>\n",
       "      <td>0.249</td>\n",
       "      <td>0.247</td>\n",
       "    </tr>\n",
       "    <tr>\n",
       "      <th>time_of_day_5_calls</th>\n",
       "      <td>0.138</td>\n",
       "      <td>0.145</td>\n",
       "      <td>0.202</td>\n",
       "      <td>0.178</td>\n",
       "      <td>0.139</td>\n",
       "      <td>0.041</td>\n",
       "    </tr>\n",
       "  </tbody>\n",
       "</table>\n",
       "</div>"
      ],
      "text/plain": [
       "contact_type         family_live_separate  family_live_together  friend  \\\n",
       "time_of_day_0_calls                 0.008                 0.018   0.032   \n",
       "time_of_day_1_calls                 0.019                 0.028   0.018   \n",
       "time_of_day_2_calls                 0.176                 0.149   0.143   \n",
       "time_of_day_3_calls                 0.313                 0.272   0.241   \n",
       "time_of_day_4_calls                 0.346                 0.388   0.364   \n",
       "time_of_day_5_calls                 0.138                 0.145   0.202   \n",
       "\n",
       "contact_type         sig_other  task  work  \n",
       "time_of_day_0_calls      0.034 0.022 0.036  \n",
       "time_of_day_1_calls      0.019 0.010 0.055  \n",
       "time_of_day_2_calls      0.152 0.247 0.320  \n",
       "time_of_day_3_calls      0.259 0.332 0.302  \n",
       "time_of_day_4_calls      0.358 0.249 0.247  \n",
       "time_of_day_5_calls      0.178 0.139 0.041  "
      ]
     },
     "metadata": {},
     "output_type": "display_data"
    },
    {
     "data": {
      "text/html": [
       "<div>\n",
       "<style scoped>\n",
       "    .dataframe tbody tr th:only-of-type {\n",
       "        vertical-align: middle;\n",
       "    }\n",
       "\n",
       "    .dataframe tbody tr th {\n",
       "        vertical-align: top;\n",
       "    }\n",
       "\n",
       "    .dataframe thead th {\n",
       "        text-align: right;\n",
       "    }\n",
       "</style>\n",
       "<table border=\"1\" class=\"dataframe\">\n",
       "  <thead>\n",
       "    <tr style=\"text-align: right;\">\n",
       "      <th>contact_type</th>\n",
       "      <th>family_live_separate</th>\n",
       "      <th>family_live_together</th>\n",
       "      <th>friend</th>\n",
       "      <th>sig_other</th>\n",
       "      <th>task</th>\n",
       "      <th>work</th>\n",
       "    </tr>\n",
       "  </thead>\n",
       "  <tbody>\n",
       "    <tr>\n",
       "      <th>day_0_calls</th>\n",
       "      <td>0.121</td>\n",
       "      <td>0.179</td>\n",
       "      <td>0.129</td>\n",
       "      <td>0.132</td>\n",
       "      <td>0.118</td>\n",
       "      <td>0.146</td>\n",
       "    </tr>\n",
       "    <tr>\n",
       "      <th>day_1_calls</th>\n",
       "      <td>0.134</td>\n",
       "      <td>0.130</td>\n",
       "      <td>0.092</td>\n",
       "      <td>0.174</td>\n",
       "      <td>0.198</td>\n",
       "      <td>0.129</td>\n",
       "    </tr>\n",
       "    <tr>\n",
       "      <th>day_2_calls</th>\n",
       "      <td>0.148</td>\n",
       "      <td>0.154</td>\n",
       "      <td>0.160</td>\n",
       "      <td>0.158</td>\n",
       "      <td>0.191</td>\n",
       "      <td>0.293</td>\n",
       "    </tr>\n",
       "    <tr>\n",
       "      <th>day_3_calls</th>\n",
       "      <td>0.147</td>\n",
       "      <td>0.132</td>\n",
       "      <td>0.161</td>\n",
       "      <td>0.149</td>\n",
       "      <td>0.144</td>\n",
       "      <td>0.106</td>\n",
       "    </tr>\n",
       "    <tr>\n",
       "      <th>day_4_calls</th>\n",
       "      <td>0.161</td>\n",
       "      <td>0.144</td>\n",
       "      <td>0.164</td>\n",
       "      <td>0.165</td>\n",
       "      <td>0.157</td>\n",
       "      <td>0.184</td>\n",
       "    </tr>\n",
       "    <tr>\n",
       "      <th>day_5_calls</th>\n",
       "      <td>0.154</td>\n",
       "      <td>0.140</td>\n",
       "      <td>0.168</td>\n",
       "      <td>0.124</td>\n",
       "      <td>0.090</td>\n",
       "      <td>0.049</td>\n",
       "    </tr>\n",
       "    <tr>\n",
       "      <th>day_6_calls</th>\n",
       "      <td>0.134</td>\n",
       "      <td>0.121</td>\n",
       "      <td>0.126</td>\n",
       "      <td>0.097</td>\n",
       "      <td>0.102</td>\n",
       "      <td>0.092</td>\n",
       "    </tr>\n",
       "  </tbody>\n",
       "</table>\n",
       "</div>"
      ],
      "text/plain": [
       "contact_type  family_live_separate  family_live_together  friend  sig_other  \\\n",
       "day_0_calls                  0.121                 0.179   0.129      0.132   \n",
       "day_1_calls                  0.134                 0.130   0.092      0.174   \n",
       "day_2_calls                  0.148                 0.154   0.160      0.158   \n",
       "day_3_calls                  0.147                 0.132   0.161      0.149   \n",
       "day_4_calls                  0.161                 0.144   0.164      0.165   \n",
       "day_5_calls                  0.154                 0.140   0.168      0.124   \n",
       "day_6_calls                  0.134                 0.121   0.126      0.097   \n",
       "\n",
       "contact_type  task  work  \n",
       "day_0_calls  0.118 0.146  \n",
       "day_1_calls  0.198 0.129  \n",
       "day_2_calls  0.191 0.293  \n",
       "day_3_calls  0.144 0.106  \n",
       "day_4_calls  0.157 0.184  \n",
       "day_5_calls  0.090 0.049  \n",
       "day_6_calls  0.102 0.092  "
      ]
     },
     "metadata": {},
     "output_type": "display_data"
    }
   ],
   "source": [
    "call_features = comm_features.loc[comm_features['total_calls'] > 0]\n",
    "time_of_day_calls = [\"time_of_day_{}_calls\".format(x) for x in range(6)]\n",
    "day_of_week_calls = [\"day_{}_calls\".format(x) for x in range(7)]\n",
    "\n",
    "time_day_calls_mean = call_features.groupby('contact_type')[time_of_day_calls].mean().T\n",
    "time_day_calls_std = call_features.groupby('contact_type')[time_of_day_calls].std()\n",
    "\n",
    "display(time_day_calls_mean)\n",
    "\n",
    "day_wk_calls_mean = call_features.groupby('contact_type')[day_of_week_calls].mean().T\n",
    "day_wk_calls_std = call_features.groupby('contact_type')[day_of_week_calls].std()\n",
    "\n",
    "display(day_wk_calls_mean)"
   ]
  },
  {
   "cell_type": "code",
   "execution_count": 16,
   "metadata": {},
   "outputs": [
    {
     "data": {
      "image/png": "[encoded data removed]",
      "text/plain": [
       "<Figure size 864x432 with 1 Axes>"
      ]
     },
     "metadata": {
      "needs_background": "light"
     },
     "output_type": "display_data"
    }
   ],
   "source": [
    "time_day_calls_mean.T.plot.bar(rot=0, yerr=time_day_calls_std)\n",
    "plt.legend(bbox_to_anchor=(1.05, 1))\n",
    "plt.title(\"Time of day calls\")\n",
    "plt.show()"
   ]
  },
  {
   "cell_type": "code",
   "execution_count": 17,
   "metadata": {},
   "outputs": [
    {
     "data": {
      "image/png": "[encoded data removed]",
      "text/plain": [
       "<Figure size 864x432 with 1 Axes>"
      ]
     },
     "metadata": {
      "needs_background": "light"
     },
     "output_type": "display_data"
    }
   ],
   "source": [
    "day_wk_calls_mean.T.plot.bar(rot=0, yerr=day_wk_calls_std)\n",
    "plt.legend(bbox_to_anchor=(1.05, 1))\n",
    "plt.title(\"Day of the week calls\")\n",
    "plt.show()"
   ]
  },
  {
   "cell_type": "markdown",
   "metadata": {},
   "source": [
    "# Channel selection: outgoing ratio, call/text ratio\n",
    "\n",
    "Features created:\n",
    "- `out_comm`: out comm / total comm\n",
    "- `call_tendency`: call count / total comm\n",
    "\n",
    "Note on interpretation: a lower call tendency indicates a higher text tendency, and vice versa"
   ]
  },
  {
   "cell_type": "code",
   "execution_count": 18,
   "metadata": {
    "scrolled": false
   },
   "outputs": [
    {
     "data": {
      "image/png": "[encoded data removed]",
      "text/plain": [
       "<Figure size 864x432 with 1 Axes>"
      ]
     },
     "metadata": {
      "needs_background": "light"
     },
     "output_type": "display_data"
    }
   ],
   "source": [
    "channel_select_mean = comm_features.groupby('contact_type')[['out_comm', 'call_tendency']].mean()\n",
    "channel_select_std = comm_features.groupby('contact_type')[['out_comm', 'call_tendency']].std()\n",
    "channel_select_mean.plot.bar(rot=0, yerr=channel_select_std)\n",
    "plt.title(\"Channel selection features per contact type\")\n",
    "plt.ylabel(\"channel count / total communication\")\n",
    "plt.show()"
   ]
  },
  {
   "cell_type": "code",
   "execution_count": 19,
   "metadata": {
    "scrolled": false
   },
   "outputs": [
    {
     "data": {
      "image/png": "[encoded data removed]",
      "text/plain": [
       "<Figure size 864x432 with 1 Axes>"
      ]
     },
     "metadata": {
      "needs_background": "light"
     },
     "output_type": "display_data"
    }
   ],
   "source": [
    "comm_features.boxplot(column='out_comm', by='contact_type')\n",
    "plt.title(\"Outgoing communication tendency\")\n",
    "plt.show()"
   ]
  },
  {
   "cell_type": "code",
   "execution_count": 20,
   "metadata": {},
   "outputs": [
    {
     "data": {
      "image/png": "[encoded data removed]",
      "text/plain": [
       "<Figure size 864x432 with 1 Axes>"
      ]
     },
     "metadata": {
      "needs_background": "light"
     },
     "output_type": "display_data"
    }
   ],
   "source": [
    "comm_features.boxplot(column='call_tendency', by='contact_type')\n",
    "plt.title(\"Call tendency\")\n",
    "plt.show()"
   ]
  },
  {
   "cell_type": "markdown",
   "metadata": {},
   "source": [
    "# Intensity: mean, std, min, med, max of call, sms, call duration\n",
    "\n",
    "Features created:\n",
    "- {mean, std} {out, in} {call, sms} per study day"
   ]
  },
  {
   "cell_type": "code",
   "execution_count": 21,
   "metadata": {},
   "outputs": [
    {
     "data": {
      "text/html": [
       "<div>\n",
       "<style scoped>\n",
       "    .dataframe tbody tr th:only-of-type {\n",
       "        vertical-align: middle;\n",
       "    }\n",
       "\n",
       "    .dataframe tbody tr th {\n",
       "        vertical-align: top;\n",
       "    }\n",
       "\n",
       "    .dataframe thead th {\n",
       "        text-align: right;\n",
       "    }\n",
       "</style>\n",
       "<table border=\"1\" class=\"dataframe\">\n",
       "  <thead>\n",
       "    <tr style=\"text-align: right;\">\n",
       "      <th>contact_type</th>\n",
       "      <th>family_live_separate</th>\n",
       "      <th>family_live_together</th>\n",
       "      <th>friend</th>\n",
       "      <th>sig_other</th>\n",
       "      <th>task</th>\n",
       "      <th>work</th>\n",
       "    </tr>\n",
       "  </thead>\n",
       "  <tbody>\n",
       "    <tr>\n",
       "      <th>mean_in_sms</th>\n",
       "      <td>1.810</td>\n",
       "      <td>2.642</td>\n",
       "      <td>2.900</td>\n",
       "      <td>6.433</td>\n",
       "      <td>4.236</td>\n",
       "      <td>1.405</td>\n",
       "    </tr>\n",
       "    <tr>\n",
       "      <th>std_in_sms</th>\n",
       "      <td>2.857</td>\n",
       "      <td>3.208</td>\n",
       "      <td>4.143</td>\n",
       "      <td>5.385</td>\n",
       "      <td>4.433</td>\n",
       "      <td>2.476</td>\n",
       "    </tr>\n",
       "    <tr>\n",
       "      <th>mean_out_sms</th>\n",
       "      <td>1.720</td>\n",
       "      <td>2.768</td>\n",
       "      <td>2.707</td>\n",
       "      <td>6.586</td>\n",
       "      <td>5.406</td>\n",
       "      <td>1.243</td>\n",
       "    </tr>\n",
       "    <tr>\n",
       "      <th>std_out_sms</th>\n",
       "      <td>2.783</td>\n",
       "      <td>3.300</td>\n",
       "      <td>3.996</td>\n",
       "      <td>5.982</td>\n",
       "      <td>5.494</td>\n",
       "      <td>2.377</td>\n",
       "    </tr>\n",
       "    <tr>\n",
       "      <th>min_in_sms</th>\n",
       "      <td>3.022</td>\n",
       "      <td>2.810</td>\n",
       "      <td>4.670</td>\n",
       "      <td>13.000</td>\n",
       "      <td>6.000</td>\n",
       "      <td>2.900</td>\n",
       "    </tr>\n",
       "    <tr>\n",
       "      <th>max_in_sms</th>\n",
       "      <td>26.939</td>\n",
       "      <td>32.786</td>\n",
       "      <td>41.624</td>\n",
       "      <td>68.061</td>\n",
       "      <td>58.220</td>\n",
       "      <td>21.129</td>\n",
       "    </tr>\n",
       "    <tr>\n",
       "      <th>med_in_sms</th>\n",
       "      <td>10.314</td>\n",
       "      <td>14.518</td>\n",
       "      <td>17.680</td>\n",
       "      <td>34.606</td>\n",
       "      <td>25.220</td>\n",
       "      <td>9.043</td>\n",
       "    </tr>\n",
       "    <tr>\n",
       "      <th>min_out_sms</th>\n",
       "      <td>3.443</td>\n",
       "      <td>3.702</td>\n",
       "      <td>4.040</td>\n",
       "      <td>11.192</td>\n",
       "      <td>8.180</td>\n",
       "      <td>2.829</td>\n",
       "    </tr>\n",
       "    <tr>\n",
       "      <th>max_out_sms</th>\n",
       "      <td>25.851</td>\n",
       "      <td>35.476</td>\n",
       "      <td>39.868</td>\n",
       "      <td>73.384</td>\n",
       "      <td>73.520</td>\n",
       "      <td>19.986</td>\n",
       "    </tr>\n",
       "    <tr>\n",
       "      <th>med_out_sms</th>\n",
       "      <td>10.279</td>\n",
       "      <td>15.780</td>\n",
       "      <td>16.919</td>\n",
       "      <td>35.556</td>\n",
       "      <td>30.270</td>\n",
       "      <td>8.336</td>\n",
       "    </tr>\n",
       "  </tbody>\n",
       "</table>\n",
       "</div>"
      ],
      "text/plain": [
       "contact_type  family_live_separate  family_live_together  friend  sig_other  \\\n",
       "mean_in_sms                  1.810                 2.642   2.900      6.433   \n",
       "std_in_sms                   2.857                 3.208   4.143      5.385   \n",
       "mean_out_sms                 1.720                 2.768   2.707      6.586   \n",
       "std_out_sms                  2.783                 3.300   3.996      5.982   \n",
       "min_in_sms                   3.022                 2.810   4.670     13.000   \n",
       "max_in_sms                  26.939                32.786  41.624     68.061   \n",
       "med_in_sms                  10.314                14.518  17.680     34.606   \n",
       "min_out_sms                  3.443                 3.702   4.040     11.192   \n",
       "max_out_sms                 25.851                35.476  39.868     73.384   \n",
       "med_out_sms                 10.279                15.780  16.919     35.556   \n",
       "\n",
       "contact_type   task   work  \n",
       "mean_in_sms   4.236  1.405  \n",
       "std_in_sms    4.433  2.476  \n",
       "mean_out_sms  5.406  1.243  \n",
       "std_out_sms   5.494  2.377  \n",
       "min_in_sms    6.000  2.900  \n",
       "max_in_sms   58.220 21.129  \n",
       "med_in_sms   25.220  9.043  \n",
       "min_out_sms   8.180  2.829  \n",
       "max_out_sms  73.520 19.986  \n",
       "med_out_sms  30.270  8.336  "
      ]
     },
     "metadata": {},
     "output_type": "display_data"
    },
    {
     "data": {
      "text/html": [
       "<div>\n",
       "<style scoped>\n",
       "    .dataframe tbody tr th:only-of-type {\n",
       "        vertical-align: middle;\n",
       "    }\n",
       "\n",
       "    .dataframe tbody tr th {\n",
       "        vertical-align: top;\n",
       "    }\n",
       "\n",
       "    .dataframe thead th {\n",
       "        text-align: right;\n",
       "    }\n",
       "</style>\n",
       "<table border=\"1\" class=\"dataframe\">\n",
       "  <thead>\n",
       "    <tr style=\"text-align: right;\">\n",
       "      <th>contact_type</th>\n",
       "      <th>family_live_separate</th>\n",
       "      <th>family_live_together</th>\n",
       "      <th>friend</th>\n",
       "      <th>sig_other</th>\n",
       "      <th>task</th>\n",
       "      <th>work</th>\n",
       "    </tr>\n",
       "  </thead>\n",
       "  <tbody>\n",
       "    <tr>\n",
       "      <th>mean_in_call</th>\n",
       "      <td>0.213</td>\n",
       "      <td>0.335</td>\n",
       "      <td>0.140</td>\n",
       "      <td>0.495</td>\n",
       "      <td>0.155</td>\n",
       "      <td>0.231</td>\n",
       "    </tr>\n",
       "    <tr>\n",
       "      <th>std_in_call</th>\n",
       "      <td>0.385</td>\n",
       "      <td>0.480</td>\n",
       "      <td>0.272</td>\n",
       "      <td>0.634</td>\n",
       "      <td>0.237</td>\n",
       "      <td>0.472</td>\n",
       "    </tr>\n",
       "    <tr>\n",
       "      <th>mean_out_call</th>\n",
       "      <td>0.310</td>\n",
       "      <td>0.499</td>\n",
       "      <td>0.166</td>\n",
       "      <td>0.911</td>\n",
       "      <td>0.229</td>\n",
       "      <td>0.281</td>\n",
       "    </tr>\n",
       "    <tr>\n",
       "      <th>std_out_call</th>\n",
       "      <td>0.516</td>\n",
       "      <td>0.722</td>\n",
       "      <td>0.396</td>\n",
       "      <td>1.121</td>\n",
       "      <td>0.585</td>\n",
       "      <td>0.579</td>\n",
       "    </tr>\n",
       "    <tr>\n",
       "      <th>min_in_call</th>\n",
       "      <td>0.308</td>\n",
       "      <td>0.388</td>\n",
       "      <td>0.201</td>\n",
       "      <td>0.650</td>\n",
       "      <td>0.439</td>\n",
       "      <td>0.280</td>\n",
       "    </tr>\n",
       "    <tr>\n",
       "      <th>max_in_call</th>\n",
       "      <td>3.242</td>\n",
       "      <td>4.400</td>\n",
       "      <td>2.258</td>\n",
       "      <td>5.854</td>\n",
       "      <td>2.158</td>\n",
       "      <td>3.220</td>\n",
       "    </tr>\n",
       "    <tr>\n",
       "      <th>med_in_call</th>\n",
       "      <td>1.217</td>\n",
       "      <td>1.565</td>\n",
       "      <td>0.977</td>\n",
       "      <td>2.529</td>\n",
       "      <td>1.184</td>\n",
       "      <td>1.250</td>\n",
       "    </tr>\n",
       "    <tr>\n",
       "      <th>min_out_call</th>\n",
       "      <td>0.527</td>\n",
       "      <td>0.565</td>\n",
       "      <td>0.660</td>\n",
       "      <td>1.243</td>\n",
       "      <td>1.789</td>\n",
       "      <td>0.760</td>\n",
       "    </tr>\n",
       "    <tr>\n",
       "      <th>max_out_call</th>\n",
       "      <td>4.330</td>\n",
       "      <td>6.365</td>\n",
       "      <td>3.026</td>\n",
       "      <td>10.330</td>\n",
       "      <td>5.158</td>\n",
       "      <td>3.920</td>\n",
       "    </tr>\n",
       "    <tr>\n",
       "      <th>med_out_call</th>\n",
       "      <td>1.720</td>\n",
       "      <td>2.382</td>\n",
       "      <td>1.479</td>\n",
       "      <td>4.432</td>\n",
       "      <td>2.658</td>\n",
       "      <td>1.880</td>\n",
       "    </tr>\n",
       "  </tbody>\n",
       "</table>\n",
       "</div>"
      ],
      "text/plain": [
       "contact_type   family_live_separate  family_live_together  friend  sig_other  \\\n",
       "mean_in_call                  0.213                 0.335   0.140      0.495   \n",
       "std_in_call                   0.385                 0.480   0.272      0.634   \n",
       "mean_out_call                 0.310                 0.499   0.166      0.911   \n",
       "std_out_call                  0.516                 0.722   0.396      1.121   \n",
       "min_in_call                   0.308                 0.388   0.201      0.650   \n",
       "max_in_call                   3.242                 4.400   2.258      5.854   \n",
       "med_in_call                   1.217                 1.565   0.977      2.529   \n",
       "min_out_call                  0.527                 0.565   0.660      1.243   \n",
       "max_out_call                  4.330                 6.365   3.026     10.330   \n",
       "med_out_call                  1.720                 2.382   1.479      4.432   \n",
       "\n",
       "contact_type   task  work  \n",
       "mean_in_call  0.155 0.231  \n",
       "std_in_call   0.237 0.472  \n",
       "mean_out_call 0.229 0.281  \n",
       "std_out_call  0.585 0.579  \n",
       "min_in_call   0.439 0.280  \n",
       "max_in_call   2.158 3.220  \n",
       "med_in_call   1.184 1.250  \n",
       "min_out_call  1.789 0.760  \n",
       "max_out_call  5.158 3.920  \n",
       "med_out_call  2.658 1.880  "
      ]
     },
     "metadata": {},
     "output_type": "display_data"
    }
   ],
   "source": [
    "features = [\"mean_in_{}\", \"std_in_{}\", \"mean_out_{}\", \"std_out_{}\", \"min_in_{}\", \"max_in_{}\", \"med_in_{}\", \"min_out_{}\", \"max_out_{}\", \"med_out_{}\"]\n",
    "\n",
    "call_feat_list = [x.format(\"call\") for x in features]\n",
    "sms_feat_list = [x.format(\"sms\") for x in features]\n",
    "\n",
    "intensity_sms_mean = sms_features.groupby('contact_type')[sms_feat_list].mean().T\n",
    "display(intensity_sms_mean)\n",
    "\n",
    "intensity_call_mean = call_features.groupby('contact_type')[call_feat_list].mean().T\n",
    "display(intensity_call_mean)"
   ]
  },
  {
   "cell_type": "code",
   "execution_count": 54,
   "metadata": {},
   "outputs": [
    {
     "data": {
      "text/html": [
       "<div>\n",
       "<style scoped>\n",
       "    .dataframe tbody tr th:only-of-type {\n",
       "        vertical-align: middle;\n",
       "    }\n",
       "\n",
       "    .dataframe tbody tr th {\n",
       "        vertical-align: top;\n",
       "    }\n",
       "\n",
       "    .dataframe thead th {\n",
       "        text-align: right;\n",
       "    }\n",
       "</style>\n",
       "<table border=\"1\" class=\"dataframe\">\n",
       "  <thead>\n",
       "    <tr style=\"text-align: right;\">\n",
       "      <th>contact_type</th>\n",
       "      <th>family_live_separate</th>\n",
       "      <th>family_live_together</th>\n",
       "      <th>friend</th>\n",
       "      <th>sig_other</th>\n",
       "      <th>task</th>\n",
       "      <th>work</th>\n",
       "    </tr>\n",
       "  </thead>\n",
       "  <tbody>\n",
       "    <tr>\n",
       "      <th>max_in_duration</th>\n",
       "      <td>2,396.338</td>\n",
       "      <td>1,085.246</td>\n",
       "      <td>2,950.129</td>\n",
       "      <td>2,836.573</td>\n",
       "      <td>896.043</td>\n",
       "      <td>957.567</td>\n",
       "    </tr>\n",
       "    <tr>\n",
       "      <th>max_out_duration</th>\n",
       "      <td>1,794.730</td>\n",
       "      <td>591.413</td>\n",
       "      <td>1,791.158</td>\n",
       "      <td>1,670.949</td>\n",
       "      <td>1,621.192</td>\n",
       "      <td>981.410</td>\n",
       "    </tr>\n",
       "    <tr>\n",
       "      <th>avg_in_duration</th>\n",
       "      <td>676.673</td>\n",
       "      <td>169.401</td>\n",
       "      <td>1,436.299</td>\n",
       "      <td>456.562</td>\n",
       "      <td>355.171</td>\n",
       "      <td>233.757</td>\n",
       "    </tr>\n",
       "    <tr>\n",
       "      <th>avg_out_duration</th>\n",
       "      <td>325.992</td>\n",
       "      <td>88.852</td>\n",
       "      <td>258.787</td>\n",
       "      <td>341.364</td>\n",
       "      <td>207.953</td>\n",
       "      <td>132.280</td>\n",
       "    </tr>\n",
       "  </tbody>\n",
       "</table>\n",
       "</div>"
      ],
      "text/plain": [
       "contact_type      family_live_separate  family_live_together    friend  \\\n",
       "max_in_duration              2,396.338             1,085.246 2,950.129   \n",
       "max_out_duration             1,794.730               591.413 1,791.158   \n",
       "avg_in_duration                676.673               169.401 1,436.299   \n",
       "avg_out_duration               325.992                88.852   258.787   \n",
       "\n",
       "contact_type      sig_other      task    work  \n",
       "max_in_duration   2,836.573   896.043 957.567  \n",
       "max_out_duration  1,670.949 1,621.192 981.410  \n",
       "avg_in_duration     456.562   355.171 233.757  \n",
       "avg_out_duration    341.364   207.953 132.280  "
      ]
     },
     "metadata": {},
     "output_type": "display_data"
    }
   ],
   "source": [
    "call_dur_mean = call_features.groupby('contact_type')[['max_in_duration', 'max_out_duration', 'avg_in_duration', 'avg_out_duration']].mean().T\n",
    "display(call_dur_mean)"
   ]
  },
  {
   "cell_type": "markdown",
   "metadata": {},
   "source": [
    "# Avoidance: missed calls, in/out ratios\n",
    "\n",
    "Features created:\n",
    "- `missed_{in, out}_calls`: missed call / {in, out} calls\n",
    "- `in_out_sms`: in texts / out texts"
   ]
  },
  {
   "cell_type": "code",
   "execution_count": 22,
   "metadata": {},
   "outputs": [
    {
     "data": {
      "text/html": [
       "<div>\n",
       "<style scoped>\n",
       "    .dataframe tbody tr th:only-of-type {\n",
       "        vertical-align: middle;\n",
       "    }\n",
       "\n",
       "    .dataframe tbody tr th {\n",
       "        vertical-align: top;\n",
       "    }\n",
       "\n",
       "    .dataframe thead th {\n",
       "        text-align: right;\n",
       "    }\n",
       "</style>\n",
       "<table border=\"1\" class=\"dataframe\">\n",
       "  <thead>\n",
       "    <tr style=\"text-align: right;\">\n",
       "      <th></th>\n",
       "      <th>missed_in_calls</th>\n",
       "      <th>missed_out_calls</th>\n",
       "      <th>in_out_sms</th>\n",
       "    </tr>\n",
       "    <tr>\n",
       "      <th>contact_type</th>\n",
       "      <th></th>\n",
       "      <th></th>\n",
       "      <th></th>\n",
       "    </tr>\n",
       "  </thead>\n",
       "  <tbody>\n",
       "    <tr>\n",
       "      <th>family_live_separate</th>\n",
       "      <td>0.664</td>\n",
       "      <td>0.407</td>\n",
       "      <td>1.604</td>\n",
       "    </tr>\n",
       "    <tr>\n",
       "      <th>family_live_together</th>\n",
       "      <td>0.594</td>\n",
       "      <td>0.347</td>\n",
       "      <td>3.236</td>\n",
       "    </tr>\n",
       "    <tr>\n",
       "      <th>friend</th>\n",
       "      <td>0.824</td>\n",
       "      <td>0.491</td>\n",
       "      <td>1.184</td>\n",
       "    </tr>\n",
       "    <tr>\n",
       "      <th>sig_other</th>\n",
       "      <td>0.526</td>\n",
       "      <td>0.460</td>\n",
       "      <td>2.695</td>\n",
       "    </tr>\n",
       "    <tr>\n",
       "      <th>task</th>\n",
       "      <td>0.531</td>\n",
       "      <td>0.320</td>\n",
       "      <td>2.805</td>\n",
       "    </tr>\n",
       "    <tr>\n",
       "      <th>work</th>\n",
       "      <td>0.588</td>\n",
       "      <td>0.552</td>\n",
       "      <td>2.205</td>\n",
       "    </tr>\n",
       "  </tbody>\n",
       "</table>\n",
       "</div>"
      ],
      "text/plain": [
       "                      missed_in_calls  missed_out_calls  in_out_sms\n",
       "contact_type                                                       \n",
       "family_live_separate            0.664             0.407       1.604\n",
       "family_live_together            0.594             0.347       3.236\n",
       "friend                          0.824             0.491       1.184\n",
       "sig_other                       0.526             0.460       2.695\n",
       "task                            0.531             0.320       2.805\n",
       "work                            0.588             0.552       2.205"
      ]
     },
     "metadata": {},
     "output_type": "display_data"
    }
   ],
   "source": [
    "channel_select_mean = comm_features.groupby('contact_type')[['missed_in_calls', 'missed_out_calls', 'in_out_sms']].mean()\n",
    "display(channel_select_mean)"
   ]
  },
  {
   "cell_type": "code",
   "execution_count": 23,
   "metadata": {},
   "outputs": [
    {
     "data": {
      "image/png": "[encoded data removed]",
      "text/plain": [
       "<Figure size 864x432 with 1 Axes>"
      ]
     },
     "metadata": {
      "needs_background": "light"
     },
     "output_type": "display_data"
    }
   ],
   "source": [
    "comm_features.boxplot(column='missed_in_calls', by='contact_type')\n",
    "plt.title(\"Missed/incoming call ratio\")\n",
    "plt.show()"
   ]
  },
  {
   "cell_type": "code",
   "execution_count": 24,
   "metadata": {},
   "outputs": [
    {
     "data": {
      "image/png": "[encoded data removed]",
      "text/plain": [
       "<Figure size 864x432 with 1 Axes>"
      ]
     },
     "metadata": {
      "needs_background": "light"
     },
     "output_type": "display_data"
    }
   ],
   "source": [
    "comm_features.boxplot(column='missed_out_calls', by='contact_type')\n",
    "plt.title(\"Missed/Outgoing Call ratio\")\n",
    "plt.show()"
   ]
  },
  {
   "cell_type": "code",
   "execution_count": 25,
   "metadata": {},
   "outputs": [
    {
     "data": {
      "image/png": "[encoded data removed]",
      "text/plain": [
       "<Figure size 864x432 with 1 Axes>"
      ]
     },
     "metadata": {
      "needs_background": "light"
     },
     "output_type": "display_data"
    }
   ],
   "source": [
    "comm_features.boxplot(column='in_out_sms', by='contact_type')\n",
    "plt.title(\"Incoming/Outgoing SMS ratio\")\n",
    "plt.show()"
   ]
  },
  {
   "cell_type": "markdown",
   "metadata": {},
   "source": [
    "# NaN imputation\n",
    "\n",
    "- NaNs as a result of divide by zeros are filled with zero, with an additional indicator column for the feature"
   ]
  },
  {
   "cell_type": "code",
   "execution_count": 26,
   "metadata": {
    "scrolled": false
   },
   "outputs": [
    {
     "name": "stdout",
     "output_type": "stream",
     "text": [
      "Features with NaN values\n"
     ]
    },
    {
     "data": {
      "text/plain": [
       "pid                    False\n",
       "combined_hash          False\n",
       "total_comms            False\n",
       "total_comm_days        False\n",
       "contact_type           False\n",
       "total_calls            False\n",
       "total_sms              False\n",
       "total_sms_days         False\n",
       "total_call_days        False\n",
       "total_days             False\n",
       "reg_call               False\n",
       "reg_sms                False\n",
       "reg_comm               False\n",
       "time_of_day_0_calls     True\n",
       "time_of_day_1_calls     True\n",
       "time_of_day_2_calls     True\n",
       "time_of_day_3_calls     True\n",
       "time_of_day_4_calls     True\n",
       "time_of_day_5_calls     True\n",
       "day_0_calls             True\n",
       "day_1_calls             True\n",
       "day_2_calls             True\n",
       "day_3_calls             True\n",
       "day_4_calls             True\n",
       "day_5_calls             True\n",
       "day_6_calls             True\n",
       "time_of_day_0_sms       True\n",
       "time_of_day_1_sms       True\n",
       "time_of_day_2_sms       True\n",
       "time_of_day_3_sms       True\n",
       "                       ...  \n",
       "day_6_sms               True\n",
       "mean_in_call            True\n",
       "std_in_call             True\n",
       "min_in_call             True\n",
       "med_in_call             True\n",
       "max_in_call             True\n",
       "mean_out_call           True\n",
       "std_out_call            True\n",
       "min_out_call            True\n",
       "med_out_call            True\n",
       "max_out_call            True\n",
       "mean_in_sms             True\n",
       "std_in_sms              True\n",
       "min_in_sms              True\n",
       "med_in_sms              True\n",
       "max_in_sms              True\n",
       "mean_out_sms            True\n",
       "std_out_sms             True\n",
       "min_out_sms             True\n",
       "med_out_sms             True\n",
       "max_out_sms             True\n",
       "out_comm               False\n",
       "call_tendency          False\n",
       "missed_in_calls         True\n",
       "missed_out_calls        True\n",
       "in_out_sms              True\n",
       "avg_in_duration         True\n",
       "max_in_duration         True\n",
       "avg_out_duration        True\n",
       "max_out_duration        True\n",
       "Length: 68, dtype: bool"
      ]
     },
     "metadata": {},
     "output_type": "display_data"
    }
   ],
   "source": [
    "print(\"Features with NaN values\")\n",
    "display(comm_features.isnull().any())"
   ]
  },
  {
   "cell_type": "code",
   "execution_count": 27,
   "metadata": {},
   "outputs": [],
   "source": [
    "comm_features = build_nan_features(comm_features)"
   ]
  },
  {
   "cell_type": "markdown",
   "metadata": {},
   "source": [
    "# Contact EMA responses"
   ]
  },
  {
   "cell_type": "code",
   "execution_count": 28,
   "metadata": {
    "scrolled": true
   },
   "outputs": [],
   "source": [
    "# TODO move into python module\n",
    "emc_all = pickle.load(open('../data/emc_all.df', 'rb'))\n",
    "hash_dict = pickle.load(open('../data/emc_to_canonical.dict', 'rb'))\n",
    "pr_dict = pickle.load(open('../data/pr.dict', 'rb'))\n",
    "\n",
    "#emc_all = emc_all.reset_index(drop=True)"
   ]
  },
  {
   "cell_type": "code",
   "execution_count": 29,
   "metadata": {
    "scrolled": true
   },
   "outputs": [],
   "source": [
    "emc_df = pd.DataFrame()\n",
    "emc_df = build_emc_features(comm_features, comm_df, emc_all, hash_dict, pr_dict)"
   ]
  },
  {
   "cell_type": "code",
   "execution_count": 30,
   "metadata": {},
   "outputs": [
    {
     "data": {
      "image/png": "[encoded data removed]",
      "text/plain": [
       "<Figure size 864x432 with 1 Axes>"
      ]
     },
     "metadata": {
      "needs_background": "light"
     },
     "output_type": "display_data"
    },
    {
     "data": {
      "text/html": [
       "<div>\n",
       "<style scoped>\n",
       "    .dataframe tbody tr th:only-of-type {\n",
       "        vertical-align: middle;\n",
       "    }\n",
       "\n",
       "    .dataframe tbody tr th {\n",
       "        vertical-align: top;\n",
       "    }\n",
       "\n",
       "    .dataframe thead th {\n",
       "        text-align: right;\n",
       "    }\n",
       "</style>\n",
       "<table border=\"1\" class=\"dataframe\">\n",
       "  <thead>\n",
       "    <tr style=\"text-align: right;\">\n",
       "      <th></th>\n",
       "      <th>q1_want</th>\n",
       "      <th>q2_talk</th>\n",
       "      <th>q3_loan</th>\n",
       "      <th>q4_closeness</th>\n",
       "    </tr>\n",
       "    <tr>\n",
       "      <th>contact_type</th>\n",
       "      <th></th>\n",
       "      <th></th>\n",
       "      <th></th>\n",
       "      <th></th>\n",
       "    </tr>\n",
       "  </thead>\n",
       "  <tbody>\n",
       "    <tr>\n",
       "      <th>family_live_separate</th>\n",
       "      <td>4.932</td>\n",
       "      <td>5.049</td>\n",
       "      <td>3.846</td>\n",
       "      <td>5.054</td>\n",
       "    </tr>\n",
       "    <tr>\n",
       "      <th>family_live_together</th>\n",
       "      <td>4.971</td>\n",
       "      <td>5.038</td>\n",
       "      <td>3.834</td>\n",
       "      <td>5.552</td>\n",
       "    </tr>\n",
       "    <tr>\n",
       "      <th>friend</th>\n",
       "      <td>4.482</td>\n",
       "      <td>4.561</td>\n",
       "      <td>2.765</td>\n",
       "      <td>4.063</td>\n",
       "    </tr>\n",
       "    <tr>\n",
       "      <th>sig_other</th>\n",
       "      <td>5.240</td>\n",
       "      <td>5.655</td>\n",
       "      <td>5.231</td>\n",
       "      <td>5.583</td>\n",
       "    </tr>\n",
       "    <tr>\n",
       "      <th>task</th>\n",
       "      <td>2.034</td>\n",
       "      <td>1.164</td>\n",
       "      <td>0.450</td>\n",
       "      <td>0.411</td>\n",
       "    </tr>\n",
       "    <tr>\n",
       "      <th>work</th>\n",
       "      <td>3.865</td>\n",
       "      <td>3.620</td>\n",
       "      <td>2.120</td>\n",
       "      <td>2.935</td>\n",
       "    </tr>\n",
       "  </tbody>\n",
       "</table>\n",
       "</div>"
      ],
      "text/plain": [
       "                      q1_want  q2_talk  q3_loan  q4_closeness\n",
       "contact_type                                                 \n",
       "family_live_separate    4.932    5.049    3.846         5.054\n",
       "family_live_together    4.971    5.038    3.834         5.552\n",
       "friend                  4.482    4.561    2.765         4.063\n",
       "sig_other               5.240    5.655    5.231         5.583\n",
       "task                    2.034    1.164    0.450         0.411\n",
       "work                    3.865    3.620    2.120         2.935"
      ]
     },
     "metadata": {},
     "output_type": "display_data"
    },
    {
     "data": {
      "text/html": [
       "<div>\n",
       "<style scoped>\n",
       "    .dataframe tbody tr th:only-of-type {\n",
       "        vertical-align: middle;\n",
       "    }\n",
       "\n",
       "    .dataframe tbody tr th {\n",
       "        vertical-align: top;\n",
       "    }\n",
       "\n",
       "    .dataframe thead th {\n",
       "        text-align: right;\n",
       "    }\n",
       "</style>\n",
       "<table border=\"1\" class=\"dataframe\">\n",
       "  <thead>\n",
       "    <tr style=\"text-align: right;\">\n",
       "      <th></th>\n",
       "      <th>q1_want</th>\n",
       "      <th>q2_talk</th>\n",
       "      <th>q3_loan</th>\n",
       "      <th>q4_closeness</th>\n",
       "    </tr>\n",
       "    <tr>\n",
       "      <th>contact_type</th>\n",
       "      <th></th>\n",
       "      <th></th>\n",
       "      <th></th>\n",
       "      <th></th>\n",
       "    </tr>\n",
       "  </thead>\n",
       "  <tbody>\n",
       "    <tr>\n",
       "      <th>family_live_separate</th>\n",
       "      <td>1.067</td>\n",
       "      <td>1.308</td>\n",
       "      <td>2.235</td>\n",
       "      <td>1.212</td>\n",
       "    </tr>\n",
       "    <tr>\n",
       "      <th>family_live_together</th>\n",
       "      <td>1.182</td>\n",
       "      <td>1.381</td>\n",
       "      <td>2.267</td>\n",
       "      <td>1.001</td>\n",
       "    </tr>\n",
       "    <tr>\n",
       "      <th>friend</th>\n",
       "      <td>1.278</td>\n",
       "      <td>1.506</td>\n",
       "      <td>2.205</td>\n",
       "      <td>1.459</td>\n",
       "    </tr>\n",
       "    <tr>\n",
       "      <th>sig_other</th>\n",
       "      <td>1.044</td>\n",
       "      <td>0.841</td>\n",
       "      <td>1.534</td>\n",
       "      <td>0.999</td>\n",
       "    </tr>\n",
       "    <tr>\n",
       "      <th>task</th>\n",
       "      <td>2.062</td>\n",
       "      <td>1.772</td>\n",
       "      <td>1.196</td>\n",
       "      <td>1.111</td>\n",
       "    </tr>\n",
       "    <tr>\n",
       "      <th>work</th>\n",
       "      <td>1.492</td>\n",
       "      <td>1.703</td>\n",
       "      <td>2.221</td>\n",
       "      <td>1.592</td>\n",
       "    </tr>\n",
       "  </tbody>\n",
       "</table>\n",
       "</div>"
      ],
      "text/plain": [
       "                      q1_want  q2_talk  q3_loan  q4_closeness\n",
       "contact_type                                                 \n",
       "family_live_separate    1.067    1.308    2.235         1.212\n",
       "family_live_together    1.182    1.381    2.267         1.001\n",
       "friend                  1.278    1.506    2.205         1.459\n",
       "sig_other               1.044    0.841    1.534         0.999\n",
       "task                    2.062    1.772    1.196         1.111\n",
       "work                    1.492    1.703    2.221         1.592"
      ]
     },
     "metadata": {},
     "output_type": "display_data"
    }
   ],
   "source": [
    "emc_features = ['q1_want', 'q2_talk', 'q3_loan', 'q4_closeness']\n",
    "emc_features_mean = emc_df.groupby('contact_type')[emc_features].mean()\n",
    "emc_features_std = emc_df.groupby('contact_type')[emc_features].std()\n",
    "\n",
    "emc_features_mean.plot.bar(rot=0, yerr=emc_features_std)\n",
    "plt.title(\"Contact EMA features per contact type\")\n",
    "plt.ylabel(\"Mean EMA response\")\n",
    "plt.show()\n",
    "\n",
    "display(emc_features_mean)\n",
    "display(emc_features_std)"
   ]
  },
  {
   "cell_type": "code",
   "execution_count": 31,
   "metadata": {},
   "outputs": [
    {
     "data": {
      "image/png": "[encoded data removed]",
      "text/plain": [
       "<Figure size 864x432 with 1 Axes>"
      ]
     },
     "metadata": {
      "needs_background": "light"
     },
     "output_type": "display_data"
    }
   ],
   "source": [
    "emc_df.boxplot(column='q1_want', by='contact_type')\n",
    "plt.show()"
   ]
  },
  {
   "cell_type": "code",
   "execution_count": 32,
   "metadata": {},
   "outputs": [
    {
     "data": {
      "image/png": "[encoded data removed]",
      "text/plain": [
       "<Figure size 864x432 with 1 Axes>"
      ]
     },
     "metadata": {
      "needs_background": "light"
     },
     "output_type": "display_data"
    }
   ],
   "source": [
    "emc_df.boxplot(column='q2_talk', by='contact_type')\n",
    "plt.show()"
   ]
  },
  {
   "cell_type": "code",
   "execution_count": 33,
   "metadata": {},
   "outputs": [
    {
     "data": {
      "image/png": "[encoded data removed]",
      "text/plain": [
       "<Figure size 864x432 with 1 Axes>"
      ]
     },
     "metadata": {
      "needs_background": "light"
     },
     "output_type": "display_data"
    }
   ],
   "source": [
    "emc_df.boxplot(column='q3_loan', by='contact_type')\n",
    "plt.show()"
   ]
  },
  {
   "cell_type": "code",
   "execution_count": 34,
   "metadata": {
    "scrolled": false
   },
   "outputs": [
    {
     "data": {
      "image/png": "[encoded data removed]",
      "text/plain": [
       "<Figure size 864x432 with 1 Axes>"
      ]
     },
     "metadata": {
      "needs_background": "light"
     },
     "output_type": "display_data"
    }
   ],
   "source": [
    "emc_df.boxplot(column='q4_closeness', by='contact_type')\n",
    "plt.show()"
   ]
  },
  {
   "cell_type": "markdown",
   "metadata": {},
   "source": [
    "# Demographic features"
   ]
  },
  {
   "cell_type": "code",
   "execution_count": 35,
   "metadata": {},
   "outputs": [],
   "source": [
    "demo_df = pickle.load(open('../data/demographics.df', 'rb'))\n",
    "demo_cols = ['pid', 'age', 'gender', 'education', 'employment', 'live_together', 'race', 'ethnicity', 'marital_status']\n",
    "plt.rcParams[\"figure.figsize\"] = [12,6]"
   ]
  },
  {
   "cell_type": "code",
   "execution_count": 36,
   "metadata": {},
   "outputs": [
    {
     "data": {
      "text/plain": [
       "Text(0.5, 0, 'age')"
      ]
     },
     "execution_count": 36,
     "metadata": {},
     "output_type": "execute_result"
    },
    {
     "data": {
      "image/png": "[encoded data removed]",
      "text/plain": [
       "<Figure size 864x432 with 1 Axes>"
      ]
     },
     "metadata": {
      "needs_background": "light"
     },
     "output_type": "display_data"
    }
   ],
   "source": [
    "demo_df['age'].hist()\n",
    "plt.xlabel('age')"
   ]
  },
  {
   "cell_type": "code",
   "execution_count": 37,
   "metadata": {},
   "outputs": [
    {
     "data": {
      "text/plain": [
       "<matplotlib.axes._subplots.AxesSubplot at 0x7f21d46df5f8>"
      ]
     },
     "execution_count": 37,
     "metadata": {},
     "output_type": "execute_result"
    },
    {
     "data": {
      "image/png": "[encoded data removed]",
      "text/plain": [
       "<Figure size 864x432 with 1 Axes>"
      ]
     },
     "metadata": {
      "needs_background": "light"
     },
     "output_type": "display_data"
    }
   ],
   "source": [
    "demo_df['marital_status'].value_counts().plot.bar(rot=0)"
   ]
  },
  {
   "cell_type": "code",
   "execution_count": 38,
   "metadata": {
    "scrolled": false
   },
   "outputs": [
    {
     "data": {
      "image/png": "[encoded data removed]",
      "text/plain": [
       "<Figure size 864x432 with 1 Axes>"
      ]
     },
     "metadata": {
      "needs_background": "light"
     },
     "output_type": "display_data"
    }
   ],
   "source": [
    "demo_df['education'].value_counts().plot.bar(rot=0)\n",
    "plt.show()"
   ]
  },
  {
   "cell_type": "code",
   "execution_count": 39,
   "metadata": {},
   "outputs": [
    {
     "data": {
      "text/plain": [
       "<matplotlib.axes._subplots.AxesSubplot at 0x7f21d44c0198>"
      ]
     },
     "execution_count": 39,
     "metadata": {},
     "output_type": "execute_result"
    },
    {
     "data": {
      "image/png": "[encoded data removed]",
      "text/plain": [
       "<Figure size 864x432 with 1 Axes>"
      ]
     },
     "metadata": {
      "needs_background": "light"
     },
     "output_type": "display_data"
    }
   ],
   "source": [
    "demo_df['live_together'].value_counts().plot.bar(rot=0)"
   ]
  },
  {
   "cell_type": "markdown",
   "metadata": {},
   "source": [
    "# Semantic location features"
   ]
  },
  {
   "cell_type": "code",
   "execution_count": 40,
   "metadata": {},
   "outputs": [],
   "source": [
    "loc_df = pickle.load(open('../data/top_10_contacts_loc_final.df', 'rb'))\n",
    "loc_features = build_location_features(comm_features, loc_df)\n",
    "plt.rcParams[\"figure.figsize\"] = [15,10]"
   ]
  },
  {
   "cell_type": "markdown",
   "metadata": {},
   "source": [
    "## SMS tendencies"
   ]
  },
  {
   "cell_type": "code",
   "execution_count": 41,
   "metadata": {
    "scrolled": true
   },
   "outputs": [],
   "source": [
    "sms_loc_cols = [x for x in loc_features.columns if x.startswith('sms_loc:')]\n",
    "sms_visit_cols = [x for x in loc_features.columns if x.startswith('sms_visit_reason:')]"
   ]
  },
  {
   "cell_type": "markdown",
   "metadata": {},
   "source": [
    "### Locations"
   ]
  },
  {
   "cell_type": "code",
   "execution_count": 42,
   "metadata": {},
   "outputs": [
    {
     "data": {
      "image/png": "[encoded data removed]",
      "text/plain": [
       "<Figure size 1080x720 with 1 Axes>"
      ]
     },
     "metadata": {
      "needs_background": "light"
     },
     "output_type": "display_data"
    },
    {
     "name": "stdout",
     "output_type": "stream",
     "text": [
      "Mean\n"
     ]
    },
    {
     "data": {
      "text/html": [
       "<div>\n",
       "<style scoped>\n",
       "    .dataframe tbody tr th:only-of-type {\n",
       "        vertical-align: middle;\n",
       "    }\n",
       "\n",
       "    .dataframe tbody tr th {\n",
       "        vertical-align: top;\n",
       "    }\n",
       "\n",
       "    .dataframe thead th {\n",
       "        text-align: right;\n",
       "    }\n",
       "</style>\n",
       "<table border=\"1\" class=\"dataframe\">\n",
       "  <thead>\n",
       "    <tr style=\"text-align: right;\">\n",
       "      <th></th>\n",
       "      <th>sms_loc:home</th>\n",
       "      <th>sms_loc:work</th>\n",
       "      <th>sms_loc:anothers_home</th>\n",
       "      <th>sms_loc:arts/entertainment</th>\n",
       "      <th>sms_loc:food</th>\n",
       "      <th>sms_loc:nightlife</th>\n",
       "      <th>sms_loc:outdoors/recreation</th>\n",
       "      <th>sms_loc:gym/exercise</th>\n",
       "      <th>sms_loc:professional/medical_office</th>\n",
       "      <th>sms_loc:spiritual</th>\n",
       "      <th>sms_loc:shop</th>\n",
       "      <th>sms_loc:travel/transport</th>\n",
       "      <th>sms_loc:vehicle</th>\n",
       "      <th>sms_loc:other</th>\n",
       "    </tr>\n",
       "    <tr>\n",
       "      <th>contact_type</th>\n",
       "      <th></th>\n",
       "      <th></th>\n",
       "      <th></th>\n",
       "      <th></th>\n",
       "      <th></th>\n",
       "      <th></th>\n",
       "      <th></th>\n",
       "      <th></th>\n",
       "      <th></th>\n",
       "      <th></th>\n",
       "      <th></th>\n",
       "      <th></th>\n",
       "      <th></th>\n",
       "      <th></th>\n",
       "    </tr>\n",
       "  </thead>\n",
       "  <tbody>\n",
       "    <tr>\n",
       "      <th>family_live_separate</th>\n",
       "      <td>0.689</td>\n",
       "      <td>0.109</td>\n",
       "      <td>0.077</td>\n",
       "      <td>0.001</td>\n",
       "      <td>0.039</td>\n",
       "      <td>0.004</td>\n",
       "      <td>0.006</td>\n",
       "      <td>0.001</td>\n",
       "      <td>0.011</td>\n",
       "      <td>0.005</td>\n",
       "      <td>0.051</td>\n",
       "      <td>0.001</td>\n",
       "      <td>0.006</td>\n",
       "      <td>0.000</td>\n",
       "    </tr>\n",
       "    <tr>\n",
       "      <th>family_live_together</th>\n",
       "      <td>0.586</td>\n",
       "      <td>0.135</td>\n",
       "      <td>0.049</td>\n",
       "      <td>0.015</td>\n",
       "      <td>0.045</td>\n",
       "      <td>0.013</td>\n",
       "      <td>0.010</td>\n",
       "      <td>0.005</td>\n",
       "      <td>0.027</td>\n",
       "      <td>0.001</td>\n",
       "      <td>0.105</td>\n",
       "      <td>0.008</td>\n",
       "      <td>0.000</td>\n",
       "      <td>0.000</td>\n",
       "    </tr>\n",
       "    <tr>\n",
       "      <th>friend</th>\n",
       "      <td>0.661</td>\n",
       "      <td>0.168</td>\n",
       "      <td>0.053</td>\n",
       "      <td>0.002</td>\n",
       "      <td>0.032</td>\n",
       "      <td>0.006</td>\n",
       "      <td>0.005</td>\n",
       "      <td>0.004</td>\n",
       "      <td>0.014</td>\n",
       "      <td>0.002</td>\n",
       "      <td>0.048</td>\n",
       "      <td>0.002</td>\n",
       "      <td>0.003</td>\n",
       "      <td>0.000</td>\n",
       "    </tr>\n",
       "    <tr>\n",
       "      <th>sig_other</th>\n",
       "      <td>0.572</td>\n",
       "      <td>0.194</td>\n",
       "      <td>0.049</td>\n",
       "      <td>0.002</td>\n",
       "      <td>0.043</td>\n",
       "      <td>0.010</td>\n",
       "      <td>0.001</td>\n",
       "      <td>0.002</td>\n",
       "      <td>0.021</td>\n",
       "      <td>0.002</td>\n",
       "      <td>0.095</td>\n",
       "      <td>0.002</td>\n",
       "      <td>0.006</td>\n",
       "      <td>0.000</td>\n",
       "    </tr>\n",
       "    <tr>\n",
       "      <th>task</th>\n",
       "      <td>0.596</td>\n",
       "      <td>0.144</td>\n",
       "      <td>0.052</td>\n",
       "      <td>0.002</td>\n",
       "      <td>0.064</td>\n",
       "      <td>0.011</td>\n",
       "      <td>0.014</td>\n",
       "      <td>0.000</td>\n",
       "      <td>0.010</td>\n",
       "      <td>0.001</td>\n",
       "      <td>0.106</td>\n",
       "      <td>0.000</td>\n",
       "      <td>0.000</td>\n",
       "      <td>0.000</td>\n",
       "    </tr>\n",
       "    <tr>\n",
       "      <th>work</th>\n",
       "      <td>0.553</td>\n",
       "      <td>0.231</td>\n",
       "      <td>0.054</td>\n",
       "      <td>0.001</td>\n",
       "      <td>0.049</td>\n",
       "      <td>0.016</td>\n",
       "      <td>0.002</td>\n",
       "      <td>0.001</td>\n",
       "      <td>0.010</td>\n",
       "      <td>0.002</td>\n",
       "      <td>0.075</td>\n",
       "      <td>0.003</td>\n",
       "      <td>0.002</td>\n",
       "      <td>0.000</td>\n",
       "    </tr>\n",
       "  </tbody>\n",
       "</table>\n",
       "</div>"
      ],
      "text/plain": [
       "                      sms_loc:home  sms_loc:work  sms_loc:anothers_home  \\\n",
       "contact_type                                                              \n",
       "family_live_separate         0.689         0.109                  0.077   \n",
       "family_live_together         0.586         0.135                  0.049   \n",
       "friend                       0.661         0.168                  0.053   \n",
       "sig_other                    0.572         0.194                  0.049   \n",
       "task                         0.596         0.144                  0.052   \n",
       "work                         0.553         0.231                  0.054   \n",
       "\n",
       "                      sms_loc:arts/entertainment  sms_loc:food  \\\n",
       "contact_type                                                     \n",
       "family_live_separate                       0.001         0.039   \n",
       "family_live_together                       0.015         0.045   \n",
       "friend                                     0.002         0.032   \n",
       "sig_other                                  0.002         0.043   \n",
       "task                                       0.002         0.064   \n",
       "work                                       0.001         0.049   \n",
       "\n",
       "                      sms_loc:nightlife  sms_loc:outdoors/recreation  \\\n",
       "contact_type                                                           \n",
       "family_live_separate              0.004                        0.006   \n",
       "family_live_together              0.013                        0.010   \n",
       "friend                            0.006                        0.005   \n",
       "sig_other                         0.010                        0.001   \n",
       "task                              0.011                        0.014   \n",
       "work                              0.016                        0.002   \n",
       "\n",
       "                      sms_loc:gym/exercise  \\\n",
       "contact_type                                 \n",
       "family_live_separate                 0.001   \n",
       "family_live_together                 0.005   \n",
       "friend                               0.004   \n",
       "sig_other                            0.002   \n",
       "task                                 0.000   \n",
       "work                                 0.001   \n",
       "\n",
       "                      sms_loc:professional/medical_office  sms_loc:spiritual  \\\n",
       "contact_type                                                                   \n",
       "family_live_separate                                0.011              0.005   \n",
       "family_live_together                                0.027              0.001   \n",
       "friend                                              0.014              0.002   \n",
       "sig_other                                           0.021              0.002   \n",
       "task                                                0.010              0.001   \n",
       "work                                                0.010              0.002   \n",
       "\n",
       "                      sms_loc:shop  sms_loc:travel/transport  sms_loc:vehicle  \\\n",
       "contact_type                                                                    \n",
       "family_live_separate         0.051                     0.001            0.006   \n",
       "family_live_together         0.105                     0.008            0.000   \n",
       "friend                       0.048                     0.002            0.003   \n",
       "sig_other                    0.095                     0.002            0.006   \n",
       "task                         0.106                     0.000            0.000   \n",
       "work                         0.075                     0.003            0.002   \n",
       "\n",
       "                      sms_loc:other  \n",
       "contact_type                         \n",
       "family_live_separate          0.000  \n",
       "family_live_together          0.000  \n",
       "friend                        0.000  \n",
       "sig_other                     0.000  \n",
       "task                          0.000  \n",
       "work                          0.000  "
      ]
     },
     "metadata": {},
     "output_type": "display_data"
    },
    {
     "name": "stdout",
     "output_type": "stream",
     "text": [
      "Std Dev\n"
     ]
    },
    {
     "data": {
      "text/html": [
       "<div>\n",
       "<style scoped>\n",
       "    .dataframe tbody tr th:only-of-type {\n",
       "        vertical-align: middle;\n",
       "    }\n",
       "\n",
       "    .dataframe tbody tr th {\n",
       "        vertical-align: top;\n",
       "    }\n",
       "\n",
       "    .dataframe thead th {\n",
       "        text-align: right;\n",
       "    }\n",
       "</style>\n",
       "<table border=\"1\" class=\"dataframe\">\n",
       "  <thead>\n",
       "    <tr style=\"text-align: right;\">\n",
       "      <th></th>\n",
       "      <th>sms_loc:home</th>\n",
       "      <th>sms_loc:work</th>\n",
       "      <th>sms_loc:anothers_home</th>\n",
       "      <th>sms_loc:arts/entertainment</th>\n",
       "      <th>sms_loc:food</th>\n",
       "      <th>sms_loc:nightlife</th>\n",
       "      <th>sms_loc:outdoors/recreation</th>\n",
       "      <th>sms_loc:gym/exercise</th>\n",
       "      <th>sms_loc:professional/medical_office</th>\n",
       "      <th>sms_loc:spiritual</th>\n",
       "      <th>sms_loc:shop</th>\n",
       "      <th>sms_loc:travel/transport</th>\n",
       "      <th>sms_loc:vehicle</th>\n",
       "      <th>sms_loc:other</th>\n",
       "    </tr>\n",
       "    <tr>\n",
       "      <th>contact_type</th>\n",
       "      <th></th>\n",
       "      <th></th>\n",
       "      <th></th>\n",
       "      <th></th>\n",
       "      <th></th>\n",
       "      <th></th>\n",
       "      <th></th>\n",
       "      <th></th>\n",
       "      <th></th>\n",
       "      <th></th>\n",
       "      <th></th>\n",
       "      <th></th>\n",
       "      <th></th>\n",
       "      <th></th>\n",
       "    </tr>\n",
       "  </thead>\n",
       "  <tbody>\n",
       "    <tr>\n",
       "      <th>family_live_separate</th>\n",
       "      <td>0.318</td>\n",
       "      <td>0.208</td>\n",
       "      <td>0.197</td>\n",
       "      <td>0.006</td>\n",
       "      <td>0.118</td>\n",
       "      <td>0.024</td>\n",
       "      <td>0.069</td>\n",
       "      <td>0.012</td>\n",
       "      <td>0.056</td>\n",
       "      <td>0.034</td>\n",
       "      <td>0.134</td>\n",
       "      <td>0.006</td>\n",
       "      <td>0.036</td>\n",
       "      <td>0.000</td>\n",
       "    </tr>\n",
       "    <tr>\n",
       "      <th>family_live_together</th>\n",
       "      <td>0.307</td>\n",
       "      <td>0.211</td>\n",
       "      <td>0.089</td>\n",
       "      <td>0.071</td>\n",
       "      <td>0.082</td>\n",
       "      <td>0.057</td>\n",
       "      <td>0.054</td>\n",
       "      <td>0.032</td>\n",
       "      <td>0.093</td>\n",
       "      <td>0.004</td>\n",
       "      <td>0.153</td>\n",
       "      <td>0.038</td>\n",
       "      <td>0.002</td>\n",
       "      <td>0.000</td>\n",
       "    </tr>\n",
       "    <tr>\n",
       "      <th>friend</th>\n",
       "      <td>0.313</td>\n",
       "      <td>0.250</td>\n",
       "      <td>0.141</td>\n",
       "      <td>0.013</td>\n",
       "      <td>0.092</td>\n",
       "      <td>0.034</td>\n",
       "      <td>0.031</td>\n",
       "      <td>0.026</td>\n",
       "      <td>0.063</td>\n",
       "      <td>0.021</td>\n",
       "      <td>0.131</td>\n",
       "      <td>0.010</td>\n",
       "      <td>0.016</td>\n",
       "      <td>0.000</td>\n",
       "    </tr>\n",
       "    <tr>\n",
       "      <th>sig_other</th>\n",
       "      <td>0.323</td>\n",
       "      <td>0.244</td>\n",
       "      <td>0.112</td>\n",
       "      <td>0.009</td>\n",
       "      <td>0.125</td>\n",
       "      <td>0.053</td>\n",
       "      <td>0.006</td>\n",
       "      <td>0.013</td>\n",
       "      <td>0.067</td>\n",
       "      <td>0.008</td>\n",
       "      <td>0.202</td>\n",
       "      <td>0.009</td>\n",
       "      <td>0.031</td>\n",
       "      <td>0.000</td>\n",
       "    </tr>\n",
       "    <tr>\n",
       "      <th>task</th>\n",
       "      <td>0.323</td>\n",
       "      <td>0.240</td>\n",
       "      <td>0.153</td>\n",
       "      <td>0.014</td>\n",
       "      <td>0.187</td>\n",
       "      <td>0.074</td>\n",
       "      <td>0.065</td>\n",
       "      <td>0.001</td>\n",
       "      <td>0.025</td>\n",
       "      <td>0.007</td>\n",
       "      <td>0.193</td>\n",
       "      <td>0.001</td>\n",
       "      <td>0.003</td>\n",
       "      <td>0.000</td>\n",
       "    </tr>\n",
       "    <tr>\n",
       "      <th>work</th>\n",
       "      <td>0.357</td>\n",
       "      <td>0.274</td>\n",
       "      <td>0.166</td>\n",
       "      <td>0.009</td>\n",
       "      <td>0.113</td>\n",
       "      <td>0.080</td>\n",
       "      <td>0.019</td>\n",
       "      <td>0.004</td>\n",
       "      <td>0.035</td>\n",
       "      <td>0.017</td>\n",
       "      <td>0.211</td>\n",
       "      <td>0.019</td>\n",
       "      <td>0.012</td>\n",
       "      <td>0.000</td>\n",
       "    </tr>\n",
       "  </tbody>\n",
       "</table>\n",
       "</div>"
      ],
      "text/plain": [
       "                      sms_loc:home  sms_loc:work  sms_loc:anothers_home  \\\n",
       "contact_type                                                              \n",
       "family_live_separate         0.318         0.208                  0.197   \n",
       "family_live_together         0.307         0.211                  0.089   \n",
       "friend                       0.313         0.250                  0.141   \n",
       "sig_other                    0.323         0.244                  0.112   \n",
       "task                         0.323         0.240                  0.153   \n",
       "work                         0.357         0.274                  0.166   \n",
       "\n",
       "                      sms_loc:arts/entertainment  sms_loc:food  \\\n",
       "contact_type                                                     \n",
       "family_live_separate                       0.006         0.118   \n",
       "family_live_together                       0.071         0.082   \n",
       "friend                                     0.013         0.092   \n",
       "sig_other                                  0.009         0.125   \n",
       "task                                       0.014         0.187   \n",
       "work                                       0.009         0.113   \n",
       "\n",
       "                      sms_loc:nightlife  sms_loc:outdoors/recreation  \\\n",
       "contact_type                                                           \n",
       "family_live_separate              0.024                        0.069   \n",
       "family_live_together              0.057                        0.054   \n",
       "friend                            0.034                        0.031   \n",
       "sig_other                         0.053                        0.006   \n",
       "task                              0.074                        0.065   \n",
       "work                              0.080                        0.019   \n",
       "\n",
       "                      sms_loc:gym/exercise  \\\n",
       "contact_type                                 \n",
       "family_live_separate                 0.012   \n",
       "family_live_together                 0.032   \n",
       "friend                               0.026   \n",
       "sig_other                            0.013   \n",
       "task                                 0.001   \n",
       "work                                 0.004   \n",
       "\n",
       "                      sms_loc:professional/medical_office  sms_loc:spiritual  \\\n",
       "contact_type                                                                   \n",
       "family_live_separate                                0.056              0.034   \n",
       "family_live_together                                0.093              0.004   \n",
       "friend                                              0.063              0.021   \n",
       "sig_other                                           0.067              0.008   \n",
       "task                                                0.025              0.007   \n",
       "work                                                0.035              0.017   \n",
       "\n",
       "                      sms_loc:shop  sms_loc:travel/transport  sms_loc:vehicle  \\\n",
       "contact_type                                                                    \n",
       "family_live_separate         0.134                     0.006            0.036   \n",
       "family_live_together         0.153                     0.038            0.002   \n",
       "friend                       0.131                     0.010            0.016   \n",
       "sig_other                    0.202                     0.009            0.031   \n",
       "task                         0.193                     0.001            0.003   \n",
       "work                         0.211                     0.019            0.012   \n",
       "\n",
       "                      sms_loc:other  \n",
       "contact_type                         \n",
       "family_live_separate          0.000  \n",
       "family_live_together          0.000  \n",
       "friend                        0.000  \n",
       "sig_other                     0.000  \n",
       "task                          0.000  \n",
       "work                          0.000  "
      ]
     },
     "metadata": {},
     "output_type": "display_data"
    }
   ],
   "source": [
    "sms_loc_features_mean = loc_features.groupby('contact_type')[sms_loc_cols].mean()\n",
    "sms_loc_features_std = loc_features.groupby('contact_type')[sms_loc_cols].std()\n",
    "\n",
    "sms_loc_features_mean.plot.bar(rot=0, yerr=sms_loc_features_std)\n",
    "plt.title(\"SMS location tendency per contact type\")\n",
    "plt.ylabel(\"% of communications\")\n",
    "plt.show()\n",
    "print(\"Mean\")\n",
    "display(sms_loc_features_mean)\n",
    "print(\"Std Dev\")\n",
    "display(sms_loc_features_std)"
   ]
  },
  {
   "cell_type": "markdown",
   "metadata": {},
   "source": [
    "### Visit Reasons"
   ]
  },
  {
   "cell_type": "code",
   "execution_count": 43,
   "metadata": {
    "scrolled": false
   },
   "outputs": [
    {
     "data": {
      "image/png": "[encoded data removed]",
      "text/plain": [
       "<Figure size 1080x720 with 1 Axes>"
      ]
     },
     "metadata": {
      "needs_background": "light"
     },
     "output_type": "display_data"
    },
    {
     "name": "stdout",
     "output_type": "stream",
     "text": [
      "Mean\n"
     ]
    },
    {
     "data": {
      "text/html": [
       "<div>\n",
       "<style scoped>\n",
       "    .dataframe tbody tr th:only-of-type {\n",
       "        vertical-align: middle;\n",
       "    }\n",
       "\n",
       "    .dataframe tbody tr th {\n",
       "        vertical-align: top;\n",
       "    }\n",
       "\n",
       "    .dataframe thead th {\n",
       "        text-align: right;\n",
       "    }\n",
       "</style>\n",
       "<table border=\"1\" class=\"dataframe\">\n",
       "  <thead>\n",
       "    <tr style=\"text-align: right;\">\n",
       "      <th></th>\n",
       "      <th>sms_visit_reason:entertainment</th>\n",
       "      <th>sms_visit_reason:errand</th>\n",
       "      <th>sms_visit_reason:home</th>\n",
       "      <th>sms_visit_reason:work</th>\n",
       "      <th>sms_visit_reason:exercise</th>\n",
       "      <th>sms_visit_reason:dining</th>\n",
       "      <th>sms_visit_reason:socialize</th>\n",
       "      <th>sms_visit_reason:travel/traffic</th>\n",
       "      <th>sms_visit_reason:other</th>\n",
       "    </tr>\n",
       "    <tr>\n",
       "      <th>contact_type</th>\n",
       "      <th></th>\n",
       "      <th></th>\n",
       "      <th></th>\n",
       "      <th></th>\n",
       "      <th></th>\n",
       "      <th></th>\n",
       "      <th></th>\n",
       "      <th></th>\n",
       "      <th></th>\n",
       "    </tr>\n",
       "  </thead>\n",
       "  <tbody>\n",
       "    <tr>\n",
       "      <th>family_live_separate</th>\n",
       "      <td>0.013</td>\n",
       "      <td>0.030</td>\n",
       "      <td>0.623</td>\n",
       "      <td>0.128</td>\n",
       "      <td>0.007</td>\n",
       "      <td>0.020</td>\n",
       "      <td>0.058</td>\n",
       "      <td>0.011</td>\n",
       "      <td>0.111</td>\n",
       "    </tr>\n",
       "    <tr>\n",
       "      <th>family_live_together</th>\n",
       "      <td>0.007</td>\n",
       "      <td>0.101</td>\n",
       "      <td>0.540</td>\n",
       "      <td>0.170</td>\n",
       "      <td>0.001</td>\n",
       "      <td>0.027</td>\n",
       "      <td>0.046</td>\n",
       "      <td>0.013</td>\n",
       "      <td>0.093</td>\n",
       "    </tr>\n",
       "    <tr>\n",
       "      <th>friend</th>\n",
       "      <td>0.015</td>\n",
       "      <td>0.037</td>\n",
       "      <td>0.615</td>\n",
       "      <td>0.183</td>\n",
       "      <td>0.004</td>\n",
       "      <td>0.026</td>\n",
       "      <td>0.044</td>\n",
       "      <td>0.004</td>\n",
       "      <td>0.073</td>\n",
       "    </tr>\n",
       "    <tr>\n",
       "      <th>sig_other</th>\n",
       "      <td>0.019</td>\n",
       "      <td>0.049</td>\n",
       "      <td>0.526</td>\n",
       "      <td>0.219</td>\n",
       "      <td>0.010</td>\n",
       "      <td>0.019</td>\n",
       "      <td>0.048</td>\n",
       "      <td>0.012</td>\n",
       "      <td>0.100</td>\n",
       "    </tr>\n",
       "    <tr>\n",
       "      <th>task</th>\n",
       "      <td>0.013</td>\n",
       "      <td>0.063</td>\n",
       "      <td>0.546</td>\n",
       "      <td>0.177</td>\n",
       "      <td>0.000</td>\n",
       "      <td>0.030</td>\n",
       "      <td>0.081</td>\n",
       "      <td>0.005</td>\n",
       "      <td>0.086</td>\n",
       "    </tr>\n",
       "    <tr>\n",
       "      <th>work</th>\n",
       "      <td>0.008</td>\n",
       "      <td>0.053</td>\n",
       "      <td>0.497</td>\n",
       "      <td>0.267</td>\n",
       "      <td>0.000</td>\n",
       "      <td>0.037</td>\n",
       "      <td>0.039</td>\n",
       "      <td>0.003</td>\n",
       "      <td>0.096</td>\n",
       "    </tr>\n",
       "  </tbody>\n",
       "</table>\n",
       "</div>"
      ],
      "text/plain": [
       "                      sms_visit_reason:entertainment  sms_visit_reason:errand  \\\n",
       "contact_type                                                                    \n",
       "family_live_separate                           0.013                    0.030   \n",
       "family_live_together                           0.007                    0.101   \n",
       "friend                                         0.015                    0.037   \n",
       "sig_other                                      0.019                    0.049   \n",
       "task                                           0.013                    0.063   \n",
       "work                                           0.008                    0.053   \n",
       "\n",
       "                      sms_visit_reason:home  sms_visit_reason:work  \\\n",
       "contact_type                                                         \n",
       "family_live_separate                  0.623                  0.128   \n",
       "family_live_together                  0.540                  0.170   \n",
       "friend                                0.615                  0.183   \n",
       "sig_other                             0.526                  0.219   \n",
       "task                                  0.546                  0.177   \n",
       "work                                  0.497                  0.267   \n",
       "\n",
       "                      sms_visit_reason:exercise  sms_visit_reason:dining  \\\n",
       "contact_type                                                               \n",
       "family_live_separate                      0.007                    0.020   \n",
       "family_live_together                      0.001                    0.027   \n",
       "friend                                    0.004                    0.026   \n",
       "sig_other                                 0.010                    0.019   \n",
       "task                                      0.000                    0.030   \n",
       "work                                      0.000                    0.037   \n",
       "\n",
       "                      sms_visit_reason:socialize  \\\n",
       "contact_type                                       \n",
       "family_live_separate                       0.058   \n",
       "family_live_together                       0.046   \n",
       "friend                                     0.044   \n",
       "sig_other                                  0.048   \n",
       "task                                       0.081   \n",
       "work                                       0.039   \n",
       "\n",
       "                      sms_visit_reason:travel/traffic  sms_visit_reason:other  \n",
       "contact_type                                                                   \n",
       "family_live_separate                            0.011                   0.111  \n",
       "family_live_together                            0.013                   0.093  \n",
       "friend                                          0.004                   0.073  \n",
       "sig_other                                       0.012                   0.100  \n",
       "task                                            0.005                   0.086  \n",
       "work                                            0.003                   0.096  "
      ]
     },
     "metadata": {},
     "output_type": "display_data"
    },
    {
     "name": "stdout",
     "output_type": "stream",
     "text": [
      "Std Dev\n"
     ]
    },
    {
     "data": {
      "text/html": [
       "<div>\n",
       "<style scoped>\n",
       "    .dataframe tbody tr th:only-of-type {\n",
       "        vertical-align: middle;\n",
       "    }\n",
       "\n",
       "    .dataframe tbody tr th {\n",
       "        vertical-align: top;\n",
       "    }\n",
       "\n",
       "    .dataframe thead th {\n",
       "        text-align: right;\n",
       "    }\n",
       "</style>\n",
       "<table border=\"1\" class=\"dataframe\">\n",
       "  <thead>\n",
       "    <tr style=\"text-align: right;\">\n",
       "      <th></th>\n",
       "      <th>sms_visit_reason:entertainment</th>\n",
       "      <th>sms_visit_reason:errand</th>\n",
       "      <th>sms_visit_reason:home</th>\n",
       "      <th>sms_visit_reason:work</th>\n",
       "      <th>sms_visit_reason:exercise</th>\n",
       "      <th>sms_visit_reason:dining</th>\n",
       "      <th>sms_visit_reason:socialize</th>\n",
       "      <th>sms_visit_reason:travel/traffic</th>\n",
       "      <th>sms_visit_reason:other</th>\n",
       "    </tr>\n",
       "    <tr>\n",
       "      <th>contact_type</th>\n",
       "      <th></th>\n",
       "      <th></th>\n",
       "      <th></th>\n",
       "      <th></th>\n",
       "      <th></th>\n",
       "      <th></th>\n",
       "      <th></th>\n",
       "      <th></th>\n",
       "      <th></th>\n",
       "    </tr>\n",
       "  </thead>\n",
       "  <tbody>\n",
       "    <tr>\n",
       "      <th>family_live_separate</th>\n",
       "      <td>0.074</td>\n",
       "      <td>0.086</td>\n",
       "      <td>0.329</td>\n",
       "      <td>0.214</td>\n",
       "      <td>0.069</td>\n",
       "      <td>0.085</td>\n",
       "      <td>0.152</td>\n",
       "      <td>0.059</td>\n",
       "      <td>0.236</td>\n",
       "    </tr>\n",
       "    <tr>\n",
       "      <th>family_live_together</th>\n",
       "      <td>0.025</td>\n",
       "      <td>0.197</td>\n",
       "      <td>0.304</td>\n",
       "      <td>0.222</td>\n",
       "      <td>0.005</td>\n",
       "      <td>0.060</td>\n",
       "      <td>0.104</td>\n",
       "      <td>0.056</td>\n",
       "      <td>0.165</td>\n",
       "    </tr>\n",
       "    <tr>\n",
       "      <th>friend</th>\n",
       "      <td>0.069</td>\n",
       "      <td>0.099</td>\n",
       "      <td>0.313</td>\n",
       "      <td>0.247</td>\n",
       "      <td>0.025</td>\n",
       "      <td>0.084</td>\n",
       "      <td>0.097</td>\n",
       "      <td>0.014</td>\n",
       "      <td>0.171</td>\n",
       "    </tr>\n",
       "    <tr>\n",
       "      <th>sig_other</th>\n",
       "      <td>0.075</td>\n",
       "      <td>0.117</td>\n",
       "      <td>0.313</td>\n",
       "      <td>0.258</td>\n",
       "      <td>0.058</td>\n",
       "      <td>0.056</td>\n",
       "      <td>0.112</td>\n",
       "      <td>0.051</td>\n",
       "      <td>0.193</td>\n",
       "    </tr>\n",
       "    <tr>\n",
       "      <th>task</th>\n",
       "      <td>0.074</td>\n",
       "      <td>0.162</td>\n",
       "      <td>0.311</td>\n",
       "      <td>0.251</td>\n",
       "      <td>0.000</td>\n",
       "      <td>0.105</td>\n",
       "      <td>0.213</td>\n",
       "      <td>0.030</td>\n",
       "      <td>0.192</td>\n",
       "    </tr>\n",
       "    <tr>\n",
       "      <th>work</th>\n",
       "      <td>0.039</td>\n",
       "      <td>0.178</td>\n",
       "      <td>0.330</td>\n",
       "      <td>0.303</td>\n",
       "      <td>0.002</td>\n",
       "      <td>0.110</td>\n",
       "      <td>0.091</td>\n",
       "      <td>0.019</td>\n",
       "      <td>0.196</td>\n",
       "    </tr>\n",
       "  </tbody>\n",
       "</table>\n",
       "</div>"
      ],
      "text/plain": [
       "                      sms_visit_reason:entertainment  sms_visit_reason:errand  \\\n",
       "contact_type                                                                    \n",
       "family_live_separate                           0.074                    0.086   \n",
       "family_live_together                           0.025                    0.197   \n",
       "friend                                         0.069                    0.099   \n",
       "sig_other                                      0.075                    0.117   \n",
       "task                                           0.074                    0.162   \n",
       "work                                           0.039                    0.178   \n",
       "\n",
       "                      sms_visit_reason:home  sms_visit_reason:work  \\\n",
       "contact_type                                                         \n",
       "family_live_separate                  0.329                  0.214   \n",
       "family_live_together                  0.304                  0.222   \n",
       "friend                                0.313                  0.247   \n",
       "sig_other                             0.313                  0.258   \n",
       "task                                  0.311                  0.251   \n",
       "work                                  0.330                  0.303   \n",
       "\n",
       "                      sms_visit_reason:exercise  sms_visit_reason:dining  \\\n",
       "contact_type                                                               \n",
       "family_live_separate                      0.069                    0.085   \n",
       "family_live_together                      0.005                    0.060   \n",
       "friend                                    0.025                    0.084   \n",
       "sig_other                                 0.058                    0.056   \n",
       "task                                      0.000                    0.105   \n",
       "work                                      0.002                    0.110   \n",
       "\n",
       "                      sms_visit_reason:socialize  \\\n",
       "contact_type                                       \n",
       "family_live_separate                       0.152   \n",
       "family_live_together                       0.104   \n",
       "friend                                     0.097   \n",
       "sig_other                                  0.112   \n",
       "task                                       0.213   \n",
       "work                                       0.091   \n",
       "\n",
       "                      sms_visit_reason:travel/traffic  sms_visit_reason:other  \n",
       "contact_type                                                                   \n",
       "family_live_separate                            0.059                   0.236  \n",
       "family_live_together                            0.056                   0.165  \n",
       "friend                                          0.014                   0.171  \n",
       "sig_other                                       0.051                   0.193  \n",
       "task                                            0.030                   0.192  \n",
       "work                                            0.019                   0.196  "
      ]
     },
     "metadata": {},
     "output_type": "display_data"
    }
   ],
   "source": [
    "sms_visit_features_mean = loc_features.groupby('contact_type')[sms_visit_cols].mean()\n",
    "sms_visit_features_std = loc_features.groupby('contact_type')[sms_visit_cols].std()\n",
    "\n",
    "sms_visit_features_mean.plot.bar(rot=0, yerr=sms_visit_features_std)\n",
    "plt.title(\"SMS visitation tendency per contact type\")\n",
    "plt.ylabel(\"% of communications\")\n",
    "plt.show()\n",
    "print(\"Mean\")\n",
    "display(sms_visit_features_mean)\n",
    "print(\"Std Dev\")\n",
    "display(sms_visit_features_std)"
   ]
  },
  {
   "cell_type": "markdown",
   "metadata": {},
   "source": [
    "## Call tendencies"
   ]
  },
  {
   "cell_type": "code",
   "execution_count": 44,
   "metadata": {},
   "outputs": [],
   "source": [
    "call_loc_cols = [x for x in loc_features.columns if x.startswith('call_loc:')]\n",
    "call_visit_cols = [x for x in loc_features.columns if x.startswith('call_visit_reason:')]"
   ]
  },
  {
   "cell_type": "markdown",
   "metadata": {},
   "source": [
    "### Locations"
   ]
  },
  {
   "cell_type": "code",
   "execution_count": 45,
   "metadata": {
    "scrolled": false
   },
   "outputs": [
    {
     "data": {
      "image/png": "[encoded data removed]",
      "text/plain": [
       "<Figure size 1080x720 with 1 Axes>"
      ]
     },
     "metadata": {
      "needs_background": "light"
     },
     "output_type": "display_data"
    },
    {
     "name": "stdout",
     "output_type": "stream",
     "text": [
      "Mean\n"
     ]
    },
    {
     "data": {
      "text/html": [
       "<div>\n",
       "<style scoped>\n",
       "    .dataframe tbody tr th:only-of-type {\n",
       "        vertical-align: middle;\n",
       "    }\n",
       "\n",
       "    .dataframe tbody tr th {\n",
       "        vertical-align: top;\n",
       "    }\n",
       "\n",
       "    .dataframe thead th {\n",
       "        text-align: right;\n",
       "    }\n",
       "</style>\n",
       "<table border=\"1\" class=\"dataframe\">\n",
       "  <thead>\n",
       "    <tr style=\"text-align: right;\">\n",
       "      <th></th>\n",
       "      <th>call_loc:home</th>\n",
       "      <th>call_loc:work</th>\n",
       "      <th>call_loc:anothers_home</th>\n",
       "      <th>call_loc:arts/entertainment</th>\n",
       "      <th>call_loc:food</th>\n",
       "      <th>call_loc:nightlife</th>\n",
       "      <th>call_loc:outdoors/recreation</th>\n",
       "      <th>call_loc:gym/exercise</th>\n",
       "      <th>call_loc:professional/medical_office</th>\n",
       "      <th>call_loc:spiritual</th>\n",
       "      <th>call_loc:shop</th>\n",
       "      <th>call_loc:travel/transport</th>\n",
       "      <th>call_loc:vehicle</th>\n",
       "      <th>call_loc:other</th>\n",
       "    </tr>\n",
       "    <tr>\n",
       "      <th>contact_type</th>\n",
       "      <th></th>\n",
       "      <th></th>\n",
       "      <th></th>\n",
       "      <th></th>\n",
       "      <th></th>\n",
       "      <th></th>\n",
       "      <th></th>\n",
       "      <th></th>\n",
       "      <th></th>\n",
       "      <th></th>\n",
       "      <th></th>\n",
       "      <th></th>\n",
       "      <th></th>\n",
       "      <th></th>\n",
       "    </tr>\n",
       "  </thead>\n",
       "  <tbody>\n",
       "    <tr>\n",
       "      <th>family_live_separate</th>\n",
       "      <td>0.671</td>\n",
       "      <td>0.074</td>\n",
       "      <td>0.059</td>\n",
       "      <td>0.002</td>\n",
       "      <td>0.051</td>\n",
       "      <td>0.001</td>\n",
       "      <td>0.019</td>\n",
       "      <td>0.001</td>\n",
       "      <td>0.011</td>\n",
       "      <td>0.002</td>\n",
       "      <td>0.100</td>\n",
       "      <td>0.004</td>\n",
       "      <td>0.004</td>\n",
       "      <td>0.000</td>\n",
       "    </tr>\n",
       "    <tr>\n",
       "      <th>family_live_together</th>\n",
       "      <td>0.558</td>\n",
       "      <td>0.084</td>\n",
       "      <td>0.058</td>\n",
       "      <td>0.012</td>\n",
       "      <td>0.047</td>\n",
       "      <td>0.003</td>\n",
       "      <td>0.014</td>\n",
       "      <td>0.003</td>\n",
       "      <td>0.019</td>\n",
       "      <td>0.004</td>\n",
       "      <td>0.179</td>\n",
       "      <td>0.013</td>\n",
       "      <td>0.004</td>\n",
       "      <td>0.000</td>\n",
       "    </tr>\n",
       "    <tr>\n",
       "      <th>friend</th>\n",
       "      <td>0.664</td>\n",
       "      <td>0.103</td>\n",
       "      <td>0.069</td>\n",
       "      <td>0.002</td>\n",
       "      <td>0.039</td>\n",
       "      <td>0.016</td>\n",
       "      <td>0.008</td>\n",
       "      <td>0.008</td>\n",
       "      <td>0.022</td>\n",
       "      <td>0.001</td>\n",
       "      <td>0.065</td>\n",
       "      <td>0.001</td>\n",
       "      <td>0.002</td>\n",
       "      <td>0.000</td>\n",
       "    </tr>\n",
       "    <tr>\n",
       "      <th>sig_other</th>\n",
       "      <td>0.584</td>\n",
       "      <td>0.125</td>\n",
       "      <td>0.051</td>\n",
       "      <td>0.000</td>\n",
       "      <td>0.050</td>\n",
       "      <td>0.003</td>\n",
       "      <td>0.007</td>\n",
       "      <td>0.003</td>\n",
       "      <td>0.025</td>\n",
       "      <td>0.001</td>\n",
       "      <td>0.143</td>\n",
       "      <td>0.003</td>\n",
       "      <td>0.002</td>\n",
       "      <td>0.000</td>\n",
       "    </tr>\n",
       "    <tr>\n",
       "      <th>task</th>\n",
       "      <td>0.648</td>\n",
       "      <td>0.133</td>\n",
       "      <td>0.043</td>\n",
       "      <td>0.005</td>\n",
       "      <td>0.039</td>\n",
       "      <td>0.000</td>\n",
       "      <td>0.001</td>\n",
       "      <td>0.000</td>\n",
       "      <td>0.029</td>\n",
       "      <td>0.020</td>\n",
       "      <td>0.075</td>\n",
       "      <td>0.004</td>\n",
       "      <td>0.002</td>\n",
       "      <td>0.000</td>\n",
       "    </tr>\n",
       "    <tr>\n",
       "      <th>work</th>\n",
       "      <td>0.526</td>\n",
       "      <td>0.217</td>\n",
       "      <td>0.047</td>\n",
       "      <td>0.000</td>\n",
       "      <td>0.043</td>\n",
       "      <td>0.009</td>\n",
       "      <td>0.028</td>\n",
       "      <td>0.002</td>\n",
       "      <td>0.000</td>\n",
       "      <td>0.005</td>\n",
       "      <td>0.114</td>\n",
       "      <td>0.009</td>\n",
       "      <td>0.000</td>\n",
       "      <td>0.000</td>\n",
       "    </tr>\n",
       "  </tbody>\n",
       "</table>\n",
       "</div>"
      ],
      "text/plain": [
       "                      call_loc:home  call_loc:work  call_loc:anothers_home  \\\n",
       "contact_type                                                                 \n",
       "family_live_separate          0.671          0.074                   0.059   \n",
       "family_live_together          0.558          0.084                   0.058   \n",
       "friend                        0.664          0.103                   0.069   \n",
       "sig_other                     0.584          0.125                   0.051   \n",
       "task                          0.648          0.133                   0.043   \n",
       "work                          0.526          0.217                   0.047   \n",
       "\n",
       "                      call_loc:arts/entertainment  call_loc:food  \\\n",
       "contact_type                                                       \n",
       "family_live_separate                        0.002          0.051   \n",
       "family_live_together                        0.012          0.047   \n",
       "friend                                      0.002          0.039   \n",
       "sig_other                                   0.000          0.050   \n",
       "task                                        0.005          0.039   \n",
       "work                                        0.000          0.043   \n",
       "\n",
       "                      call_loc:nightlife  call_loc:outdoors/recreation  \\\n",
       "contact_type                                                             \n",
       "family_live_separate               0.001                         0.019   \n",
       "family_live_together               0.003                         0.014   \n",
       "friend                             0.016                         0.008   \n",
       "sig_other                          0.003                         0.007   \n",
       "task                               0.000                         0.001   \n",
       "work                               0.009                         0.028   \n",
       "\n",
       "                      call_loc:gym/exercise  \\\n",
       "contact_type                                  \n",
       "family_live_separate                  0.001   \n",
       "family_live_together                  0.003   \n",
       "friend                                0.008   \n",
       "sig_other                             0.003   \n",
       "task                                  0.000   \n",
       "work                                  0.002   \n",
       "\n",
       "                      call_loc:professional/medical_office  \\\n",
       "contact_type                                                 \n",
       "family_live_separate                                 0.011   \n",
       "family_live_together                                 0.019   \n",
       "friend                                               0.022   \n",
       "sig_other                                            0.025   \n",
       "task                                                 0.029   \n",
       "work                                                 0.000   \n",
       "\n",
       "                      call_loc:spiritual  call_loc:shop  \\\n",
       "contact_type                                              \n",
       "family_live_separate               0.002          0.100   \n",
       "family_live_together               0.004          0.179   \n",
       "friend                             0.001          0.065   \n",
       "sig_other                          0.001          0.143   \n",
       "task                               0.020          0.075   \n",
       "work                               0.005          0.114   \n",
       "\n",
       "                      call_loc:travel/transport  call_loc:vehicle  \\\n",
       "contact_type                                                        \n",
       "family_live_separate                      0.004             0.004   \n",
       "family_live_together                      0.013             0.004   \n",
       "friend                                    0.001             0.002   \n",
       "sig_other                                 0.003             0.002   \n",
       "task                                      0.004             0.002   \n",
       "work                                      0.009             0.000   \n",
       "\n",
       "                      call_loc:other  \n",
       "contact_type                          \n",
       "family_live_separate           0.000  \n",
       "family_live_together           0.000  \n",
       "friend                         0.000  \n",
       "sig_other                      0.000  \n",
       "task                           0.000  \n",
       "work                           0.000  "
      ]
     },
     "metadata": {},
     "output_type": "display_data"
    },
    {
     "name": "stdout",
     "output_type": "stream",
     "text": [
      "Std Dev\n"
     ]
    },
    {
     "data": {
      "text/html": [
       "<div>\n",
       "<style scoped>\n",
       "    .dataframe tbody tr th:only-of-type {\n",
       "        vertical-align: middle;\n",
       "    }\n",
       "\n",
       "    .dataframe tbody tr th {\n",
       "        vertical-align: top;\n",
       "    }\n",
       "\n",
       "    .dataframe thead th {\n",
       "        text-align: right;\n",
       "    }\n",
       "</style>\n",
       "<table border=\"1\" class=\"dataframe\">\n",
       "  <thead>\n",
       "    <tr style=\"text-align: right;\">\n",
       "      <th></th>\n",
       "      <th>call_loc:home</th>\n",
       "      <th>call_loc:work</th>\n",
       "      <th>call_loc:anothers_home</th>\n",
       "      <th>call_loc:arts/entertainment</th>\n",
       "      <th>call_loc:food</th>\n",
       "      <th>call_loc:nightlife</th>\n",
       "      <th>call_loc:outdoors/recreation</th>\n",
       "      <th>call_loc:gym/exercise</th>\n",
       "      <th>call_loc:professional/medical_office</th>\n",
       "      <th>call_loc:spiritual</th>\n",
       "      <th>call_loc:shop</th>\n",
       "      <th>call_loc:travel/transport</th>\n",
       "      <th>call_loc:vehicle</th>\n",
       "      <th>call_loc:other</th>\n",
       "    </tr>\n",
       "    <tr>\n",
       "      <th>contact_type</th>\n",
       "      <th></th>\n",
       "      <th></th>\n",
       "      <th></th>\n",
       "      <th></th>\n",
       "      <th></th>\n",
       "      <th></th>\n",
       "      <th></th>\n",
       "      <th></th>\n",
       "      <th></th>\n",
       "      <th></th>\n",
       "      <th></th>\n",
       "      <th></th>\n",
       "      <th></th>\n",
       "      <th></th>\n",
       "    </tr>\n",
       "  </thead>\n",
       "  <tbody>\n",
       "    <tr>\n",
       "      <th>family_live_separate</th>\n",
       "      <td>0.350</td>\n",
       "      <td>0.181</td>\n",
       "      <td>0.167</td>\n",
       "      <td>0.015</td>\n",
       "      <td>0.159</td>\n",
       "      <td>0.007</td>\n",
       "      <td>0.109</td>\n",
       "      <td>0.009</td>\n",
       "      <td>0.050</td>\n",
       "      <td>0.014</td>\n",
       "      <td>0.198</td>\n",
       "      <td>0.042</td>\n",
       "      <td>0.023</td>\n",
       "      <td>0.000</td>\n",
       "    </tr>\n",
       "    <tr>\n",
       "      <th>family_live_together</th>\n",
       "      <td>0.334</td>\n",
       "      <td>0.165</td>\n",
       "      <td>0.141</td>\n",
       "      <td>0.059</td>\n",
       "      <td>0.116</td>\n",
       "      <td>0.018</td>\n",
       "      <td>0.090</td>\n",
       "      <td>0.022</td>\n",
       "      <td>0.086</td>\n",
       "      <td>0.024</td>\n",
       "      <td>0.236</td>\n",
       "      <td>0.062</td>\n",
       "      <td>0.024</td>\n",
       "      <td>0.000</td>\n",
       "    </tr>\n",
       "    <tr>\n",
       "      <th>friend</th>\n",
       "      <td>0.384</td>\n",
       "      <td>0.236</td>\n",
       "      <td>0.204</td>\n",
       "      <td>0.022</td>\n",
       "      <td>0.139</td>\n",
       "      <td>0.118</td>\n",
       "      <td>0.082</td>\n",
       "      <td>0.068</td>\n",
       "      <td>0.107</td>\n",
       "      <td>0.008</td>\n",
       "      <td>0.171</td>\n",
       "      <td>0.016</td>\n",
       "      <td>0.018</td>\n",
       "      <td>0.000</td>\n",
       "    </tr>\n",
       "    <tr>\n",
       "      <th>sig_other</th>\n",
       "      <td>0.345</td>\n",
       "      <td>0.228</td>\n",
       "      <td>0.137</td>\n",
       "      <td>0.003</td>\n",
       "      <td>0.123</td>\n",
       "      <td>0.018</td>\n",
       "      <td>0.039</td>\n",
       "      <td>0.016</td>\n",
       "      <td>0.089</td>\n",
       "      <td>0.005</td>\n",
       "      <td>0.238</td>\n",
       "      <td>0.014</td>\n",
       "      <td>0.020</td>\n",
       "      <td>0.000</td>\n",
       "    </tr>\n",
       "    <tr>\n",
       "      <th>task</th>\n",
       "      <td>0.377</td>\n",
       "      <td>0.255</td>\n",
       "      <td>0.142</td>\n",
       "      <td>0.038</td>\n",
       "      <td>0.134</td>\n",
       "      <td>0.000</td>\n",
       "      <td>0.009</td>\n",
       "      <td>0.000</td>\n",
       "      <td>0.151</td>\n",
       "      <td>0.140</td>\n",
       "      <td>0.216</td>\n",
       "      <td>0.019</td>\n",
       "      <td>0.015</td>\n",
       "      <td>0.000</td>\n",
       "    </tr>\n",
       "    <tr>\n",
       "      <th>work</th>\n",
       "      <td>0.411</td>\n",
       "      <td>0.343</td>\n",
       "      <td>0.180</td>\n",
       "      <td>0.000</td>\n",
       "      <td>0.172</td>\n",
       "      <td>0.048</td>\n",
       "      <td>0.167</td>\n",
       "      <td>0.013</td>\n",
       "      <td>0.000</td>\n",
       "      <td>0.029</td>\n",
       "      <td>0.255</td>\n",
       "      <td>0.056</td>\n",
       "      <td>0.000</td>\n",
       "      <td>0.000</td>\n",
       "    </tr>\n",
       "  </tbody>\n",
       "</table>\n",
       "</div>"
      ],
      "text/plain": [
       "                      call_loc:home  call_loc:work  call_loc:anothers_home  \\\n",
       "contact_type                                                                 \n",
       "family_live_separate          0.350          0.181                   0.167   \n",
       "family_live_together          0.334          0.165                   0.141   \n",
       "friend                        0.384          0.236                   0.204   \n",
       "sig_other                     0.345          0.228                   0.137   \n",
       "task                          0.377          0.255                   0.142   \n",
       "work                          0.411          0.343                   0.180   \n",
       "\n",
       "                      call_loc:arts/entertainment  call_loc:food  \\\n",
       "contact_type                                                       \n",
       "family_live_separate                        0.015          0.159   \n",
       "family_live_together                        0.059          0.116   \n",
       "friend                                      0.022          0.139   \n",
       "sig_other                                   0.003          0.123   \n",
       "task                                        0.038          0.134   \n",
       "work                                        0.000          0.172   \n",
       "\n",
       "                      call_loc:nightlife  call_loc:outdoors/recreation  \\\n",
       "contact_type                                                             \n",
       "family_live_separate               0.007                         0.109   \n",
       "family_live_together               0.018                         0.090   \n",
       "friend                             0.118                         0.082   \n",
       "sig_other                          0.018                         0.039   \n",
       "task                               0.000                         0.009   \n",
       "work                               0.048                         0.167   \n",
       "\n",
       "                      call_loc:gym/exercise  \\\n",
       "contact_type                                  \n",
       "family_live_separate                  0.009   \n",
       "family_live_together                  0.022   \n",
       "friend                                0.068   \n",
       "sig_other                             0.016   \n",
       "task                                  0.000   \n",
       "work                                  0.013   \n",
       "\n",
       "                      call_loc:professional/medical_office  \\\n",
       "contact_type                                                 \n",
       "family_live_separate                                 0.050   \n",
       "family_live_together                                 0.086   \n",
       "friend                                               0.107   \n",
       "sig_other                                            0.089   \n",
       "task                                                 0.151   \n",
       "work                                                 0.000   \n",
       "\n",
       "                      call_loc:spiritual  call_loc:shop  \\\n",
       "contact_type                                              \n",
       "family_live_separate               0.014          0.198   \n",
       "family_live_together               0.024          0.236   \n",
       "friend                             0.008          0.171   \n",
       "sig_other                          0.005          0.238   \n",
       "task                               0.140          0.216   \n",
       "work                               0.029          0.255   \n",
       "\n",
       "                      call_loc:travel/transport  call_loc:vehicle  \\\n",
       "contact_type                                                        \n",
       "family_live_separate                      0.042             0.023   \n",
       "family_live_together                      0.062             0.024   \n",
       "friend                                    0.016             0.018   \n",
       "sig_other                                 0.014             0.020   \n",
       "task                                      0.019             0.015   \n",
       "work                                      0.056             0.000   \n",
       "\n",
       "                      call_loc:other  \n",
       "contact_type                          \n",
       "family_live_separate           0.000  \n",
       "family_live_together           0.000  \n",
       "friend                         0.000  \n",
       "sig_other                      0.000  \n",
       "task                           0.000  \n",
       "work                           0.000  "
      ]
     },
     "metadata": {},
     "output_type": "display_data"
    }
   ],
   "source": [
    "call_loc_features_mean = loc_features.groupby('contact_type')[call_loc_cols].mean()\n",
    "call_loc_features_std = loc_features.groupby('contact_type')[call_loc_cols].std()\n",
    "\n",
    "call_loc_features_mean.plot.bar(rot=0, yerr=call_loc_features_std)\n",
    "plt.title(\"call location tendency per contact type\")\n",
    "plt.ylabel(\"% of communications\")\n",
    "plt.show()\n",
    "print(\"Mean\")\n",
    "display(call_loc_features_mean)\n",
    "print(\"Std Dev\")\n",
    "display(call_loc_features_std)"
   ]
  },
  {
   "cell_type": "markdown",
   "metadata": {},
   "source": [
    "### Visit Reasons"
   ]
  },
  {
   "cell_type": "code",
   "execution_count": 46,
   "metadata": {
    "scrolled": true
   },
   "outputs": [
    {
     "data": {
      "image/png": "[encoded data removed]",
      "text/plain": [
       "<Figure size 1080x720 with 1 Axes>"
      ]
     },
     "metadata": {
      "needs_background": "light"
     },
     "output_type": "display_data"
    },
    {
     "name": "stdout",
     "output_type": "stream",
     "text": [
      "Mean\n"
     ]
    },
    {
     "data": {
      "text/html": [
       "<div>\n",
       "<style scoped>\n",
       "    .dataframe tbody tr th:only-of-type {\n",
       "        vertical-align: middle;\n",
       "    }\n",
       "\n",
       "    .dataframe tbody tr th {\n",
       "        vertical-align: top;\n",
       "    }\n",
       "\n",
       "    .dataframe thead th {\n",
       "        text-align: right;\n",
       "    }\n",
       "</style>\n",
       "<table border=\"1\" class=\"dataframe\">\n",
       "  <thead>\n",
       "    <tr style=\"text-align: right;\">\n",
       "      <th></th>\n",
       "      <th>call_visit_reason:entertainment</th>\n",
       "      <th>call_visit_reason:errand</th>\n",
       "      <th>call_visit_reason:home</th>\n",
       "      <th>call_visit_reason:work</th>\n",
       "      <th>call_visit_reason:exercise</th>\n",
       "      <th>call_visit_reason:dining</th>\n",
       "      <th>call_visit_reason:socialize</th>\n",
       "      <th>call_visit_reason:travel/traffic</th>\n",
       "      <th>call_visit_reason:other</th>\n",
       "    </tr>\n",
       "    <tr>\n",
       "      <th>contact_type</th>\n",
       "      <th></th>\n",
       "      <th></th>\n",
       "      <th></th>\n",
       "      <th></th>\n",
       "      <th></th>\n",
       "      <th></th>\n",
       "      <th></th>\n",
       "      <th></th>\n",
       "      <th></th>\n",
       "    </tr>\n",
       "  </thead>\n",
       "  <tbody>\n",
       "    <tr>\n",
       "      <th>family_live_separate</th>\n",
       "      <td>0.014</td>\n",
       "      <td>0.057</td>\n",
       "      <td>0.623</td>\n",
       "      <td>0.095</td>\n",
       "      <td>0.016</td>\n",
       "      <td>0.028</td>\n",
       "      <td>0.039</td>\n",
       "      <td>0.008</td>\n",
       "      <td>0.120</td>\n",
       "    </tr>\n",
       "    <tr>\n",
       "      <th>family_live_together</th>\n",
       "      <td>0.017</td>\n",
       "      <td>0.130</td>\n",
       "      <td>0.529</td>\n",
       "      <td>0.121</td>\n",
       "      <td>0.010</td>\n",
       "      <td>0.028</td>\n",
       "      <td>0.057</td>\n",
       "      <td>0.011</td>\n",
       "      <td>0.097</td>\n",
       "    </tr>\n",
       "    <tr>\n",
       "      <th>friend</th>\n",
       "      <td>0.018</td>\n",
       "      <td>0.058</td>\n",
       "      <td>0.597</td>\n",
       "      <td>0.142</td>\n",
       "      <td>0.009</td>\n",
       "      <td>0.019</td>\n",
       "      <td>0.069</td>\n",
       "      <td>0.002</td>\n",
       "      <td>0.085</td>\n",
       "    </tr>\n",
       "    <tr>\n",
       "      <th>sig_other</th>\n",
       "      <td>0.009</td>\n",
       "      <td>0.075</td>\n",
       "      <td>0.540</td>\n",
       "      <td>0.152</td>\n",
       "      <td>0.015</td>\n",
       "      <td>0.028</td>\n",
       "      <td>0.044</td>\n",
       "      <td>0.009</td>\n",
       "      <td>0.127</td>\n",
       "    </tr>\n",
       "    <tr>\n",
       "      <th>task</th>\n",
       "      <td>0.010</td>\n",
       "      <td>0.058</td>\n",
       "      <td>0.605</td>\n",
       "      <td>0.179</td>\n",
       "      <td>0.020</td>\n",
       "      <td>0.025</td>\n",
       "      <td>0.042</td>\n",
       "      <td>0.007</td>\n",
       "      <td>0.055</td>\n",
       "    </tr>\n",
       "    <tr>\n",
       "      <th>work</th>\n",
       "      <td>0.017</td>\n",
       "      <td>0.070</td>\n",
       "      <td>0.423</td>\n",
       "      <td>0.251</td>\n",
       "      <td>0.000</td>\n",
       "      <td>0.034</td>\n",
       "      <td>0.040</td>\n",
       "      <td>0.009</td>\n",
       "      <td>0.156</td>\n",
       "    </tr>\n",
       "  </tbody>\n",
       "</table>\n",
       "</div>"
      ],
      "text/plain": [
       "                      call_visit_reason:entertainment  \\\n",
       "contact_type                                            \n",
       "family_live_separate                            0.014   \n",
       "family_live_together                            0.017   \n",
       "friend                                          0.018   \n",
       "sig_other                                       0.009   \n",
       "task                                            0.010   \n",
       "work                                            0.017   \n",
       "\n",
       "                      call_visit_reason:errand  call_visit_reason:home  \\\n",
       "contact_type                                                             \n",
       "family_live_separate                     0.057                   0.623   \n",
       "family_live_together                     0.130                   0.529   \n",
       "friend                                   0.058                   0.597   \n",
       "sig_other                                0.075                   0.540   \n",
       "task                                     0.058                   0.605   \n",
       "work                                     0.070                   0.423   \n",
       "\n",
       "                      call_visit_reason:work  call_visit_reason:exercise  \\\n",
       "contact_type                                                               \n",
       "family_live_separate                   0.095                       0.016   \n",
       "family_live_together                   0.121                       0.010   \n",
       "friend                                 0.142                       0.009   \n",
       "sig_other                              0.152                       0.015   \n",
       "task                                   0.179                       0.020   \n",
       "work                                   0.251                       0.000   \n",
       "\n",
       "                      call_visit_reason:dining  call_visit_reason:socialize  \\\n",
       "contact_type                                                                  \n",
       "family_live_separate                     0.028                        0.039   \n",
       "family_live_together                     0.028                        0.057   \n",
       "friend                                   0.019                        0.069   \n",
       "sig_other                                0.028                        0.044   \n",
       "task                                     0.025                        0.042   \n",
       "work                                     0.034                        0.040   \n",
       "\n",
       "                      call_visit_reason:travel/traffic  \\\n",
       "contact_type                                             \n",
       "family_live_separate                             0.008   \n",
       "family_live_together                             0.011   \n",
       "friend                                           0.002   \n",
       "sig_other                                        0.009   \n",
       "task                                             0.007   \n",
       "work                                             0.009   \n",
       "\n",
       "                      call_visit_reason:other  \n",
       "contact_type                                   \n",
       "family_live_separate                    0.120  \n",
       "family_live_together                    0.097  \n",
       "friend                                  0.085  \n",
       "sig_other                               0.127  \n",
       "task                                    0.055  \n",
       "work                                    0.156  "
      ]
     },
     "metadata": {},
     "output_type": "display_data"
    },
    {
     "name": "stdout",
     "output_type": "stream",
     "text": [
      "Std Dev\n"
     ]
    },
    {
     "data": {
      "text/html": [
       "<div>\n",
       "<style scoped>\n",
       "    .dataframe tbody tr th:only-of-type {\n",
       "        vertical-align: middle;\n",
       "    }\n",
       "\n",
       "    .dataframe tbody tr th {\n",
       "        vertical-align: top;\n",
       "    }\n",
       "\n",
       "    .dataframe thead th {\n",
       "        text-align: right;\n",
       "    }\n",
       "</style>\n",
       "<table border=\"1\" class=\"dataframe\">\n",
       "  <thead>\n",
       "    <tr style=\"text-align: right;\">\n",
       "      <th></th>\n",
       "      <th>call_visit_reason:entertainment</th>\n",
       "      <th>call_visit_reason:errand</th>\n",
       "      <th>call_visit_reason:home</th>\n",
       "      <th>call_visit_reason:work</th>\n",
       "      <th>call_visit_reason:exercise</th>\n",
       "      <th>call_visit_reason:dining</th>\n",
       "      <th>call_visit_reason:socialize</th>\n",
       "      <th>call_visit_reason:travel/traffic</th>\n",
       "      <th>call_visit_reason:other</th>\n",
       "    </tr>\n",
       "    <tr>\n",
       "      <th>contact_type</th>\n",
       "      <th></th>\n",
       "      <th></th>\n",
       "      <th></th>\n",
       "      <th></th>\n",
       "      <th></th>\n",
       "      <th></th>\n",
       "      <th></th>\n",
       "      <th></th>\n",
       "      <th></th>\n",
       "    </tr>\n",
       "  </thead>\n",
       "  <tbody>\n",
       "    <tr>\n",
       "      <th>family_live_separate</th>\n",
       "      <td>0.070</td>\n",
       "      <td>0.146</td>\n",
       "      <td>0.355</td>\n",
       "      <td>0.192</td>\n",
       "      <td>0.107</td>\n",
       "      <td>0.123</td>\n",
       "      <td>0.096</td>\n",
       "      <td>0.063</td>\n",
       "      <td>0.240</td>\n",
       "    </tr>\n",
       "    <tr>\n",
       "      <th>family_live_together</th>\n",
       "      <td>0.063</td>\n",
       "      <td>0.199</td>\n",
       "      <td>0.347</td>\n",
       "      <td>0.193</td>\n",
       "      <td>0.087</td>\n",
       "      <td>0.078</td>\n",
       "      <td>0.124</td>\n",
       "      <td>0.054</td>\n",
       "      <td>0.189</td>\n",
       "    </tr>\n",
       "    <tr>\n",
       "      <th>friend</th>\n",
       "      <td>0.077</td>\n",
       "      <td>0.184</td>\n",
       "      <td>0.384</td>\n",
       "      <td>0.268</td>\n",
       "      <td>0.084</td>\n",
       "      <td>0.093</td>\n",
       "      <td>0.187</td>\n",
       "      <td>0.020</td>\n",
       "      <td>0.198</td>\n",
       "    </tr>\n",
       "    <tr>\n",
       "      <th>sig_other</th>\n",
       "      <td>0.052</td>\n",
       "      <td>0.145</td>\n",
       "      <td>0.336</td>\n",
       "      <td>0.231</td>\n",
       "      <td>0.069</td>\n",
       "      <td>0.076</td>\n",
       "      <td>0.122</td>\n",
       "      <td>0.040</td>\n",
       "      <td>0.218</td>\n",
       "    </tr>\n",
       "    <tr>\n",
       "      <th>task</th>\n",
       "      <td>0.069</td>\n",
       "      <td>0.169</td>\n",
       "      <td>0.382</td>\n",
       "      <td>0.289</td>\n",
       "      <td>0.095</td>\n",
       "      <td>0.115</td>\n",
       "      <td>0.109</td>\n",
       "      <td>0.033</td>\n",
       "      <td>0.141</td>\n",
       "    </tr>\n",
       "    <tr>\n",
       "      <th>work</th>\n",
       "      <td>0.085</td>\n",
       "      <td>0.198</td>\n",
       "      <td>0.377</td>\n",
       "      <td>0.339</td>\n",
       "      <td>0.000</td>\n",
       "      <td>0.167</td>\n",
       "      <td>0.112</td>\n",
       "      <td>0.054</td>\n",
       "      <td>0.323</td>\n",
       "    </tr>\n",
       "  </tbody>\n",
       "</table>\n",
       "</div>"
      ],
      "text/plain": [
       "                      call_visit_reason:entertainment  \\\n",
       "contact_type                                            \n",
       "family_live_separate                            0.070   \n",
       "family_live_together                            0.063   \n",
       "friend                                          0.077   \n",
       "sig_other                                       0.052   \n",
       "task                                            0.069   \n",
       "work                                            0.085   \n",
       "\n",
       "                      call_visit_reason:errand  call_visit_reason:home  \\\n",
       "contact_type                                                             \n",
       "family_live_separate                     0.146                   0.355   \n",
       "family_live_together                     0.199                   0.347   \n",
       "friend                                   0.184                   0.384   \n",
       "sig_other                                0.145                   0.336   \n",
       "task                                     0.169                   0.382   \n",
       "work                                     0.198                   0.377   \n",
       "\n",
       "                      call_visit_reason:work  call_visit_reason:exercise  \\\n",
       "contact_type                                                               \n",
       "family_live_separate                   0.192                       0.107   \n",
       "family_live_together                   0.193                       0.087   \n",
       "friend                                 0.268                       0.084   \n",
       "sig_other                              0.231                       0.069   \n",
       "task                                   0.289                       0.095   \n",
       "work                                   0.339                       0.000   \n",
       "\n",
       "                      call_visit_reason:dining  call_visit_reason:socialize  \\\n",
       "contact_type                                                                  \n",
       "family_live_separate                     0.123                        0.096   \n",
       "family_live_together                     0.078                        0.124   \n",
       "friend                                   0.093                        0.187   \n",
       "sig_other                                0.076                        0.122   \n",
       "task                                     0.115                        0.109   \n",
       "work                                     0.167                        0.112   \n",
       "\n",
       "                      call_visit_reason:travel/traffic  \\\n",
       "contact_type                                             \n",
       "family_live_separate                             0.063   \n",
       "family_live_together                             0.054   \n",
       "friend                                           0.020   \n",
       "sig_other                                        0.040   \n",
       "task                                             0.033   \n",
       "work                                             0.054   \n",
       "\n",
       "                      call_visit_reason:other  \n",
       "contact_type                                   \n",
       "family_live_separate                    0.240  \n",
       "family_live_together                    0.189  \n",
       "friend                                  0.198  \n",
       "sig_other                               0.218  \n",
       "task                                    0.141  \n",
       "work                                    0.323  "
      ]
     },
     "metadata": {},
     "output_type": "display_data"
    }
   ],
   "source": [
    "call_visit_features_mean = loc_features.groupby('contact_type')[call_visit_cols].mean()\n",
    "call_visit_features_std = loc_features.groupby('contact_type')[call_visit_cols].std()\n",
    "\n",
    "call_visit_features_mean.plot.bar(rot=0, yerr=call_visit_features_std)\n",
    "plt.title(\"call visitation tendency per contact type\")\n",
    "plt.ylabel(\"% of communications\")\n",
    "plt.show()\n",
    "print(\"Mean\")\n",
    "display(call_visit_features_mean)\n",
    "print(\"Std Dev\")\n",
    "display(call_visit_features_std)"
   ]
  },
  {
   "cell_type": "markdown",
   "metadata": {},
   "source": [
    "# Sandbox"
   ]
  },
  {
   "cell_type": "code",
   "execution_count": 47,
   "metadata": {},
   "outputs": [],
   "source": [
    "labels, bins = pd.qcut(emc_df['q1_want'], 3, retbins=True)"
   ]
  },
  {
   "cell_type": "code",
   "execution_count": 48,
   "metadata": {},
   "outputs": [
    {
     "data": {
      "text/plain": [
       "0         (5.571, 6.0]\n",
       "1         (5.571, 6.0]\n",
       "2      (-0.001, 4.095]\n",
       "3         (5.571, 6.0]\n",
       "4         (5.571, 6.0]\n",
       "5       (4.095, 5.571]\n",
       "6         (5.571, 6.0]\n",
       "7         (5.571, 6.0]\n",
       "8       (4.095, 5.571]\n",
       "9         (5.571, 6.0]\n",
       "10        (5.571, 6.0]\n",
       "11     (-0.001, 4.095]\n",
       "12        (5.571, 6.0]\n",
       "13        (5.571, 6.0]\n",
       "14        (5.571, 6.0]\n",
       "15        (5.571, 6.0]\n",
       "16      (4.095, 5.571]\n",
       "17        (5.571, 6.0]\n",
       "18     (-0.001, 4.095]\n",
       "19        (5.571, 6.0]\n",
       "20     (-0.001, 4.095]\n",
       "21      (4.095, 5.571]\n",
       "22      (4.095, 5.571]\n",
       "23     (-0.001, 4.095]\n",
       "24      (4.095, 5.571]\n",
       "25        (5.571, 6.0]\n",
       "26     (-0.001, 4.095]\n",
       "27        (5.571, 6.0]\n",
       "28     (-0.001, 4.095]\n",
       "29        (5.571, 6.0]\n",
       "            ...       \n",
       "915    (-0.001, 4.095]\n",
       "916       (5.571, 6.0]\n",
       "917    (-0.001, 4.095]\n",
       "918       (5.571, 6.0]\n",
       "919       (5.571, 6.0]\n",
       "920     (4.095, 5.571]\n",
       "921     (4.095, 5.571]\n",
       "922     (4.095, 5.571]\n",
       "923     (4.095, 5.571]\n",
       "924     (4.095, 5.571]\n",
       "925     (4.095, 5.571]\n",
       "926       (5.571, 6.0]\n",
       "927     (4.095, 5.571]\n",
       "928       (5.571, 6.0]\n",
       "929       (5.571, 6.0]\n",
       "930       (5.571, 6.0]\n",
       "931       (5.571, 6.0]\n",
       "932       (5.571, 6.0]\n",
       "933       (5.571, 6.0]\n",
       "934       (5.571, 6.0]\n",
       "935    (-0.001, 4.095]\n",
       "936    (-0.001, 4.095]\n",
       "937    (-0.001, 4.095]\n",
       "938    (-0.001, 4.095]\n",
       "939    (-0.001, 4.095]\n",
       "940       (5.571, 6.0]\n",
       "941       (5.571, 6.0]\n",
       "942       (5.571, 6.0]\n",
       "943       (5.571, 6.0]\n",
       "944       (5.571, 6.0]\n",
       "Name: q1_want, Length: 945, dtype: category\n",
       "Categories (3, interval[float64]): [(-0.001, 4.095] < (4.095, 5.571] < (5.571, 6.0]]"
      ]
     },
     "execution_count": 48,
     "metadata": {},
     "output_type": "execute_result"
    }
   ],
   "source": [
    "labels"
   ]
  },
  {
   "cell_type": "code",
   "execution_count": 49,
   "metadata": {},
   "outputs": [],
   "source": [
    "bins[0] -= 0.001"
   ]
  },
  {
   "cell_type": "code",
   "execution_count": 50,
   "metadata": {},
   "outputs": [
    {
     "data": {
      "text/plain": [
       "array([-1.00000000e-03,  4.09523810e+00,  5.57142857e+00,  6.00000000e+00])"
      ]
     },
     "execution_count": 50,
     "metadata": {},
     "output_type": "execute_result"
    }
   ],
   "source": [
    "bins"
   ]
  },
  {
   "cell_type": "code",
   "execution_count": 51,
   "metadata": {
    "scrolled": true
   },
   "outputs": [
    {
     "data": {
      "text/plain": [
       "Series([], Name: q1_want, dtype: float64)"
      ]
     },
     "execution_count": 51,
     "metadata": {},
     "output_type": "execute_result"
    }
   ],
   "source": [
    "emc_df.loc[pd.cut(emc_df['q1_want'], bins, labels=False).isna(), 'q1_want']"
   ]
  },
  {
   "cell_type": "code",
   "execution_count": 52,
   "metadata": {},
   "outputs": [
    {
     "data": {
      "text/plain": [
       "2.4000000000000004"
      ]
     },
     "execution_count": 52,
     "metadata": {},
     "output_type": "execute_result"
    }
   ],
   "source": [
    "4.2 - 1.8"
   ]
  }
 ],
 "metadata": {
  "kernelspec": {
   "display_name": "Python 3",
   "language": "python",
   "name": "python3"
  },
  "language_info": {
   "codemirror_mode": {
    "name": "ipython",
    "version": 3
   },
   "file_extension": ".py",
   "mimetype": "text/x-python",
   "name": "python",
   "nbconvert_exporter": "python",
   "pygments_lexer": "ipython3",
   "version": "3.7.2"
  }
 },
 "nbformat": 4,
 "nbformat_minor": 2
}
