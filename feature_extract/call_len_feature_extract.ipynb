{
 "cells": [
  {
   "cell_type": "markdown",
   "metadata": {},
   "source": [
    "# Call length feature extraction"
   ]
  },
  {
   "cell_type": "code",
   "execution_count": 241,
   "metadata": {},
   "outputs": [],
   "source": [
    "import csv\n",
    "import math\n",
    "import multiprocessing\n",
    "import os\n",
    "import pickle\n",
    "from sys import exit\n",
    "import shutil\n",
    "\n",
    "import numpy as np\n",
    "import pandas as pd\n",
    "\n",
    "from df_utils import *\n"
   ]
  },
  {
   "cell_type": "code",
   "execution_count": 253,
   "metadata": {},
   "outputs": [],
   "source": [
    "def process_cal(cal_df, pid):\n",
    "    \"\"\"\n",
    "    Processes the cal.csv call logs to determine call duration.\n",
    "    \n",
    "    \"\"\"\n",
    "    cols = ['pid', 'ring_start', 'ring_end', 'ring_duration', 'call_start', 'call_end', 'call_duration']\n",
    "    \n",
    "    start_call_ts = 0\n",
    "    end_call_ts = 0\n",
    "    start_ring_ts = np.nan\n",
    "    end_ring_ts = np.nan\n",
    "    in_call = False\n",
    "    is_ring = False\n",
    "    prev_state = None\n",
    "    call_rows = []\n",
    "    for idx, row in cal_df.iterrows():\n",
    "        # starts ringing\n",
    "        if (not in_call) and row['call_state'] == 'Ringing':\n",
    "            is_ring = True\n",
    "            start_ring_ts = row['timestamp']\n",
    "        \n",
    "        # call begins\n",
    "        elif (not in_call) and (row['call_state'] == 'Off-Hook'):\n",
    "            # pick\n",
    "            if prev_state == 'Ringing':\n",
    "                end_ring_ts = row['timestamp']\n",
    "            start_call_ts = row['timestamp']\n",
    "            in_call = True\n",
    "        \n",
    "        # call ends\n",
    "        elif in_call and (row['call_state'] == 'Idle'):\n",
    "            in_call = False\n",
    "            end_call_ts = row['timestamp']\n",
    "            if is_ring:\n",
    "                is_ring = False\n",
    "            else:\n",
    "                start_ring_ts = np.nan\n",
    "                end_ring_ts = np.nan\n",
    "            call_rows.append([pid, start_ring_ts, end_ring_ts, end_ring_ts - start_ring_ts, start_call_ts, end_call_ts, end_call_ts - start_call_ts])\n",
    "\n",
    "        # the missed call case\n",
    "        elif (not in_call) and (row['call_state'] == 'Idle'):\n",
    "            is_ring = False\n",
    "            start_ring_ts = np.nan\n",
    "            end_ring_ts = np.nan\n",
    "            \n",
    "        prev_state = row['call_state']\n",
    "    \n",
    "    proc_df = pd.DataFrame(call_rows, columns=cols)\n",
    "\n",
    "    return proc_df\n",
    "        \n",
    "    \n",
    "def match_dates(phone_df, cal_df):\n",
    "    \"\"\"Matches call length from cal_df to the given logs in phone_df.\n",
    "    \n",
    "    \"\"\"\n",
    "    cols = ['combined_hash', 'timestamp', 'ring_duration', 'call_duration']\n",
    "    combined_rows = []\n",
    "    for idx, row in phone_df.iterrows():\n",
    "        ts = math.ceil(row['timestamp'])\n",
    "        cur_call = row['comm_direction']\n",
    "        if cur_call in ['INCOMING', 'OUTGOING']:\n",
    "            for cal_idx, cal_row in cal_df.iterrows():\n",
    "                start = cal_row['ring_start'] if not np.isnan(cal_row['ring_start']) else cal_row['call_start']\n",
    "                start -= 30\n",
    "                end = cal_row['call_end']+1\n",
    "\n",
    "                if (start <= ts) and (end >= ts):\n",
    "                    data = [row['combined_hash'], row['timestamp'], cal_row['ring_duration'], cal_row['call_duration']]\n",
    "                    combined_rows.append(data)\n",
    "\n",
    "                    break\n",
    "    pid_df = pd.DataFrame(combined_rows, columns=cols)\n",
    "    return pid_df\n",
    "\n",
    "\n",
    "def extract_cal_data(data_dir, subj, testing=False):\n",
    "    \"\"\"Extracts call length information for the given subject.\n",
    "    \n",
    "    \"\"\"\n",
    "    filename = data_dir + subj + '/cal.csv'\n",
    "    if os.path.exists(filename):\n",
    "        with open(filename) as file_in:\n",
    "            raw_df = pd.read_csv(file_in, delimiter='\\t', header=None, names=call_cols)\n",
    "            cal_df = process_cal(raw_df, subj)\n",
    "            pid_coe = coe_df.loc[coe_df['pid'] == subj]\n",
    "            phone_df = pid_coe.loc[pid_coe['comm_type'] == 'PHONE']\n",
    "            \n",
    "            return match_dates(phone_df, cal_df)"
   ]
  },
  {
   "cell_type": "code",
   "execution_count": 247,
   "metadata": {},
   "outputs": [],
   "source": [
    "coe_df = pickle.load(open('../data/top_5_contacts_loc_final.df', 'rb'))"
   ]
  },
  {
   "cell_type": "code",
   "execution_count": 256,
   "metadata": {
    "scrolled": false
   },
   "outputs": [],
   "source": [
    "loc_coe_df = pd.DataFrame()\n",
    "data_dir = '../CS120/CS120-sensor-csvs/'\n",
    "\n",
    "subjects = os.listdir(data_dir)\n",
    "call_cols = ['timestamp', 'call_state']\n",
    "\n",
    "coe_df = coe_df.drop_duplicates(subset=['date', 'pid', 'combined_hash'])\n",
    "\n",
    "cal_df = pd.DataFrame(columns=call_cols)\n",
    "\n",
    "func_args = [(data_dir, subj) for subj in subjects]\n",
    "\n",
    "with multiprocessing.Pool(processes=4) as pool:\n",
    "    results = pool.starmap(extract_cal_data, func_args)\n",
    "\n",
    "final_df = pd.DataFrame()\n",
    "for df in results:\n",
    "    final_df = final_df.append(df)\n"
   ]
  },
  {
   "cell_type": "code",
   "execution_count": 257,
   "metadata": {},
   "outputs": [
    {
     "data": {
      "text/plain": [
       "(15233, 4)"
      ]
     },
     "execution_count": 257,
     "metadata": {},
     "output_type": "execute_result"
    }
   ],
   "source": [
    "final_df.shape"
   ]
  },
  {
   "cell_type": "code",
   "execution_count": 258,
   "metadata": {},
   "outputs": [
    {
     "data": {
      "text/html": [
       "<div>\n",
       "<style scoped>\n",
       "    .dataframe tbody tr th:only-of-type {\n",
       "        vertical-align: middle;\n",
       "    }\n",
       "\n",
       "    .dataframe tbody tr th {\n",
       "        vertical-align: top;\n",
       "    }\n",
       "\n",
       "    .dataframe thead th {\n",
       "        text-align: right;\n",
       "    }\n",
       "</style>\n",
       "<table border=\"1\" class=\"dataframe\">\n",
       "  <thead>\n",
       "    <tr style=\"text-align: right;\">\n",
       "      <th></th>\n",
       "      <th>combined_hash</th>\n",
       "      <th>timestamp</th>\n",
       "      <th>ring_duration</th>\n",
       "      <th>call_duration</th>\n",
       "    </tr>\n",
       "  </thead>\n",
       "  <tbody>\n",
       "    <tr>\n",
       "      <th>0</th>\n",
       "      <td>1002060b07d836f246e50ce930bf90a9fe33939</td>\n",
       "      <td>1.446589e+09</td>\n",
       "      <td>13.0</td>\n",
       "      <td>148.0</td>\n",
       "    </tr>\n",
       "    <tr>\n",
       "      <th>1</th>\n",
       "      <td>1002060b07d836f246e50ce930bf90a9fe33939</td>\n",
       "      <td>1.446589e+09</td>\n",
       "      <td>6.0</td>\n",
       "      <td>354.0</td>\n",
       "    </tr>\n",
       "    <tr>\n",
       "      <th>2</th>\n",
       "      <td>1002060b07d836f246e50ce930bf90a9fe33939</td>\n",
       "      <td>1.446592e+09</td>\n",
       "      <td>NaN</td>\n",
       "      <td>50.0</td>\n",
       "    </tr>\n",
       "    <tr>\n",
       "      <th>3</th>\n",
       "      <td>1002060b07d836f246e50ce930bf90a9fe33939</td>\n",
       "      <td>1.446592e+09</td>\n",
       "      <td>7.0</td>\n",
       "      <td>218.0</td>\n",
       "    </tr>\n",
       "    <tr>\n",
       "      <th>4</th>\n",
       "      <td>1002060b07d836f246e50ce930bf90a9fe33939</td>\n",
       "      <td>1.446750e+09</td>\n",
       "      <td>17.0</td>\n",
       "      <td>53.0</td>\n",
       "    </tr>\n",
       "  </tbody>\n",
       "</table>\n",
       "</div>"
      ],
      "text/plain": [
       "                             combined_hash     timestamp  ring_duration  \\\n",
       "0  1002060b07d836f246e50ce930bf90a9fe33939  1.446589e+09           13.0   \n",
       "1  1002060b07d836f246e50ce930bf90a9fe33939  1.446589e+09            6.0   \n",
       "2  1002060b07d836f246e50ce930bf90a9fe33939  1.446592e+09            NaN   \n",
       "3  1002060b07d836f246e50ce930bf90a9fe33939  1.446592e+09            7.0   \n",
       "4  1002060b07d836f246e50ce930bf90a9fe33939  1.446750e+09           17.0   \n",
       "\n",
       "   call_duration  \n",
       "0          148.0  \n",
       "1          354.0  \n",
       "2           50.0  \n",
       "3          218.0  \n",
       "4           53.0  "
      ]
     },
     "execution_count": 258,
     "metadata": {},
     "output_type": "execute_result"
    }
   ],
   "source": [
    "final_df.head()"
   ]
  },
  {
   "cell_type": "code",
   "execution_count": 259,
   "metadata": {},
   "outputs": [],
   "source": [
    "pickle.dump(final_df, open(\"all_cal.df\", \"wb\"), -1)"
   ]
  },
  {
   "cell_type": "code",
   "execution_count": 260,
   "metadata": {},
   "outputs": [
    {
     "data": {
      "text/plain": [
       "(283624, 40)"
      ]
     },
     "execution_count": 260,
     "metadata": {},
     "output_type": "execute_result"
    }
   ],
   "source": [
    "coe_df.shape"
   ]
  },
  {
   "cell_type": "code",
   "execution_count": 261,
   "metadata": {},
   "outputs": [],
   "source": [
    "coe_cal_df = coe_df.merge(final_df, on=['combined_hash', 'timestamp'], how='outer')"
   ]
  },
  {
   "cell_type": "code",
   "execution_count": 267,
   "metadata": {},
   "outputs": [
    {
     "data": {
      "text/plain": [
       "12089"
      ]
     },
     "execution_count": 267,
     "metadata": {},
     "output_type": "execute_result"
    }
   ],
   "source": [
    "((coe_cal_df['comm_type'] == 'PHONE') & (coe_cal_df['comm_direction'] == 'OUTGOING')).sum()"
   ]
  },
  {
   "cell_type": "code",
   "execution_count": 268,
   "metadata": {},
   "outputs": [],
   "source": [
    "pickle.dump(coe_cal_df, open(\"top_5_contacts_cal.df\", \"wb\"), -1)"
   ]
  }
 ],
 "metadata": {
  "kernelspec": {
   "display_name": "Python 3",
   "language": "python",
   "name": "python3"
  },
  "language_info": {
   "codemirror_mode": {
    "name": "ipython",
    "version": 3
   },
   "file_extension": ".py",
   "mimetype": "text/x-python",
   "name": "python",
   "nbconvert_exporter": "python",
   "pygments_lexer": "ipython3",
   "version": "3.7.1"
  }
 },
 "nbformat": 4,
 "nbformat_minor": 2
}
