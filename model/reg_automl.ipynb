{
 "cells": [
  {
   "cell_type": "markdown",
   "metadata": {},
   "source": [
    "<h1 id=\"tocheading\">Table of Contents</h1>\n",
    "<div id=\"toc\"></div>"
   ]
  },
  {
   "cell_type": "code",
   "execution_count": 4,
   "metadata": {},
   "outputs": [
    {
     "data": {
      "application/javascript": [
       "// ToC script\n",
       "$.getScript('https://kmahelona.github.io/ipython_notebook_goodies/ipython_notebook_toc.js')\n"
      ],
      "text/plain": [
       "<IPython.core.display.Javascript object>"
      ]
     },
     "metadata": {},
     "output_type": "display_data"
    }
   ],
   "source": [
    "%%javascript\n",
    "// ToC script\n",
    "$.getScript('https://kmahelona.github.io/ipython_notebook_goodies/ipython_notebook_toc.js')"
   ]
  },
  {
   "cell_type": "code",
   "execution_count": 5,
   "metadata": {},
   "outputs": [
    {
     "data": {
      "text/html": [
       "\n",
       "<script>\n",
       "  function code_toggle() {\n",
       "    if (code_shown){\n",
       "      $('div.input').hide('500');\n",
       "      $('#toggleButton').val('Show Code')\n",
       "    } else {\n",
       "      $('div.input').show('500');\n",
       "      $('#toggleButton').val('Hide Code')\n",
       "    }\n",
       "    code_shown = !code_shown\n",
       "  }\n",
       "\n",
       "  $( document ).ready(function(){\n",
       "    code_shown=false;\n",
       "    $('div.input').hide()\n",
       "  });\n",
       "</script>\n",
       "<form action=\"javascript:code_toggle()\"><input type=\"submit\" id=\"toggleButton\" value=\"Show Code\"></form>\n"
      ],
      "text/plain": [
       "<IPython.core.display.HTML object>"
      ]
     },
     "execution_count": 5,
     "metadata": {},
     "output_type": "execute_result"
    }
   ],
   "source": [
    "# Code hider, source: http://chris-said.io/2016/02/13/how-to-make-polished-jupyter-presentations-with-optional-code-visibility/\n",
    "from IPython.display import HTML\n",
    "\n",
    "HTML('''\n",
    "<script>\n",
    "  function code_toggle() {\n",
    "    if (code_shown){\n",
    "      $('div.input').hide('500');\n",
    "      $('#toggleButton').val('Show Code')\n",
    "    } else {\n",
    "      $('div.input').show('500');\n",
    "      $('#toggleButton').val('Hide Code')\n",
    "    }\n",
    "    code_shown = !code_shown\n",
    "  }\n",
    "\n",
    "  $( document ).ready(function(){\n",
    "    code_shown=false;\n",
    "    $('div.input').hide()\n",
    "  });\n",
    "</script>\n",
    "<form action=\"javascript:code_toggle()\"><input type=\"submit\" id=\"toggleButton\" value=\"Show Code\"></form>\n",
    "''')"
   ]
  },
  {
   "cell_type": "code",
   "execution_count": 7,
   "metadata": {},
   "outputs": [],
   "source": [
    "%matplotlib inline\n",
    "\n",
    "from collections import Counter\n",
    "import os,sys,inspect\n",
    "import pickle\n",
    "import warnings\n",
    "\n",
    "import matplotlib.pyplot as plt\n",
    "import numpy as np\n",
    "import pandas as pd\n",
    "\n",
    "from autosklearn.regression import AutoSklearnRegressor\n",
    "from sklearn.ensemble import RandomForestRegressor\n",
    "import autosklearn.metrics as auto_metrics\n",
    "import sklearn.metrics as sk_metrics\n",
    "from sklearn.metrics import accuracy_score, confusion_matrix, r2_score, mean_squared_error\n",
    "\n",
    "warnings.filterwarnings('ignore')\n",
    "\n",
    "currentdir = os.path.dirname(os.path.abspath(inspect.getfile(inspect.currentframe())))\n",
    "parentdir = os.path.dirname(currentdir)\n",
    "sys.path.insert(0,parentdir) \n",
    "\n",
    "from model.model_util import *"
   ]
  },
  {
   "cell_type": "code",
   "execution_count": 8,
   "metadata": {},
   "outputs": [],
   "source": [
    "predict_targets = [\n",
    "    'q1_want',\n",
    "    'q2_talk',\n",
    "    'q3_loan',\n",
    "    'q4_closeness'\n",
    "]\n",
    "\n",
    "rand_seed = 2"
   ]
  },
  {
   "cell_type": "code",
   "execution_count": 9,
   "metadata": {},
   "outputs": [],
   "source": [
    "# utility functions\n",
    "\n",
    "def print_ensemble(ensemble, latex=False, is_clf=True):\n",
    "    delim = \",\"\n",
    "    end = \"\"\n",
    "    target_predictor = 'classifer' if is_clf else 'regressor'\n",
    "    for weight, pipeline in ensemble:\n",
    "        if latex:\n",
    "            print(\"{} & {} \\\\\\\\\".format(weight, \n",
    "                                        pipeline.configuration[\"{}:__choice__\".format(target_predictor)]))\n",
    "        else:\n",
    "            print(\"Weight: {}, classifier: {}\".format(weight, \n",
    "                                                      pipeline.configuration[\"{}:__choice__\".format(target_predictor)]))\n",
    "\n",
    "            \n",
    "def print_metrics(test_y, predictions):\n",
    "    \"\"\"\n",
    "    Micro statistics take global counts of TP, FP, etc\n",
    "    Macro statistics take per class metrics and averages them (not accounting for class imbalance)\n",
    "    Weighted statistics weight macro metrics by number of true examples in each class\n",
    "    \"\"\"\n",
    "    print(\"Accuracy:\", accuracy_score(test_y, predictions))\n",
    "    \n",
    "    # precision, recall, F1\n",
    "    metrics = np.zeros((2,3))\n",
    "    \n",
    "    # micro\n",
    "    avgs = ['macro', 'weighted']\n",
    "    for i, avg in enumerate(avgs):\n",
    "        metrics[i,0] = sk_metrics.precision_score(test_y, predictions, average=avg)\n",
    "        metrics[i,1] = sk_metrics.recall_score(test_y, predictions, average=avg)\n",
    "        metrics[i,2] = sk_metrics.f1_score(test_y, predictions, average=avg)\n",
    "\n",
    "    metrics_df = pd.DataFrame(metrics, index=avgs, columns=['precision', 'recall', 'F1'])\n",
    "    display(metrics_df)\n",
    "    \n",
    "    confusion_mat = confusion_matrix(test_y, predictions)\n",
    "    confuse_df = pd.DataFrame(confusion_mat, index=contact_types, columns=[\"p_\" + x for x in contact_types])\n",
    "    display(confuse_df)"
   ]
  },
  {
   "cell_type": "code",
   "execution_count": 10,
   "metadata": {},
   "outputs": [],
   "source": [
    "def print_reg_metrics(test_y_dict, pred_dict):\n",
    "    \"\"\"\n",
    "    prints the MSE and R^2 of the given prediction dictionaries.\n",
    "    \"\"\"\n",
    "    \n",
    "    targets = pred_dict.keys()\n",
    "    # R^2, MSE\n",
    "    metrics = np.zeros((2, len(targets)))\n",
    "    for i, target in enumerate(targets):\n",
    "        metrics[0, i] = sk_metrics.r2_score(test_y_dict[target], pred_dict[target]) \n",
    "        metrics[1, i] = sk_metrics.mean_squared_error(test_y_dict[target], pred_dict[target]) \n",
    "        \n",
    "    metrics_df = pd.DataFrame(metrics, index=['R^2', 'MSE'], columns=targets)\n",
    "    display(metrics_df)\n",
    "    \n",
    "\n",
    "def get_rand_forest_results(train_data, test_data):\n",
    "    \n",
    "    pred_dict = {}\n",
    "    actual_dict = {}\n",
    "\n",
    "    for target in predict_targets:\n",
    "        actual_dict[target] = test_data[target]\n",
    "\n",
    "        train_y = train_data[target]\n",
    "        train_X = train_data.drop(['contact_type', 'pid', 'combined_hash'] + predict_targets, axis=1)\n",
    "        test_X = test_data.drop(['contact_type', 'pid', 'combined_hash'] + predict_targets, axis=1)\n",
    "\n",
    "        clf = RandomForestRegressor(random_state=2, n_jobs=2, n_estimators=50, warm_start=True)\n",
    "        clf.fit(train_X, train_y)\n",
    "        pred = clf.predict(test_X)\n",
    "        pred_dict[target] = pred\n",
    "\n",
    "\n",
    "    return actual_dict, pred_dict"
   ]
  },
  {
   "cell_type": "markdown",
   "metadata": {},
   "source": [
    "# AutoML Regression\n",
    "\n",
    "Models are trained using the out-of-the-box `AutoSklearnRegressor` provided by the `auto-sklearn` module. This is the scikit-learn implementation of the autoML system as described in \"efficient and robust automated machine learning.\"\n",
    "\n",
    "[Module documentation](https://automl.github.io/auto-sklearn/stable/index.html)\n",
    "\n",
    "[AutoML paper](https://papers.nips.cc/paper/5872-efficient-and-robust-automated-machine-learning)"
   ]
  },
  {
   "cell_type": "markdown",
   "metadata": {},
   "source": [
    "# Baseline Random Forest"
   ]
  },
  {
   "cell_type": "markdown",
   "metadata": {},
   "source": [
    "## Commmunication features only"
   ]
  },
  {
   "cell_type": "code",
   "execution_count": 11,
   "metadata": {},
   "outputs": [],
   "source": [
    "rf_closeness_preds = []"
   ]
  },
  {
   "cell_type": "code",
   "execution_count": 13,
   "metadata": {},
   "outputs": [
    {
     "data": {
      "text/html": [
       "<div>\n",
       "<style scoped>\n",
       "    .dataframe tbody tr th:only-of-type {\n",
       "        vertical-align: middle;\n",
       "    }\n",
       "\n",
       "    .dataframe tbody tr th {\n",
       "        vertical-align: top;\n",
       "    }\n",
       "\n",
       "    .dataframe thead th {\n",
       "        text-align: right;\n",
       "    }\n",
       "</style>\n",
       "<table border=\"1\" class=\"dataframe\">\n",
       "  <thead>\n",
       "    <tr style=\"text-align: right;\">\n",
       "      <th></th>\n",
       "      <th>q1_want</th>\n",
       "      <th>q2_talk</th>\n",
       "      <th>q3_loan</th>\n",
       "      <th>q4_closeness</th>\n",
       "    </tr>\n",
       "  </thead>\n",
       "  <tbody>\n",
       "    <tr>\n",
       "      <th>R^2</th>\n",
       "      <td>0.061598</td>\n",
       "      <td>0.187434</td>\n",
       "      <td>0.098771</td>\n",
       "      <td>0.219407</td>\n",
       "    </tr>\n",
       "    <tr>\n",
       "      <th>MSE</th>\n",
       "      <td>2.262059</td>\n",
       "      <td>3.014037</td>\n",
       "      <td>5.250296</td>\n",
       "      <td>3.068172</td>\n",
       "    </tr>\n",
       "  </tbody>\n",
       "</table>\n",
       "</div>"
      ],
      "text/plain": [
       "      q1_want   q2_talk   q3_loan  q4_closeness\n",
       "R^2  0.061598  0.187434  0.098771      0.219407\n",
       "MSE  2.262059  3.014037  5.250296      3.068172"
      ]
     },
     "metadata": {},
     "output_type": "display_data"
    }
   ],
   "source": [
    "top_5_baseline_train = pickle.load(open('../data/rd2_features/top_5_baseline_train_features.df', 'rb'))\n",
    "top_5_baseline_test =  pickle.load(open('../data/rd2_features/top_5_baseline_test_features.df', 'rb'))\n",
    "\n",
    "actual_dict, pred_dict = get_rand_forest_results(top_5_baseline_train, top_5_baseline_test)\n",
    "print_reg_metrics(actual_dict, pred_dict)\n",
    "\n",
    "rf_closeness_preds.append(pred_dict['q4_closeness'])"
   ]
  },
  {
   "cell_type": "markdown",
   "metadata": {},
   "source": [
    "## Commmunication + age/sex"
   ]
  },
  {
   "cell_type": "code",
   "execution_count": 15,
   "metadata": {},
   "outputs": [
    {
     "data": {
      "text/html": [
       "<div>\n",
       "<style scoped>\n",
       "    .dataframe tbody tr th:only-of-type {\n",
       "        vertical-align: middle;\n",
       "    }\n",
       "\n",
       "    .dataframe tbody tr th {\n",
       "        vertical-align: top;\n",
       "    }\n",
       "\n",
       "    .dataframe thead th {\n",
       "        text-align: right;\n",
       "    }\n",
       "</style>\n",
       "<table border=\"1\" class=\"dataframe\">\n",
       "  <thead>\n",
       "    <tr style=\"text-align: right;\">\n",
       "      <th></th>\n",
       "      <th>q1_want</th>\n",
       "      <th>q2_talk</th>\n",
       "      <th>q3_loan</th>\n",
       "      <th>q4_closeness</th>\n",
       "    </tr>\n",
       "  </thead>\n",
       "  <tbody>\n",
       "    <tr>\n",
       "      <th>R^2</th>\n",
       "      <td>0.057750</td>\n",
       "      <td>0.206931</td>\n",
       "      <td>0.120913</td>\n",
       "      <td>0.230501</td>\n",
       "    </tr>\n",
       "    <tr>\n",
       "      <th>MSE</th>\n",
       "      <td>2.271336</td>\n",
       "      <td>2.941715</td>\n",
       "      <td>5.121307</td>\n",
       "      <td>3.024566</td>\n",
       "    </tr>\n",
       "  </tbody>\n",
       "</table>\n",
       "</div>"
      ],
      "text/plain": [
       "      q1_want   q2_talk   q3_loan  q4_closeness\n",
       "R^2  0.057750  0.206931  0.120913      0.230501\n",
       "MSE  2.271336  2.941715  5.121307      3.024566"
      ]
     },
     "metadata": {},
     "output_type": "display_data"
    }
   ],
   "source": [
    "top_5_age_gender_train = pickle.load(open('../data/rd2_features/top_5_age_gender_train_features.df', 'rb'))\n",
    "top_5_age_gender_test =  pickle.load(open('../data/rd2_features/top_5_age_gender_test_features.df', 'rb'))\n",
    "\n",
    "actual_dict, pred_dict = get_rand_forest_results(top_5_age_gender_train, top_5_age_gender_test)\n",
    "print_reg_metrics(actual_dict, pred_dict)\n",
    "\n",
    "rf_closeness_preds.append(pred_dict['q4_closeness'])"
   ]
  },
  {
   "cell_type": "markdown",
   "metadata": {},
   "source": [
    "## Commmunication + demographics"
   ]
  },
  {
   "cell_type": "code",
   "execution_count": 16,
   "metadata": {},
   "outputs": [
    {
     "data": {
      "text/html": [
       "<div>\n",
       "<style scoped>\n",
       "    .dataframe tbody tr th:only-of-type {\n",
       "        vertical-align: middle;\n",
       "    }\n",
       "\n",
       "    .dataframe tbody tr th {\n",
       "        vertical-align: top;\n",
       "    }\n",
       "\n",
       "    .dataframe thead th {\n",
       "        text-align: right;\n",
       "    }\n",
       "</style>\n",
       "<table border=\"1\" class=\"dataframe\">\n",
       "  <thead>\n",
       "    <tr style=\"text-align: right;\">\n",
       "      <th></th>\n",
       "      <th>q1_want</th>\n",
       "      <th>q2_talk</th>\n",
       "      <th>q3_loan</th>\n",
       "      <th>q4_closeness</th>\n",
       "    </tr>\n",
       "  </thead>\n",
       "  <tbody>\n",
       "    <tr>\n",
       "      <th>R^2</th>\n",
       "      <td>0.080359</td>\n",
       "      <td>0.231371</td>\n",
       "      <td>0.108065</td>\n",
       "      <td>0.237374</td>\n",
       "    </tr>\n",
       "    <tr>\n",
       "      <th>MSE</th>\n",
       "      <td>2.216835</td>\n",
       "      <td>2.851062</td>\n",
       "      <td>5.196151</td>\n",
       "      <td>2.997551</td>\n",
       "    </tr>\n",
       "  </tbody>\n",
       "</table>\n",
       "</div>"
      ],
      "text/plain": [
       "      q1_want   q2_talk   q3_loan  q4_closeness\n",
       "R^2  0.080359  0.231371  0.108065      0.237374\n",
       "MSE  2.216835  2.851062  5.196151      2.997551"
      ]
     },
     "metadata": {},
     "output_type": "display_data"
    }
   ],
   "source": [
    "top_5_demo_train = pickle.load(open('../data/rd2_features/top_5_demo_train_features.df', 'rb'))\n",
    "top_5_demo_test =  pickle.load(open('../data/rd2_features/top_5_demo_test_features.df', 'rb'))\n",
    "\n",
    "actual_dict, pred_dict = get_rand_forest_results(top_5_demo_train, top_5_demo_test)\n",
    "print_reg_metrics(actual_dict, pred_dict)\n",
    "\n",
    "rf_closeness_preds.append(pred_dict['q4_closeness'])"
   ]
  },
  {
   "cell_type": "markdown",
   "metadata": {},
   "source": [
    "## Commmunication + location"
   ]
  },
  {
   "cell_type": "code",
   "execution_count": 17,
   "metadata": {},
   "outputs": [
    {
     "data": {
      "text/html": [
       "<div>\n",
       "<style scoped>\n",
       "    .dataframe tbody tr th:only-of-type {\n",
       "        vertical-align: middle;\n",
       "    }\n",
       "\n",
       "    .dataframe tbody tr th {\n",
       "        vertical-align: top;\n",
       "    }\n",
       "\n",
       "    .dataframe thead th {\n",
       "        text-align: right;\n",
       "    }\n",
       "</style>\n",
       "<table border=\"1\" class=\"dataframe\">\n",
       "  <thead>\n",
       "    <tr style=\"text-align: right;\">\n",
       "      <th></th>\n",
       "      <th>q1_want</th>\n",
       "      <th>q2_talk</th>\n",
       "      <th>q3_loan</th>\n",
       "      <th>q4_closeness</th>\n",
       "    </tr>\n",
       "  </thead>\n",
       "  <tbody>\n",
       "    <tr>\n",
       "      <th>R^2</th>\n",
       "      <td>0.027505</td>\n",
       "      <td>0.198899</td>\n",
       "      <td>0.063982</td>\n",
       "      <td>0.223408</td>\n",
       "    </tr>\n",
       "    <tr>\n",
       "      <th>MSE</th>\n",
       "      <td>2.344242</td>\n",
       "      <td>2.971512</td>\n",
       "      <td>5.452968</td>\n",
       "      <td>3.052445</td>\n",
       "    </tr>\n",
       "  </tbody>\n",
       "</table>\n",
       "</div>"
      ],
      "text/plain": [
       "      q1_want   q2_talk   q3_loan  q4_closeness\n",
       "R^2  0.027505  0.198899  0.063982      0.223408\n",
       "MSE  2.344242  2.971512  5.452968      3.052445"
      ]
     },
     "metadata": {},
     "output_type": "display_data"
    }
   ],
   "source": [
    "top_5_loc_train = pickle.load(open('../data/rd2_features/top_5_loc_train_features.df', 'rb'))\n",
    "top_5_loc_test =  pickle.load(open('../data/rd2_features/top_5_loc_test_features.df', 'rb'))\n",
    "\n",
    "actual_dict, pred_dict = get_rand_forest_results(top_5_loc_train, top_5_loc_test)\n",
    "print_reg_metrics(actual_dict, pred_dict)\n",
    "\n",
    "rf_closeness_preds.append(pred_dict['q4_closeness'])"
   ]
  },
  {
   "cell_type": "markdown",
   "metadata": {},
   "source": [
    "## All features"
   ]
  },
  {
   "cell_type": "code",
   "execution_count": 18,
   "metadata": {},
   "outputs": [
    {
     "data": {
      "text/html": [
       "<div>\n",
       "<style scoped>\n",
       "    .dataframe tbody tr th:only-of-type {\n",
       "        vertical-align: middle;\n",
       "    }\n",
       "\n",
       "    .dataframe tbody tr th {\n",
       "        vertical-align: top;\n",
       "    }\n",
       "\n",
       "    .dataframe thead th {\n",
       "        text-align: right;\n",
       "    }\n",
       "</style>\n",
       "<table border=\"1\" class=\"dataframe\">\n",
       "  <thead>\n",
       "    <tr style=\"text-align: right;\">\n",
       "      <th></th>\n",
       "      <th>q1_want</th>\n",
       "      <th>q2_talk</th>\n",
       "      <th>q3_loan</th>\n",
       "      <th>q4_closeness</th>\n",
       "    </tr>\n",
       "  </thead>\n",
       "  <tbody>\n",
       "    <tr>\n",
       "      <th>R^2</th>\n",
       "      <td>0.048212</td>\n",
       "      <td>0.196893</td>\n",
       "      <td>0.091855</td>\n",
       "      <td>0.264235</td>\n",
       "    </tr>\n",
       "    <tr>\n",
       "      <th>MSE</th>\n",
       "      <td>2.294326</td>\n",
       "      <td>2.978949</td>\n",
       "      <td>5.290589</td>\n",
       "      <td>2.891975</td>\n",
       "    </tr>\n",
       "  </tbody>\n",
       "</table>\n",
       "</div>"
      ],
      "text/plain": [
       "      q1_want   q2_talk   q3_loan  q4_closeness\n",
       "R^2  0.048212  0.196893  0.091855      0.264235\n",
       "MSE  2.294326  2.978949  5.290589      2.891975"
      ]
     },
     "metadata": {},
     "output_type": "display_data"
    }
   ],
   "source": [
    "top_5_all_train = pickle.load(open('../data/rd2_features/top_5_all_train_features.df', 'rb'))\n",
    "top_5_all_test =  pickle.load(open('../data/rd2_features/top_5_all_test_features.df', 'rb'))\n",
    "\n",
    "actual_dict, pred_dict = get_rand_forest_results(top_5_all_train, top_5_all_test)\n",
    "print_reg_metrics(actual_dict, pred_dict)\n",
    "\n",
    "rf_closeness_preds.append(pred_dict['q4_closeness'])"
   ]
  },
  {
   "cell_type": "markdown",
   "metadata": {},
   "source": [
    "# Top 5 contacts model"
   ]
  },
  {
   "cell_type": "markdown",
   "metadata": {},
   "source": [
    "## Baseline communication features\n",
    "\n",
    "Features:\n",
    "- top 5 contacts per participant\n",
    "- communication features as described in `feature_extract.ipynb`, with NaN indicators and imputation\n",
    "\n",
    "Preprocessing: N/A"
   ]
  },
  {
   "cell_type": "code",
   "execution_count": 30,
   "metadata": {},
   "outputs": [],
   "source": [
    "actual_dict = {}\n",
    "for target in predict_targets:\n",
    "    actual_dict[target] = test_data[target]"
   ]
  },
  {
   "cell_type": "code",
   "execution_count": null,
   "metadata": {},
   "outputs": [],
   "source": [
    "automl_closeness_preds = []"
   ]
  },
  {
   "cell_type": "code",
   "execution_count": 44,
   "metadata": {},
   "outputs": [
    {
     "name": "stderr",
     "output_type": "stream",
     "text": [
      "Could not delete output dir: /tmp/autosklearn_output_10243_2961\n",
      "Could not delete tmp dir: /tmp/autosklearn_tmp_10243_2961\n",
      "Could not delete output dir: /tmp/autosklearn_output_17096_998\n",
      "Could not delete tmp dir: /tmp/autosklearn_tmp_17096_998\n",
      "Could not delete output dir: /tmp/autosklearn_output_22516_3175\n",
      "Could not delete tmp dir: /tmp/autosklearn_tmp_22516_3175\n"
     ]
    },
    {
     "data": {
      "text/html": [
       "<div>\n",
       "<style scoped>\n",
       "    .dataframe tbody tr th:only-of-type {\n",
       "        vertical-align: middle;\n",
       "    }\n",
       "\n",
       "    .dataframe tbody tr th {\n",
       "        vertical-align: top;\n",
       "    }\n",
       "\n",
       "    .dataframe thead th {\n",
       "        text-align: right;\n",
       "    }\n",
       "</style>\n",
       "<table border=\"1\" class=\"dataframe\">\n",
       "  <thead>\n",
       "    <tr style=\"text-align: right;\">\n",
       "      <th></th>\n",
       "      <th>q1_want</th>\n",
       "      <th>q2_talk</th>\n",
       "      <th>q3_loan</th>\n",
       "      <th>q4_closeness</th>\n",
       "    </tr>\n",
       "  </thead>\n",
       "  <tbody>\n",
       "    <tr>\n",
       "      <th>R^2</th>\n",
       "      <td>0.079346</td>\n",
       "      <td>0.154661</td>\n",
       "      <td>0.118709</td>\n",
       "      <td>0.286069</td>\n",
       "    </tr>\n",
       "    <tr>\n",
       "      <th>MSE</th>\n",
       "      <td>2.219277</td>\n",
       "      <td>3.135602</td>\n",
       "      <td>5.134146</td>\n",
       "      <td>2.806152</td>\n",
       "    </tr>\n",
       "  </tbody>\n",
       "</table>\n",
       "</div>"
      ],
      "text/plain": [
       "      q1_want   q2_talk   q3_loan  q4_closeness\n",
       "R^2  0.079346  0.154661  0.118709      0.286069\n",
       "MSE  2.219277  3.135602  5.134146      2.806152"
      ]
     },
     "metadata": {},
     "output_type": "display_data"
    },
    {
     "name": "stderr",
     "output_type": "stream",
     "text": [
      "Could not delete output dir: /tmp/autosklearn_output_29045_2469\n",
      "Could not delete tmp dir: /tmp/autosklearn_tmp_29045_2469\n"
     ]
    },
    {
     "name": "stdout",
     "output_type": "stream",
     "text": [
      "q1_want\n",
      "Weight: 0.32, classifier: random_forest\n",
      "Weight: 0.22, classifier: random_forest\n",
      "Weight: 0.14, classifier: sgd\n",
      "Weight: 0.12, classifier: decision_tree\n",
      "Weight: 0.08, classifier: adaboost\n",
      "Weight: 0.08, classifier: ridge_regression\n",
      "Weight: 0.04, classifier: sgd\n",
      "q2_talk\n",
      "Weight: 0.22, classifier: ridge_regression\n",
      "Weight: 0.2, classifier: xgradient_boosting\n",
      "Weight: 0.16, classifier: ard_regression\n",
      "Weight: 0.14, classifier: adaboost\n",
      "Weight: 0.12, classifier: xgradient_boosting\n",
      "Weight: 0.1, classifier: liblinear_svr\n",
      "Weight: 0.02, classifier: ridge_regression\n",
      "Weight: 0.02, classifier: ridge_regression\n",
      "Weight: 0.02, classifier: libsvm_svr\n",
      "q3_loan\n",
      "Weight: 0.34, classifier: extra_trees\n",
      "Weight: 0.24, classifier: sgd\n",
      "Weight: 0.12, classifier: sgd\n",
      "Weight: 0.12, classifier: liblinear_svr\n",
      "Weight: 0.06, classifier: sgd\n",
      "Weight: 0.04, classifier: adaboost\n",
      "Weight: 0.04, classifier: liblinear_svr\n",
      "Weight: 0.02, classifier: extra_trees\n",
      "Weight: 0.02, classifier: liblinear_svr\n",
      "q4_closeness\n",
      "Weight: 0.2800000000000001, classifier: adaboost\n",
      "Weight: 0.22000000000000003, classifier: ridge_regression\n",
      "Weight: 0.12000000000000001, classifier: ard_regression\n",
      "Weight: 0.10000000000000002, classifier: sgd\n",
      "Weight: 0.08000000000000002, classifier: ridge_regression\n",
      "Weight: 0.060000000000000005, classifier: ridge_regression\n",
      "Weight: 0.060000000000000005, classifier: extra_trees\n",
      "Weight: 0.04000000000000001, classifier: adaboost\n",
      "Weight: 0.020000000000000004, classifier: extra_trees\n",
      "Weight: 0.020000000000000004, classifier: liblinear_svr\n"
     ]
    }
   ],
   "source": [
    "baseline_models = {}\n",
    "baseline_preds = {}\n",
    "\n",
    "for target in predict_targets:\n",
    "    baseline_models[target] = pickle.load(open(\"quadcorn/top_5_{}_baseline.automl\".format(target), \"rb\"))\n",
    "    baseline_preds[target] = pickle.load(open(\"quadcorn/top_5_{}_baseline.predict\".format(target), \"rb\"))\n",
    "    \n",
    "print_reg_metrics(actual_dict, baseline_preds)\n",
    "\n",
    "for target, model in baseline_models.items():\n",
    "    if target == 'q4_closeness':\n",
    "        print(target)\n",
    "        ensemble = model.get_models_with_weights()\n",
    "        print_ensemble(ensemble, is_clf=False)\n",
    "\n",
    "rf_closeness_preds.append(pred_dict['q4_closeness'])"
   ]
  },
  {
   "cell_type": "markdown",
   "metadata": {},
   "source": [
    "## Communication + age/sex"
   ]
  },
  {
   "cell_type": "code",
   "execution_count": 45,
   "metadata": {},
   "outputs": [
    {
     "data": {
      "text/html": [
       "<div>\n",
       "<style scoped>\n",
       "    .dataframe tbody tr th:only-of-type {\n",
       "        vertical-align: middle;\n",
       "    }\n",
       "\n",
       "    .dataframe tbody tr th {\n",
       "        vertical-align: top;\n",
       "    }\n",
       "\n",
       "    .dataframe thead th {\n",
       "        text-align: right;\n",
       "    }\n",
       "</style>\n",
       "<table border=\"1\" class=\"dataframe\">\n",
       "  <thead>\n",
       "    <tr style=\"text-align: right;\">\n",
       "      <th></th>\n",
       "      <th>q1_want</th>\n",
       "      <th>q2_talk</th>\n",
       "      <th>q3_loan</th>\n",
       "      <th>q4_closeness</th>\n",
       "    </tr>\n",
       "  </thead>\n",
       "  <tbody>\n",
       "    <tr>\n",
       "      <th>R^2</th>\n",
       "      <td>0.100620</td>\n",
       "      <td>0.166397</td>\n",
       "      <td>0.123118</td>\n",
       "      <td>0.253668</td>\n",
       "    </tr>\n",
       "    <tr>\n",
       "      <th>MSE</th>\n",
       "      <td>2.167995</td>\n",
       "      <td>3.092068</td>\n",
       "      <td>5.108458</td>\n",
       "      <td>2.933508</td>\n",
       "    </tr>\n",
       "  </tbody>\n",
       "</table>\n",
       "</div>"
      ],
      "text/plain": [
       "      q1_want   q2_talk   q3_loan  q4_closeness\n",
       "R^2  0.100620  0.166397  0.123118      0.253668\n",
       "MSE  2.167995  3.092068  5.108458      2.933508"
      ]
     },
     "metadata": {},
     "output_type": "display_data"
    },
    {
     "name": "stdout",
     "output_type": "stream",
     "text": [
      "q1_want\n",
      "Weight: 0.24, classifier: extra_trees\n",
      "Weight: 0.24, classifier: adaboost\n",
      "Weight: 0.24, classifier: extra_trees\n",
      "Weight: 0.16, classifier: ard_regression\n",
      "Weight: 0.1, classifier: random_forest\n",
      "Weight: 0.02, classifier: extra_trees\n",
      "q2_talk\n",
      "Weight: 0.26, classifier: ridge_regression\n",
      "Weight: 0.26, classifier: liblinear_svr\n",
      "Weight: 0.12, classifier: extra_trees\n",
      "Weight: 0.1, classifier: ridge_regression\n",
      "Weight: 0.08, classifier: extra_trees\n",
      "Weight: 0.08, classifier: k_nearest_neighbors\n",
      "Weight: 0.08, classifier: extra_trees\n",
      "Weight: 0.02, classifier: adaboost\n",
      "q3_loan\n",
      "Weight: 0.2, classifier: liblinear_svr\n",
      "Weight: 0.18, classifier: extra_trees\n",
      "Weight: 0.14, classifier: k_nearest_neighbors\n",
      "Weight: 0.12, classifier: adaboost\n",
      "Weight: 0.12, classifier: ard_regression\n",
      "Weight: 0.1, classifier: liblinear_svr\n",
      "Weight: 0.08, classifier: ard_regression\n",
      "Weight: 0.04, classifier: ard_regression\n",
      "Weight: 0.02, classifier: extra_trees\n",
      "q4_closeness\n",
      "Weight: 0.26, classifier: k_nearest_neighbors\n",
      "Weight: 0.22, classifier: ridge_regression\n",
      "Weight: 0.18, classifier: ard_regression\n",
      "Weight: 0.16, classifier: adaboost\n",
      "Weight: 0.1, classifier: ard_regression\n",
      "Weight: 0.02, classifier: extra_trees\n",
      "Weight: 0.02, classifier: extra_trees\n",
      "Weight: 0.02, classifier: ard_regression\n",
      "Weight: 0.02, classifier: ard_regression\n"
     ]
    }
   ],
   "source": [
    "age_gender_models = {}\n",
    "age_gender_preds = {}\n",
    "\n",
    "for target in predict_targets:\n",
    "    age_gender_models[target] = pickle.load(open(\"quadcorn/top_5_{}_age_gender.automl\".format(target), \"rb\"))\n",
    "    age_gender_preds[target] = pickle.load(open(\"quadcorn/top_5_{}_age_gender.predict\".format(target), \"rb\"))\n",
    "    \n",
    "print_reg_metrics(actual_dict, age_gender_preds)\n",
    "\n",
    "for target, model in age_gender_models.items():\n",
    "    print(target)\n",
    "    ensemble = model.get_models_with_weights()\n",
    "    print_ensemble(ensemble, is_clf=False)"
   ]
  },
  {
   "cell_type": "markdown",
   "metadata": {},
   "source": [
    "## Communication + demographics"
   ]
  },
  {
   "cell_type": "code",
   "execution_count": 46,
   "metadata": {},
   "outputs": [
    {
     "data": {
      "text/html": [
       "<div>\n",
       "<style scoped>\n",
       "    .dataframe tbody tr th:only-of-type {\n",
       "        vertical-align: middle;\n",
       "    }\n",
       "\n",
       "    .dataframe tbody tr th {\n",
       "        vertical-align: top;\n",
       "    }\n",
       "\n",
       "    .dataframe thead th {\n",
       "        text-align: right;\n",
       "    }\n",
       "</style>\n",
       "<table border=\"1\" class=\"dataframe\">\n",
       "  <thead>\n",
       "    <tr style=\"text-align: right;\">\n",
       "      <th></th>\n",
       "      <th>q1_want</th>\n",
       "      <th>q2_talk</th>\n",
       "      <th>q3_loan</th>\n",
       "      <th>q4_closeness</th>\n",
       "    </tr>\n",
       "  </thead>\n",
       "  <tbody>\n",
       "    <tr>\n",
       "      <th>R^2</th>\n",
       "      <td>0.057559</td>\n",
       "      <td>0.174305</td>\n",
       "      <td>0.117829</td>\n",
       "      <td>0.277606</td>\n",
       "    </tr>\n",
       "    <tr>\n",
       "      <th>MSE</th>\n",
       "      <td>2.271794</td>\n",
       "      <td>3.062735</td>\n",
       "      <td>5.139272</td>\n",
       "      <td>2.839417</td>\n",
       "    </tr>\n",
       "  </tbody>\n",
       "</table>\n",
       "</div>"
      ],
      "text/plain": [
       "      q1_want   q2_talk   q3_loan  q4_closeness\n",
       "R^2  0.057559  0.174305  0.117829      0.277606\n",
       "MSE  2.271794  3.062735  5.139272      2.839417"
      ]
     },
     "metadata": {},
     "output_type": "display_data"
    },
    {
     "name": "stdout",
     "output_type": "stream",
     "text": [
      "q1_want\n",
      "Weight: 0.3, classifier: extra_trees\n",
      "Weight: 0.3, classifier: ard_regression\n",
      "Weight: 0.22, classifier: extra_trees\n",
      "Weight: 0.08, classifier: ard_regression\n",
      "Weight: 0.04, classifier: extra_trees\n",
      "Weight: 0.02, classifier: extra_trees\n",
      "Weight: 0.02, classifier: ard_regression\n",
      "Weight: 0.02, classifier: liblinear_svr\n",
      "q2_talk\n",
      "Weight: 0.26, classifier: ridge_regression\n",
      "Weight: 0.24, classifier: extra_trees\n",
      "Weight: 0.2, classifier: sgd\n",
      "Weight: 0.2, classifier: ard_regression\n",
      "Weight: 0.06, classifier: random_forest\n",
      "Weight: 0.04, classifier: extra_trees\n",
      "q3_loan\n",
      "Weight: 0.26, classifier: ridge_regression\n",
      "Weight: 0.18, classifier: adaboost\n",
      "Weight: 0.16, classifier: liblinear_svr\n",
      "Weight: 0.1, classifier: adaboost\n",
      "Weight: 0.08, classifier: liblinear_svr\n",
      "Weight: 0.06, classifier: k_nearest_neighbors\n",
      "Weight: 0.06, classifier: adaboost\n",
      "Weight: 0.04, classifier: decision_tree\n",
      "Weight: 0.04, classifier: k_nearest_neighbors\n",
      "Weight: 0.02, classifier: ridge_regression\n",
      "q4_closeness\n",
      "Weight: 0.3, classifier: ridge_regression\n",
      "Weight: 0.28, classifier: ard_regression\n",
      "Weight: 0.16, classifier: extra_trees\n",
      "Weight: 0.1, classifier: adaboost\n",
      "Weight: 0.08, classifier: random_forest\n",
      "Weight: 0.06, classifier: ard_regression\n",
      "Weight: 0.02, classifier: extra_trees\n"
     ]
    }
   ],
   "source": [
    "demo_models = {}\n",
    "demo_preds = {}\n",
    "\n",
    "for target in predict_targets:\n",
    "    demo_models[target] = pickle.load(open(\"quadcorn/top_5_{}_demo.automl\".format(target), \"rb\"))\n",
    "    demo_preds[target] = pickle.load(open(\"quadcorn/top_5_{}_demo.predict\".format(target), \"rb\"))\n",
    "    \n",
    "print_reg_metrics(actual_dict, demo_preds)\n",
    "\n",
    "for target, model in demo_models.items():\n",
    "    print(target)\n",
    "    ensemble = model.get_models_with_weights()\n",
    "    print_ensemble(ensemble, is_clf=False)"
   ]
  },
  {
   "cell_type": "markdown",
   "metadata": {},
   "source": [
    "## Communication + location features"
   ]
  },
  {
   "cell_type": "code",
   "execution_count": 47,
   "metadata": {},
   "outputs": [
    {
     "data": {
      "text/html": [
       "<div>\n",
       "<style scoped>\n",
       "    .dataframe tbody tr th:only-of-type {\n",
       "        vertical-align: middle;\n",
       "    }\n",
       "\n",
       "    .dataframe tbody tr th {\n",
       "        vertical-align: top;\n",
       "    }\n",
       "\n",
       "    .dataframe thead th {\n",
       "        text-align: right;\n",
       "    }\n",
       "</style>\n",
       "<table border=\"1\" class=\"dataframe\">\n",
       "  <thead>\n",
       "    <tr style=\"text-align: right;\">\n",
       "      <th></th>\n",
       "      <th>q1_want</th>\n",
       "      <th>q2_talk</th>\n",
       "      <th>q3_loan</th>\n",
       "      <th>q4_closeness</th>\n",
       "    </tr>\n",
       "  </thead>\n",
       "  <tbody>\n",
       "    <tr>\n",
       "      <th>R^2</th>\n",
       "      <td>0.069003</td>\n",
       "      <td>0.186755</td>\n",
       "      <td>0.116080</td>\n",
       "      <td>0.259111</td>\n",
       "    </tr>\n",
       "    <tr>\n",
       "      <th>MSE</th>\n",
       "      <td>2.244210</td>\n",
       "      <td>3.016555</td>\n",
       "      <td>5.149463</td>\n",
       "      <td>2.912115</td>\n",
       "    </tr>\n",
       "  </tbody>\n",
       "</table>\n",
       "</div>"
      ],
      "text/plain": [
       "      q1_want   q2_talk   q3_loan  q4_closeness\n",
       "R^2  0.069003  0.186755  0.116080      0.259111\n",
       "MSE  2.244210  3.016555  5.149463      2.912115"
      ]
     },
     "metadata": {},
     "output_type": "display_data"
    },
    {
     "name": "stdout",
     "output_type": "stream",
     "text": [
      "q1_want\n",
      "Weight: 0.26, classifier: ridge_regression\n",
      "Weight: 0.24, classifier: extra_trees\n",
      "Weight: 0.1, classifier: extra_trees\n",
      "Weight: 0.1, classifier: k_nearest_neighbors\n",
      "Weight: 0.08, classifier: ard_regression\n",
      "Weight: 0.08, classifier: ridge_regression\n",
      "Weight: 0.08, classifier: libsvm_svr\n",
      "Weight: 0.06, classifier: ridge_regression\n",
      "q2_talk\n",
      "Weight: 0.32, classifier: random_forest\n",
      "Weight: 0.24, classifier: ridge_regression\n",
      "Weight: 0.14, classifier: ard_regression\n",
      "Weight: 0.12, classifier: ard_regression\n",
      "Weight: 0.1, classifier: adaboost\n",
      "Weight: 0.06, classifier: k_nearest_neighbors\n",
      "Weight: 0.02, classifier: ard_regression\n",
      "q3_loan\n",
      "Weight: 0.26, classifier: sgd\n",
      "Weight: 0.18, classifier: liblinear_svr\n",
      "Weight: 0.18, classifier: ard_regression\n",
      "Weight: 0.1, classifier: adaboost\n",
      "Weight: 0.08, classifier: adaboost\n",
      "Weight: 0.06, classifier: ard_regression\n",
      "Weight: 0.06, classifier: sgd\n",
      "Weight: 0.02, classifier: extra_trees\n",
      "Weight: 0.02, classifier: extra_trees\n",
      "Weight: 0.02, classifier: random_forest\n",
      "Weight: 0.02, classifier: k_nearest_neighbors\n",
      "q4_closeness\n",
      "Weight: 0.38, classifier: extra_trees\n",
      "Weight: 0.2, classifier: ard_regression\n",
      "Weight: 0.1, classifier: decision_tree\n",
      "Weight: 0.08, classifier: ridge_regression\n",
      "Weight: 0.08, classifier: random_forest\n",
      "Weight: 0.06, classifier: xgradient_boosting\n",
      "Weight: 0.04, classifier: adaboost\n",
      "Weight: 0.04, classifier: ridge_regression\n",
      "Weight: 0.02, classifier: liblinear_svr\n"
     ]
    }
   ],
   "source": [
    "loc_models = {}\n",
    "loc_preds = {}\n",
    "\n",
    "for target in predict_targets:\n",
    "    loc_models[target] = pickle.load(open(\"quadcorn/top_5_{}_loc.automl\".format(target), \"rb\"))\n",
    "    loc_preds[target] = pickle.load(open(\"quadcorn/top_5_{}_loc.predict\".format(target), \"rb\"))\n",
    "    \n",
    "print_reg_metrics(actual_dict, loc_preds)\n",
    "\n",
    "for target, model in loc_models.items():\n",
    "    print(target)\n",
    "    ensemble = model.get_models_with_weights()\n",
    "    print_ensemble(ensemble, is_clf=False)"
   ]
  },
  {
   "cell_type": "markdown",
   "metadata": {},
   "source": [
    "## All features"
   ]
  },
  {
   "cell_type": "code",
   "execution_count": 48,
   "metadata": {},
   "outputs": [
    {
     "data": {
      "text/html": [
       "<div>\n",
       "<style scoped>\n",
       "    .dataframe tbody tr th:only-of-type {\n",
       "        vertical-align: middle;\n",
       "    }\n",
       "\n",
       "    .dataframe tbody tr th {\n",
       "        vertical-align: top;\n",
       "    }\n",
       "\n",
       "    .dataframe thead th {\n",
       "        text-align: right;\n",
       "    }\n",
       "</style>\n",
       "<table border=\"1\" class=\"dataframe\">\n",
       "  <thead>\n",
       "    <tr style=\"text-align: right;\">\n",
       "      <th></th>\n",
       "      <th>q1_want</th>\n",
       "      <th>q2_talk</th>\n",
       "      <th>q3_loan</th>\n",
       "      <th>q4_closeness</th>\n",
       "    </tr>\n",
       "  </thead>\n",
       "  <tbody>\n",
       "    <tr>\n",
       "      <th>R^2</th>\n",
       "      <td>0.075216</td>\n",
       "      <td>0.161481</td>\n",
       "      <td>0.137403</td>\n",
       "      <td>0.277435</td>\n",
       "    </tr>\n",
       "    <tr>\n",
       "      <th>MSE</th>\n",
       "      <td>2.229232</td>\n",
       "      <td>3.110304</td>\n",
       "      <td>5.025236</td>\n",
       "      <td>2.840089</td>\n",
       "    </tr>\n",
       "  </tbody>\n",
       "</table>\n",
       "</div>"
      ],
      "text/plain": [
       "      q1_want   q2_talk   q3_loan  q4_closeness\n",
       "R^2  0.075216  0.161481  0.137403      0.277435\n",
       "MSE  2.229232  3.110304  5.025236      2.840089"
      ]
     },
     "metadata": {},
     "output_type": "display_data"
    },
    {
     "name": "stdout",
     "output_type": "stream",
     "text": [
      "q1_want\n",
      "Weight: 0.36, classifier: ard_regression\n",
      "Weight: 0.22, classifier: ard_regression\n",
      "Weight: 0.14, classifier: extra_trees\n",
      "Weight: 0.1, classifier: ard_regression\n",
      "Weight: 0.06, classifier: random_forest\n",
      "Weight: 0.06, classifier: extra_trees\n",
      "Weight: 0.04, classifier: random_forest\n",
      "Weight: 0.02, classifier: k_nearest_neighbors\n",
      "q2_talk\n",
      "Weight: 0.2, classifier: extra_trees\n",
      "Weight: 0.18, classifier: ard_regression\n",
      "Weight: 0.18, classifier: liblinear_svr\n",
      "Weight: 0.16, classifier: ard_regression\n",
      "Weight: 0.1, classifier: libsvm_svr\n",
      "Weight: 0.08, classifier: liblinear_svr\n",
      "Weight: 0.08, classifier: xgradient_boosting\n",
      "Weight: 0.02, classifier: ridge_regression\n",
      "q3_loan\n",
      "Weight: 0.18, classifier: liblinear_svr\n",
      "Weight: 0.16, classifier: ard_regression\n",
      "Weight: 0.14, classifier: random_forest\n",
      "Weight: 0.1, classifier: ard_regression\n",
      "Weight: 0.1, classifier: extra_trees\n",
      "Weight: 0.06, classifier: ard_regression\n",
      "Weight: 0.06, classifier: ard_regression\n",
      "Weight: 0.06, classifier: liblinear_svr\n",
      "Weight: 0.06, classifier: random_forest\n",
      "Weight: 0.06, classifier: ard_regression\n",
      "Weight: 0.02, classifier: extra_trees\n",
      "q4_closeness\n",
      "Weight: 0.2, classifier: adaboost\n",
      "Weight: 0.18, classifier: adaboost\n",
      "Weight: 0.16, classifier: adaboost\n",
      "Weight: 0.14, classifier: ard_regression\n",
      "Weight: 0.12, classifier: ridge_regression\n",
      "Weight: 0.06, classifier: extra_trees\n",
      "Weight: 0.06, classifier: gradient_boosting\n",
      "Weight: 0.04, classifier: extra_trees\n",
      "Weight: 0.02, classifier: adaboost\n",
      "Weight: 0.02, classifier: extra_trees\n"
     ]
    }
   ],
   "source": [
    "all_models = {}\n",
    "all_preds = {}\n",
    "\n",
    "for target in predict_targets:\n",
    "    all_models[target] = pickle.load(open(\"quadcorn/top_5_{}_all.automl\".format(target), \"rb\"))\n",
    "    all_preds[target] = pickle.load(open(\"quadcorn/top_5_{}_all.predict\".format(target), \"rb\"))\n",
    "    \n",
    "print_reg_metrics(actual_dict, all_preds)\n",
    "\n",
    "for target, model in all_models.items():\n",
    "    print(target)\n",
    "    ensemble = model.get_models_with_weights()\n",
    "    print_ensemble(ensemble, is_clf=False)"
   ]
  }
 ],
 "metadata": {
  "kernelspec": {
   "display_name": "Python 3",
   "language": "python",
   "name": "python3"
  },
  "language_info": {
   "codemirror_mode": {
    "name": "ipython",
    "version": 3
   },
   "file_extension": ".py",
   "mimetype": "text/x-python",
   "name": "python",
   "nbconvert_exporter": "python",
   "pygments_lexer": "ipython3",
   "version": "3.7.2"
  }
 },
 "nbformat": 4,
 "nbformat_minor": 2
}
