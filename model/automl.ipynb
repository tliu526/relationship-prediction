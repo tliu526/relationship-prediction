{
 "cells": [
  {
   "cell_type": "markdown",
   "metadata": {},
   "source": [
    "<h1 id=\"tocheading\">Table of Contents</h1>\n",
    "<div id=\"toc\"></div>"
   ]
  },
  {
   "cell_type": "code",
   "execution_count": 29,
   "metadata": {},
   "outputs": [
    {
     "data": {
      "application/javascript": [
       "// ToC script\n",
       "$.getScript('https://kmahelona.github.io/ipython_notebook_goodies/ipython_notebook_toc.js')\n"
      ],
      "text/plain": [
       "<IPython.core.display.Javascript object>"
      ]
     },
     "metadata": {},
     "output_type": "display_data"
    }
   ],
   "source": [
    "%%javascript\n",
    "// ToC script\n",
    "$.getScript('https://kmahelona.github.io/ipython_notebook_goodies/ipython_notebook_toc.js')"
   ]
  },
  {
   "cell_type": "code",
   "execution_count": 30,
   "metadata": {},
   "outputs": [
    {
     "data": {
      "text/html": [
       "\n",
       "<script>\n",
       "  function code_toggle() {\n",
       "    if (code_shown){\n",
       "      $('div.input').hide('500');\n",
       "      $('#toggleButton').val('Show Code')\n",
       "    } else {\n",
       "      $('div.input').show('500');\n",
       "      $('#toggleButton').val('Hide Code')\n",
       "    }\n",
       "    code_shown = !code_shown\n",
       "  }\n",
       "\n",
       "  $( document ).ready(function(){\n",
       "    code_shown=false;\n",
       "    $('div.input').hide()\n",
       "  });\n",
       "</script>\n",
       "<form action=\"javascript:code_toggle()\"><input type=\"submit\" id=\"toggleButton\" value=\"Show Code\"></form>\n"
      ],
      "text/plain": [
       "<IPython.core.display.HTML object>"
      ]
     },
     "execution_count": 30,
     "metadata": {},
     "output_type": "execute_result"
    }
   ],
   "source": [
    "# Code hider, source: http://chris-said.io/2016/02/13/how-to-make-polished-jupyter-presentations-with-optional-code-visibility/\n",
    "from IPython.display import HTML\n",
    "\n",
    "HTML('''\n",
    "<script>\n",
    "  function code_toggle() {\n",
    "    if (code_shown){\n",
    "      $('div.input').hide('500');\n",
    "      $('#toggleButton').val('Show Code')\n",
    "    } else {\n",
    "      $('div.input').show('500');\n",
    "      $('#toggleButton').val('Hide Code')\n",
    "    }\n",
    "    code_shown = !code_shown\n",
    "  }\n",
    "\n",
    "  $( document ).ready(function(){\n",
    "    code_shown=false;\n",
    "    $('div.input').hide()\n",
    "  });\n",
    "</script>\n",
    "<form action=\"javascript:code_toggle()\"><input type=\"submit\" id=\"toggleButton\" value=\"Show Code\"></form>\n",
    "''')"
   ]
  },
  {
   "cell_type": "code",
   "execution_count": 22,
   "metadata": {},
   "outputs": [],
   "source": [
    "%matplotlib inline\n",
    "\n",
    "import os\n",
    "import pickle\n",
    "\n",
    "import matplotlib.pyplot as plt\n",
    "import numpy as np\n",
    "import pandas as pd\n",
    "\n",
    "from autosklearn.classification import AutoSklearnClassifier\n",
    "from sklearn.metrics import accuracy_score, balanced_accuracy_score, confusion_matrix"
   ]
  },
  {
   "cell_type": "code",
   "execution_count": 2,
   "metadata": {
    "collapsed": true
   },
   "outputs": [
    {
     "name": "stderr",
     "output_type": "stream",
     "text": [
      "/home/tliu526/miniconda3/envs/auto-sklearn/lib/python3.7/site-packages/sklearn/base.py:251: UserWarning: Trying to unpickle estimator Imputer from version 0.19.2 when using version 0.20.2. This might lead to breaking code or invalid results. Use at your own risk.\n",
      "  UserWarning)\n",
      "/home/tliu526/miniconda3/envs/auto-sklearn/lib/python3.7/site-packages/sklearn/base.py:251: UserWarning: Trying to unpickle estimator VarianceThreshold from version 0.19.2 when using version 0.20.2. This might lead to breaking code or invalid results. Use at your own risk.\n",
      "  UserWarning)\n",
      "/home/tliu526/miniconda3/envs/auto-sklearn/lib/python3.7/site-packages/sklearn/base.py:251: UserWarning: Trying to unpickle estimator FeatureAgglomeration from version 0.19.2 when using version 0.20.2. This might lead to breaking code or invalid results. Use at your own risk.\n",
      "  UserWarning)\n",
      "/home/tliu526/miniconda3/envs/auto-sklearn/lib/python3.7/site-packages/sklearn/base.py:251: UserWarning: Trying to unpickle estimator DecisionTreeClassifier from version 0.19.2 when using version 0.20.2. This might lead to breaking code or invalid results. Use at your own risk.\n",
      "  UserWarning)\n",
      "/home/tliu526/miniconda3/envs/auto-sklearn/lib/python3.7/site-packages/sklearn/base.py:251: UserWarning: Trying to unpickle estimator AdaBoostClassifier from version 0.19.2 when using version 0.20.2. This might lead to breaking code or invalid results. Use at your own risk.\n",
      "  UserWarning)\n",
      "/home/tliu526/miniconda3/envs/auto-sklearn/lib/python3.7/site-packages/sklearn/base.py:251: UserWarning: Trying to unpickle estimator Normalizer from version 0.19.2 when using version 0.20.2. This might lead to breaking code or invalid results. Use at your own risk.\n",
      "  UserWarning)\n",
      "/home/tliu526/miniconda3/envs/auto-sklearn/lib/python3.7/site-packages/sklearn/base.py:251: UserWarning: Trying to unpickle estimator DecisionTreeRegressor from version 0.19.2 when using version 0.20.2. This might lead to breaking code or invalid results. Use at your own risk.\n",
      "  UserWarning)\n",
      "/home/tliu526/miniconda3/envs/auto-sklearn/lib/python3.7/site-packages/sklearn/base.py:251: UserWarning: Trying to unpickle estimator GradientBoostingClassifier from version 0.19.2 when using version 0.20.2. This might lead to breaking code or invalid results. Use at your own risk.\n",
      "  UserWarning)\n",
      "/home/tliu526/miniconda3/envs/auto-sklearn/lib/python3.7/site-packages/sklearn/base.py:251: UserWarning: Trying to unpickle estimator RobustScaler from version 0.19.2 when using version 0.20.2. This might lead to breaking code or invalid results. Use at your own risk.\n",
      "  UserWarning)\n",
      "/home/tliu526/miniconda3/envs/auto-sklearn/lib/python3.7/site-packages/sklearn/base.py:251: UserWarning: Trying to unpickle estimator QuantileTransformer from version 0.19.2 when using version 0.20.2. This might lead to breaking code or invalid results. Use at your own risk.\n",
      "  UserWarning)\n",
      "/home/tliu526/miniconda3/envs/auto-sklearn/lib/python3.7/site-packages/sklearn/base.py:251: UserWarning: Trying to unpickle estimator MinMaxScaler from version 0.19.2 when using version 0.20.2. This might lead to breaking code or invalid results. Use at your own risk.\n",
      "  UserWarning)\n",
      "/home/tliu526/miniconda3/envs/auto-sklearn/lib/python3.7/site-packages/sklearn/base.py:251: UserWarning: Trying to unpickle estimator GenericUnivariateSelect from version 0.19.2 when using version 0.20.2. This might lead to breaking code or invalid results. Use at your own risk.\n",
      "  UserWarning)\n",
      "/home/tliu526/miniconda3/envs/auto-sklearn/lib/python3.7/site-packages/sklearn/base.py:251: UserWarning: Trying to unpickle estimator StandardScaler from version 0.19.2 when using version 0.20.2. This might lead to breaking code or invalid results. Use at your own risk.\n",
      "  UserWarning)\n",
      "/home/tliu526/miniconda3/envs/auto-sklearn/lib/python3.7/site-packages/sklearn/base.py:251: UserWarning: Trying to unpickle estimator PCA from version 0.19.2 when using version 0.20.2. This might lead to breaking code or invalid results. Use at your own risk.\n",
      "  UserWarning)\n",
      "/home/tliu526/miniconda3/envs/auto-sklearn/lib/python3.7/site-packages/sklearn/base.py:251: UserWarning: Trying to unpickle estimator LinearSVC from version 0.19.2 when using version 0.20.2. This might lead to breaking code or invalid results. Use at your own risk.\n",
      "  UserWarning)\n",
      "/home/tliu526/miniconda3/envs/auto-sklearn/lib/python3.7/site-packages/sklearn/base.py:251: UserWarning: Trying to unpickle estimator SelectPercentile from version 0.19.2 when using version 0.20.2. This might lead to breaking code or invalid results. Use at your own risk.\n",
      "  UserWarning)\n",
      "/home/tliu526/miniconda3/envs/auto-sklearn/lib/python3.7/site-packages/sklearn/base.py:251: UserWarning: Trying to unpickle estimator ExtraTreeRegressor from version 0.19.2 when using version 0.20.2. This might lead to breaking code or invalid results. Use at your own risk.\n",
      "  UserWarning)\n",
      "/home/tliu526/miniconda3/envs/auto-sklearn/lib/python3.7/site-packages/sklearn/base.py:251: UserWarning: Trying to unpickle estimator OneHotEncoder from version 0.19.2 when using version 0.20.2. This might lead to breaking code or invalid results. Use at your own risk.\n",
      "  UserWarning)\n",
      "/home/tliu526/miniconda3/envs/auto-sklearn/lib/python3.7/site-packages/sklearn/base.py:251: UserWarning: Trying to unpickle estimator RandomTreesEmbedding from version 0.19.2 when using version 0.20.2. This might lead to breaking code or invalid results. Use at your own risk.\n",
      "  UserWarning)\n",
      "/home/tliu526/miniconda3/envs/auto-sklearn/lib/python3.7/site-packages/sklearn/base.py:251: UserWarning: Trying to unpickle estimator PassiveAggressiveClassifier from version 0.19.2 when using version 0.20.2. This might lead to breaking code or invalid results. Use at your own risk.\n",
      "  UserWarning)\n",
      "/home/tliu526/miniconda3/envs/auto-sklearn/lib/python3.7/site-packages/sklearn/base.py:251: UserWarning: Trying to unpickle estimator ExtraTreeClassifier from version 0.19.2 when using version 0.20.2. This might lead to breaking code or invalid results. Use at your own risk.\n",
      "  UserWarning)\n",
      "/home/tliu526/miniconda3/envs/auto-sklearn/lib/python3.7/site-packages/sklearn/base.py:251: UserWarning: Trying to unpickle estimator ExtraTreesClassifier from version 0.19.2 when using version 0.20.2. This might lead to breaking code or invalid results. Use at your own risk.\n",
      "  UserWarning)\n",
      "/home/tliu526/miniconda3/envs/auto-sklearn/lib/python3.7/site-packages/sklearn/base.py:251: UserWarning: Trying to unpickle estimator SelectFromModel from version 0.19.2 when using version 0.20.2. This might lead to breaking code or invalid results. Use at your own risk.\n",
      "  UserWarning)\n",
      "/home/tliu526/miniconda3/envs/auto-sklearn/lib/python3.7/site-packages/sklearn/base.py:251: UserWarning: Trying to unpickle estimator RandomForestClassifier from version 0.19.2 when using version 0.20.2. This might lead to breaking code or invalid results. Use at your own risk.\n",
      "  UserWarning)\n",
      "/home/tliu526/miniconda3/envs/auto-sklearn/lib/python3.7/site-packages/sklearn/base.py:251: UserWarning: Trying to unpickle estimator RBFSampler from version 0.19.2 when using version 0.20.2. This might lead to breaking code or invalid results. Use at your own risk.\n",
      "  UserWarning)\n",
      "/home/tliu526/miniconda3/envs/auto-sklearn/lib/python3.7/site-packages/sklearn/base.py:251: UserWarning: Trying to unpickle estimator PolynomialFeatures from version 0.19.2 when using version 0.20.2. This might lead to breaking code or invalid results. Use at your own risk.\n",
      "  UserWarning)\n",
      "/home/tliu526/miniconda3/envs/auto-sklearn/lib/python3.7/site-packages/sklearn/base.py:251: UserWarning: Trying to unpickle estimator SVC from version 0.19.2 when using version 0.20.2. This might lead to breaking code or invalid results. Use at your own risk.\n",
      "  UserWarning)\n",
      "/home/tliu526/miniconda3/envs/auto-sklearn/lib/python3.7/site-packages/sklearn/base.py:251: UserWarning: Trying to unpickle estimator QuadraticDiscriminantAnalysis from version 0.19.2 when using version 0.20.2. This might lead to breaking code or invalid results. Use at your own risk.\n",
      "  UserWarning)\n",
      "/home/tliu526/miniconda3/envs/auto-sklearn/lib/python3.7/site-packages/sklearn/base.py:251: UserWarning: Trying to unpickle estimator GaussianNB from version 0.19.2 when using version 0.20.2. This might lead to breaking code or invalid results. Use at your own risk.\n",
      "  UserWarning)\n"
     ]
    },
    {
     "name": "stderr",
     "output_type": "stream",
     "text": [
      "/home/tliu526/miniconda3/envs/auto-sklearn/lib/python3.7/site-packages/sklearn/base.py:251: UserWarning: Trying to unpickle estimator FastICA from version 0.19.2 when using version 0.20.2. This might lead to breaking code or invalid results. Use at your own risk.\n",
      "  UserWarning)\n",
      "/home/tliu526/miniconda3/envs/auto-sklearn/lib/python3.7/site-packages/sklearn/base.py:251: UserWarning: Trying to unpickle estimator SGDClassifier from version 0.19.2 when using version 0.20.2. This might lead to breaking code or invalid results. Use at your own risk.\n",
      "  UserWarning)\n",
      "/home/tliu526/miniconda3/envs/auto-sklearn/lib/python3.7/site-packages/sklearn/base.py:251: UserWarning: Trying to unpickle estimator LinearDiscriminantAnalysis from version 0.19.2 when using version 0.20.2. This might lead to breaking code or invalid results. Use at your own risk.\n",
      "  UserWarning)\n",
      "/home/tliu526/miniconda3/envs/auto-sklearn/lib/python3.7/site-packages/sklearn/base.py:251: UserWarning: Trying to unpickle estimator Nystroem from version 0.19.2 when using version 0.20.2. This might lead to breaking code or invalid results. Use at your own risk.\n",
      "  UserWarning)\n"
     ]
    }
   ],
   "source": [
    "# load models and data\n",
    "top_5_model = pickle.load(open(\"bleen/top_5_best_model_final.automl\", \"rb\"))\n",
    "top_10_model = pickle.load(open(\"bleen/top_10_best_model_final.automl\", \"rb\"))\n",
    "\n",
    "top_5_train = pickle.load(open('../data/top_5_train_features.df', 'rb'))\n",
    "top_5_test =  pickle.load(open('../data/top_5_test_features.df', 'rb'))\n",
    "\n",
    "top_10_train = pickle.load(open('../data/train_features.df', 'rb'))\n",
    "top_10_test =  pickle.load(open('../data/test_features.df', 'rb'))\n",
    "\n",
    "replace_dict = {\n",
    "    'contact_type': {\n",
    "        \"work\": 0,\n",
    "        \"friend\": 1,\n",
    "        \"task\": 2,\n",
    "        \"family_live_separate\": 3,\n",
    "        \"family_live_together\": 4,\n",
    "#        \"other\": 5,\n",
    "        \"sig_other\": 6\n",
    "    }\n",
    "}\n",
    "\n",
    "contact_types = list(replace_dict['contact_type'].keys())"
   ]
  },
  {
   "cell_type": "markdown",
   "metadata": {},
   "source": [
    "# Top 5 contacts model"
   ]
  },
  {
   "cell_type": "code",
   "execution_count": 26,
   "metadata": {},
   "outputs": [],
   "source": [
    "train_data = top_5_train.replace(replace_dict)\n",
    "test_data = top_5_test.replace(replace_dict)\n",
    "\n",
    "train_y = train_data['contact_type']\n",
    "train_X = train_data.drop(['contact_type', 'pid', 'combined_hash'], axis=1)\n",
    "test_y = test_data['contact_type']\n",
    "test_X = test_data.drop(['contact_type', 'pid', 'combined_hash'], axis=1)"
   ]
  },
  {
   "cell_type": "code",
   "execution_count": null,
   "metadata": {},
   "outputs": [],
   "source": [
    "top_5_model.refit(train_X, train_y)"
   ]
  },
  {
   "cell_type": "markdown",
   "metadata": {},
   "source": [
    "## Base results"
   ]
  },
  {
   "cell_type": "code",
   "execution_count": 28,
   "metadata": {
    "scrolled": true
   },
   "outputs": [
    {
     "name": "stdout",
     "output_type": "stream",
     "text": [
      "Accuracy: 0.40476190476190477\n",
      "Balanced accuracy: 0.32181938750296263\n"
     ]
    },
    {
     "data": {
      "text/html": [
       "<div>\n",
       "<style scoped>\n",
       "    .dataframe tbody tr th:only-of-type {\n",
       "        vertical-align: middle;\n",
       "    }\n",
       "\n",
       "    .dataframe tbody tr th {\n",
       "        vertical-align: top;\n",
       "    }\n",
       "\n",
       "    .dataframe thead th {\n",
       "        text-align: right;\n",
       "    }\n",
       "</style>\n",
       "<table border=\"1\" class=\"dataframe\">\n",
       "  <thead>\n",
       "    <tr style=\"text-align: right;\">\n",
       "      <th></th>\n",
       "      <th>p_work</th>\n",
       "      <th>p_friend</th>\n",
       "      <th>p_task</th>\n",
       "      <th>p_family_live_separate</th>\n",
       "      <th>p_family_live_together</th>\n",
       "      <th>p_sig_other</th>\n",
       "    </tr>\n",
       "  </thead>\n",
       "  <tbody>\n",
       "    <tr>\n",
       "      <th>work</th>\n",
       "      <td>0</td>\n",
       "      <td>7</td>\n",
       "      <td>0</td>\n",
       "      <td>7</td>\n",
       "      <td>1</td>\n",
       "      <td>1</td>\n",
       "    </tr>\n",
       "    <tr>\n",
       "      <th>friend</th>\n",
       "      <td>1</td>\n",
       "      <td>46</td>\n",
       "      <td>2</td>\n",
       "      <td>19</td>\n",
       "      <td>0</td>\n",
       "      <td>3</td>\n",
       "    </tr>\n",
       "    <tr>\n",
       "      <th>task</th>\n",
       "      <td>1</td>\n",
       "      <td>3</td>\n",
       "      <td>11</td>\n",
       "      <td>3</td>\n",
       "      <td>0</td>\n",
       "      <td>1</td>\n",
       "    </tr>\n",
       "    <tr>\n",
       "      <th>family_live_separate</th>\n",
       "      <td>0</td>\n",
       "      <td>23</td>\n",
       "      <td>1</td>\n",
       "      <td>17</td>\n",
       "      <td>4</td>\n",
       "      <td>4</td>\n",
       "    </tr>\n",
       "    <tr>\n",
       "      <th>family_live_together</th>\n",
       "      <td>0</td>\n",
       "      <td>5</td>\n",
       "      <td>0</td>\n",
       "      <td>8</td>\n",
       "      <td>2</td>\n",
       "      <td>5</td>\n",
       "    </tr>\n",
       "    <tr>\n",
       "      <th>sig_other</th>\n",
       "      <td>0</td>\n",
       "      <td>12</td>\n",
       "      <td>0</td>\n",
       "      <td>13</td>\n",
       "      <td>1</td>\n",
       "      <td>9</td>\n",
       "    </tr>\n",
       "  </tbody>\n",
       "</table>\n",
       "</div>"
      ],
      "text/plain": [
       "                      p_work  p_friend  p_task  p_family_live_separate  \\\n",
       "work                       0         7       0                       7   \n",
       "friend                     1        46       2                      19   \n",
       "task                       1         3      11                       3   \n",
       "family_live_separate       0        23       1                      17   \n",
       "family_live_together       0         5       0                       8   \n",
       "sig_other                  0        12       0                      13   \n",
       "\n",
       "                      p_family_live_together  p_sig_other  \n",
       "work                                       1            1  \n",
       "friend                                     0            3  \n",
       "task                                       0            1  \n",
       "family_live_separate                       4            4  \n",
       "family_live_together                       2            5  \n",
       "sig_other                                  1            9  "
      ]
     },
     "metadata": {},
     "output_type": "display_data"
    }
   ],
   "source": [
    "predictions = top_5_model.predict(test_X)\n",
    "print(\"Accuracy:\", accuracy_score(test_y, predictions))\n",
    "print(\"Balanced accuracy:\", balanced_accuracy_score(test_y, predictions))\n",
    "\n",
    "# rows are truth, columns are predicted\n",
    "top_5_confusion_mat = confusion_matrix(test_y, predictions)\n",
    "top_5_confuse_df = pd.DataFrame(top_5_confusion_mat, index=contact_types, columns=[\"p_\" + x for x in contact_types])\n",
    "display(top_5_confuse_df)"
   ]
  },
  {
   "cell_type": "markdown",
   "metadata": {},
   "source": [
    "## Resample results"
   ]
  },
  {
   "cell_type": "code",
   "execution_count": 13,
   "metadata": {
    "collapsed": true
   },
   "outputs": [
    {
     "name": "stderr",
     "output_type": "stream",
     "text": [
      "/home/tliu526/miniconda3/envs/auto-sklearn/lib/python3.7/site-packages/sklearn/base.py:251: UserWarning: Trying to unpickle estimator Imputer from version 0.20.0 when using version 0.20.2. This might lead to breaking code or invalid results. Use at your own risk.\n",
      "  UserWarning)\n",
      "/home/tliu526/miniconda3/envs/auto-sklearn/lib/python3.7/site-packages/sklearn/base.py:251: UserWarning: Trying to unpickle estimator VarianceThreshold from version 0.20.0 when using version 0.20.2. This might lead to breaking code or invalid results. Use at your own risk.\n",
      "  UserWarning)\n",
      "/home/tliu526/miniconda3/envs/auto-sklearn/lib/python3.7/site-packages/sklearn/base.py:251: UserWarning: Trying to unpickle estimator QuantileTransformer from version 0.20.0 when using version 0.20.2. This might lead to breaking code or invalid results. Use at your own risk.\n",
      "  UserWarning)\n",
      "/home/tliu526/miniconda3/envs/auto-sklearn/lib/python3.7/site-packages/sklearn/base.py:251: UserWarning: Trying to unpickle estimator LinearSVC from version 0.20.0 when using version 0.20.2. This might lead to breaking code or invalid results. Use at your own risk.\n",
      "  UserWarning)\n",
      "/home/tliu526/miniconda3/envs/auto-sklearn/lib/python3.7/site-packages/sklearn/base.py:251: UserWarning: Trying to unpickle estimator SelectFromModel from version 0.20.0 when using version 0.20.2. This might lead to breaking code or invalid results. Use at your own risk.\n",
      "  UserWarning)\n",
      "/home/tliu526/miniconda3/envs/auto-sklearn/lib/python3.7/site-packages/sklearn/base.py:251: UserWarning: Trying to unpickle estimator DecisionTreeRegressor from version 0.20.0 when using version 0.20.2. This might lead to breaking code or invalid results. Use at your own risk.\n",
      "  UserWarning)\n",
      "/home/tliu526/miniconda3/envs/auto-sklearn/lib/python3.7/site-packages/sklearn/base.py:251: UserWarning: Trying to unpickle estimator GradientBoostingClassifier from version 0.20.0 when using version 0.20.2. This might lead to breaking code or invalid results. Use at your own risk.\n",
      "  UserWarning)\n",
      "/home/tliu526/miniconda3/envs/auto-sklearn/lib/python3.7/site-packages/sklearn/base.py:251: UserWarning: Trying to unpickle estimator StandardScaler from version 0.20.0 when using version 0.20.2. This might lead to breaking code or invalid results. Use at your own risk.\n",
      "  UserWarning)\n",
      "/home/tliu526/miniconda3/envs/auto-sklearn/lib/python3.7/site-packages/sklearn/base.py:251: UserWarning: Trying to unpickle estimator PolynomialFeatures from version 0.20.0 when using version 0.20.2. This might lead to breaking code or invalid results. Use at your own risk.\n",
      "  UserWarning)\n",
      "/home/tliu526/miniconda3/envs/auto-sklearn/lib/python3.7/site-packages/sklearn/base.py:251: UserWarning: Trying to unpickle estimator GenericUnivariateSelect from version 0.20.0 when using version 0.20.2. This might lead to breaking code or invalid results. Use at your own risk.\n",
      "  UserWarning)\n",
      "/home/tliu526/miniconda3/envs/auto-sklearn/lib/python3.7/site-packages/sklearn/base.py:251: UserWarning: Trying to unpickle estimator RobustScaler from version 0.20.0 when using version 0.20.2. This might lead to breaking code or invalid results. Use at your own risk.\n",
      "  UserWarning)\n",
      "/home/tliu526/miniconda3/envs/auto-sklearn/lib/python3.7/site-packages/sklearn/base.py:251: UserWarning: Trying to unpickle estimator Normalizer from version 0.20.0 when using version 0.20.2. This might lead to breaking code or invalid results. Use at your own risk.\n",
      "  UserWarning)\n",
      "/home/tliu526/miniconda3/envs/auto-sklearn/lib/python3.7/site-packages/sklearn/base.py:251: UserWarning: Trying to unpickle estimator RBFSampler from version 0.20.0 when using version 0.20.2. This might lead to breaking code or invalid results. Use at your own risk.\n",
      "  UserWarning)\n",
      "/home/tliu526/miniconda3/envs/auto-sklearn/lib/python3.7/site-packages/sklearn/base.py:251: UserWarning: Trying to unpickle estimator MinMaxScaler from version 0.20.0 when using version 0.20.2. This might lead to breaking code or invalid results. Use at your own risk.\n",
      "  UserWarning)\n",
      "/home/tliu526/miniconda3/envs/auto-sklearn/lib/python3.7/site-packages/sklearn/base.py:251: UserWarning: Trying to unpickle estimator ExtraTreeClassifier from version 0.20.0 when using version 0.20.2. This might lead to breaking code or invalid results. Use at your own risk.\n",
      "  UserWarning)\n",
      "/home/tliu526/miniconda3/envs/auto-sklearn/lib/python3.7/site-packages/sklearn/base.py:251: UserWarning: Trying to unpickle estimator ExtraTreesClassifier from version 0.20.0 when using version 0.20.2. This might lead to breaking code or invalid results. Use at your own risk.\n",
      "  UserWarning)\n",
      "/home/tliu526/miniconda3/envs/auto-sklearn/lib/python3.7/site-packages/sklearn/base.py:251: UserWarning: Trying to unpickle estimator SVC from version 0.20.0 when using version 0.20.2. This might lead to breaking code or invalid results. Use at your own risk.\n",
      "  UserWarning)\n",
      "/home/tliu526/miniconda3/envs/auto-sklearn/lib/python3.7/site-packages/sklearn/base.py:251: UserWarning: Trying to unpickle estimator DecisionTreeClassifier from version 0.20.0 when using version 0.20.2. This might lead to breaking code or invalid results. Use at your own risk.\n",
      "  UserWarning)\n",
      "/home/tliu526/miniconda3/envs/auto-sklearn/lib/python3.7/site-packages/sklearn/base.py:251: UserWarning: Trying to unpickle estimator RandomForestClassifier from version 0.20.0 when using version 0.20.2. This might lead to breaking code or invalid results. Use at your own risk.\n",
      "  UserWarning)\n",
      "/home/tliu526/miniconda3/envs/auto-sklearn/lib/python3.7/site-packages/sklearn/base.py:251: UserWarning: Trying to unpickle estimator FastICA from version 0.20.0 when using version 0.20.2. This might lead to breaking code or invalid results. Use at your own risk.\n",
      "  UserWarning)\n",
      "/home/tliu526/miniconda3/envs/auto-sklearn/lib/python3.7/site-packages/sklearn/base.py:251: UserWarning: Trying to unpickle estimator LinearDiscriminantAnalysis from version 0.20.0 when using version 0.20.2. This might lead to breaking code or invalid results. Use at your own risk.\n",
      "  UserWarning)\n",
      "/home/tliu526/miniconda3/envs/auto-sklearn/lib/python3.7/site-packages/sklearn/base.py:251: UserWarning: Trying to unpickle estimator SelectPercentile from version 0.20.0 when using version 0.20.2. This might lead to breaking code or invalid results. Use at your own risk.\n",
      "  UserWarning)\n",
      "/home/tliu526/miniconda3/envs/auto-sklearn/lib/python3.7/site-packages/sklearn/base.py:251: UserWarning: Trying to unpickle estimator ExtraTreeRegressor from version 0.20.0 when using version 0.20.2. This might lead to breaking code or invalid results. Use at your own risk.\n",
      "  UserWarning)\n",
      "/home/tliu526/miniconda3/envs/auto-sklearn/lib/python3.7/site-packages/sklearn/base.py:251: UserWarning: Trying to unpickle estimator OneHotEncoder from version 0.20.0 when using version 0.20.2. This might lead to breaking code or invalid results. Use at your own risk.\n",
      "  UserWarning)\n",
      "/home/tliu526/miniconda3/envs/auto-sklearn/lib/python3.7/site-packages/sklearn/base.py:251: UserWarning: Trying to unpickle estimator RandomTreesEmbedding from version 0.20.0 when using version 0.20.2. This might lead to breaking code or invalid results. Use at your own risk.\n",
      "  UserWarning)\n",
      "/home/tliu526/miniconda3/envs/auto-sklearn/lib/python3.7/site-packages/sklearn/base.py:251: UserWarning: Trying to unpickle estimator Nystroem from version 0.20.0 when using version 0.20.2. This might lead to breaking code or invalid results. Use at your own risk.\n",
      "  UserWarning)\n",
      "/home/tliu526/miniconda3/envs/auto-sklearn/lib/python3.7/site-packages/sklearn/base.py:251: UserWarning: Trying to unpickle estimator PassiveAggressiveClassifier from version 0.20.0 when using version 0.20.2. This might lead to breaking code or invalid results. Use at your own risk.\n",
      "  UserWarning)\n",
      "/home/tliu526/miniconda3/envs/auto-sklearn/lib/python3.7/site-packages/sklearn/base.py:251: UserWarning: Trying to unpickle estimator FeatureAgglomeration from version 0.20.0 when using version 0.20.2. This might lead to breaking code or invalid results. Use at your own risk.\n",
      "  UserWarning)\n",
      "/home/tliu526/miniconda3/envs/auto-sklearn/lib/python3.7/site-packages/sklearn/base.py:251: UserWarning: Trying to unpickle estimator KNeighborsClassifier from version 0.20.0 when using version 0.20.2. This might lead to breaking code or invalid results. Use at your own risk.\n",
      "  UserWarning)\n",
      "/home/tliu526/miniconda3/envs/auto-sklearn/lib/python3.7/site-packages/sklearn/base.py:251: UserWarning: Trying to unpickle estimator SGDClassifier from version 0.20.0 when using version 0.20.2. This might lead to breaking code or invalid results. Use at your own risk.\n",
      "  UserWarning)\n"
     ]
    },
    {
     "data": {
      "text/plain": [
       "AutoSklearnClassifier(delete_output_folder_after_terminate=True,\n",
       "           delete_tmp_folder_after_terminate=True,\n",
       "           disable_evaluator_output=False, ensemble_memory_limit=1024,\n",
       "           ensemble_nbest=50, ensemble_size=50, exclude_estimators=None,\n",
       "           exclude_preprocessors=None, get_smac_object_callback=None,\n",
       "           include_estimators=None, include_preprocessors=None,\n",
       "           initial_configurations_via_metalearning=25, logging_config=None,\n",
       "           ml_memory_limit=3072, output_folder=None,\n",
       "           per_run_time_limit=360, resampling_strategy='holdout',\n",
       "           resampling_strategy_arguments=None, seed=2, shared_mode=False,\n",
       "           smac_scenario_args=None, time_left_for_this_task=3600,\n",
       "           tmp_folder=None)"
      ]
     },
     "execution_count": 13,
     "metadata": {},
     "output_type": "execute_result"
    }
   ],
   "source": [
    "top_5_model_res = pickle.load(open(\"bleen/top_5_oversample.automl\", \"rb\"))\n",
    "top_5_model_res.refit(train_X, train_y)"
   ]
  },
  {
   "cell_type": "code",
   "execution_count": 27,
   "metadata": {},
   "outputs": [
    {
     "name": "stdout",
     "output_type": "stream",
     "text": [
      "Accuracy: 0.4238095238095238\n",
      "Balanced accuracy: 0.38041885397598624\n"
     ]
    },
    {
     "data": {
      "text/html": [
       "<div>\n",
       "<style scoped>\n",
       "    .dataframe tbody tr th:only-of-type {\n",
       "        vertical-align: middle;\n",
       "    }\n",
       "\n",
       "    .dataframe tbody tr th {\n",
       "        vertical-align: top;\n",
       "    }\n",
       "\n",
       "    .dataframe thead th {\n",
       "        text-align: right;\n",
       "    }\n",
       "</style>\n",
       "<table border=\"1\" class=\"dataframe\">\n",
       "  <thead>\n",
       "    <tr style=\"text-align: right;\">\n",
       "      <th></th>\n",
       "      <th>p_work</th>\n",
       "      <th>p_friend</th>\n",
       "      <th>p_task</th>\n",
       "      <th>p_family_live_separate</th>\n",
       "      <th>p_family_live_together</th>\n",
       "      <th>p_sig_other</th>\n",
       "    </tr>\n",
       "  </thead>\n",
       "  <tbody>\n",
       "    <tr>\n",
       "      <th>work</th>\n",
       "      <td>4</td>\n",
       "      <td>5</td>\n",
       "      <td>1</td>\n",
       "      <td>6</td>\n",
       "      <td>0</td>\n",
       "      <td>0</td>\n",
       "    </tr>\n",
       "    <tr>\n",
       "      <th>friend</th>\n",
       "      <td>1</td>\n",
       "      <td>41</td>\n",
       "      <td>2</td>\n",
       "      <td>25</td>\n",
       "      <td>1</td>\n",
       "      <td>1</td>\n",
       "    </tr>\n",
       "    <tr>\n",
       "      <th>task</th>\n",
       "      <td>1</td>\n",
       "      <td>3</td>\n",
       "      <td>12</td>\n",
       "      <td>2</td>\n",
       "      <td>0</td>\n",
       "      <td>1</td>\n",
       "    </tr>\n",
       "    <tr>\n",
       "      <th>family_live_separate</th>\n",
       "      <td>0</td>\n",
       "      <td>24</td>\n",
       "      <td>1</td>\n",
       "      <td>19</td>\n",
       "      <td>3</td>\n",
       "      <td>2</td>\n",
       "    </tr>\n",
       "    <tr>\n",
       "      <th>family_live_together</th>\n",
       "      <td>0</td>\n",
       "      <td>4</td>\n",
       "      <td>0</td>\n",
       "      <td>11</td>\n",
       "      <td>3</td>\n",
       "      <td>2</td>\n",
       "    </tr>\n",
       "    <tr>\n",
       "      <th>sig_other</th>\n",
       "      <td>0</td>\n",
       "      <td>11</td>\n",
       "      <td>1</td>\n",
       "      <td>11</td>\n",
       "      <td>2</td>\n",
       "      <td>10</td>\n",
       "    </tr>\n",
       "  </tbody>\n",
       "</table>\n",
       "</div>"
      ],
      "text/plain": [
       "                      p_work  p_friend  p_task  p_family_live_separate  \\\n",
       "work                       4         5       1                       6   \n",
       "friend                     1        41       2                      25   \n",
       "task                       1         3      12                       2   \n",
       "family_live_separate       0        24       1                      19   \n",
       "family_live_together       0         4       0                      11   \n",
       "sig_other                  0        11       1                      11   \n",
       "\n",
       "                      p_family_live_together  p_sig_other  \n",
       "work                                       0            0  \n",
       "friend                                     1            1  \n",
       "task                                       0            1  \n",
       "family_live_separate                       3            2  \n",
       "family_live_together                       3            2  \n",
       "sig_other                                  2           10  "
      ]
     },
     "metadata": {},
     "output_type": "display_data"
    }
   ],
   "source": [
    "predictions = top_5_model_res.predict(test_X)\n",
    "print(\"Accuracy:\", accuracy_score(test_y, predictions))\n",
    "print(\"Balanced accuracy:\", balanced_accuracy_score(test_y, predictions))\n",
    "\n",
    "# rows are truth, columns are predicted\n",
    "top_5_confusion_mat = confusion_matrix(test_y, predictions)\n",
    "top_5_confuse_df = pd.DataFrame(top_5_confusion_mat, index=contact_types, columns=[\"p_\" + x for x in contact_types])\n",
    "display(top_5_confuse_df)"
   ]
  },
  {
   "cell_type": "markdown",
   "metadata": {},
   "source": [
    "# Top 10 contacts model"
   ]
  },
  {
   "cell_type": "code",
   "execution_count": null,
   "metadata": {
    "scrolled": true
   },
   "outputs": [],
   "source": [
    "train_data = top_10_train.replace(replace_dict)\n",
    "test_data = top_10_test.replace(replace_dict)\n",
    "\n",
    "train_y = train_data['contact_type']\n",
    "train_X = train_data.drop(['contact_type', 'pid', 'combined_hash'], axis=1)\n",
    "test_y = test_data['contact_type']\n",
    "test_X = test_data.drop(['contact_type', 'pid', 'combined_hash'], axis=1)\n",
    "\n",
    "top_10_model.refit(train_X, train_y)"
   ]
  },
  {
   "cell_type": "markdown",
   "metadata": {},
   "source": [
    "## Base results"
   ]
  },
  {
   "cell_type": "code",
   "execution_count": 25,
   "metadata": {},
   "outputs": [
    {
     "name": "stdout",
     "output_type": "stream",
     "text": [
      "Accuracy: 0.44285714285714284\n",
      "Balanced accuracy: 0.35409502146143373\n"
     ]
    },
    {
     "data": {
      "text/html": [
       "<div>\n",
       "<style scoped>\n",
       "    .dataframe tbody tr th:only-of-type {\n",
       "        vertical-align: middle;\n",
       "    }\n",
       "\n",
       "    .dataframe tbody tr th {\n",
       "        vertical-align: top;\n",
       "    }\n",
       "\n",
       "    .dataframe thead th {\n",
       "        text-align: right;\n",
       "    }\n",
       "</style>\n",
       "<table border=\"1\" class=\"dataframe\">\n",
       "  <thead>\n",
       "    <tr style=\"text-align: right;\">\n",
       "      <th></th>\n",
       "      <th>p_work</th>\n",
       "      <th>p_friend</th>\n",
       "      <th>p_task</th>\n",
       "      <th>p_family_live_separate</th>\n",
       "      <th>p_family_live_together</th>\n",
       "      <th>p_sig_other</th>\n",
       "    </tr>\n",
       "  </thead>\n",
       "  <tbody>\n",
       "    <tr>\n",
       "      <th>work</th>\n",
       "      <td>5</td>\n",
       "      <td>29</td>\n",
       "      <td>4</td>\n",
       "      <td>2</td>\n",
       "      <td>1</td>\n",
       "      <td>3</td>\n",
       "    </tr>\n",
       "    <tr>\n",
       "      <th>friend</th>\n",
       "      <td>2</td>\n",
       "      <td>93</td>\n",
       "      <td>7</td>\n",
       "      <td>25</td>\n",
       "      <td>2</td>\n",
       "      <td>2</td>\n",
       "    </tr>\n",
       "    <tr>\n",
       "      <th>task</th>\n",
       "      <td>2</td>\n",
       "      <td>15</td>\n",
       "      <td>44</td>\n",
       "      <td>2</td>\n",
       "      <td>0</td>\n",
       "      <td>0</td>\n",
       "    </tr>\n",
       "    <tr>\n",
       "      <th>family_live_separate</th>\n",
       "      <td>0</td>\n",
       "      <td>53</td>\n",
       "      <td>11</td>\n",
       "      <td>32</td>\n",
       "      <td>9</td>\n",
       "      <td>5</td>\n",
       "    </tr>\n",
       "    <tr>\n",
       "      <th>family_live_together</th>\n",
       "      <td>0</td>\n",
       "      <td>7</td>\n",
       "      <td>1</td>\n",
       "      <td>13</td>\n",
       "      <td>3</td>\n",
       "      <td>4</td>\n",
       "    </tr>\n",
       "    <tr>\n",
       "      <th>sig_other</th>\n",
       "      <td>0</td>\n",
       "      <td>15</td>\n",
       "      <td>4</td>\n",
       "      <td>12</td>\n",
       "      <td>4</td>\n",
       "      <td>9</td>\n",
       "    </tr>\n",
       "  </tbody>\n",
       "</table>\n",
       "</div>"
      ],
      "text/plain": [
       "                      p_work  p_friend  p_task  p_family_live_separate  \\\n",
       "work                       5        29       4                       2   \n",
       "friend                     2        93       7                      25   \n",
       "task                       2        15      44                       2   \n",
       "family_live_separate       0        53      11                      32   \n",
       "family_live_together       0         7       1                      13   \n",
       "sig_other                  0        15       4                      12   \n",
       "\n",
       "                      p_family_live_together  p_sig_other  \n",
       "work                                       1            3  \n",
       "friend                                     2            2  \n",
       "task                                       0            0  \n",
       "family_live_separate                       9            5  \n",
       "family_live_together                       3            4  \n",
       "sig_other                                  4            9  "
      ]
     },
     "metadata": {},
     "output_type": "display_data"
    }
   ],
   "source": [
    "predictions = top_10_model.predict(test_X)\n",
    "print(\"Accuracy:\", accuracy_score(test_y, predictions))\n",
    "print(\"Balanced accuracy:\", balanced_accuracy_score(test_y, predictions))\n",
    "\n",
    "# rows are truth, columns are predicted\n",
    "top_10_confusion_mat = confusion_matrix(test_y, predictions)\n",
    "top_10_confuse_df = pd.DataFrame(top_10_confusion_mat, index=contact_types, columns=[\"p_\" + x for x in contact_types])\n",
    "display(top_10_confuse_df)"
   ]
  },
  {
   "cell_type": "markdown",
   "metadata": {},
   "source": [
    "## Resample results"
   ]
  },
  {
   "cell_type": "code",
   "execution_count": null,
   "metadata": {},
   "outputs": [],
   "source": [
    "top_10_model_res = pickle.load(open(\"bleen/top_10_oversample.automl\", \"rb\"))\n",
    "top_10_model_res.refit(train_X, train_y)"
   ]
  },
  {
   "cell_type": "code",
   "execution_count": 24,
   "metadata": {
    "scrolled": false
   },
   "outputs": [
    {
     "name": "stdout",
     "output_type": "stream",
     "text": [
      "Accuracy: 0.4380952380952381\n",
      "Balanced accuracy: 0.36186776892883765\n"
     ]
    },
    {
     "data": {
      "text/html": [
       "<div>\n",
       "<style scoped>\n",
       "    .dataframe tbody tr th:only-of-type {\n",
       "        vertical-align: middle;\n",
       "    }\n",
       "\n",
       "    .dataframe tbody tr th {\n",
       "        vertical-align: top;\n",
       "    }\n",
       "\n",
       "    .dataframe thead th {\n",
       "        text-align: right;\n",
       "    }\n",
       "</style>\n",
       "<table border=\"1\" class=\"dataframe\">\n",
       "  <thead>\n",
       "    <tr style=\"text-align: right;\">\n",
       "      <th></th>\n",
       "      <th>p_work</th>\n",
       "      <th>p_friend</th>\n",
       "      <th>p_task</th>\n",
       "      <th>p_family_live_separate</th>\n",
       "      <th>p_family_live_together</th>\n",
       "      <th>p_sig_other</th>\n",
       "    </tr>\n",
       "  </thead>\n",
       "  <tbody>\n",
       "    <tr>\n",
       "      <th>work</th>\n",
       "      <td>9</td>\n",
       "      <td>21</td>\n",
       "      <td>4</td>\n",
       "      <td>7</td>\n",
       "      <td>1</td>\n",
       "      <td>2</td>\n",
       "    </tr>\n",
       "    <tr>\n",
       "      <th>friend</th>\n",
       "      <td>5</td>\n",
       "      <td>81</td>\n",
       "      <td>5</td>\n",
       "      <td>30</td>\n",
       "      <td>8</td>\n",
       "      <td>2</td>\n",
       "    </tr>\n",
       "    <tr>\n",
       "      <th>task</th>\n",
       "      <td>4</td>\n",
       "      <td>11</td>\n",
       "      <td>37</td>\n",
       "      <td>10</td>\n",
       "      <td>0</td>\n",
       "      <td>1</td>\n",
       "    </tr>\n",
       "    <tr>\n",
       "      <th>family_live_separate</th>\n",
       "      <td>3</td>\n",
       "      <td>41</td>\n",
       "      <td>8</td>\n",
       "      <td>43</td>\n",
       "      <td>10</td>\n",
       "      <td>5</td>\n",
       "    </tr>\n",
       "    <tr>\n",
       "      <th>family_live_together</th>\n",
       "      <td>0</td>\n",
       "      <td>9</td>\n",
       "      <td>1</td>\n",
       "      <td>12</td>\n",
       "      <td>4</td>\n",
       "      <td>2</td>\n",
       "    </tr>\n",
       "    <tr>\n",
       "      <th>sig_other</th>\n",
       "      <td>0</td>\n",
       "      <td>16</td>\n",
       "      <td>4</td>\n",
       "      <td>10</td>\n",
       "      <td>4</td>\n",
       "      <td>10</td>\n",
       "    </tr>\n",
       "  </tbody>\n",
       "</table>\n",
       "</div>"
      ],
      "text/plain": [
       "                      p_work  p_friend  p_task  p_family_live_separate  \\\n",
       "work                       9        21       4                       7   \n",
       "friend                     5        81       5                      30   \n",
       "task                       4        11      37                      10   \n",
       "family_live_separate       3        41       8                      43   \n",
       "family_live_together       0         9       1                      12   \n",
       "sig_other                  0        16       4                      10   \n",
       "\n",
       "                      p_family_live_together  p_sig_other  \n",
       "work                                       1            2  \n",
       "friend                                     8            2  \n",
       "task                                       0            1  \n",
       "family_live_separate                      10            5  \n",
       "family_live_together                       4            2  \n",
       "sig_other                                  4           10  "
      ]
     },
     "metadata": {},
     "output_type": "display_data"
    }
   ],
   "source": [
    "predictions = top_10_model_res.predict(test_X)\n",
    "print(\"Accuracy:\", accuracy_score(test_y, predictions))\n",
    "print(\"Balanced accuracy:\", balanced_accuracy_score(test_y, predictions))\n",
    "\n",
    "# rows are truth, columns are predicted\n",
    "top_10_confusion_mat = confusion_matrix(test_y, predictions)\n",
    "top_10_confuse_df = pd.DataFrame(top_10_confusion_mat, index=contact_types, columns=[\"p_\" + x for x in contact_types])\n",
    "display(top_10_confuse_df)"
   ]
  }
 ],
 "metadata": {
  "kernelspec": {
   "display_name": "Python 3",
   "language": "python",
   "name": "python3"
  },
  "language_info": {
   "codemirror_mode": {
    "name": "ipython",
    "version": 3
   },
   "file_extension": ".py",
   "mimetype": "text/x-python",
   "name": "python",
   "nbconvert_exporter": "python",
   "pygments_lexer": "ipython3",
   "version": "3.7.1"
  }
 },
 "nbformat": 4,
 "nbformat_minor": 2
}
