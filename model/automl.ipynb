{
 "cells": [
  {
   "cell_type": "markdown",
   "metadata": {},
   "source": [
    "<h1 id=\"tocheading\">Table of Contents</h1>\n",
    "<div id=\"toc\"></div>"
   ]
  },
  {
   "cell_type": "code",
   "execution_count": 34,
   "metadata": {},
   "outputs": [
    {
     "data": {
      "application/javascript": [
       "// ToC script\n",
       "$.getScript('https://kmahelona.github.io/ipython_notebook_goodies/ipython_notebook_toc.js')\n"
      ],
      "text/plain": [
       "<IPython.core.display.Javascript object>"
      ]
     },
     "metadata": {},
     "output_type": "display_data"
    }
   ],
   "source": [
    "%%javascript\n",
    "// ToC script\n",
    "$.getScript('https://kmahelona.github.io/ipython_notebook_goodies/ipython_notebook_toc.js')"
   ]
  },
  {
   "cell_type": "code",
   "execution_count": 30,
   "metadata": {},
   "outputs": [
    {
     "data": {
      "text/html": [
       "\n",
       "<script>\n",
       "  function code_toggle() {\n",
       "    if (code_shown){\n",
       "      $('div.input').hide('500');\n",
       "      $('#toggleButton').val('Show Code')\n",
       "    } else {\n",
       "      $('div.input').show('500');\n",
       "      $('#toggleButton').val('Hide Code')\n",
       "    }\n",
       "    code_shown = !code_shown\n",
       "  }\n",
       "\n",
       "  $( document ).ready(function(){\n",
       "    code_shown=false;\n",
       "    $('div.input').hide()\n",
       "  });\n",
       "</script>\n",
       "<form action=\"javascript:code_toggle()\"><input type=\"submit\" id=\"toggleButton\" value=\"Show Code\"></form>\n"
      ],
      "text/plain": [
       "<IPython.core.display.HTML object>"
      ]
     },
     "execution_count": 30,
     "metadata": {},
     "output_type": "execute_result"
    }
   ],
   "source": [
    "# Code hider, source: http://chris-said.io/2016/02/13/how-to-make-polished-jupyter-presentations-with-optional-code-visibility/\n",
    "from IPython.display import HTML\n",
    "\n",
    "HTML('''\n",
    "<script>\n",
    "  function code_toggle() {\n",
    "    if (code_shown){\n",
    "      $('div.input').hide('500');\n",
    "      $('#toggleButton').val('Show Code')\n",
    "    } else {\n",
    "      $('div.input').show('500');\n",
    "      $('#toggleButton').val('Hide Code')\n",
    "    }\n",
    "    code_shown = !code_shown\n",
    "  }\n",
    "\n",
    "  $( document ).ready(function(){\n",
    "    code_shown=false;\n",
    "    $('div.input').hide()\n",
    "  });\n",
    "</script>\n",
    "<form action=\"javascript:code_toggle()\"><input type=\"submit\" id=\"toggleButton\" value=\"Show Code\"></form>\n",
    "''')"
   ]
  },
  {
   "cell_type": "code",
   "execution_count": 97,
   "metadata": {},
   "outputs": [],
   "source": [
    "%matplotlib inline\n",
    "\n",
    "from collections import Counter\n",
    "import os\n",
    "import pickle\n",
    "import warnings\n",
    "\n",
    "import matplotlib.pyplot as plt\n",
    "import numpy as np\n",
    "import pandas as pd\n",
    "\n",
    "from autosklearn.classification import AutoSklearnClassifier\n",
    "import autosklearn.metrics as auto_metrics\n",
    "from imblearn.over_sampling import SMOTE\n",
    "import sklearn.metrics as sk_metrics\n",
    "from sklearn.metrics import accuracy_score, confusion_matrix"
   ]
  },
  {
   "cell_type": "code",
   "execution_count": 19,
   "metadata": {},
   "outputs": [
    {
     "name": "stderr",
     "output_type": "stream",
     "text": [
      "Could not delete output dir: /tmp/autosklearn_output_13441_3621\n",
      "Could not delete tmp dir: /tmp/autosklearn_tmp_13441_3621\n",
      "Could not delete output dir: /tmp/autosklearn_output_5985_2598\n",
      "Could not delete tmp dir: /tmp/autosklearn_tmp_5985_2598\n"
     ]
    }
   ],
   "source": [
    "# load models and data\n",
    "warnings.filterwarnings('ignore')\n",
    "top_5_model = pickle.load(open(\"bleen/top_5_best_model_final.automl\", \"rb\"))\n",
    "top_10_model = pickle.load(open(\"bleen/top_10_best_model_final.automl\", \"rb\"))\n",
    "\n",
    "top_5_train = pickle.load(open('../data/top_5_train_features.df', 'rb'))\n",
    "top_5_test =  pickle.load(open('../data/top_5_test_features.df', 'rb'))\n",
    "\n",
    "top_5_emc_train = pickle.load(open('../data/top_5_emc_train_features.df', 'rb'))\n",
    "top_5_emc_test =  pickle.load(open('../data/top_5_emc_test_features.df', 'rb'))\n",
    "\n",
    "top_10_train = pickle.load(open('../data/train_features.df', 'rb'))\n",
    "top_10_test =  pickle.load(open('../data/test_features.df', 'rb'))\n",
    "\n",
    "top_10_emc_train = pickle.load(open('../data/top_10_emc_train_features.df', 'rb'))\n",
    "top_10_emc_test =  pickle.load(open('../data/top_10_emc_test_features.df', 'rb'))\n",
    "\n",
    "replace_dict = {\n",
    "    'contact_type': {\n",
    "        \"work\": 0,\n",
    "        \"friend\": 1,\n",
    "        \"task\": 2,\n",
    "        \"family_live_separate\": 3,\n",
    "        \"family_live_together\": 4,\n",
    "#        \"other\": 5,\n",
    "        \"sig_other\": 6\n",
    "    }\n",
    "}\n",
    "\n",
    "contact_types = list(replace_dict['contact_type'].keys())\n",
    "\n",
    "rand_seed = 2"
   ]
  },
  {
   "cell_type": "code",
   "execution_count": 121,
   "metadata": {},
   "outputs": [],
   "source": [
    "# utility functions\n",
    "\n",
    "def print_ensemble(ensemble, latex=False):\n",
    "    delim = \",\"\n",
    "    end = \"\"\n",
    "    for weight, pipeline in ensemble:\n",
    "        if latex:\n",
    "            print(\"{} & {} \\\\\\\\\".format(weight, \n",
    "                                        pipeline.configuration['classifier:__choice__']))\n",
    "        else:\n",
    "            print(\"Weight: {}, classifier: {}\".format(weight, \n",
    "                                                      pipeline.configuration['classifier:__choice__']))\n",
    "\n",
    "            \n",
    "def print_metrics(test_y, predictions):\n",
    "    \"\"\"\n",
    "    Micro statistics take global counts of TP, FP, etc\n",
    "    Macro statistics take per class metrics and averages them (not accounting for class imbalance)\n",
    "    Weighted statistics weight macro metrics by number of true examples in each class\n",
    "    \"\"\"\n",
    "    print(\"Accuracy:\", accuracy_score(test_y, predictions))\n",
    "    \n",
    "    # precision, recall, F1\n",
    "    metrics = np.zeros((2,3))\n",
    "    \n",
    "    # micro\n",
    "    avgs = ['macro', 'weighted']\n",
    "    for i, avg in enumerate(avgs):\n",
    "        metrics[i,0] = sk_metrics.precision_score(test_y, predictions, average=avg)\n",
    "        metrics[i,1] = sk_metrics.recall_score(test_y, predictions, average=avg)\n",
    "        metrics[i,2] = sk_metrics.f1_score(test_y, predictions, average=avg)\n",
    "\n",
    "    metrics_df = pd.DataFrame(metrics, index=avgs, columns=['precision', 'recall', 'F1'])\n",
    "    display(metrics_df)"
   ]
  },
  {
   "cell_type": "markdown",
   "metadata": {},
   "source": [
    "# Model description\n",
    "\n",
    "Models are trained using the out-of-the-box `AutoSklearnClassifier` provided by the `auto-sklearn` module. This is the scikit-learn implementation of the autoML system as described in \"efficient and robust automated machine learning.\"\n",
    "\n",
    "[Module documentation](https://automl.github.io/auto-sklearn/stable/index.html)\n",
    "\n",
    "[AutoML paper](https://papers.nips.cc/paper/5872-efficient-and-robust-automated-machine-learning)"
   ]
  },
  {
   "cell_type": "markdown",
   "metadata": {},
   "source": [
    "# Top 5 contacts model"
   ]
  },
  {
   "cell_type": "code",
   "execution_count": 119,
   "metadata": {},
   "outputs": [
    {
     "name": "stdout",
     "output_type": "stream",
     "text": [
      "original shape Counter({1: 244, 3: 207, 6: 82, 4: 81, 2: 66, 0: 60})\n",
      "resampled shape Counter({3: 244, 1: 244, 6: 244, 4: 244, 2: 244, 0: 244})\n"
     ]
    }
   ],
   "source": [
    "train_data = top_5_train.replace(replace_dict)\n",
    "test_data = top_5_test.replace(replace_dict)\n",
    "\n",
    "train_y = train_data['contact_type']\n",
    "train_X = train_data.drop(['contact_type', 'pid', 'combined_hash'], axis=1)\n",
    "test_y = test_data['contact_type']\n",
    "test_X = test_data.drop(['contact_type', 'pid', 'combined_hash'], axis=1)\n",
    "\n",
    "print(\"original shape %s\" % Counter(train_y))\n",
    "\n",
    "sm = SMOTE(random_state=rand_seed)\n",
    "\n",
    "res_X, res_y = sm.fit_resample(train_X, train_y)\n",
    "\n",
    "print(\"resampled shape %s\" % Counter(res_y))"
   ]
  },
  {
   "cell_type": "code",
   "execution_count": 106,
   "metadata": {},
   "outputs": [
    {
     "data": {
      "text/plain": [
       "AutoSklearnClassifier(delete_output_folder_after_terminate=True,\n",
       "           delete_tmp_folder_after_terminate=True,\n",
       "           disable_evaluator_output=False, ensemble_memory_limit=1024,\n",
       "           ensemble_nbest=50, ensemble_size=50, exclude_estimators=None,\n",
       "           exclude_preprocessors=None, get_smac_object_callback=None,\n",
       "           include_estimators=None, include_preprocessors=None,\n",
       "           initial_configurations_via_metalearning=25, logging_config=None,\n",
       "           ml_memory_limit=3072, output_folder=None,\n",
       "           per_run_time_limit=360, resampling_strategy='holdout',\n",
       "           resampling_strategy_arguments=None, seed=2, shared_mode=False,\n",
       "           smac_scenario_args=None, time_left_for_this_task=3600,\n",
       "           tmp_folder=None)"
      ]
     },
     "execution_count": 106,
     "metadata": {},
     "output_type": "execute_result"
    }
   ],
   "source": [
    "top_5_model.refit(train_X, train_y)"
   ]
  },
  {
   "cell_type": "markdown",
   "metadata": {},
   "source": [
    "## Base results\n",
    "\n",
    "Features:\n",
    "- top 5 contacts per participant\n",
    "- communication features as described in `feature_extract.ipynb`, with NaN indicators and imputation\n",
    "\n",
    "Preprocessing: N/A"
   ]
  },
  {
   "cell_type": "code",
   "execution_count": 122,
   "metadata": {
    "scrolled": false
   },
   "outputs": [
    {
     "name": "stdout",
     "output_type": "stream",
     "text": [
      "Accuracy: 0.40476190476190477\n"
     ]
    },
    {
     "data": {
      "text/html": [
       "<div>\n",
       "<style scoped>\n",
       "    .dataframe tbody tr th:only-of-type {\n",
       "        vertical-align: middle;\n",
       "    }\n",
       "\n",
       "    .dataframe tbody tr th {\n",
       "        vertical-align: top;\n",
       "    }\n",
       "\n",
       "    .dataframe thead th {\n",
       "        text-align: right;\n",
       "    }\n",
       "</style>\n",
       "<table border=\"1\" class=\"dataframe\">\n",
       "  <thead>\n",
       "    <tr style=\"text-align: right;\">\n",
       "      <th></th>\n",
       "      <th>precision</th>\n",
       "      <th>recall</th>\n",
       "      <th>F1</th>\n",
       "    </tr>\n",
       "  </thead>\n",
       "  <tbody>\n",
       "    <tr>\n",
       "      <th>macro</th>\n",
       "      <td>0.359986</td>\n",
       "      <td>0.321819</td>\n",
       "      <td>0.327312</td>\n",
       "    </tr>\n",
       "    <tr>\n",
       "      <th>weighted</th>\n",
       "      <td>0.381323</td>\n",
       "      <td>0.404762</td>\n",
       "      <td>0.380294</td>\n",
       "    </tr>\n",
       "  </tbody>\n",
       "</table>\n",
       "</div>"
      ],
      "text/plain": [
       "          precision    recall        F1\n",
       "macro      0.359986  0.321819  0.327312\n",
       "weighted   0.381323  0.404762  0.380294"
      ]
     },
     "metadata": {},
     "output_type": "display_data"
    },
    {
     "data": {
      "text/html": [
       "<div>\n",
       "<style scoped>\n",
       "    .dataframe tbody tr th:only-of-type {\n",
       "        vertical-align: middle;\n",
       "    }\n",
       "\n",
       "    .dataframe tbody tr th {\n",
       "        vertical-align: top;\n",
       "    }\n",
       "\n",
       "    .dataframe thead th {\n",
       "        text-align: right;\n",
       "    }\n",
       "</style>\n",
       "<table border=\"1\" class=\"dataframe\">\n",
       "  <thead>\n",
       "    <tr style=\"text-align: right;\">\n",
       "      <th></th>\n",
       "      <th>p_work</th>\n",
       "      <th>p_friend</th>\n",
       "      <th>p_task</th>\n",
       "      <th>p_family_live_separate</th>\n",
       "      <th>p_family_live_together</th>\n",
       "      <th>p_sig_other</th>\n",
       "    </tr>\n",
       "  </thead>\n",
       "  <tbody>\n",
       "    <tr>\n",
       "      <th>work</th>\n",
       "      <td>0</td>\n",
       "      <td>7</td>\n",
       "      <td>0</td>\n",
       "      <td>7</td>\n",
       "      <td>1</td>\n",
       "      <td>1</td>\n",
       "    </tr>\n",
       "    <tr>\n",
       "      <th>friend</th>\n",
       "      <td>1</td>\n",
       "      <td>46</td>\n",
       "      <td>2</td>\n",
       "      <td>19</td>\n",
       "      <td>0</td>\n",
       "      <td>3</td>\n",
       "    </tr>\n",
       "    <tr>\n",
       "      <th>task</th>\n",
       "      <td>1</td>\n",
       "      <td>3</td>\n",
       "      <td>11</td>\n",
       "      <td>3</td>\n",
       "      <td>0</td>\n",
       "      <td>1</td>\n",
       "    </tr>\n",
       "    <tr>\n",
       "      <th>family_live_separate</th>\n",
       "      <td>0</td>\n",
       "      <td>23</td>\n",
       "      <td>1</td>\n",
       "      <td>17</td>\n",
       "      <td>4</td>\n",
       "      <td>4</td>\n",
       "    </tr>\n",
       "    <tr>\n",
       "      <th>family_live_together</th>\n",
       "      <td>0</td>\n",
       "      <td>5</td>\n",
       "      <td>0</td>\n",
       "      <td>8</td>\n",
       "      <td>2</td>\n",
       "      <td>5</td>\n",
       "    </tr>\n",
       "    <tr>\n",
       "      <th>sig_other</th>\n",
       "      <td>0</td>\n",
       "      <td>12</td>\n",
       "      <td>0</td>\n",
       "      <td>13</td>\n",
       "      <td>1</td>\n",
       "      <td>9</td>\n",
       "    </tr>\n",
       "  </tbody>\n",
       "</table>\n",
       "</div>"
      ],
      "text/plain": [
       "                      p_work  p_friend  p_task  p_family_live_separate  \\\n",
       "work                       0         7       0                       7   \n",
       "friend                     1        46       2                      19   \n",
       "task                       1         3      11                       3   \n",
       "family_live_separate       0        23       1                      17   \n",
       "family_live_together       0         5       0                       8   \n",
       "sig_other                  0        12       0                      13   \n",
       "\n",
       "                      p_family_live_together  p_sig_other  \n",
       "work                                       1            1  \n",
       "friend                                     0            3  \n",
       "task                                       0            1  \n",
       "family_live_separate                       4            4  \n",
       "family_live_together                       2            5  \n",
       "sig_other                                  1            9  "
      ]
     },
     "metadata": {},
     "output_type": "display_data"
    }
   ],
   "source": [
    "predictions = top_5_model.predict(test_X)\n",
    "print_metrics(test_y, predictions)\n",
    "\n",
    "# rows are truth, columns are predicted\n",
    "top_5_confusion_mat = confusion_matrix(test_y, predictions)\n",
    "top_5_confuse_df = pd.DataFrame(top_5_confusion_mat, index=contact_types, columns=[\"p_\" + x for x in contact_types])\n",
    "display(top_5_confuse_df)"
   ]
  },
  {
   "cell_type": "markdown",
   "metadata": {},
   "source": [
    "## Resample results\n",
    "\n",
    "Features:\n",
    "- top 5 contacts per participant\n",
    "- communication features as described in `feature_extract.ipynb`, with NaN indicators and imputation\n",
    "\n",
    "Preprocessing: \n",
    "- SMOTE algorithm ([reference](https://imbalanced-learn.org/en/stable/generated/imblearn.over_sampling.SMOTE.html)) applied to balance training classes\n"
   ]
  },
  {
   "cell_type": "code",
   "execution_count": 109,
   "metadata": {
    "scrolled": false
   },
   "outputs": [
    {
     "data": {
      "text/plain": [
       "AutoSklearnClassifier(delete_output_folder_after_terminate=True,\n",
       "           delete_tmp_folder_after_terminate=True,\n",
       "           disable_evaluator_output=False, ensemble_memory_limit=1024,\n",
       "           ensemble_nbest=50, ensemble_size=50, exclude_estimators=None,\n",
       "           exclude_preprocessors=None, get_smac_object_callback=None,\n",
       "           include_estimators=None, include_preprocessors=None,\n",
       "           initial_configurations_via_metalearning=25, logging_config=None,\n",
       "           ml_memory_limit=3072, output_folder=None,\n",
       "           per_run_time_limit=360, resampling_strategy='holdout',\n",
       "           resampling_strategy_arguments=None, seed=2, shared_mode=False,\n",
       "           smac_scenario_args=None, time_left_for_this_task=3600,\n",
       "           tmp_folder=None)"
      ]
     },
     "execution_count": 109,
     "metadata": {},
     "output_type": "execute_result"
    }
   ],
   "source": [
    "top_5_model_res = pickle.load(open(\"bleen/top_5_oversample.automl\", \"rb\"))\n",
    "top_5_model_res.refit(res_X, res_y)"
   ]
  },
  {
   "cell_type": "code",
   "execution_count": 123,
   "metadata": {
    "scrolled": false
   },
   "outputs": [
    {
     "name": "stdout",
     "output_type": "stream",
     "text": [
      "Accuracy: 0.41904761904761906\n"
     ]
    },
    {
     "data": {
      "text/html": [
       "<div>\n",
       "<style scoped>\n",
       "    .dataframe tbody tr th:only-of-type {\n",
       "        vertical-align: middle;\n",
       "    }\n",
       "\n",
       "    .dataframe tbody tr th {\n",
       "        vertical-align: top;\n",
       "    }\n",
       "\n",
       "    .dataframe thead th {\n",
       "        text-align: right;\n",
       "    }\n",
       "</style>\n",
       "<table border=\"1\" class=\"dataframe\">\n",
       "  <thead>\n",
       "    <tr style=\"text-align: right;\">\n",
       "      <th></th>\n",
       "      <th>precision</th>\n",
       "      <th>recall</th>\n",
       "      <th>F1</th>\n",
       "    </tr>\n",
       "  </thead>\n",
       "  <tbody>\n",
       "    <tr>\n",
       "      <th>macro</th>\n",
       "      <td>0.433030</td>\n",
       "      <td>0.410395</td>\n",
       "      <td>0.417029</td>\n",
       "    </tr>\n",
       "    <tr>\n",
       "      <th>weighted</th>\n",
       "      <td>0.439654</td>\n",
       "      <td>0.419048</td>\n",
       "      <td>0.424036</td>\n",
       "    </tr>\n",
       "  </tbody>\n",
       "</table>\n",
       "</div>"
      ],
      "text/plain": [
       "          precision    recall        F1\n",
       "macro      0.433030  0.410395  0.417029\n",
       "weighted   0.439654  0.419048  0.424036"
      ]
     },
     "metadata": {},
     "output_type": "display_data"
    },
    {
     "data": {
      "text/html": [
       "<div>\n",
       "<style scoped>\n",
       "    .dataframe tbody tr th:only-of-type {\n",
       "        vertical-align: middle;\n",
       "    }\n",
       "\n",
       "    .dataframe tbody tr th {\n",
       "        vertical-align: top;\n",
       "    }\n",
       "\n",
       "    .dataframe thead th {\n",
       "        text-align: right;\n",
       "    }\n",
       "</style>\n",
       "<table border=\"1\" class=\"dataframe\">\n",
       "  <thead>\n",
       "    <tr style=\"text-align: right;\">\n",
       "      <th></th>\n",
       "      <th>p_work</th>\n",
       "      <th>p_friend</th>\n",
       "      <th>p_task</th>\n",
       "      <th>p_family_live_separate</th>\n",
       "      <th>p_family_live_together</th>\n",
       "      <th>p_sig_other</th>\n",
       "    </tr>\n",
       "  </thead>\n",
       "  <tbody>\n",
       "    <tr>\n",
       "      <th>work</th>\n",
       "      <td>6</td>\n",
       "      <td>3</td>\n",
       "      <td>2</td>\n",
       "      <td>5</td>\n",
       "      <td>0</td>\n",
       "      <td>0</td>\n",
       "    </tr>\n",
       "    <tr>\n",
       "      <th>friend</th>\n",
       "      <td>6</td>\n",
       "      <td>35</td>\n",
       "      <td>2</td>\n",
       "      <td>23</td>\n",
       "      <td>2</td>\n",
       "      <td>3</td>\n",
       "    </tr>\n",
       "    <tr>\n",
       "      <th>task</th>\n",
       "      <td>1</td>\n",
       "      <td>1</td>\n",
       "      <td>13</td>\n",
       "      <td>3</td>\n",
       "      <td>1</td>\n",
       "      <td>0</td>\n",
       "    </tr>\n",
       "    <tr>\n",
       "      <th>family_live_separate</th>\n",
       "      <td>2</td>\n",
       "      <td>17</td>\n",
       "      <td>1</td>\n",
       "      <td>18</td>\n",
       "      <td>7</td>\n",
       "      <td>4</td>\n",
       "    </tr>\n",
       "    <tr>\n",
       "      <th>family_live_together</th>\n",
       "      <td>0</td>\n",
       "      <td>2</td>\n",
       "      <td>0</td>\n",
       "      <td>10</td>\n",
       "      <td>4</td>\n",
       "      <td>4</td>\n",
       "    </tr>\n",
       "    <tr>\n",
       "      <th>sig_other</th>\n",
       "      <td>1</td>\n",
       "      <td>8</td>\n",
       "      <td>1</td>\n",
       "      <td>9</td>\n",
       "      <td>4</td>\n",
       "      <td>12</td>\n",
       "    </tr>\n",
       "  </tbody>\n",
       "</table>\n",
       "</div>"
      ],
      "text/plain": [
       "                      p_work  p_friend  p_task  p_family_live_separate  \\\n",
       "work                       6         3       2                       5   \n",
       "friend                     6        35       2                      23   \n",
       "task                       1         1      13                       3   \n",
       "family_live_separate       2        17       1                      18   \n",
       "family_live_together       0         2       0                      10   \n",
       "sig_other                  1         8       1                       9   \n",
       "\n",
       "                      p_family_live_together  p_sig_other  \n",
       "work                                       0            0  \n",
       "friend                                     2            3  \n",
       "task                                       1            0  \n",
       "family_live_separate                       7            4  \n",
       "family_live_together                       4            4  \n",
       "sig_other                                  4           12  "
      ]
     },
     "metadata": {},
     "output_type": "display_data"
    }
   ],
   "source": [
    "predictions = top_5_model_res.predict(test_X)\n",
    "print_metrics(test_y, predictions)\n",
    "\n",
    "# rows are truth, columns are predicted\n",
    "top_5_confusion_mat = confusion_matrix(test_y, predictions)\n",
    "top_5_confuse_df = pd.DataFrame(top_5_confusion_mat, index=contact_types, columns=[\"p_\" + x for x in contact_types])\n",
    "display(top_5_confuse_df)"
   ]
  },
  {
   "cell_type": "markdown",
   "metadata": {},
   "source": [
    "## Contact EMA features results\n",
    "\n",
    "Features:\n",
    "- top 5 contacts per participant\n",
    "- communication features as described in `feature_extract.ipynb`, with NaN indicators and imputation\n",
    "- contact-based EMA responses per participant also included\n",
    "\n",
    "Preprocessing: \n",
    "- SMOTE algorithm ([reference](https://imbalanced-learn.org/en/stable/generated/imblearn.over_sampling.SMOTE.html)) applied to balance training classes"
   ]
  },
  {
   "cell_type": "code",
   "execution_count": 124,
   "metadata": {},
   "outputs": [
    {
     "name": "stdout",
     "output_type": "stream",
     "text": [
      "original shape Counter({1: 244, 3: 207, 6: 82, 4: 81, 2: 66, 0: 60})\n",
      "resampled shape Counter({3: 244, 1: 244, 6: 244, 4: 244, 2: 244, 0: 244})\n"
     ]
    }
   ],
   "source": [
    "top_5_emc_train_data = top_5_emc_train.replace(replace_dict)\n",
    "top_5_emc_test_data = top_5_emc_test.replace(replace_dict)\n",
    "\n",
    "train_y = top_5_emc_train_data['contact_type']\n",
    "train_X = top_5_emc_train_data.drop(['contact_type', 'pid', 'combined_hash'], axis=1)\n",
    "test_y = top_5_emc_test_data['contact_type']\n",
    "test_X = top_5_emc_test_data.drop(['contact_type', 'pid', 'combined_hash'], axis=1)\n",
    "\n",
    "print(\"original shape %s\" % Counter(train_y))\n",
    "\n",
    "sm = SMOTE(random_state=rand_seed)\n",
    "\n",
    "res_X, res_y = sm.fit_resample(train_X, train_y)\n",
    "\n",
    "print(\"resampled shape %s\" % Counter(res_y))"
   ]
  },
  {
   "cell_type": "code",
   "execution_count": 23,
   "metadata": {},
   "outputs": [
    {
     "data": {
      "text/plain": [
       "AutoSklearnClassifier(delete_output_folder_after_terminate=True,\n",
       "           delete_tmp_folder_after_terminate=True,\n",
       "           disable_evaluator_output=False, ensemble_memory_limit=1024,\n",
       "           ensemble_nbest=50, ensemble_size=50, exclude_estimators=None,\n",
       "           exclude_preprocessors=None, get_smac_object_callback=None,\n",
       "           include_estimators=None, include_preprocessors=None,\n",
       "           initial_configurations_via_metalearning=25, logging_config=None,\n",
       "           ml_memory_limit=3072, output_folder=None,\n",
       "           per_run_time_limit=360, resampling_strategy='holdout',\n",
       "           resampling_strategy_arguments=None, seed=2, shared_mode=False,\n",
       "           smac_scenario_args=None, time_left_for_this_task=3600,\n",
       "           tmp_folder=None)"
      ]
     },
     "execution_count": 23,
     "metadata": {},
     "output_type": "execute_result"
    }
   ],
   "source": [
    "top_5_model_emc = pickle.load(open(\"top_5_emc.automl\", \"rb\"))\n",
    "top_5_model_emc.refit(res_X, res_y)"
   ]
  },
  {
   "cell_type": "code",
   "execution_count": 126,
   "metadata": {},
   "outputs": [
    {
     "name": "stdout",
     "output_type": "stream",
     "text": [
      "Accuracy: 0.5095238095238095\n"
     ]
    },
    {
     "data": {
      "text/html": [
       "<div>\n",
       "<style scoped>\n",
       "    .dataframe tbody tr th:only-of-type {\n",
       "        vertical-align: middle;\n",
       "    }\n",
       "\n",
       "    .dataframe tbody tr th {\n",
       "        vertical-align: top;\n",
       "    }\n",
       "\n",
       "    .dataframe thead th {\n",
       "        text-align: right;\n",
       "    }\n",
       "</style>\n",
       "<table border=\"1\" class=\"dataframe\">\n",
       "  <thead>\n",
       "    <tr style=\"text-align: right;\">\n",
       "      <th></th>\n",
       "      <th>precision</th>\n",
       "      <th>recall</th>\n",
       "      <th>F1</th>\n",
       "    </tr>\n",
       "  </thead>\n",
       "  <tbody>\n",
       "    <tr>\n",
       "      <th>macro</th>\n",
       "      <td>0.491516</td>\n",
       "      <td>0.499012</td>\n",
       "      <td>0.486929</td>\n",
       "    </tr>\n",
       "    <tr>\n",
       "      <th>weighted</th>\n",
       "      <td>0.518949</td>\n",
       "      <td>0.509524</td>\n",
       "      <td>0.508115</td>\n",
       "    </tr>\n",
       "  </tbody>\n",
       "</table>\n",
       "</div>"
      ],
      "text/plain": [
       "          precision    recall        F1\n",
       "macro      0.491516  0.499012  0.486929\n",
       "weighted   0.518949  0.509524  0.508115"
      ]
     },
     "metadata": {},
     "output_type": "display_data"
    },
    {
     "data": {
      "text/html": [
       "<div>\n",
       "<style scoped>\n",
       "    .dataframe tbody tr th:only-of-type {\n",
       "        vertical-align: middle;\n",
       "    }\n",
       "\n",
       "    .dataframe tbody tr th {\n",
       "        vertical-align: top;\n",
       "    }\n",
       "\n",
       "    .dataframe thead th {\n",
       "        text-align: right;\n",
       "    }\n",
       "</style>\n",
       "<table border=\"1\" class=\"dataframe\">\n",
       "  <thead>\n",
       "    <tr style=\"text-align: right;\">\n",
       "      <th></th>\n",
       "      <th>p_work</th>\n",
       "      <th>p_friend</th>\n",
       "      <th>p_task</th>\n",
       "      <th>p_family_live_separate</th>\n",
       "      <th>p_family_live_together</th>\n",
       "      <th>p_sig_other</th>\n",
       "    </tr>\n",
       "  </thead>\n",
       "  <tbody>\n",
       "    <tr>\n",
       "      <th>work</th>\n",
       "      <td>5</td>\n",
       "      <td>5</td>\n",
       "      <td>6</td>\n",
       "      <td>0</td>\n",
       "      <td>0</td>\n",
       "      <td>0</td>\n",
       "    </tr>\n",
       "    <tr>\n",
       "      <th>friend</th>\n",
       "      <td>4</td>\n",
       "      <td>43</td>\n",
       "      <td>2</td>\n",
       "      <td>15</td>\n",
       "      <td>6</td>\n",
       "      <td>1</td>\n",
       "    </tr>\n",
       "    <tr>\n",
       "      <th>task</th>\n",
       "      <td>0</td>\n",
       "      <td>1</td>\n",
       "      <td>18</td>\n",
       "      <td>0</td>\n",
       "      <td>0</td>\n",
       "      <td>0</td>\n",
       "    </tr>\n",
       "    <tr>\n",
       "      <th>family_live_separate</th>\n",
       "      <td>2</td>\n",
       "      <td>12</td>\n",
       "      <td>0</td>\n",
       "      <td>21</td>\n",
       "      <td>9</td>\n",
       "      <td>5</td>\n",
       "    </tr>\n",
       "    <tr>\n",
       "      <th>family_live_together</th>\n",
       "      <td>0</td>\n",
       "      <td>2</td>\n",
       "      <td>0</td>\n",
       "      <td>8</td>\n",
       "      <td>6</td>\n",
       "      <td>4</td>\n",
       "    </tr>\n",
       "    <tr>\n",
       "      <th>sig_other</th>\n",
       "      <td>1</td>\n",
       "      <td>4</td>\n",
       "      <td>0</td>\n",
       "      <td>12</td>\n",
       "      <td>4</td>\n",
       "      <td>14</td>\n",
       "    </tr>\n",
       "  </tbody>\n",
       "</table>\n",
       "</div>"
      ],
      "text/plain": [
       "                      p_work  p_friend  p_task  p_family_live_separate  \\\n",
       "work                       5         5       6                       0   \n",
       "friend                     4        43       2                      15   \n",
       "task                       0         1      18                       0   \n",
       "family_live_separate       2        12       0                      21   \n",
       "family_live_together       0         2       0                       8   \n",
       "sig_other                  1         4       0                      12   \n",
       "\n",
       "                      p_family_live_together  p_sig_other  \n",
       "work                                       0            0  \n",
       "friend                                     6            1  \n",
       "task                                       0            0  \n",
       "family_live_separate                       9            5  \n",
       "family_live_together                       6            4  \n",
       "sig_other                                  4           14  "
      ]
     },
     "metadata": {},
     "output_type": "display_data"
    }
   ],
   "source": [
    "predictions = top_5_model_emc.predict(test_X)\n",
    "print_metrics(test_y, predictions)\n",
    "\n",
    "# rows are truth, columns are predicted\n",
    "top_5_confusion_mat = confusion_matrix(test_y, predictions)\n",
    "top_5_confuse_df = pd.DataFrame(top_5_confusion_mat, index=contact_types, columns=[\"p_\" + x for x in contact_types])\n",
    "display(top_5_confuse_df)"
   ]
  },
  {
   "cell_type": "code",
   "execution_count": 79,
   "metadata": {},
   "outputs": [
    {
     "name": "stdout",
     "output_type": "stream",
     "text": [
      "Weight: 0.28, classifier: lda\n",
      "Weight: 0.24, classifier: xgradient_boosting\n",
      "Weight: 0.12, classifier: lda\n",
      "Weight: 0.06, classifier: extra_trees\n",
      "Weight: 0.06, classifier: extra_trees\n",
      "Weight: 0.04, classifier: gradient_boosting\n",
      "Weight: 0.04, classifier: gradient_boosting\n",
      "Weight: 0.04, classifier: random_forest\n",
      "Weight: 0.04, classifier: lda\n",
      "Weight: 0.02, classifier: random_forest\n",
      "Weight: 0.02, classifier: lda\n",
      "Weight: 0.02, classifier: gradient_boosting\n",
      "Weight: 0.02, classifier: lda\n"
     ]
    }
   ],
   "source": [
    "top_5_emc_ensemble = top_5_model_emc.get_models_with_weights()\n",
    "print_ensemble(top_5_emc_ensemble)"
   ]
  },
  {
   "cell_type": "markdown",
   "metadata": {},
   "source": [
    "# Top 10 contacts model"
   ]
  },
  {
   "cell_type": "code",
   "execution_count": 128,
   "metadata": {
    "scrolled": true
   },
   "outputs": [],
   "source": [
    "train_data = top_10_train.replace(replace_dict)\n",
    "test_data = top_10_test.replace(replace_dict)\n",
    "\n",
    "train_y = train_data['contact_type']\n",
    "train_X = train_data.drop(['contact_type', 'pid', 'combined_hash'], axis=1)\n",
    "test_y = test_data['contact_type']\n",
    "test_X = test_data.drop(['contact_type', 'pid', 'combined_hash'], axis=1)"
   ]
  },
  {
   "cell_type": "code",
   "execution_count": 115,
   "metadata": {},
   "outputs": [
    {
     "data": {
      "text/plain": [
       "AutoSklearnClassifier(delete_output_folder_after_terminate=True,\n",
       "           delete_tmp_folder_after_terminate=True,\n",
       "           disable_evaluator_output=False, ensemble_memory_limit=1024,\n",
       "           ensemble_nbest=50, ensemble_size=50, exclude_estimators=None,\n",
       "           exclude_preprocessors=None, get_smac_object_callback=None,\n",
       "           include_estimators=None, include_preprocessors=None,\n",
       "           initial_configurations_via_metalearning=25, logging_config=None,\n",
       "           ml_memory_limit=3072, output_folder=None,\n",
       "           per_run_time_limit=360, resampling_strategy='holdout',\n",
       "           resampling_strategy_arguments=None, seed=2, shared_mode=False,\n",
       "           smac_scenario_args=None, time_left_for_this_task=3600,\n",
       "           tmp_folder=None)"
      ]
     },
     "execution_count": 115,
     "metadata": {},
     "output_type": "execute_result"
    }
   ],
   "source": [
    "top_10_model.refit(train_X, train_y)"
   ]
  },
  {
   "cell_type": "markdown",
   "metadata": {},
   "source": [
    "## Base results\n",
    "\n",
    "Features:\n",
    "- top 10 contacts per participant\n",
    "- communication features as described in `feature_extract.ipynb`, with NaN indicators and imputation\n",
    "\n",
    "Preprocessing: N/A"
   ]
  },
  {
   "cell_type": "code",
   "execution_count": 130,
   "metadata": {},
   "outputs": [
    {
     "name": "stdout",
     "output_type": "stream",
     "text": [
      "Accuracy: 0.44285714285714284\n"
     ]
    },
    {
     "data": {
      "text/html": [
       "<div>\n",
       "<style scoped>\n",
       "    .dataframe tbody tr th:only-of-type {\n",
       "        vertical-align: middle;\n",
       "    }\n",
       "\n",
       "    .dataframe tbody tr th {\n",
       "        vertical-align: top;\n",
       "    }\n",
       "\n",
       "    .dataframe thead th {\n",
       "        text-align: right;\n",
       "    }\n",
       "</style>\n",
       "<table border=\"1\" class=\"dataframe\">\n",
       "  <thead>\n",
       "    <tr style=\"text-align: right;\">\n",
       "      <th></th>\n",
       "      <th>precision</th>\n",
       "      <th>recall</th>\n",
       "      <th>F1</th>\n",
       "    </tr>\n",
       "  </thead>\n",
       "  <tbody>\n",
       "    <tr>\n",
       "      <th>macro</th>\n",
       "      <td>0.422541</td>\n",
       "      <td>0.354095</td>\n",
       "      <td>0.351753</td>\n",
       "    </tr>\n",
       "    <tr>\n",
       "      <th>weighted</th>\n",
       "      <td>0.436958</td>\n",
       "      <td>0.442857</td>\n",
       "      <td>0.409587</td>\n",
       "    </tr>\n",
       "  </tbody>\n",
       "</table>\n",
       "</div>"
      ],
      "text/plain": [
       "          precision    recall        F1\n",
       "macro      0.422541  0.354095  0.351753\n",
       "weighted   0.436958  0.442857  0.409587"
      ]
     },
     "metadata": {},
     "output_type": "display_data"
    },
    {
     "data": {
      "text/html": [
       "<div>\n",
       "<style scoped>\n",
       "    .dataframe tbody tr th:only-of-type {\n",
       "        vertical-align: middle;\n",
       "    }\n",
       "\n",
       "    .dataframe tbody tr th {\n",
       "        vertical-align: top;\n",
       "    }\n",
       "\n",
       "    .dataframe thead th {\n",
       "        text-align: right;\n",
       "    }\n",
       "</style>\n",
       "<table border=\"1\" class=\"dataframe\">\n",
       "  <thead>\n",
       "    <tr style=\"text-align: right;\">\n",
       "      <th></th>\n",
       "      <th>p_work</th>\n",
       "      <th>p_friend</th>\n",
       "      <th>p_task</th>\n",
       "      <th>p_family_live_separate</th>\n",
       "      <th>p_family_live_together</th>\n",
       "      <th>p_sig_other</th>\n",
       "    </tr>\n",
       "  </thead>\n",
       "  <tbody>\n",
       "    <tr>\n",
       "      <th>work</th>\n",
       "      <td>5</td>\n",
       "      <td>29</td>\n",
       "      <td>4</td>\n",
       "      <td>2</td>\n",
       "      <td>1</td>\n",
       "      <td>3</td>\n",
       "    </tr>\n",
       "    <tr>\n",
       "      <th>friend</th>\n",
       "      <td>2</td>\n",
       "      <td>93</td>\n",
       "      <td>7</td>\n",
       "      <td>25</td>\n",
       "      <td>2</td>\n",
       "      <td>2</td>\n",
       "    </tr>\n",
       "    <tr>\n",
       "      <th>task</th>\n",
       "      <td>2</td>\n",
       "      <td>15</td>\n",
       "      <td>44</td>\n",
       "      <td>2</td>\n",
       "      <td>0</td>\n",
       "      <td>0</td>\n",
       "    </tr>\n",
       "    <tr>\n",
       "      <th>family_live_separate</th>\n",
       "      <td>0</td>\n",
       "      <td>53</td>\n",
       "      <td>11</td>\n",
       "      <td>32</td>\n",
       "      <td>9</td>\n",
       "      <td>5</td>\n",
       "    </tr>\n",
       "    <tr>\n",
       "      <th>family_live_together</th>\n",
       "      <td>0</td>\n",
       "      <td>7</td>\n",
       "      <td>1</td>\n",
       "      <td>13</td>\n",
       "      <td>3</td>\n",
       "      <td>4</td>\n",
       "    </tr>\n",
       "    <tr>\n",
       "      <th>sig_other</th>\n",
       "      <td>0</td>\n",
       "      <td>15</td>\n",
       "      <td>4</td>\n",
       "      <td>12</td>\n",
       "      <td>4</td>\n",
       "      <td>9</td>\n",
       "    </tr>\n",
       "  </tbody>\n",
       "</table>\n",
       "</div>"
      ],
      "text/plain": [
       "                      p_work  p_friend  p_task  p_family_live_separate  \\\n",
       "work                       5        29       4                       2   \n",
       "friend                     2        93       7                      25   \n",
       "task                       2        15      44                       2   \n",
       "family_live_separate       0        53      11                      32   \n",
       "family_live_together       0         7       1                      13   \n",
       "sig_other                  0        15       4                      12   \n",
       "\n",
       "                      p_family_live_together  p_sig_other  \n",
       "work                                       1            3  \n",
       "friend                                     2            2  \n",
       "task                                       0            0  \n",
       "family_live_separate                       9            5  \n",
       "family_live_together                       3            4  \n",
       "sig_other                                  4            9  "
      ]
     },
     "metadata": {},
     "output_type": "display_data"
    }
   ],
   "source": [
    "predictions = top_10_model.predict(test_X)\n",
    "print_metrics(test_y, predictions)\n",
    "\n",
    "# rows are truth, columns are predicted\n",
    "top_10_confusion_mat = confusion_matrix(test_y, predictions)\n",
    "top_10_confuse_df = pd.DataFrame(top_10_confusion_mat, index=contact_types, columns=[\"p_\" + x for x in contact_types])\n",
    "display(top_10_confuse_df)"
   ]
  },
  {
   "cell_type": "markdown",
   "metadata": {},
   "source": [
    "## Resample results\n",
    "\n",
    "Features:\n",
    "- top 10 contacts per participant\n",
    "- communication features as described in `feature_extract.ipynb`, with NaN indicators and imputation\n",
    "\n",
    "Preprocessing: \n",
    "- SMOTE algorithm ([reference](https://imbalanced-learn.org/en/stable/generated/imblearn.over_sampling.SMOTE.html)) applied to balance training classes\n"
   ]
  },
  {
   "cell_type": "code",
   "execution_count": 132,
   "metadata": {},
   "outputs": [
    {
     "name": "stderr",
     "output_type": "stream",
     "text": [
      "Could not delete output dir: /tmp/autosklearn_output_30749_5904\n",
      "Could not delete tmp dir: /tmp/autosklearn_tmp_30749_5904\n"
     ]
    },
    {
     "data": {
      "text/plain": [
       "AutoSklearnClassifier(delete_output_folder_after_terminate=True,\n",
       "           delete_tmp_folder_after_terminate=True,\n",
       "           disable_evaluator_output=False, ensemble_memory_limit=1024,\n",
       "           ensemble_nbest=50, ensemble_size=50, exclude_estimators=None,\n",
       "           exclude_preprocessors=None, get_smac_object_callback=None,\n",
       "           include_estimators=None, include_preprocessors=None,\n",
       "           initial_configurations_via_metalearning=25, logging_config=None,\n",
       "           ml_memory_limit=3072, output_folder=None,\n",
       "           per_run_time_limit=360, resampling_strategy='holdout',\n",
       "           resampling_strategy_arguments=None, seed=2, shared_mode=False,\n",
       "           smac_scenario_args=None, time_left_for_this_task=3600,\n",
       "           tmp_folder=None)"
      ]
     },
     "execution_count": 132,
     "metadata": {},
     "output_type": "execute_result"
    }
   ],
   "source": [
    "top_10_model_res = pickle.load(open(\"bleen/top_10_oversample.automl\", \"rb\"))\n",
    "top_10_model_res.refit(train_X, train_y)"
   ]
  },
  {
   "cell_type": "code",
   "execution_count": 134,
   "metadata": {
    "scrolled": true
   },
   "outputs": [
    {
     "name": "stdout",
     "output_type": "stream",
     "text": [
      "Accuracy: 0.4380952380952381\n"
     ]
    },
    {
     "data": {
      "text/html": [
       "<div>\n",
       "<style scoped>\n",
       "    .dataframe tbody tr th:only-of-type {\n",
       "        vertical-align: middle;\n",
       "    }\n",
       "\n",
       "    .dataframe tbody tr th {\n",
       "        vertical-align: top;\n",
       "    }\n",
       "\n",
       "    .dataframe thead th {\n",
       "        text-align: right;\n",
       "    }\n",
       "</style>\n",
       "<table border=\"1\" class=\"dataframe\">\n",
       "  <thead>\n",
       "    <tr style=\"text-align: right;\">\n",
       "      <th></th>\n",
       "      <th>precision</th>\n",
       "      <th>recall</th>\n",
       "      <th>F1</th>\n",
       "    </tr>\n",
       "  </thead>\n",
       "  <tbody>\n",
       "    <tr>\n",
       "      <th>macro</th>\n",
       "      <td>0.415804</td>\n",
       "      <td>0.361868</td>\n",
       "      <td>0.373656</td>\n",
       "    </tr>\n",
       "    <tr>\n",
       "      <th>weighted</th>\n",
       "      <td>0.438155</td>\n",
       "      <td>0.438095</td>\n",
       "      <td>0.425892</td>\n",
       "    </tr>\n",
       "  </tbody>\n",
       "</table>\n",
       "</div>"
      ],
      "text/plain": [
       "          precision    recall        F1\n",
       "macro      0.415804  0.361868  0.373656\n",
       "weighted   0.438155  0.438095  0.425892"
      ]
     },
     "metadata": {},
     "output_type": "display_data"
    },
    {
     "data": {
      "text/html": [
       "<div>\n",
       "<style scoped>\n",
       "    .dataframe tbody tr th:only-of-type {\n",
       "        vertical-align: middle;\n",
       "    }\n",
       "\n",
       "    .dataframe tbody tr th {\n",
       "        vertical-align: top;\n",
       "    }\n",
       "\n",
       "    .dataframe thead th {\n",
       "        text-align: right;\n",
       "    }\n",
       "</style>\n",
       "<table border=\"1\" class=\"dataframe\">\n",
       "  <thead>\n",
       "    <tr style=\"text-align: right;\">\n",
       "      <th></th>\n",
       "      <th>p_work</th>\n",
       "      <th>p_friend</th>\n",
       "      <th>p_task</th>\n",
       "      <th>p_family_live_separate</th>\n",
       "      <th>p_family_live_together</th>\n",
       "      <th>p_sig_other</th>\n",
       "    </tr>\n",
       "  </thead>\n",
       "  <tbody>\n",
       "    <tr>\n",
       "      <th>work</th>\n",
       "      <td>9</td>\n",
       "      <td>21</td>\n",
       "      <td>4</td>\n",
       "      <td>7</td>\n",
       "      <td>1</td>\n",
       "      <td>2</td>\n",
       "    </tr>\n",
       "    <tr>\n",
       "      <th>friend</th>\n",
       "      <td>5</td>\n",
       "      <td>81</td>\n",
       "      <td>5</td>\n",
       "      <td>30</td>\n",
       "      <td>8</td>\n",
       "      <td>2</td>\n",
       "    </tr>\n",
       "    <tr>\n",
       "      <th>task</th>\n",
       "      <td>4</td>\n",
       "      <td>11</td>\n",
       "      <td>37</td>\n",
       "      <td>10</td>\n",
       "      <td>0</td>\n",
       "      <td>1</td>\n",
       "    </tr>\n",
       "    <tr>\n",
       "      <th>family_live_separate</th>\n",
       "      <td>3</td>\n",
       "      <td>41</td>\n",
       "      <td>8</td>\n",
       "      <td>43</td>\n",
       "      <td>10</td>\n",
       "      <td>5</td>\n",
       "    </tr>\n",
       "    <tr>\n",
       "      <th>family_live_together</th>\n",
       "      <td>0</td>\n",
       "      <td>9</td>\n",
       "      <td>1</td>\n",
       "      <td>12</td>\n",
       "      <td>4</td>\n",
       "      <td>2</td>\n",
       "    </tr>\n",
       "    <tr>\n",
       "      <th>sig_other</th>\n",
       "      <td>0</td>\n",
       "      <td>16</td>\n",
       "      <td>4</td>\n",
       "      <td>10</td>\n",
       "      <td>4</td>\n",
       "      <td>10</td>\n",
       "    </tr>\n",
       "  </tbody>\n",
       "</table>\n",
       "</div>"
      ],
      "text/plain": [
       "                      p_work  p_friend  p_task  p_family_live_separate  \\\n",
       "work                       9        21       4                       7   \n",
       "friend                     5        81       5                      30   \n",
       "task                       4        11      37                      10   \n",
       "family_live_separate       3        41       8                      43   \n",
       "family_live_together       0         9       1                      12   \n",
       "sig_other                  0        16       4                      10   \n",
       "\n",
       "                      p_family_live_together  p_sig_other  \n",
       "work                                       1            2  \n",
       "friend                                     8            2  \n",
       "task                                       0            1  \n",
       "family_live_separate                      10            5  \n",
       "family_live_together                       4            2  \n",
       "sig_other                                  4           10  "
      ]
     },
     "metadata": {},
     "output_type": "display_data"
    }
   ],
   "source": [
    "predictions = top_10_model_res.predict(test_X)\n",
    "print_metrics(test_y, predictions)\n",
    "\n",
    "# rows are truth, columns are predicted\n",
    "top_10_confusion_mat = confusion_matrix(test_y, predictions)\n",
    "top_10_confuse_df = pd.DataFrame(top_10_confusion_mat, index=contact_types, columns=[\"p_\" + x for x in contact_types])\n",
    "display(top_10_confuse_df)"
   ]
  },
  {
   "cell_type": "markdown",
   "metadata": {},
   "source": [
    "## Contact EMA features results"
   ]
  },
  {
   "cell_type": "code",
   "execution_count": 136,
   "metadata": {},
   "outputs": [
    {
     "name": "stdout",
     "output_type": "stream",
     "text": [
      "original shape Counter({1: 484, 3: 392, 2: 196, 0: 165, 4: 133, 6: 110})\n",
      "resampled shape Counter({3: 484, 1: 484, 6: 484, 0: 484, 4: 484, 2: 484})\n"
     ]
    }
   ],
   "source": [
    "top_10_emc_train_data = top_10_emc_train.replace(replace_dict)\n",
    "top_10_emc_test_data = top_10_emc_test.replace(replace_dict)\n",
    "\n",
    "train_y = top_10_emc_train_data['contact_type']\n",
    "train_X = top_10_emc_train_data.drop(['contact_type', 'pid', 'combined_hash'], axis=1)\n",
    "test_y = top_10_emc_test_data['contact_type']\n",
    "test_X = top_10_emc_test_data.drop(['contact_type', 'pid', 'combined_hash'], axis=1)\n",
    "\n",
    "print(\"original shape %s\" % Counter(train_y))\n",
    "\n",
    "sm = SMOTE(random_state=rand_seed)\n",
    "\n",
    "res_X, res_y = sm.fit_resample(train_X, train_y)\n",
    "\n",
    "print(\"resampled shape %s\" % Counter(res_y))"
   ]
  },
  {
   "cell_type": "code",
   "execution_count": 29,
   "metadata": {},
   "outputs": [
    {
     "data": {
      "text/plain": [
       "AutoSklearnClassifier(delete_output_folder_after_terminate=True,\n",
       "           delete_tmp_folder_after_terminate=True,\n",
       "           disable_evaluator_output=False, ensemble_memory_limit=1024,\n",
       "           ensemble_nbest=50, ensemble_size=50, exclude_estimators=None,\n",
       "           exclude_preprocessors=None, get_smac_object_callback=None,\n",
       "           include_estimators=None, include_preprocessors=None,\n",
       "           initial_configurations_via_metalearning=25, logging_config=None,\n",
       "           ml_memory_limit=3072, output_folder=None,\n",
       "           per_run_time_limit=360, resampling_strategy='holdout',\n",
       "           resampling_strategy_arguments=None, seed=2, shared_mode=False,\n",
       "           smac_scenario_args=None, time_left_for_this_task=3600,\n",
       "           tmp_folder=None)"
      ]
     },
     "execution_count": 29,
     "metadata": {},
     "output_type": "execute_result"
    }
   ],
   "source": [
    "top_10_model_emc = pickle.load(open(\"top_10_emc.automl\", \"rb\"))\n",
    "top_10_model_emc.refit(res_X, res_y)"
   ]
  },
  {
   "cell_type": "code",
   "execution_count": 80,
   "metadata": {
    "scrolled": false
   },
   "outputs": [
    {
     "name": "stdout",
     "output_type": "stream",
     "text": [
      "Weight: 0.32, classifier: lda\n",
      "Weight: 0.14, classifier: lda\n",
      "Weight: 0.1, classifier: lda\n",
      "Weight: 0.06, classifier: random_forest\n",
      "Weight: 0.04, classifier: gradient_boosting\n",
      "Weight: 0.04, classifier: gradient_boosting\n",
      "Weight: 0.04, classifier: libsvm_svc\n",
      "Weight: 0.04, classifier: gradient_boosting\n",
      "Weight: 0.04, classifier: libsvm_svc\n",
      "Weight: 0.04, classifier: libsvm_svc\n",
      "Weight: 0.02, classifier: gradient_boosting\n",
      "Weight: 0.02, classifier: extra_trees\n",
      "Weight: 0.02, classifier: lda\n",
      "Weight: 0.02, classifier: gradient_boosting\n",
      "Weight: 0.02, classifier: extra_trees\n",
      "Weight: 0.02, classifier: extra_trees\n",
      "Weight: 0.02, classifier: decision_tree\n"
     ]
    }
   ],
   "source": [
    "top_10_ensemble = top_10_model_emc.get_models_with_weights()\n",
    "print_ensemble(top_10_ensemble)"
   ]
  },
  {
   "cell_type": "code",
   "execution_count": 138,
   "metadata": {},
   "outputs": [
    {
     "name": "stdout",
     "output_type": "stream",
     "text": [
      "Accuracy: 0.5\n"
     ]
    },
    {
     "data": {
      "text/html": [
       "<div>\n",
       "<style scoped>\n",
       "    .dataframe tbody tr th:only-of-type {\n",
       "        vertical-align: middle;\n",
       "    }\n",
       "\n",
       "    .dataframe tbody tr th {\n",
       "        vertical-align: top;\n",
       "    }\n",
       "\n",
       "    .dataframe thead th {\n",
       "        text-align: right;\n",
       "    }\n",
       "</style>\n",
       "<table border=\"1\" class=\"dataframe\">\n",
       "  <thead>\n",
       "    <tr style=\"text-align: right;\">\n",
       "      <th></th>\n",
       "      <th>precision</th>\n",
       "      <th>recall</th>\n",
       "      <th>F1</th>\n",
       "    </tr>\n",
       "  </thead>\n",
       "  <tbody>\n",
       "    <tr>\n",
       "      <th>macro</th>\n",
       "      <td>0.460921</td>\n",
       "      <td>0.449162</td>\n",
       "      <td>0.449866</td>\n",
       "    </tr>\n",
       "    <tr>\n",
       "      <th>weighted</th>\n",
       "      <td>0.490539</td>\n",
       "      <td>0.500000</td>\n",
       "      <td>0.491164</td>\n",
       "    </tr>\n",
       "  </tbody>\n",
       "</table>\n",
       "</div>"
      ],
      "text/plain": [
       "          precision    recall        F1\n",
       "macro      0.460921  0.449162  0.449866\n",
       "weighted   0.490539  0.500000  0.491164"
      ]
     },
     "metadata": {},
     "output_type": "display_data"
    },
    {
     "data": {
      "text/html": [
       "<div>\n",
       "<style scoped>\n",
       "    .dataframe tbody tr th:only-of-type {\n",
       "        vertical-align: middle;\n",
       "    }\n",
       "\n",
       "    .dataframe tbody tr th {\n",
       "        vertical-align: top;\n",
       "    }\n",
       "\n",
       "    .dataframe thead th {\n",
       "        text-align: right;\n",
       "    }\n",
       "</style>\n",
       "<table border=\"1\" class=\"dataframe\">\n",
       "  <thead>\n",
       "    <tr style=\"text-align: right;\">\n",
       "      <th></th>\n",
       "      <th>p_work</th>\n",
       "      <th>p_friend</th>\n",
       "      <th>p_task</th>\n",
       "      <th>p_family_live_separate</th>\n",
       "      <th>p_family_live_together</th>\n",
       "      <th>p_sig_other</th>\n",
       "    </tr>\n",
       "  </thead>\n",
       "  <tbody>\n",
       "    <tr>\n",
       "      <th>work</th>\n",
       "      <td>13</td>\n",
       "      <td>16</td>\n",
       "      <td>12</td>\n",
       "      <td>3</td>\n",
       "      <td>0</td>\n",
       "      <td>0</td>\n",
       "    </tr>\n",
       "    <tr>\n",
       "      <th>friend</th>\n",
       "      <td>13</td>\n",
       "      <td>79</td>\n",
       "      <td>4</td>\n",
       "      <td>27</td>\n",
       "      <td>6</td>\n",
       "      <td>2</td>\n",
       "    </tr>\n",
       "    <tr>\n",
       "      <th>task</th>\n",
       "      <td>5</td>\n",
       "      <td>2</td>\n",
       "      <td>53</td>\n",
       "      <td>3</td>\n",
       "      <td>0</td>\n",
       "      <td>0</td>\n",
       "    </tr>\n",
       "    <tr>\n",
       "      <th>family_live_separate</th>\n",
       "      <td>8</td>\n",
       "      <td>36</td>\n",
       "      <td>4</td>\n",
       "      <td>44</td>\n",
       "      <td>12</td>\n",
       "      <td>6</td>\n",
       "    </tr>\n",
       "    <tr>\n",
       "      <th>family_live_together</th>\n",
       "      <td>0</td>\n",
       "      <td>4</td>\n",
       "      <td>0</td>\n",
       "      <td>13</td>\n",
       "      <td>6</td>\n",
       "      <td>5</td>\n",
       "    </tr>\n",
       "    <tr>\n",
       "      <th>sig_other</th>\n",
       "      <td>0</td>\n",
       "      <td>13</td>\n",
       "      <td>1</td>\n",
       "      <td>12</td>\n",
       "      <td>3</td>\n",
       "      <td>15</td>\n",
       "    </tr>\n",
       "  </tbody>\n",
       "</table>\n",
       "</div>"
      ],
      "text/plain": [
       "                      p_work  p_friend  p_task  p_family_live_separate  \\\n",
       "work                      13        16      12                       3   \n",
       "friend                    13        79       4                      27   \n",
       "task                       5         2      53                       3   \n",
       "family_live_separate       8        36       4                      44   \n",
       "family_live_together       0         4       0                      13   \n",
       "sig_other                  0        13       1                      12   \n",
       "\n",
       "                      p_family_live_together  p_sig_other  \n",
       "work                                       0            0  \n",
       "friend                                     6            2  \n",
       "task                                       0            0  \n",
       "family_live_separate                      12            6  \n",
       "family_live_together                       6            5  \n",
       "sig_other                                  3           15  "
      ]
     },
     "metadata": {},
     "output_type": "display_data"
    }
   ],
   "source": [
    "predictions = top_10_model_emc.predict(test_X)\n",
    "print_metrics(test_y, predictions)\n",
    "\n",
    "# rows are truth, columns are predicted\n",
    "top_5_confusion_mat = confusion_matrix(test_y, predictions)\n",
    "top_5_confuse_df = pd.DataFrame(top_5_confusion_mat, index=contact_types, columns=[\"p_\" + x for x in contact_types])\n",
    "display(top_5_confuse_df)"
   ]
  },
  {
   "cell_type": "code",
   "execution_count": 68,
   "metadata": {},
   "outputs": [],
   "source": [
    "probabilities = top_10_model_emc.predict_proba(test_X)"
   ]
  },
  {
   "cell_type": "code",
   "execution_count": 78,
   "metadata": {},
   "outputs": [],
   "source": [
    "top_2_predictions = np.argpartition(probabilities, -2, axis=1)[:, -2:]"
   ]
  }
 ],
 "metadata": {
  "kernelspec": {
   "display_name": "Python 3",
   "language": "python",
   "name": "python3"
  },
  "language_info": {
   "codemirror_mode": {
    "name": "ipython",
    "version": 3
   },
   "file_extension": ".py",
   "mimetype": "text/x-python",
   "name": "python",
   "nbconvert_exporter": "python",
   "pygments_lexer": "ipython3",
   "version": "3.7.1"
  }
 },
 "nbformat": 4,
 "nbformat_minor": 2
}
